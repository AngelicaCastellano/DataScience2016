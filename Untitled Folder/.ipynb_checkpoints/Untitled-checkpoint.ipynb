{
 "cells": [
  {
   "cell_type": "markdown",
   "metadata": {},
   "source": [
    "# List Comprension"
   ]
  },
  {
   "cell_type": "code",
   "execution_count": 4,
   "metadata": {
    "collapsed": false
   },
   "outputs": [
    {
     "name": "stdout",
     "output_type": "stream",
     "text": [
      "['G', 'i', 'o', 'v', 'a', 'n', 'n', 'i']\n"
     ]
    }
   ],
   "source": [
    "name  = \"Giovanni\"\n",
    "name_list = []\n",
    "for letter in name:\n",
    "        name_list.append(letter)\n",
    "print name_list"
   ]
  },
  {
   "cell_type": "code",
   "execution_count": 5,
   "metadata": {
    "collapsed": true
   },
   "outputs": [],
   "source": [
    "name_list = [letter for letter in name]"
   ]
  },
  {
   "cell_type": "code",
   "execution_count": 6,
   "metadata": {
    "collapsed": false
   },
   "outputs": [
    {
     "name": "stdout",
     "output_type": "stream",
     "text": [
      "['G', 'i', 'o', 'v', 'a', 'n', 'n', 'i']\n"
     ]
    }
   ],
   "source": [
    "print name_list"
   ]
  },
  {
   "cell_type": "code",
   "execution_count": 10,
   "metadata": {
    "collapsed": false
   },
   "outputs": [
    {
     "name": "stdout",
     "output_type": "stream",
     "text": [
      "['G', 'o', 'a', 'n']\n"
     ]
    }
   ],
   "source": [
    "lettere_pari=[]\n",
    "lettere_pari = [letter for i, letter in enumerate(name) if i%2==0]\n",
    "print lettere_pari"
   ]
  },
  {
   "cell_type": "code",
   "execution_count": 12,
   "metadata": {
    "collapsed": false
   },
   "outputs": [
    {
     "name": "stdout",
     "output_type": "stream",
     "text": [
      "[{'key': 'value'}]\n"
     ]
    }
   ],
   "source": [
    "my_object = [\"Ciao\", \"Mondo\", 1, True, {\"key\": \"value\"}, [1, 2, 3]]\n",
    "print [element for element in my_object if isinstance(element, dict)]"
   ]
  },
  {
   "cell_type": "code",
   "execution_count": 13,
   "metadata": {
    "collapsed": false
   },
   "outputs": [
    {
     "ename": "TypeError",
     "evalue": "list indices must be integers, not tuple",
     "output_type": "error",
     "traceback": [
      "\u001b[1;31m---------------------------------------------------------------------------\u001b[0m",
      "\u001b[1;31mTypeError\u001b[0m                                 Traceback (most recent call last)",
      "\u001b[1;32m<ipython-input-13-4b4bdcbe5023>\u001b[0m in \u001b[0;36m<module>\u001b[1;34m()\u001b[0m\n\u001b[0;32m      1\u001b[0m \u001b[1;32mfor\u001b[0m \u001b[0mindice\u001b[0m \u001b[1;32min\u001b[0m \u001b[0menumerate\u001b[0m\u001b[1;33m(\u001b[0m\u001b[0mmy_object\u001b[0m\u001b[1;33m)\u001b[0m\u001b[1;33m:\u001b[0m\u001b[1;33m\u001b[0m\u001b[0m\n\u001b[1;32m----> 2\u001b[1;33m     \u001b[1;32mprint\u001b[0m \u001b[1;33m[\u001b[0m\u001b[0mindice\u001b[0m\u001b[1;33m,\u001b[0m \u001b[0mmy_object\u001b[0m\u001b[1;33m[\u001b[0m\u001b[0mindice\u001b[0m\u001b[1;33m]\u001b[0m\u001b[1;33m]\u001b[0m\u001b[1;33m\u001b[0m\u001b[0m\n\u001b[0m",
      "\u001b[1;31mTypeError\u001b[0m: list indices must be integers, not tuple"
     ]
    }
   ],
   "source": [
    "for indice in enumerate(my_object):\n",
    "    print [indice, my_object[indice]]"
   ]
  },
  {
   "cell_type": "markdown",
   "metadata": {},
   "source": [
    "# Generators"
   ]
  },
  {
   "cell_type": "code",
   "execution_count": 14,
   "metadata": {
    "collapsed": false
   },
   "outputs": [
    {
     "name": "stdout",
     "output_type": "stream",
     "text": [
      "<generator object <genexpr> at 0x7fcf7ff7faa0>\n",
      "0\n",
      "1\n",
      "2\n",
      "3\n",
      "4\n",
      "5\n",
      "6\n",
      "7\n",
      "8\n",
      "9\n"
     ]
    }
   ],
   "source": [
    "lista = list() \n",
    "for i in range(10):\n",
    "    lista.append(i)\n",
    "generatore = (i for i in range(10))\n",
    "print generatore\n",
    "for i in generatore:\n",
    "    print i"
   ]
  },
  {
   "cell_type": "code",
   "execution_count": 15,
   "metadata": {
    "collapsed": false
   },
   "outputs": [
    {
     "name": "stdout",
     "output_type": "stream",
     "text": [
      "<generator object <genexpr> at 0x7fcf7ff7fb40>\n",
      "0\n"
     ]
    }
   ],
   "source": [
    "generatore = (i for i in range(10))\n",
    "print generatore\n",
    "print generatore.next()"
   ]
  },
  {
   "cell_type": "code",
   "execution_count": 16,
   "metadata": {
    "collapsed": false
   },
   "outputs": [
    {
     "data": {
      "text/plain": [
       "1"
      ]
     },
     "execution_count": 16,
     "metadata": {},
     "output_type": "execute_result"
    }
   ],
   "source": [
    "generatore.next()"
   ]
  },
  {
   "cell_type": "code",
   "execution_count": 19,
   "metadata": {
    "collapsed": false
   },
   "outputs": [
    {
     "name": "stdout",
     "output_type": "stream",
     "text": [
      "['__class__', '__delattr__', '__doc__', '__format__', '__getattribute__', '__hash__', '__init__', '__iter__', '__name__', '__new__', '__reduce__', '__reduce_ex__', '__repr__', '__setattr__', '__sizeof__', '__str__', '__subclasshook__', 'close', 'gi_code', 'gi_frame', 'gi_running', 'next', 'send', 'throw']\n"
     ]
    }
   ],
   "source": [
    "print dir(generatore)"
   ]
  },
  {
   "cell_type": "code",
   "execution_count": 28,
   "metadata": {
    "collapsed": false
   },
   "outputs": [
    {
     "name": "stdout",
     "output_type": "stream",
     "text": [
      "Generatore vuoto\n"
     ]
    }
   ],
   "source": [
    "try:\n",
    "    print generatore.next()\n",
    "except StopIteration:\n",
    "    print \"Generatore vuoto\""
   ]
  },
  {
   "cell_type": "code",
   "execution_count": 32,
   "metadata": {
    "collapsed": false
   },
   "outputs": [
    {
     "name": "stdout",
     "output_type": "stream",
     "text": [
      "<generator object myDublify at 0x7fcf7ff7fc30>\n",
      "0\n",
      "2\n",
      "4\n",
      "6\n",
      "8\n"
     ]
    }
   ],
   "source": [
    "def myDublify(num):\n",
    "    for i in range(num):\n",
    "        #restituisce il valore senza andare in errore quando termina il generatore\n",
    "        yield i*2\n",
    "    \n",
    "print myDublify(5)\n",
    "for i in myDublify(5):\n",
    "    print i"
   ]
  },
  {
   "cell_type": "code",
   "execution_count": 33,
   "metadata": {
    "collapsed": false
   },
   "outputs": [
    {
     "name": "stdout",
     "output_type": "stream",
     "text": [
      "0\n",
      "1\n",
      "2\n",
      "3\n",
      "4\n",
      "5\n",
      "6\n"
     ]
    }
   ],
   "source": [
    "for i in xrange(10000000000):\n",
    "    #'xrange' permette di gestire al meglio la memoria\n",
    "    print i\n",
    "    if i>5:\n",
    "        break"
   ]
  },
  {
   "cell_type": "markdown",
   "metadata": {},
   "source": [
    "# Classi e Oggetti"
   ]
  },
  {
   "cell_type": "code",
   "execution_count": 34,
   "metadata": {
    "collapsed": false
   },
   "outputs": [
    {
     "name": "stdout",
     "output_type": "stream",
     "text": [
      "<__main__.myClass instance at 0x7fcf7f6bf878>\n",
      "Ciao\n"
     ]
    }
   ],
   "source": [
    "class myClass():\n",
    "    pass\n",
    "c = myClass()\n",
    "print c\n",
    "c.attributo = \"Ciao\"\n",
    "print c.attributo\n"
   ]
  },
  {
   "cell_type": "code",
   "execution_count": 35,
   "metadata": {
    "collapsed": false
   },
   "outputs": [
    {
     "name": "stdout",
     "output_type": "stream",
     "text": [
      "Mondo\n"
     ]
    }
   ],
   "source": [
    "c.attributo = \"Mondo\"\n",
    "print c.attributo"
   ]
  },
  {
   "cell_type": "code",
   "execution_count": 36,
   "metadata": {
    "collapsed": false
   },
   "outputs": [
    {
     "name": "stdout",
     "output_type": "stream",
     "text": [
      "Angelica\n"
     ]
    }
   ],
   "source": [
    "b = myClass()\n",
    "b.attributo = \"Angelica\"\n",
    "print b.attributo"
   ]
  },
  {
   "cell_type": "code",
   "execution_count": 64,
   "metadata": {
    "collapsed": false
   },
   "outputs": [
    {
     "name": "stdout",
     "output_type": "stream",
     "text": [
      "Angelica - Castellano\n",
      "Angelica - Castellano\n",
      "Angelica - Castellano\n",
      "Giulio - Caiati\n",
      "Alessia - Caiati\n",
      "Angelica - Castellano\n",
      "Samuele - Caiati\n"
     ]
    }
   ],
   "source": [
    "class Person(object): #con l'oggetto fra le tonde esplicito che la classe 'Person' eredita dalla classe 'object'\n",
    "    def __init__(self, nome=\"Sconosciuto\", cognome=\"Sconosciuto\"): #'self' deve essere sempre specificato ed e' l'equivalente del 'this'\n",
    "        self.nome = nome\n",
    "        self.cognome = cognome \n",
    "        \n",
    "    def print_nome(self):\n",
    "        return \"%s - %s\" % (self.nome, self.cognome)\n",
    "    \n",
    "    def __str__(self):\n",
    "        return self.print_nome()\n",
    "        #return \"%s - %s\" % (self.nome, self.cognome)\n",
    "    \n",
    "    def __repr__(self):\n",
    "        return self.print_nome()\n",
    "        #return \"%s - %s\" % (self.nome, self.cognome)\n",
    "    \n",
    "    def rename(self, nuovoNome, nuovoCognome):\n",
    "        self.nome = nuovoNome\n",
    "        self.cognome = nuovoCognome\n",
    "        \n",
    "    @property #su cui posso utilizzare i metodi getter e setter\n",
    "    def fullName(self):\n",
    "        return \"%s - %s\" % (self.nome, self.cognome)\n",
    "    @fullName.setter\n",
    "    def fullName(self, value):\n",
    "        self.nome, self.cognome = value.split()\n",
    "\n",
    "persona = Person(\"Angelica\", \"Castellano\")\n",
    "#persona = Person(nome=\"Angelica\", cognome=\"Castellano\")\n",
    "#persona = Person(\"Angelica\")\n",
    "#persona= Person(cognome=\"Castellano\")\n",
    "#print persona.nome \n",
    "#print persona.cognome\n",
    "print persona.print_nome()\n",
    "print persona.__str__()\n",
    "print persona\n",
    "persona.rename(\"Giulio\", \"Caiati\")\n",
    "print persona\n",
    "persona.nome = \"Alessia\"\n",
    "print persona\n",
    "persona\n",
    "persona = Person(\"Angelica\", \"Castellano\")\n",
    "print persona.fullName\n",
    "persona.fullName = \"Samuele Caiati\"\n",
    "print persona"
   ]
  },
  {
   "cell_type": "code",
   "execution_count": 86,
   "metadata": {
    "collapsed": false
   },
   "outputs": [
    {
     "name": "stdout",
     "output_type": "stream",
     "text": [
      "Angelica - Castellano\n",
      "Morgana\n"
     ]
    }
   ],
   "source": [
    "class Person(object):\n",
    "    nome = None\n",
    "    cognome = None\n",
    "    def __init__(self, nomeClasse, cognomeClasse):\n",
    "        self.nome = nomeClasse\n",
    "        self.cognome = cognomeClasse\n",
    "    def __str__(self):\n",
    "        return \"%s - %s\" % (self.nome, self.cognome)\n",
    "\n",
    "class Donna(Person):\n",
    "    def __init__(self, nome, cognome, eta):\n",
    "        super(Donna, self).__init__(nome, cognome)\n",
    "        self.eta = eta\n",
    "    def __str__(self):\n",
    "        return \"Ciao\"\n",
    "\n",
    "p = Person(\"Angelica\", \"Castellano\")\n",
    "print p\n",
    "d = Donna(\"Morgana\", \"Caiati\", 4)\n",
    "print d.nome\n"
   ]
  },
  {
   "cell_type": "code",
   "execution_count": 84,
   "metadata": {
    "collapsed": false
   },
   "outputs": [
    {
     "name": "stdout",
     "output_type": "stream",
     "text": [
      "Ciao Mondo!\n",
      "10\n"
     ]
    }
   ],
   "source": [
    "# metodi di classe: metodi associati alla dichiarazione stessa dell'oggetto\n",
    "class MyClass(object):\n",
    "    _secret = None #variabile privata inizia con '_'\n",
    "    def hello(self):\n",
    "        return \"Ciao mondo!\"\n",
    "    @classmethod\n",
    "    def sono_metodo_di_classe(self):\n",
    "        return \"Ciao Mondo!\"\n",
    "    @classmethod\n",
    "    def init_with_secret(self, secret):\n",
    "        c = MyClass()\n",
    "        c._secret = secret\n",
    "        return c\n",
    "    \n",
    "    def __str__(self):\n",
    "        return \"Il segreto e': %s\" % self._secret\n",
    "    \n",
    "#classe =MyClass()\n",
    "#print classe.hello()\n",
    "print MyClass.sono_metodo_di_classe()\n",
    "c = MyClass.init_with_secret(10)\n",
    "print c._secret"
   ]
  },
  {
   "cell_type": "code",
   "execution_count": null,
   "metadata": {
    "collapsed": true
   },
   "outputs": [],
   "source": []
  }
 ],
 "metadata": {
  "kernelspec": {
   "display_name": "Python [Root]",
   "language": "python",
   "name": "Python [Root]"
  },
  "language_info": {
   "codemirror_mode": {
    "name": "ipython",
    "version": 2
   },
   "file_extension": ".py",
   "mimetype": "text/x-python",
   "name": "python",
   "nbconvert_exporter": "python",
   "pygments_lexer": "ipython2",
   "version": "2.7.12"
  }
 },
 "nbformat": 4,
 "nbformat_minor": 0
}
