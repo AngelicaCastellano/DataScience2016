{
 "cells": [
  {
   "cell_type": "markdown",
   "metadata": {},
   "source": [
    "# SQL Vs NO-SQL\n",
    "\n",
    "What's the difference between **relational** vs. **non-relational** databases?\n",
    "\n",
    "Back in 2000 it was enough to smother your website with static text. Brochureware was cool. Not today, though. You have to have a dizzying variety of text, video, audio, images and social media to get someone's attention. But it's hard to add new content to a relational database. Or new features. Or new attributes. Not without disrupting performance or taking your database offline.\n",
    "\n",
    "With non-relational databases you can store any type of content. Incorporate any kind of data in a single database. Build any feature. Faster. With less money.\n",
    "\n",
    "### Relational (SQL)\n",
    "\n",
    "* **Stuck**. Data now includes rich data types – tweets, videos, podcasts, animated gifs – which are hard, if not impossible, to store in a relational database. Development slows to a crawl, and ops is caught playing whack-a-mole.\n",
    "\n",
    "* **Can’t Scale**. Your audience is global, in many countries, speaking many languages, accessing content on many devices. Scaling a relational database is not trivial. And it isn’t cheap.\n",
    "\n",
    "* **Expensive**. Large teams tied up for long periods of time make these applications expensive to build and maintain. Proprietary software and hardware, plus separate databases and file systems needed to manage your content, add to the cost.\n",
    "\n",
    "### Non-Relational (NoSQL)\n",
    "\n",
    "* **Do the Impossible**. NoSQL can incorporate literally any type of data, while providing all the features needed to build content-rich apps.\n",
    "\n",
    "* **Scale Big**. Scaling is built into the database. It is automatic and transparent. You can scale as your audience grows, both within a data center and across regions.\n",
    "\n",
    "* **Cheap**. More productive teams, plus commodity hardware, make your projects cost 10% what they would with a relational database.\n",
    "\n",
    "\n",
    "## Resources\n",
    "\n",
    "Check the folder **resources** a collection of useful PDF:\n",
    "\n",
    "* *Top_5_NoSQL_Considerations.pdf*: 5 reasons to choose a NO-SQL Database\n",
    "* *AWS_&_MongoDB.pdf*: MongoDB on Amazon Web Services\n",
    "* *Mongodb_&_ApacheSpark.pdf*: How to use Apache Spark and MongoDB\n"
   ]
  },
  {
   "cell_type": "markdown",
   "metadata": {},
   "source": [
    "# MongoDB\n",
    "\n",
    " * Schema Free\n",
    " * Document Based\n",
    " * Supports Indexing\n",
    " * Not Transactional\n",
    " * Does not support relations (no JOIN)\n",
    " * Supports Autosharding\n",
    " * Automatic Replication and Failover\n",
    " * Relies on System Memory Manager\n",
    " * Has an Aggregation Pipeline\n",
    " * Builtin support for MapReduce\n",
    "\n",
    "On Python mongodb support is provided by ``PyMongo`` library, which can be installed using:\n",
    "\n",
    "\n",
    "    pip install pymongo\n",
    "    \n",
    "\n",
    "## Nexus Architecture\n",
    "\n",
    "MongoDB’s design philosophy is focused on combining the critical capabilities of relational databases (left side) with the innovations of NoSQL technologies (right side).\n",
    "\n",
    "<img src=\"nexus-architecture.png\" width=\"640\"/>\n",
    "\n",
    "\n",
    "## Installing MongoDB\n",
    "\n",
    "\n",
    "Installing MongoDB is as simple as going to http://www.mongodb.org/downloads and downloading it.\n",
    "\n",
    "Create a ``/data/db`` directory then start ``mongod`` inside the mongodb downloaded package:\n",
    "\n",
    "\n",
    "    curl -O 'https://fastdl.mongodb.org/osx/mongodb-osx-x86_64-3.0.4.tgz' \n",
    "    tar zxvf mongodb-osx-x86_64-3.0.4.tgz \n",
    "    cd mongodb-osx-x86_64-3.0.4\n",
    "    mkdir data\n",
    "    ./bin/mongod --dbpath=./data\n",
    "\n",
    "\n",
    "\n",
    "## Using MongoDB\n",
    "\n",
    "\n",
    "a ``MongoClient`` instance provides connection to MongoDB Server, each server can host multiple databases which can be retrieved with ``connection.database_name`` which can then contain multiple ``collections`` with different documents."
   ]
  },
  {
   "cell_type": "code",
   "execution_count": 1,
   "metadata": {
    "collapsed": false
   },
   "outputs": [
    {
     "name": "stdout",
     "output_type": "stream",
     "text": [
      "MongoClient(host=['localhost:27017'], document_class=dict, tz_aware=False, connect=True)\n"
     ]
    }
   ],
   "source": [
    "from pymongo import MongoClient\n",
    "client = MongoClient('mongodb://localhost:27017/')#installa un'istanza su web\n",
    "print client"
   ]
  },
  {
   "cell_type": "code",
   "execution_count": 2,
   "metadata": {
    "collapsed": false
   },
   "outputs": [
    {
     "name": "stdout",
     "output_type": "stream",
     "text": [
      "[]\n"
     ]
    }
   ],
   "source": [
    "db = client.phonebook\n",
    "print db.collection_names()"
   ]
  },
  {
   "cell_type": "markdown",
   "metadata": {},
   "source": [
    "Once the database is retrieved, collections can be accessed as attributes of the database itself.\n",
    "\n",
    "A MongoDB document is actually just a Python Dictionary, inserting a document is as simple as telling pymongo to insert the dictionary into the collection. Each document can have its own structure, can contain different data and you are not required to declare and structure of the collection. Not existing collections will be automatically created on the insertion of the first document"
   ]
  },
  {
   "cell_type": "code",
   "execution_count": 3,
   "metadata": {
    "collapsed": false
   },
   "outputs": [
    {
     "name": "stderr",
     "output_type": "stream",
     "text": [
      "/home/bigdive/anaconda2/lib/python2.7/site-packages/ipykernel/__main__.py:2: DeprecationWarning: insert is deprecated. Use insert_one or insert_many instead.\n",
      "  from ipykernel import kernelapp as app\n"
     ]
    },
    {
     "data": {
      "text/plain": [
       "ObjectId('581c6958e14afe13013e097c')"
      ]
     },
     "execution_count": 3,
     "metadata": {},
     "output_type": "execute_result"
    }
   ],
   "source": [
    "data = {'name': 'Alex', 'phone': '+39123456789'}\n",
    "db.people.insert(data)#inserisco nella collection people con i dati in data"
   ]
  },
  {
   "cell_type": "code",
   "execution_count": 4,
   "metadata": {
    "collapsed": false
   },
   "outputs": [
    {
     "name": "stdout",
     "output_type": "stream",
     "text": [
      "[u'people']\n"
     ]
    }
   ],
   "source": [
    "print db.collection_names()"
   ]
  },
  {
   "cell_type": "markdown",
   "metadata": {},
   "source": [
    "Each inserted document will receive an **ObjectId** which is a uniquue identifier of the document, the ObjectId is based on some data like the current **timestamp**, **server identifier process id** and other data that guarantees it to be unique across multiple servers.\n",
    "\n",
    "Being designed to work in a distributed and multinode environment, MongoDB handles \"write safety\" by the number of servers that are expected to have saved the document before considering the insert command \"completed\".\n",
    "\n",
    "This is handled by the **w** option, which indicates the number of servers that must have saved the document before the insert command returns. Setting it to **0** makes mongodb work in *fire and forget* mode, which is useful when inserting a lot of documents quickly. As most drivers will actually generate the ObjectId on client that performs the insertion you will receive an ObjectId even before the document has been written."
   ]
  },
  {
   "cell_type": "code",
   "execution_count": 11,
   "metadata": {
    "collapsed": false
   },
   "outputs": [
    {
     "name": "stderr",
     "output_type": "stream",
     "text": [
      "/home/bigdive/anaconda2/lib/python2.7/site-packages/ipykernel/__main__.py:1: DeprecationWarning: insert is deprecated. Use insert_one or insert_many instead.\n",
      "  if __name__ == '__main__':\n"
     ]
    },
    {
     "data": {
      "text/plain": [
       "ObjectId('581c6b71e14afe13013e097d')"
      ]
     },
     "execution_count": 11,
     "metadata": {},
     "output_type": "execute_result"
    }
   ],
   "source": [
    "db.people.insert({'name': 'Pippo', 'phone': '+39123456788', 'other_phone': '+3933332323'}, w=0)"
   ]
  },
  {
   "cell_type": "code",
   "execution_count": 12,
   "metadata": {
    "collapsed": false
   },
   "outputs": [
    {
     "name": "stdout",
     "output_type": "stream",
     "text": [
      "cannot use 'w' > 1 when a host is not replicated\n"
     ]
    },
    {
     "name": "stderr",
     "output_type": "stream",
     "text": [
      "/home/bigdive/anaconda2/lib/python2.7/site-packages/ipykernel/__main__.py:2: DeprecationWarning: insert is deprecated. Use insert_one or insert_many instead.\n",
      "  from ipykernel import kernelapp as app\n"
     ]
    }
   ],
   "source": [
    "try:\n",
    "    db.people.insert({'name': 'Jonny', 'phone': '+39123456789'}, w=2)\n",
    "except Exception as e:\n",
    "    print e"
   ]
  },
  {
   "cell_type": "markdown",
   "metadata": {},
   "source": [
    "Fetching back inserted document can be done using ``find`` and ``find_one`` methods of collections. Both methods accept a query expression that filters the returned documents. Omitting it means retrieving all the documents (or in case of find_one the first document)."
   ]
  },
  {
   "cell_type": "code",
   "execution_count": 5,
   "metadata": {
    "collapsed": false
   },
   "outputs": [
    {
     "name": "stdout",
     "output_type": "stream",
     "text": [
      "{u'phone': u'+39123456789', u'_id': ObjectId('581c6958e14afe13013e097c'), u'name': u'Alex'}\n",
      "<type 'dict'>\n"
     ]
    }
   ],
   "source": [
    "res = db.people.find_one({'name': 'Alex'})\n",
    "print res\n",
    "print type(res)"
   ]
  },
  {
   "cell_type": "code",
   "execution_count": 7,
   "metadata": {
    "collapsed": false
   },
   "outputs": [
    {
     "name": "stdout",
     "output_type": "stream",
     "text": [
      "['_BaseObject__codec_options', '_BaseObject__read_concern', '_BaseObject__read_preference', '_BaseObject__write_concern', '_Collection__create', '_Collection__create_index', '_Collection__database', '_Collection__find_and_modify', '_Collection__full_name', '_Collection__name', '_Collection__write_response_codec_options', '__call__', '__class__', '__delattr__', '__dict__', '__doc__', '__eq__', '__format__', '__getattr__', '__getattribute__', '__getitem__', '__hash__', '__init__', '__iter__', '__module__', '__ne__', '__new__', '__next__', '__reduce__', '__reduce_ex__', '__repr__', '__setattr__', '__sizeof__', '__str__', '__subclasshook__', '__weakref__', '_command', '_count', '_delete', '_insert', '_insert_one', '_legacy_write', '_socket_for_primary_reads', '_socket_for_reads', '_socket_for_writes', '_update', 'aggregate', 'bulk_write', 'codec_options', 'count', 'create_index', 'create_indexes', 'database', 'delete_many', 'delete_one', 'distinct', 'drop', 'drop_index', 'drop_indexes', 'ensure_index', 'find', 'find_and_modify', 'find_one', 'find_one_and_delete', 'find_one_and_replace', 'find_one_and_update', 'full_name', 'group', 'index_information', 'initialize_ordered_bulk_op', 'initialize_unordered_bulk_op', 'inline_map_reduce', 'insert', 'insert_many', 'insert_one', 'list_indexes', 'map_reduce', 'name', 'next', 'options', 'parallel_scan', 'read_concern', 'read_preference', 'reindex', 'remove', 'rename', 'replace_one', 'save', 'update', 'update_many', 'update_one', 'with_options', 'write_concern']\n"
     ]
    }
   ],
   "source": [
    "res['name']\n",
    "print dir(db.people)"
   ]
  },
  {
   "cell_type": "markdown",
   "metadata": {},
   "source": [
    "Filters in mongodb are described by Documents themselves, so in case of PyMongo they are dictionaries too.\n",
    "A filter can be specified in the form ``{'field': value}``. \n",
    "By default filtering is performed by *equality* comparison, this can be changed by specifying a query operator in place of the value.\n",
    "\n",
    "Query operators by convention start with a ``$`` sign and can be specified as ``{'field': {'operator': value}}``.\n",
    "Full list of query operators is available at http://docs.mongodb.org/manual/reference/operator/query/\n",
    "\n",
    "For example if we want to find each person that has an object id greather than ``53b30ff57ab71c051823b031`` we can achieve that with:"
   ]
  },
  {
   "cell_type": "code",
   "execution_count": 14,
   "metadata": {
    "collapsed": false
   },
   "outputs": [
    {
     "name": "stdout",
     "output_type": "stream",
     "text": [
      "{u'phone': u'+39123456789', u'_id': ObjectId('581c6958e14afe13013e097c'), u'name': u'Alex'}\n",
      "{u'phone': u'+39123456788', u'_id': ObjectId('581c6b71e14afe13013e097d'), u'other_phone': u'+3933332323', u'name': u'Pippo'}\n"
     ]
    }
   ],
   "source": [
    "peoples = db.people.find()\n",
    "for p in peoples:\n",
    "    print p"
   ]
  },
  {
   "cell_type": "code",
   "execution_count": 18,
   "metadata": {
    "collapsed": false
   },
   "outputs": [
    {
     "data": {
      "text/plain": [
       "{u'_id': ObjectId('581c6958e14afe13013e097c'),\n",
       " u'name': u'Alex',\n",
       " u'phone': u'+39123456789'}"
      ]
     },
     "execution_count": 18,
     "metadata": {},
     "output_type": "execute_result"
    }
   ],
   "source": [
    "from bson import ObjectId\n",
    "db.people.find_one({'_id': ObjectId('581c6958e14afe13013e097c')})"
   ]
  },
  {
   "cell_type": "code",
   "execution_count": 17,
   "metadata": {
    "collapsed": false
   },
   "outputs": [
    {
     "data": {
      "text/plain": [
       "{u'_id': ObjectId('581c6958e14afe13013e097c'),\n",
       " u'name': u'Alex',\n",
       " u'phone': u'+39123456789'}"
      ]
     },
     "execution_count": 17,
     "metadata": {},
     "output_type": "execute_result"
    }
   ],
   "source": [
    "from bson import ObjectId\n",
    "db.people.find_one({'_id': {'$gt':  ObjectId('5818c8549718d42038af68ad')}})"
   ]
  },
  {
   "cell_type": "code",
   "execution_count": 24,
   "metadata": {
    "collapsed": false
   },
   "outputs": [],
   "source": [
    "peoples = db.people.find({'_id':{'gt':ObjectId('5818c8549718d42038af68ad')}})\n",
    "for p in peoples:\n",
    "    print p"
   ]
  },
  {
   "cell_type": "markdown",
   "metadata": {},
   "source": [
    "Updating Documents\n",
    "---------------------\n",
    "\n",
    "Updating documents in MongoDB can be performed with the ``update`` method of the collection. Updating is actually one of the major sources of issues for new users as it doesn't change values in document like it does on SQL based databases, but instead it replaces the document with a new one.\n",
    "\n",
    "Also note that the update operation doesn't perform update on each document identified by the query, by default only the first document is updated. To apply it to multiple documents it is required to explicitly specify the ``multi=true`` option\n",
    "\n",
    "What you usually want to do is actually using the ``$set`` operator which changes the existing document instead of replacing it with a new one."
   ]
  },
  {
   "cell_type": "code",
   "execution_count": 25,
   "metadata": {
    "collapsed": false
   },
   "outputs": [
    {
     "name": "stdout",
     "output_type": "stream",
     "text": [
      "\n",
      "Before Updated: {u'phone': u'+39123456789', u'_id': ObjectId('581c6958e14afe13013e097c'), u'name': u'Alex'}\n",
      "\n",
      "After Update: {u'_id': ObjectId('581c6958e14afe13013e097c'), u'name': u'John Doe'}\n",
      "\n",
      "After $set phone: {u'phone': u'+39123456789', u'_id': ObjectId('581c6958e14afe13013e097c'), u'name': u'John Doe'}\n",
      "\n",
      "After $set name: {u'phone': u'+39123456789', u'_id': ObjectId('581c6958e14afe13013e097c'), u'name': u'Alex'}\n"
     ]
    },
    {
     "name": "stderr",
     "output_type": "stream",
     "text": [
      "/home/bigdive/anaconda2/lib/python2.7/site-packages/ipykernel/__main__.py:4: DeprecationWarning: update is deprecated. Use replace_one, update_one or update_many instead.\n",
      "/home/bigdive/anaconda2/lib/python2.7/site-packages/ipykernel/__main__.py:9: DeprecationWarning: update is deprecated. Use replace_one, update_one or update_many instead.\n",
      "/home/bigdive/anaconda2/lib/python2.7/site-packages/ipykernel/__main__.py:11: DeprecationWarning: update is deprecated. Use replace_one, update_one or update_many instead.\n"
     ]
    }
   ],
   "source": [
    "doc = db.people.find_one({'name': 'Alex'})\n",
    "print '\\nBefore Updated:', doc\n",
    "\n",
    "db.people.update({'name': 'Alex'}, {'name': 'John Doe'})\n",
    "doc = db.people.find_one({'name': 'John Doe'})\n",
    "print '\\nAfter Update:', doc\n",
    "\n",
    "# Go back to previous state\n",
    "db.people.update({'name': 'John Doe'}, {'$set': {'phone': '+39123456789'}})\n",
    "print '\\nAfter $set phone:', db.people.find_one({'name': 'John Doe'})\n",
    "db.people.update({'name': 'John Doe'}, {'$set': {'name': 'Alex'}})\n",
    "print '\\nAfter $set name:', db.people.find_one({'name': 'Alex'})\n"
   ]
  },
  {
   "cell_type": "markdown",
   "metadata": {},
   "source": [
    "SubDocuments\n",
    "--------------\n",
    "\n",
    "The real power of mongodb is released when you use subdocuments.\n",
    "\n",
    "As each mongodb document is a JSON object (actually BSON, but that doesn't change much for the user), it can contain any data which is valid in JSON. Including other documents and arrays. This replaces \"relations\" between collections in multiple use cases and it's heavily more efficient as it returns all the data in a single query instead of having to perform multiple queries to retrieve related data.\n",
    "\n",
    "As MongoDB fully supports subdocuments it is also possible to query on sub document fields and even query on arrays using the ``dot notation``.\n",
    "\n",
    "For example if you want to store a blog post in mongodb you might actually store everything, including author data and tags inside the blogpost itself:"
   ]
  },
  {
   "cell_type": "code",
   "execution_count": 26,
   "metadata": {
    "collapsed": false
   },
   "outputs": [
    {
     "name": "stderr",
     "output_type": "stream",
     "text": [
      "/home/bigdive/anaconda2/lib/python2.7/site-packages/ipykernel/__main__.py:5: DeprecationWarning: insert is deprecated. Use insert_one or insert_many instead.\n"
     ]
    },
    {
     "data": {
      "text/plain": [
       "ObjectId('581c6f32e14afe13013e097f')"
      ]
     },
     "execution_count": 26,
     "metadata": {},
     "output_type": "execute_result"
    }
   ],
   "source": [
    "db.blog.insert({'title': 'MongoDB intro!',\n",
    "                'author': {'name': 'Alex',\n",
    "                           'surname': 'Comu',\n",
    "                           'nickname': 'alexcomu'},\n",
    "                'tags': ['mongodb', 'web', 'new-hair-cut']})"
   ]
  },
  {
   "cell_type": "code",
   "execution_count": 27,
   "metadata": {
    "collapsed": false
   },
   "outputs": [
    {
     "data": {
      "text/plain": [
       "{u'_id': ObjectId('581c6f32e14afe13013e097f'),\n",
       " u'author': {u'name': u'Alex', u'nickname': u'alexcomu', u'surname': u'Comu'},\n",
       " u'tags': [u'mongodb', u'web', u'new-hair-cut'],\n",
       " u'title': u'MongoDB intro!'}"
      ]
     },
     "execution_count": 27,
     "metadata": {},
     "output_type": "execute_result"
    }
   ],
   "source": [
    "db.blog.find_one({'title': 'MongoDB intro!'})"
   ]
  },
  {
   "cell_type": "code",
   "execution_count": 29,
   "metadata": {
    "collapsed": false
   },
   "outputs": [
    {
     "name": "stdout",
     "output_type": "stream",
     "text": [
      "{u'title': u'MongoDB intro!', u'_id': ObjectId('581c6f32e14afe13013e097f'), u'tags': [u'mongodb', u'web', u'new-hair-cut'], u'author': {u'surname': u'Comu', u'nickname': u'alexcomu', u'name': u'Alex'}}\n",
      "Alex\n"
     ]
    }
   ],
   "source": [
    "blog = db.blog.find_one({'tags': 'mongodb'})\n",
    "print blog\n",
    "print blog['author']['name']"
   ]
  },
  {
   "cell_type": "code",
   "execution_count": 30,
   "metadata": {
    "collapsed": false
   },
   "outputs": [
    {
     "data": {
      "text/plain": [
       "{u'_id': ObjectId('581c6f32e14afe13013e097f'),\n",
       " u'author': {u'name': u'Alex', u'nickname': u'alexcomu', u'surname': u'Comu'},\n",
       " u'tags': [u'mongodb', u'web', u'new-hair-cut'],\n",
       " u'title': u'MongoDB intro!'}"
      ]
     },
     "execution_count": 30,
     "metadata": {},
     "output_type": "execute_result"
    }
   ],
   "source": [
    "db.blog.find_one({'author.name': 'Alex'})"
   ]
  },
  {
   "cell_type": "code",
   "execution_count": 33,
   "metadata": {
    "collapsed": false
   },
   "outputs": [
    {
     "name": "stderr",
     "output_type": "stream",
     "text": [
      "/home/bigdive/anaconda2/lib/python2.7/site-packages/ipykernel/__main__.py:10: DeprecationWarning: insert is deprecated. Use insert_one or insert_many instead.\n"
     ]
    }
   ],
   "source": [
    "# Create some random posts\n",
    "TAGS = ['mongodb', 'web', 'scaling', 'cooking']\n",
    "\n",
    "import random\n",
    "for postnum in range(1, 5):\n",
    "    db.blog.insert({'title': 'Post %s' % postnum,\n",
    "                    'author': {'name': 'Alex',\n",
    "                               'surname': 'Comu',\n",
    "                               'nickname': 'alexcomu'},\n",
    "                    'tags': random.sample(TAGS, 2)})"
   ]
  },
  {
   "cell_type": "code",
   "execution_count": 34,
   "metadata": {
    "collapsed": false
   },
   "outputs": [
    {
     "name": "stdout",
     "output_type": "stream",
     "text": [
      "Post 1 -> cooking, scaling\n",
      "Post 3 -> cooking, scaling\n",
      "Post 4 -> web, cooking\n",
      "Post 2 -> cooking, scaling\n",
      "Post 3 -> mongodb, cooking\n",
      "Post 4 -> scaling, mongodb\n"
     ]
    }
   ],
   "source": [
    "for post in db.blog.find({'tags': {'$in': ['scaling', 'cooking']}}):\n",
    "    print post['title'], '->', ', '.join(post['tags'])\n"
   ]
  },
  {
   "cell_type": "markdown",
   "metadata": {},
   "source": [
    "# Example\n",
    "\n",
    "Scrivere un piccolo script che inserisca all'interno di una collection \"bigdive\" 3 oggetti del tipo:\n",
    "nome1/phone/data-nascita"
   ]
  },
  {
   "cell_type": "code",
   "execution_count": 38,
   "metadata": {
    "collapsed": false
   },
   "outputs": [
    {
     "name": "stdout",
     "output_type": "stream",
     "text": [
      "Help on method sample in module random:\n",
      "\n",
      "sample(self, population, k) method of random.Random instance\n",
      "    Chooses k unique random elements from a population sequence.\n",
      "    \n",
      "    Returns a new list containing elements from the population while\n",
      "    leaving the original population unchanged.  The resulting list is\n",
      "    in selection order so that all sub-slices will also be valid random\n",
      "    samples.  This allows raffle winners (the sample) to be partitioned\n",
      "    into grand prize and second place winners (the subslices).\n",
      "    \n",
      "    Members of the population need not be hashable or unique.  If the\n",
      "    population contains repeats, then each occurrence is a possible\n",
      "    selection in the sample.\n",
      "    \n",
      "    To choose a sample in a range of integers, use xrange as an argument.\n",
      "    This is especially fast and space efficient for sampling from a\n",
      "    large population:   sample(xrange(10000000), 60)\n",
      "\n",
      "None\n"
     ]
    }
   ],
   "source": [
    "print help(random.sample)"
   ]
  },
  {
   "cell_type": "code",
   "execution_count": 40,
   "metadata": {
    "collapsed": false
   },
   "outputs": [
    {
     "name": "stdout",
     "output_type": "stream",
     "text": [
      "{u'phone': 0, u'_id': ObjectId('581c7448e14afe13013e0988'), u'data-nascita': u'1 gen 1990', u'nome1': u'nome'}\n",
      "{u'phone': 247563, u'_id': ObjectId('581c7448e14afe13013e0989'), u'data-nascita': u'1 gen 1990', u'nome1': u'nome'}\n",
      "{u'phone': 495126, u'_id': ObjectId('581c7448e14afe13013e098a'), u'data-nascita': u'1 gen 1990', u'nome1': u'nome'}\n",
      "{u'phone': u'123', u'_id': ObjectId('581c7525e14afe13013e098b'), u'data-nascita': u'22-03-1976', u'nome1': u'Angelica'}\n",
      "{u'phone': u'456', u'_id': ObjectId('581c7525e14afe13013e098c'), u'data-nascita': u'15-05-1976', u'nome1': u'Giulio'}\n",
      "{u'phone': u'789', u'_id': ObjectId('581c7525e14afe13013e098d'), u'data-nascita': u'21-11-2009', u'nome1': u'Samuele'}\n",
      "{u'phone': u'101112', u'_id': ObjectId('581c7525e14afe13013e098e'), u'data-nascita': u'09-05-2012', u'nome1': u'Morgana'}\n"
     ]
    },
    {
     "name": "stderr",
     "output_type": "stream",
     "text": [
      "/home/bigdive/anaconda2/lib/python2.7/site-packages/ipykernel/__main__.py:8: DeprecationWarning: insert is deprecated. Use insert_one or insert_many instead.\n"
     ]
    }
   ],
   "source": [
    "names = ['Angelica', 'Giulio', 'Samuele', 'Morgana']\n",
    "phone = ['123', '456', '789', '101112']\n",
    "birth = ['22-03-1976', '15-05-1976', '21-11-2009', '09-05-2012']\n",
    "\n",
    "for i in range(4):\n",
    "    db.bigdive.insert({'nome1': names[i],\n",
    "                       'phone': phone[i],\n",
    "                       'data-nascita': birth[i]})\n",
    "for entry in db.bigdive.find():\n",
    "    print entry"
   ]
  },
  {
   "cell_type": "code",
   "execution_count": null,
   "metadata": {
    "collapsed": true
   },
   "outputs": [],
   "source": [
    "#db.bigdive.insert_many()"
   ]
  },
  {
   "cell_type": "markdown",
   "metadata": {},
   "source": [
    "Effettuare una ricerca per uno dei 3 nomi scelti e successivamente utilizzare il metodo update (utilizzando come filtro l'_id) e aggiungere alla entry un campo a scelta"
   ]
  },
  {
   "cell_type": "code",
   "execution_count": 44,
   "metadata": {
    "collapsed": false
   },
   "outputs": [
    {
     "name": "stdout",
     "output_type": "stream",
     "text": [
      "{u'phone': u'101112', u'_id': ObjectId('581c7525e14afe13013e098e'), u'data-nascita': u'09-05-2012', u'nome1': u'Morgana'}\n"
     ]
    },
    {
     "name": "stderr",
     "output_type": "stream",
     "text": [
      "/home/bigdive/anaconda2/lib/python2.7/site-packages/ipykernel/__main__.py:3: DeprecationWarning: update is deprecated. Use replace_one, update_one or update_many instead.\n",
      "  app.launch_new_instance()\n"
     ]
    },
    {
     "data": {
      "text/plain": [
       "{u'_id': ObjectId('581c7525e14afe13013e098e'),\n",
       " u'ages': None,\n",
       " u'data-nascita': u'09-05-2012',\n",
       " u'nome1': u'Morgana',\n",
       " u'phone': u'101112'}"
      ]
     },
     "execution_count": 44,
     "metadata": {},
     "output_type": "execute_result"
    }
   ],
   "source": [
    "person = db.bigdive.find_one({'nome1':'Morgana'})\n",
    "print person\n",
    "db.bigdive.update({'_id': person['_id']},{'$set':{'ages':None}})\n",
    "db.bigdive.find_one({'nome1':'Morgana'})"
   ]
  },
  {
   "cell_type": "markdown",
   "metadata": {},
   "source": [
    "Indexing\n",
    "----------\n",
    "\n",
    "Indexing is actually the most important part of MongoDB.\n",
    "\n",
    "MongoDB has great support for indexing, and it supports single key, multi key, compound and hashed indexes. Each index type has its specific use case and can be used both for querying and sorting.\n",
    "\n",
    " * Single Key -> Those are plain indexes on a field\n",
    " * Multi Key -> Those are indexes created on an array field\n",
    " * Compound -> Those are indexes that cover more than one field.\n",
    " * Hashed -> Those are indexes optimized for equality comparison, they actually store the hash of the indexed value and are usually used for sharding.\n",
    " \n",
    "In case of compound indexes they can also be used when only a part of the query filter is present into the index, there is also a special case of indexes called *covering indexes* which happen when the fields you are asking for are all available into the index. In that case MongoDB won't even access the collection and will directly serve you the data from the index. An index cannot be both a multi key index and a covering index.\n",
    "\n",
    "Indexes are also ordered, so they can be created *ASCENDING* or *DESCENDING*.\n",
    "\n",
    "Creating indexes can be done using the ``ensure_index`` method"
   ]
  },
  {
   "cell_type": "code",
   "execution_count": 45,
   "metadata": {
    "collapsed": false
   },
   "outputs": [
    {
     "name": "stderr",
     "output_type": "stream",
     "text": [
      "/home/bigdive/anaconda2/lib/python2.7/site-packages/ipykernel/__main__.py:1: DeprecationWarning: ensure_index is deprecated. Use create_index instead.\n",
      "  if __name__ == '__main__':\n"
     ]
    },
    {
     "data": {
      "text/plain": [
       "u'tags_1'"
      ]
     },
     "execution_count": 45,
     "metadata": {},
     "output_type": "execute_result"
    }
   ],
   "source": [
    "db.blog.ensure_index([('tags', 1)])#crea un indice acsendente sulla chiave 'tags'"
   ]
  },
  {
   "cell_type": "markdown",
   "metadata": {},
   "source": [
    "Checking which index MongoDB is using to perform a query can be done using the ``explain`` method, forcing an index into a query can be done using the ``hint`` method.\n",
    "\n",
    "As MongoDB uses a statistical optimizer, using ``hint`` in queries can actually provide a performance boost as it avoids the \"best option\" lookup cost of the optimizer. "
   ]
  },
  {
   "cell_type": "code",
   "execution_count": 46,
   "metadata": {
    "collapsed": false
   },
   "outputs": [
    {
     "data": {
      "text/plain": [
       "{u'inputStage': {u'direction': u'forward',\n",
       "  u'indexBounds': {u'tags': [u'[\"mongodb\", \"mongodb\"]']},\n",
       "  u'indexName': u'tags_1',\n",
       "  u'indexVersion': 1,\n",
       "  u'isMultiKey': True,\n",
       "  u'isPartial': False,\n",
       "  u'isSparse': False,\n",
       "  u'isUnique': False,\n",
       "  u'keyPattern': {u'tags': 1},\n",
       "  u'stage': u'IXSCAN'},\n",
       " u'stage': u'FETCH'}"
      ]
     },
     "execution_count": 46,
     "metadata": {},
     "output_type": "execute_result"
    }
   ],
   "source": [
    "db.blog.find({'tags': 'mongodb'}).explain()['queryPlanner']['winningPlan']"
   ]
  },
  {
   "cell_type": "code",
   "execution_count": 47,
   "metadata": {
    "collapsed": false
   },
   "outputs": [
    {
     "data": {
      "text/plain": [
       "{u'filter': {u'tags': {u'$eq': u'mongodb'}},\n",
       " u'inputStage': {u'direction': u'forward',\n",
       "  u'indexBounds': {u'_id': [u'[MinKey, MaxKey]']},\n",
       "  u'indexName': u'_id_',\n",
       "  u'indexVersion': 1,\n",
       "  u'isMultiKey': False,\n",
       "  u'isPartial': False,\n",
       "  u'isSparse': False,\n",
       "  u'isUnique': True,\n",
       "  u'keyPattern': {u'_id': 1},\n",
       "  u'stage': u'IXSCAN'},\n",
       " u'stage': u'FETCH'}"
      ]
     },
     "execution_count": 47,
     "metadata": {},
     "output_type": "execute_result"
    }
   ],
   "source": [
    "db.blog.find({'tags': 'mongodb'}).hint([('_id', 1)]).explain()['queryPlanner']['winningPlan']"
   ]
  },
  {
   "cell_type": "code",
   "execution_count": 48,
   "metadata": {
    "collapsed": false
   },
   "outputs": [
    {
     "data": {
      "text/plain": [
       "{u'direction': u'forward',\n",
       " u'filter': {u'title': {u'$eq': u'Post 1'}},\n",
       " u'stage': u'COLLSCAN'}"
      ]
     },
     "execution_count": 48,
     "metadata": {},
     "output_type": "execute_result"
    }
   ],
   "source": [
    "db.blog.find({'title': 'Post 1'}).explain()['queryPlanner']['winningPlan']"
   ]
  },
  {
   "cell_type": "code",
   "execution_count": 49,
   "metadata": {
    "collapsed": false
   },
   "outputs": [
    {
     "name": "stderr",
     "output_type": "stream",
     "text": [
      "/home/bigdive/anaconda2/lib/python2.7/site-packages/ipykernel/__main__.py:1: DeprecationWarning: ensure_index is deprecated. Use create_index instead.\n",
      "  if __name__ == '__main__':\n"
     ]
    },
    {
     "data": {
      "text/plain": [
       "{u'inputStage': {u'direction': u'forward',\n",
       "  u'indexBounds': {u'author.name': [u'[\"Alex\", \"Alex\"]'],\n",
       "   u'title': [u'[MinKey, MaxKey]']},\n",
       "  u'indexName': u'author.name_1_title_1',\n",
       "  u'indexVersion': 1,\n",
       "  u'isMultiKey': False,\n",
       "  u'isPartial': False,\n",
       "  u'isSparse': False,\n",
       "  u'isUnique': False,\n",
       "  u'keyPattern': {u'author.name': 1, u'title': 1},\n",
       "  u'stage': u'IXSCAN'},\n",
       " u'stage': u'PROJECTION',\n",
       " u'transformBy': {u'_id': False, u'title': True}}"
      ]
     },
     "execution_count": 49,
     "metadata": {},
     "output_type": "execute_result"
    }
   ],
   "source": [
    "db.blog.ensure_index([('author.name', 1), ('title', 1)])\n",
    "db.blog.find({'author.name': 'Alex'}, {'title': True, '_id': False}).explain()['queryPlanner']['winningPlan']"
   ]
  },
  {
   "cell_type": "markdown",
   "metadata": {},
   "source": [
    "# Import Atleti DB\n",
    "\n",
    "Here you can find a simple mongo Connector used to fill a db \"olimpiadi\" with a collection named \"atleti\" that contains all the atlethes from the CSV source file.\n",
    "\n",
    "To run this script you can simply run from a terminal: \n",
    "    \n",
    "    python import_athletes.py athletes_sochi.csv"
   ]
  },
  {
   "cell_type": "code",
   "execution_count": 51,
   "metadata": {
    "collapsed": false
   },
   "outputs": [
    {
     "name": "stderr",
     "output_type": "stream",
     "text": [
      "/home/bigdive/anaconda2/lib/python2.7/site-packages/ipykernel/__main__.py:27: DeprecationWarning: insert is deprecated. Use insert_one or insert_many instead.\n"
     ]
    }
   ],
   "source": [
    "from pymongo import MongoClient\n",
    "client = MongoClient('mongodb://localhost:27017/')\n",
    "\n",
    "db = client.olimpiadi\n",
    "\n",
    "# DATA FORMAT\n",
    "# age,birthdate,gender,height,name,weight,\n",
    "# gold_medals,silver_medals,bronze_medals,\n",
    "# total_medals,sport,country\n",
    "\n",
    "with open('athletes_sochi.csv', 'r') as file:\n",
    "    for line in file.readlines():\n",
    "        splitted = line.split(',')\n",
    "        if splitted[0] != 'age':\n",
    "            data = {'age':splitted[0],\n",
    "                'birthdate':splitted[1],\n",
    "                'gender':splitted[2],\n",
    "                'height':splitted[3],\n",
    "                'name':splitted[4],\n",
    "                'weight':splitted[5],\n",
    "                'gold_medals':int(splitted[6]),\n",
    "                'silver_medals':int(splitted[7]),\n",
    "                'bronze_medals':int(splitted[8]),\n",
    "                'total_medals':int(splitted[9]),\n",
    "                'sport':splitted[10],\n",
    "                'country':splitted[11][:-2]}\n",
    "            db.atleti.insert(data)\n"
   ]
  },
  {
   "cell_type": "code",
   "execution_count": 63,
   "metadata": {
    "collapsed": false
   },
   "outputs": [
    {
     "name": "stdout",
     "output_type": "stream",
     "text": [
      "MongoClient(host=['localhost:27017'], document_class=dict, tz_aware=False, connect=True)\n",
      "{u'name': u'Aaron March'}\n",
      "{u'name': u'Alessandro Pittin'}\n",
      "{u'name': u'Alexia Runggaldier'}\n",
      "{u'name': u'Andrea Giovannini'}\n",
      "{u'name': u'Andrea Voetter'}\n",
      "{u'name': u'Anna Cappellini'}\n",
      "{u'name': u'Anthony Lobello'}\n",
      "{u'name': u'Arianna Fontana'}\n",
      "{u'name': u'Armin Bauer'}\n",
      "{u'name': u'Armin Zoeggeler'}\n",
      "{u'name': u'Carolina Kostner'}\n",
      "{u'name': u'Cecilia Maffei'}\n",
      "{u'name': u'Charlene Guignard'}\n",
      "{u'name': u'Chiara Costazza'}\n",
      "{u'name': u'Christian De Lorenzi'}\n",
      "{u'name': u'Christian Oberstolz'}\n",
      "{u'name': u'Christof Innerhofer'}\n",
      "{u'name': u'Christoph Mick'}\n",
      "{u'name': u'Corinna Boccacini'}\n",
      "{u'name': u'Daniel Taschler'}\n",
      "{u'name': u'Daniela Merighetti'}\n",
      "{u'name': u'David Bosa'}\n",
      "{u'name': u'David Hofer'}\n",
      "{u'name': u'Davide Bresadola'}\n",
      "{u'name': u'Davide Simoncelli'}\n",
      "{u'name': u'Davide Viscardi'}\n",
      "{u'name': u'Debora Agreiter'}\n",
      "{u'name': u'Deborah Scanzio'}\n",
      "{u'name': u'Denise Karbon'}\n",
      "{u'name': u'Dietmar Noeckler'}\n",
      "{u'name': u'Dominik Fischnaller'}\n",
      "{u'name': u'Dominik Paris'}\n",
      "{u'name': u'Dominik Windisch'}\n",
      "{u'name': u'Dorothea Wierer'}\n",
      "{u'name': u'Elena Fanchini'}\n",
      "{u'name': u'Elena Runggaldier'}\n",
      "{u'name': u'Elena Viviani'}\n",
      "{u'name': u'Elisa Brocard'}\n",
      "{u'name': u'Emanuel Perathoner'}\n",
      "{u'name': u'Emanuel Rieder'}\n",
      "{u'name': u'Enrico Nizzi'}\n",
      "{u'name': u'Evelyn Insam'}\n",
      "{u'name': u'Fabio Pasini'}\n",
      "{u'name': u'Federica Brignone'}\n",
      "{u'name': u'Federico Pellegrino'}\n",
      "{u'name': u'Francesca Lollobrigida'}\n",
      "{u'name': u'Francesca Marsaglia'}\n",
      "{u'name': u'Francesco Costa'}\n",
      "{u'name': u'Francesco De Fabiani'}\n",
      "{u'name': u'Gaia Vuerich'}\n",
      "{u'name': u'Giacomo Matiz'}\n",
      "{u'name': u'Giorgio Di Centa'}\n",
      "{u'name': u'Giuliano Razzoli'}\n",
      "{u'name': u'Giuseppe Michielli'}\n",
      "{u'name': u'Greta Laurent'}\n",
      "{u'name': u'Ilaria Debertolis'}\n",
      "{u'name': u'Karin Oberhofer'}\n",
      "{u'name': u'Luca De Aliprandini'}\n",
      "{u'name': u'Luca Lanotte'}\n",
      "{u'name': u'Luca Matteotti'}\n",
      "{u'name': u'Lucia Peretti'}\n",
      "{u'name': u'Ludwig Rieder'}\n",
      "{u'name': u'Lukas Hofer'}\n",
      "{u'name': u'Lukas Runggaldier'}\n",
      "{u'name': u'Manfred Moelgg'}\n",
      "{u'name': u'Marco Fabbri'}\n",
      "{u'name': u'Marina Piller'}\n",
      "{u'name': u'Markus Eder'}\n",
      "{u'name': u'Markus Windisch'}\n",
      "{u'name': u'Martina Valcepina'}\n",
      "{u'name': u'Matteo Anesi'}\n",
      "{u'name': u'Matteo Guarise'}\n",
      "{u'name': u'Mattia Pellegrin'}\n",
      "{u'name': u'Maurizio Oioli'}\n",
      "{u'name': u'Meinhard Erlacher'}\n",
      "{u'name': u'Michela Moioli'}\n",
      "{u'name': u'Michela Ponza'}\n",
      "{u'name': u'Mirko Nenzi'}\n",
      "{u'name': u'Nadia Fanchini'}\n",
      "{u'name': u'Nadya Ochner'}\n",
      "{u'name': u'Nicola Rodigari'}\n",
      "{u'name': u'Nicole Della Monica'}\n",
      "{u'name': u'Nicole Gontier'}\n",
      "{u'name': u'Omar Visintin'}\n",
      "{u'name': u'Ondrej Hotarek'}\n",
      "{u'name': u'Patrick Gruber'}\n",
      "{u'name': u'Patrick Rastner'}\n",
      "{u'name': u'Patrick Thaler'}\n",
      "{u'name': u'Paul Bonifacio Parkinson'}\n",
      "{u'name': u'Peter Fill'}\n",
      "{u'name': u'Raffaella Brutto'}\n",
      "{u'name': u'Roberto Dellasega'}\n",
      "{u'name': u'Roberto Nani'}\n",
      "{u'name': u'Roland Clara'}\n",
      "{u'name': u'Roland Fischnaller'}\n",
      "{u'name': u'Samuel Costa'}\n",
      "{u'name': u'Sandra Gasparini'}\n",
      "{u'name': u'Sandra Robatscher'}\n",
      "{u'name': u'Sebastian Colloredo'}\n",
      "{u'name': u'Silvia Bertagna'}\n",
      "{u'name': u'Simone Bertazzo'}\n",
      "{u'name': u'Simone Fontana'}\n",
      "{u'name': u'Stefania Berton'}\n",
      "{u'name': u'Stefano Gross'}\n",
      "{u'name': u'Tommaso Dotti'}\n",
      "{u'name': u'Tommaso Leoni'}\n",
      "{u'name': u'Valentina Marchei'}\n",
      "{u'name': u'Verena Stuffer'}\n",
      "{u'name': u'Virginia De Martin Topranin'}\n",
      "{u'name': u'Werner Heel'}\n",
      "{u'name': u'William Frullani'}\n",
      "{u'name': u'Yuri Confortola'}\n",
      "{u'name': u'Yvonne Daldossi'}\n"
     ]
    }
   ],
   "source": [
    "print client\n",
    "db = client.olimpiadi\n",
    "\n",
    "#for result in db.atleti.find({\"country\":\"Italy\", \"gender\":\"female\"}):\n",
    "#for result in db.atleti.find({\"country\":\"Italy\"},{\"gender\":\"female\"}):\n",
    "for result in db.atleti.find({\"country\":\"Italy\"},{\"name\":1, \"_id\":0}):\n",
    "    print result\n"
   ]
  },
  {
   "cell_type": "code",
   "execution_count": null,
   "metadata": {
    "collapsed": true
   },
   "outputs": [],
   "source": []
  },
  {
   "cell_type": "markdown",
   "metadata": {},
   "source": [
    "## Mongo IMPORT / EXPORT\n",
    "\n",
    "Instead to use the python script we can also use **MONGOIMPORT** provided by MongoDB itself:\n",
    "\n",
    "    mongoimport --db olimpiadi --collection atleti --file atleti.json\n",
    "\n",
    "To export the entire collection we can use **MONGOEXPORT**:\n",
    "\n",
    "    mongoexport --db olimpiadi --collection atleti --out atleti.json\n",
    "    \n",
    "Short version of *mongoexport*:\n",
    "    \n",
    "    mongoexport -d olimpiadi -c atleti -o atleti.json"
   ]
  },
  {
   "cell_type": "markdown",
   "metadata": {},
   "source": [
    "Aggregation Pipeline\n",
    "----------------------\n",
    "\n",
    "The aggreation pipeline provided by the aggreation framework is a powerful feature in MongoDB that permits to perform complex data analysis by passing the documents through a pipeline of operations.\n",
    "\n",
    "MongoDB was created with the cover philosophy that you are going to store your documents depending on the way you are going to read them. So to properly design your schema you need to know how you are going to use the documents. While this approach provides great performance benefits and is more concrete in case of web application, it might not always be feasible.\n",
    "\n",
    "In case you need to perform some kind of analysis your documents are not optimized for, you can rely on the aggreation framework to create a pipeline that transforms them in a way more practical for the kind of analysis you need.\n",
    "\n",
    "### How it works\n",
    "\n",
    "The aggregation pipeline is a list of operations that gets executed one after the other on the documents of the collections. The first operation will be performed on all the documents, while successive operations are performed on the result of the previous steps.\n",
    "\n",
    "If steps are able to take advantage of **indexes** they will, that is the case for a **match** or **sort** operator, if it appears at the begin of the pipeline. All operators start with a <span><strong>$</strong></span> sign\n",
    "\n",
    "### Stage Operators\n",
    "\n",
    "\n",
    "* **project**\tReshapes each document in the stream, such as by adding new fields or removing existing fields. For each input document, outputs one document.\n",
    "* **match**\tFilters the document stream to allow only matching documents to pass unmodified into the next pipeline stage. **match** uses standard MongoDB queries. For each input document, outputs either one document (a match) or zero documents (no match).\n",
    "* **limit**\tPasses the first n documents unmodified to the pipeline where n is the specified limit. For each input document, outputs either one document (for the first n documents) or zero documents (after the first n documents).\n",
    "* **skip**\tSkips the first n documents where n is the specified skip number and passes the remaining documents unmodified to the pipeline. For each input document, outputs either zero documents (for the first n documents) or one document (if after the first n documents).\n",
    "* **unwind**\tDeconstructs an array field from the input documents to output a document for each element. Each output document replaces the array with an element value. For each input document, outputs n documents where n is the number of array elements and can be zero for an empty array.\n",
    "* **group**\tGroups input documents by a specified identifier expression and applies the accumulator expression(s), if specified, to each group. Consumes all input documents and outputs one document per each distinct group. The output documents only contain the identifier field and, if specified, accumulated fields.\n",
    "* **sort**\tReorders the document stream by a specified sort key. Only the order changes; the documents remain unmodified. For each input document, outputs one document.\n",
    "* **geoNear**\tReturns an ordered stream of documents based on the proximity to a geospatial point. Incorporates the functionality of **match**, **sort**, and **limit** for geospatial data. The output documents include an additional distance field and can include a location identifier field.\n",
    "* **out**\tWrites the resulting documents of the aggregation pipeline to a collection. To use the $out stage, it must be the last stage in the pipeline.\n",
    "\n",
    "#### Expression Operators\n",
    "\n",
    "Each stage operator can work with one or more **expression operator** which allow to perform actions during that stage, for a list of expression operators see http://docs.mongodb.org/manual/reference/operator/aggregation/#expression-operators\n",
    "\n",
    "\n"
   ]
  },
  {
   "cell_type": "markdown",
   "metadata": {},
   "source": [
    "## Pipeline Examples"
   ]
  },
  {
   "cell_type": "code",
   "execution_count": 64,
   "metadata": {
    "collapsed": false
   },
   "outputs": [
    {
     "data": {
      "text/plain": [
       "<pymongo.command_cursor.CommandCursor at 0x7f7a2273f2d0>"
      ]
     },
     "execution_count": 64,
     "metadata": {},
     "output_type": "execute_result"
    }
   ],
   "source": [
    "db = client.olimpiadi\n",
    "\n",
    "\n",
    "db.atleti.aggregate([\n",
    "                {'$match': {'country': {'$in':['Italy', 'France']}}}\n",
    "            ])"
   ]
  },
  {
   "cell_type": "code",
   "execution_count": 65,
   "metadata": {
    "collapsed": false
   },
   "outputs": [
    {
     "name": "stdout",
     "output_type": "stream",
     "text": [
      "226\n",
      "\n",
      "-----\n",
      "\n"
     ]
    }
   ],
   "source": [
    "db = client.olimpiadi\n",
    "\n",
    "# How many people from Italy and France?\n",
    "print len(list(db.atleti.aggregate([\n",
    "                {'$match': {'country': {'$in':['Italy', 'France']}}}\n",
    "            ])))\n",
    "\n",
    "print \"\\n-----\\n\""
   ]
  },
  {
   "cell_type": "code",
   "execution_count": 66,
   "metadata": {
    "collapsed": false
   },
   "outputs": [
    {
     "name": "stdout",
     "output_type": "stream",
     "text": [
      "{u'count': 226, u'_id': u'count'}\n"
     ]
    }
   ],
   "source": [
    "\n",
    "# Count them using only the pipeline \n",
    "print db.atleti.aggregate([\n",
    "        {'$match': {'country': {'$in':['Italy', 'France']}}},\n",
    "        {'$group': {'_id': 'count', 'count': {'$sum': 1}}}\n",
    "    ]).next()#la risposta di un aggregate e' un cursore, quindi sevo usare il next() per ottenere il valore"
   ]
  },
  {
   "cell_type": "code",
   "execution_count": 67,
   "metadata": {
    "collapsed": false
   },
   "outputs": [
    {
     "name": "stdout",
     "output_type": "stream",
     "text": [
      "[{u'_id': u'Germany', u'medals': 26}, {u'_id': u'United States', u'medals': 28}, {u'_id': u'Canada', u'medals': 28}, {u'_id': u'Russian Fed.', u'medals': 38}]\n"
     ]
    }
   ],
   "source": [
    "# Count country with at least 10 medals\n",
    "print list(db.atleti.aggregate([\n",
    "        {'$project': {'country': 1, 'total_medals': 1, '_id': 0}},#considero solo le colonne 'country' e 'medals'\n",
    "        {'$group': {'_id': '$country', 'medals': {'$sum': '$total_medals'}}},#$ premesso al nome di un campo, \n",
    "                    #restituisce il valore del campo, sul quale quindi deve essere agita un'operazione\n",
    "        {'$match': {'medals': {'$gt': 20}}},\n",
    "        {'$sort': {'medals': 1}}\n",
    "    ]))\n"
   ]
  },
  {
   "cell_type": "code",
   "execution_count": 69,
   "metadata": {
    "collapsed": false
   },
   "outputs": [
    {
     "name": "stdout",
     "output_type": "stream",
     "text": [
      "[{u'country': u'United States', u'total_medals': 0}, {u'country': u'Italy', u'total_medals': 0}, {u'country': u'Kazakhstan', u'total_medals': 0}, {u'country': u'Kazakhstan', u'total_medals': 0}, {u'country': u'New Zealand', u'total_medals': 0}, {u'country': u'Poland', u'total_medals': 0}, {u'country': u'Morocco', u'total_medals': 0}, {u'country': u'Slovakia', u'total_medals': 0}, {u'country': u'Russian Fed.', u'total_medals': 0}, {u'country': u'France', u'total_medals': 0}, {u'country': u'Spain', u'total_medals': 0}, {u'country': u'Austria', u'total_medals': 0}, {u'country': u'France', u'total_medals': 0}, {u'country': u'France', u'total_medals': 0}, {u'country': u'Lithuania', u'total_medals': 0}, {u'country': u'Sweden', u'total_medals': 0}, {u'country': u'Hungary', u'total_medals': 0}, {u'country': u'Latvia', u'total_medals': 0}, {u'country': u'Poland', u'total_medals': 0}, {u'country': u'Finland', u'total_medals': 0}, {u'country': u'United States', u'total_medals': 0}, {u'country': u'Kazakhstan', u'total_medals': 0}, {u'country': u'Japan', u'total_medals': 0}, {u'country': u'Great Britain', u'total_medals': 0}, {u'country': u'Australia', u'total_medals': 0}, {u'country': u'Japan', u'total_medals': 0}, {u'country': u'Finland', u'total_medals': 1}, {u'country': u'Switzerland', u'total_medals': 0}, {u'country': u'Estonia', u'total_medals': 0}, {u'country': u'United States', u'total_medals': 0}, {u'country': u'Japan', u'total_medals': 0}, {u'country': u'Japan', u'total_medals': 0}, {u'country': u'Japan', u'total_medals': 0}, {u'country': u'Japan', u'total_medals': 0}, {u'country': u'Japan', u'total_medals': 1}, {u'country': u'Norway', u'total_medals': 0}, {u'country': u'Korea', u'total_medals': 1}, {u'country': u'Russian Fed.', u'total_medals': 2}, {u'country': u'Serbia', u'total_medals': 0}, {u'country': u'Norway', u'total_medals': 0}, {u'country': u'Norway', u'total_medals': 0}, {u'country': u'Finland', u'total_medals': 0}, {u'country': u'Russian Fed.', u'total_medals': 0}, {u'country': u'Russian Fed.', u'total_medals': 0}, {u'country': u'Kazakhstan', u'total_medals': 0}, {u'country': u'Poland', u'total_medals': 0}, {u'country': u'Poland', u'total_medals': 0}, {u'country': u'Russian Fed.', u'total_medals': 0}, {u'country': u'Russian Fed.', u'total_medals': 0}, {u'country': u'Russian Fed.', u'total_medals': 0}, {u'country': u'Russian Fed.', u'total_medals': 0}, {u'country': u'Finland', u'total_medals': 0}, {u'country': u'Slovakia', u'total_medals': 0}, {u'country': u'Belarus', u'total_medals': 0}, {u'country': u'Russian Fed.', u'total_medals': 0}, {u'country': u'Slovenia', u'total_medals': 0}, {u'country': u'Czech Republic', u'total_medals': 0}, {u'country': u'Slovenia', u'total_medals': 0}, {u'country': u'Slovenia', u'total_medals': 0}, {u'country': u'Czech Republic', u'total_medals': 0}, {u'country': u'Austria', u'total_medals': 0}, {u'country': u'Italy', u'total_medals': 0}, {u'country': u'Togo', u'total_medals': 0}, {u'country': u'Switzerland', u'total_medals': 1}, {u'country': u'Canada', u'total_medals': 0}, {u'country': u'Georgia', u'total_medals': 0}, {u'country': u'Canada', u'total_medals': 1}, {u'country': u'United States', u'total_medals': 0}, {u'country': u'United States', u'total_medals': 1}, {u'country': u'Switzerland', u'total_medals': 0}, {u'country': u'Canada', u'total_medals': 0}, {u'country': u'Canada', u'total_medals': 0}, {u'country': u'Canada', u'total_medals': 0}, {u'country': u'Spain', u'total_medals': 0}, {u'country': u'Australia', u'total_medals': 0}, {u'country': u'United States', u'total_medals': 0}, {u'country': u'Germany', u'total_medals': 0}, {u'country': u'Russian Fed.', u'total_medals': 1}, {u'country': u'Norway', u'total_medals': 0}, {u'country': u'Russian Fed.', u'total_medals': 1}, {u'country': u'Sweden', u'total_medals': 0}, {u'country': u'Australia', u'total_medals': 0}, {u'country': u'Germany', u'total_medals': 0}, {u'country': u'Russian Fed.', u'total_medals': 0}, {u'country': u'Russian Fed.', u'total_medals': 0}, {u'country': u'Russian Fed.', u'total_medals': 0}, {u'country': u'Russian Fed.', u'total_medals': 0}, {u'country': u'Germany', u'total_medals': 0}, {u'country': u'Belarus', u'total_medals': 0}, {u'country': u'Russian Fed.', u'total_medals': 1}, {u'country': u'Russian Fed.', u'total_medals': 0}, {u'country': u'Sweden', u'total_medals': 0}, {u'country': u'Russian Fed.', u'total_medals': 0}, {u'country': u'Russian Fed.', u'total_medals': 0}, {u'country': u'Russian Fed.', u'total_medals': 0}, {u'country': u'Germany', u'total_medals': 0}, {u'country': u'Czech Republic', u'total_medals': 0}, {u'country': u'Sweden', u'total_medals': 0}, {u'country': u'Russian Fed.', u'total_medals': 0}, {u'country': u'Russian Fed.', u'total_medals': 0}, {u'country': u'Russian Fed.', u'total_medals': 1}, {u'country': u'Russian Fed.', u'total_medals': 0}, {u'country': u'Russian Fed.', u'total_medals': 1}, {u'country': u'Russian Fed.', u'total_medals': 1}, {u'country': u'Kazakhstan', u'total_medals': 0}, {u'country': u'Rep. of Moldova', u'total_medals': 0}, {u'country': u'Monaco', u'total_medals': 0}, {u'country': u'Canada', u'total_medals': 0}, {u'country': u'Bulgaria', u'total_medals': 0}, {u'country': u'Russian Fed.', u'total_medals': 0}, {u'country': u'Russian Fed.', u'total_medals': 0}, {u'country': u'Canada', u'total_medals': 0}, {u'country': u'Russian Fed.', u'total_medals': 0}, {u'country': u'Cyprus', u'total_medals': 0}, {u'country': u'Russian Fed.', u'total_medals': 0}, {u'country': u'Lebanon', u'total_medals': 0}, {u'country': u'Greece', u'total_medals': 0}, {u'country': u'Romania', u'total_medals': 0}, {u'country': u'Romania', u'total_medals': 0}, {u'country': u'Australia', u'total_medals': 0}, {u'country': u'Israel', u'total_medals': 0}, {u'country': u'Belarus', u'total_medals': 0}, {u'country': u'Azerbaijan', u'total_medals': 0}, {u'country': u'Russian Fed.', u'total_medals': 0}, {u'country': u'Russian Fed.', u'total_medals': 0}, {u'country': u'Germany', u'total_medals': 0}, {u'country': u'Russian Fed.', u'total_medals': 0}, {u'country': u'Kazakhstan', u'total_medals': 0}, {u'country': u'Russian Fed.', u'total_medals': 0}, {u'country': u'Kazakhstan', u'total_medals': 0}, {u'country': u'Russian Fed.', u'total_medals': 0}, {u'country': u'Russian Fed.', u'total_medals': 0}, {u'country': u'Russian Fed.', u'total_medals': 0}, {u'country': u'Russian Fed.', u'total_medals': 1}, {u'country': u'Russian Fed.', u'total_medals': 0}, {u'country': u'Italy', u'total_medals': 0}, {u'country': u'France', u'total_medals': 0}, {u'country': u'France', u'total_medals': 0}, {u'country': u'France', u'total_medals': 0}, {u'country': u'Estonia', u'total_medals': 0}, {u'country': u'Belarus', u'total_medals': 0}, {u'country': u'Belarus', u'total_medals': 0}, {u'country': u'Switzerland', u'total_medals': 0}, {u'country': u'Switzerland', u'total_medals': 0}, {u'country': u'Kazakhstan', u'total_medals': 0}, {u'country': u'Germany', u'total_medals': 1}, {u'country': u'Turkey', u'total_medals': 0}, {u'country': u'Tajikistan', u'total_medals': 0}, {u'country': u'France', u'total_medals': 0}, {u'country': u'Belarus', u'total_medals': 1}, {u'country': u'United States', u'total_medals': 0}, {u'country': u'Turkey', u'total_medals': 0}, {u'country': u'Russian Fed.', u'total_medals': 0}, {u'country': u'United States', u'total_medals': 0}, {u'country': u'Canada', u'total_medals': 0}, {u'country': u'United States', u'total_medals': 0}, {u'country': u'Great Britain', u'total_medals': 0}, {u'country': u'Germany', u'total_medals': 0}, {u'country': u'Japan', u'total_medals': 0}, {u'country': u'Australia', u'total_medals': 0}, {u'country': u'France', u'total_medals': 0}, {u'country': u'France', u'total_medals': 0}, {u'country': u'France', u'total_medals': 0}, {u'country': u'Canada', u'total_medals': 0}, {u'country': u'Russian Fed.', u'total_medals': 0}, {u'country': u'Kazakhstan', u'total_medals': 0}, {u'country': u'Russian Fed.', u'total_medals': 0}, {u'country': u'Slovakia', u'total_medals': 1}, {u'country': u'Ukraine', u'total_medals': 0}, {u'country': u'Spain', u'total_medals': 0}, {u'country': u'Norway', u'total_medals': 1}, {u'country': u'Norway', u'total_medals': 0}, {u'country': u'Norway', u'total_medals': 0}, {u'country': u'Norway', u'total_medals': 0}, {u'country': u'Norway', u'total_medals': 0}, {u'country': u'United States', u'total_medals': 0}, {u'country': u'Sweden', u'total_medals': 0}, {u'country': u'Germany', u'total_medals': 0}, {u'country': u'Austria', u'total_medals': 0}, {u'country': u'Sweden', u'total_medals': 0}, {u'country': u'Israel', u'total_medals': 0}, {u'country': u'Italy', u'total_medals': 0}, {u'country': u'Germany', u'total_medals': 0}, {u'country': u'Hungary', u'total_medals': 0}, {u'country': u'Croatia', u'total_medals': 0}, {u'country': u'Germany', u'total_medals': 0}, {u'country': u'Austria', u'total_medals': 0}, {u'country': u'Italy', u'total_medals': 0}, {u'country': u'Czech Republic', u'total_medals': 0}, {u'country': u'Germany', u'total_medals': 0}, {u'country': u'Austria', u'total_medals': 0}, {u'country': u'Norway', u'total_medals': 0}, {u'country': u'Austria', u'total_medals': 0}, {u'country': u'Austria', u'total_medals': 1}, {u'country': u'Austria', u'total_medals': 0}, {u'country': u'Romania', u'total_medals': 0}, {u'country': u'Austria', u'total_medals': 0}, {u'country': u'Austria', u'total_medals': 0}, {u'country': u'Germany', u'total_medals': 0}, {u'country': u'Germany', u'total_medals': 1}, {u'country': u'Germany', u'total_medals': 1}, {u'country': u'Slovakia', u'total_medals': 0}, {u'country': u'Romania', u'total_medals': 0}, {u'country': u'Russian Fed.', u'total_medals': 0}, {u'country': u'Slovenia', u'total_medals': 0}, {u'country': u'Slovakia', u'total_medals': 0}, {u'country': u'Slovakia', u'total_medals': 0}, {u'country': u'Slovenia', u'total_medals': 0}, {u'country': u'Slovenia', u'total_medals': 0}, {u'country': u'Latvia', u'total_medals': 0}, {u'country': u'Switzerland', u'total_medals': 0}, {u'country': u'Great Britain', u'total_medals': 0}, {u'country': u'Great Britain', u'total_medals': 0}, {u'country': u'United States', u'total_medals': 0}, {u'country': u'Canada', u'total_medals': 0}, {u'country': u'United States', u'total_medals': 1}, {u'country': u'Great Britain', u'total_medals': 0}, {u'country': u'Russian Fed.', u'total_medals': 0}, {u'country': u'Russian Fed.', u'total_medals': 0}, {u'country': u'Bulgaria', u'total_medals': 0}, {u'country': u'Russian Fed.', u'total_medals': 0}, {u'country': u'Russian Fed.', u'total_medals': 0}, {u'country': u'Latvia', u'total_medals': 2}, {u'country': u'Ukraine', u'total_medals': 0}, {u'country': u'Ukraine', u'total_medals': 0}, {u'country': u'Ukraine', u'total_medals': 0}, {u'country': u'France', u'total_medals': 0}, {u'country': u'Austria', u'total_medals': 0}, {u'country': u'Switzerland', u'total_medals': 0}, {u'country': u'United States', u'total_medals': 0}, {u'country': u'Dominica', u'total_medals': 0}, {u'country': u'Russian Fed.', u'total_medals': 0}, {u'country': u'Russian Fed.', u'total_medals': 0}, {u'country': u'Romania', u'total_medals': 0}, {u'country': u'Germany', u'total_medals': 0}, {u'country': u'Germany', u'total_medals': 0}, {u'country': u'Switzerland', u'total_medals': 0}, {u'country': u'Germany', u'total_medals': 0}, {u'country': u'Germany', u'total_medals': 0}, {u'country': u'Germany', u'total_medals': 0}, {u'country': u'Norway', u'total_medals': 0}, {u'country': u'United States', u'total_medals': 0}, {u'country': u'Hungary', u'total_medals': 0}, {u'country': u'Sweden', u'total_medals': 0}, {u'country': u'Italy', u'total_medals': 0}, {u'country': u'Russian Fed.', u'total_medals': 0}, {u'country': u'Austria', u'total_medals': 2}, {u'country': u'Austria', u'total_medals': 0}, {u'country': u'Sweden', u'total_medals': 1}, {u'country': u'Sweden', u'total_medals': 0}, {u'country': u'Finland', u'total_medals': 0}, {u'country': u'Russian Fed.', u'total_medals': 0}, {u'country': u'Russian Fed.', u'total_medals': 0}, {u'country': u'United States', u'total_medals': 0}, {u'country': u'Austria', u'total_medals': 0}, {u'country': u'Australia', u'total_medals': 0}, {u'country': u'Germany', u'total_medals': 0}, {u'country': u'Russian Fed.', u'total_medals': 0}, {u'country': u'Russian Fed.', u'total_medals': 0}, {u'country': u'Russian Fed.', u'total_medals': 0}, {u'country': u'Russian Fed.', u'total_medals': 0}, {u'country': u'Great Britain', u'total_medals': 0}, {u'country': u'Sweden', u'total_medals': 0}, {u'country': u'Russian Fed.', u'total_medals': 0}, {u'country': u'New Zealand', u'total_medals': 0}, {u'country': u'Germany', u'total_medals': 0}, {u'country': u'Sweden', u'total_medals': 0}, {u'country': u'United States', u'total_medals': 0}, {u'country': u'Ukraine', u'total_medals': 0}, {u'country': u'Finland', u'total_medals': 1}, {u'country': u'Norway', u'total_medals': 0}, {u'country': u'United States', u'total_medals': 0}, {u'country': u'France', u'total_medals': 0}, {u'country': u'United States', u'total_medals': 0}, {u'country': u'Finland', u'total_medals': 0}, {u'country': u'Netherlands', u'total_medals': 0}, {u'country': u'France', u'total_medals': 0}, {u'country': u'Finland', u'total_medals': 0}, {u'country': u'Finland', u'total_medals': 0}, {u'country': u'France', u'total_medals': 0}, {u'country': u'Italy', u'total_medals': 0}, {u'country': u'France', u'total_medals': 0}, {u'country': u'Netherlands', u'total_medals': 0}, {u'country': u'Russian Fed.', u'total_medals': 0}, {u'country': u'Russian Fed.', u'total_medals': 0}, {u'country': u'Australia', u'total_medals': 0}, {u'country': u'Russian Fed.', u'total_medals': 0}, {u'country': u'Belarus', u'total_medals': 1}, {u'country': u'Finland', u'total_medals': 0}, {u'country': u'Kazakhstan', u'total_medals': 0}, {u'country': u'Russian Fed.', u'total_medals': 0}, {u'country': u'Austria', u'total_medals': 0}, {u'country': u'Czech Republic', u'total_medals': 0}, {u'country': u'Czech Republic', u'total_medals': 0}, {u'country': u'Venezuela', u'total_medals': 0}, {u'country': u'The Former Yugoslav Republic of Macedonia', u'total_medals': 0}, {u'country': u'Bulgaria', u'total_medals': 0}, {u'country': u'Finland', u'total_medals': 0}, {u'country': u'Finland', u'total_medals': 0}, {u'country': u'Finland', u'total_medals': 0}, {u'country': u'Finland', u'total_medals': 0}, {u'country': u'Slovenia', u'total_medals': 0}, {u'country': u'Slovenia', u'total_medals': 0}, {u'country': u'Greece', u'total_medals': 0}, {u'country': u'Canada', u'total_medals': 0}, {u'country': u'Switzerland', u'total_medals': 0}, {u'country': u'Italy', u'total_medals': 3}, {u'country': u'Canada', u'total_medals': 0}, {u'country': u'United States', u'total_medals': 0}, {u'country': u'Japan', u'total_medals': 0}, {u'country': u'Armenia', u'total_medals': 0}, {u'country': u'Latvia', u'total_medals': 0}, {u'country': u'Italy', u'total_medals': 0}, {u'country': u'Switzerland', u'total_medals': 0}, {u'country': u'Italy', u'total_medals': 1}, {u'country': u'Monaco', u'total_medals': 0}, {u'country': u'France', u'total_medals': 0}, {u'country': u'Germany', u'total_medals': 0}, {u'country': u'Netherlands', u'total_medals': 0}, {u'country': u'Ukraine', u'total_medals': 0}, {u'country': u'Uzbekistan', u'total_medals': 0}, {u'country': u'Portugal', u'total_medals': 0}, {u'country': u'France', u'total_medals': 0}, {u'country': u'Finland', u'total_medals': 0}, {u'country': u'Poland', u'total_medals': 0}, {u'country': u'Poland', u'total_medals': 0}, {u'country': u'Armenia', u'total_medals': 0}, {u'country': u'Latvia', u'total_medals': 0}, {u'country': u'Russian Fed.', u'total_medals': 0}, {u'country': u'Russian Fed.', u'total_medals': 0}, {u'country': u'Latvia', u'total_medals': 0}, {u'country': u'Latvia', u'total_medals': 0}, {u'country': u'Latvia', u'total_medals': 0}, {u'country': u'United States', u'total_medals': 0}, {u'country': u'United States', u'total_medals': 1}, {u'country': u'Kazakhstan', u'total_medals': 0}, {u'country': u'Russian Fed.', u'total_medals': 0}, {u'country': u'Australia', u'total_medals': 0}, {u'country': u'Norway', u'total_medals': 0}, {u'country': u'Canada', u'total_medals': 0}, {u'country': u'Canada', u'total_medals': 0}, {u'country': u'France', u'total_medals': 0}, {u'country': u'France', u'total_medals': 0}, {u'country': u'Sweden', u'total_medals': 0}, {u'country': u'Germany', u'total_medals': 0}, {u'country': u'Japan', u'total_medals': 0}, {u'country': u'Japan', u'total_medals': 0}, {u'country': u'Japan', u'total_medals': 0}, {u'country': u'Japan', u'total_medals': 0}, {u'country': u'Japan', u'total_medals': 0}, {u'country': u'Japan', u'total_medals': 1}, {u'country': u'Japan', u'total_medals': 0}, {u'country': u'Japan', u'total_medals': 0}, {u'country': u'Kazakhstan', u'total_medals': 0}, {u'country': u'France', u'total_medals': 0}, {u'country': u'Slovenia', u'total_medals': 0}, {u'country': u'Slovakia', u'total_medals': 0}, {u'country': u'Germany', u'total_medals': 0}, {u'country': u'Slovakia', u'total_medals': 0}, {u'country': u'Belgium', u'total_medals': 0}, {u'country': u'Switzerland', u'total_medals': 0}, {u'country': u'Switzerland', u'total_medals': 1}, {u'country': u'New Zealand', u'total_medals': 0}, {u'country': u'China', u'total_medals': 0}, {u'country': u'Netherlands', u'total_medals': 0}, {u'country': u'Australia', u'total_medals': 0}, {u'country': u'Canada', u'total_medals': 0}, {u'country': u'Great Britain', u'total_medals': 0}, {u'country': u'New Zealand', u'total_medals': 0}, {u'country': u'Great Britain', u'total_medals': 0}, {u'country': u'Hungary', u'total_medals': 0}, {u'country': u'Germany', u'total_medals': 0}, {u'country': u'France', u'total_medals': 0}, {u'country': u'Austria', u'total_medals': 0}, {u'country': u'France', u'total_medals': 0}, {u'country': u'Austria', u'total_medals': 0}, {u'country': u'Austria', u'total_medals': 0}, {u'country': u'Canada', u'total_medals': 0}, {u'country': u'Switzerland', u'total_medals': 0}, {u'country': u'Switzerland', u'total_medals': 0}, {u'country': u'France', u'total_medals': 0}, {u'country': u'Germany', u'total_medals': 0}, {u'country': u'Hungary', u'total_medals': 0}, {u'country': u'Austria', u'total_medals': 0}, {u'country': u'Austria', u'total_medals': 0}, {u'country': u'Austria', u'total_medals': 0}, {u'country': u'Austria', u'total_medals': 0}, {u'country': u'Germany', u'total_medals': 0}, {u'country': u'Switzerland', u'total_medals': 0}, {u'country': u'Japan', u'total_medals': 0}, {u'country': u'Switzerland', u'total_medals': 0}, {u'country': u'United States', u'total_medals': 0}, {u'country': u'Great Britain', u'total_medals': 0}, {u'country': u'China', u'total_medals': 0}, {u'country': u'Austria', u'total_medals': 0}, {u'country': u'Sweden', u'total_medals': 0}, {u'country': u'Germany', u'total_medals': 0}, {u'country': u'United States', u'total_medals': 0}, {u'country': u'Slovenia', u'total_medals': 0}, {u'country': u'Korea', u'total_medals': 0}, {u'country': u'Korea', u'total_medals': 0}, {u'country': u'Netherlands', u'total_medals': 1}, {u'country': u'United States', u'total_medals': 0}, {u'country': u'United States', u'total_medals': 1}, {u'country': u'Rep. of Moldova', u'total_medals': 0}, {u'country': u'Romania', u'total_medals': 0}, {u'country': u'Ukraine', u'total_medals': 0}, {u'country': u'Korea', u'total_medals': 0}, {u'country': u'Slovenia', u'total_medals': 0}, {u'country': u'Canada', u'total_medals': 0}, {u'country': u'Canada', u'total_medals': 0}, {u'country': u'Canada', u'total_medals': 0}, {u'country': u'United States', u'total_medals': 0}, {u'country': u'Canada', u'total_medals': 0}, {u'country': u'Slovakia', u'total_medals': 0}, {u'country': u'Canada', u'total_medals': 0}, {u'country': u'Australia', u'total_medals': 0}, {u'country': u'United States', u'total_medals': 0}, {u'country': u'United States', u'total_medals': 0}, {u'country': u'France', u'total_medals': 0}, {u'country': u'Austria', u'total_medals': 0}, {u'country': u'United States', u'total_medals': 0}, {u'country': u'Canada', u'total_medals': 0}, {u'country': u'United States', u'total_medals': 0}, {u'country': u'Canada', u'total_medals': 0}, {u'country': u'France', u'total_medals': 0}, {u'country': u'United States', u'total_medals': 0}, {u'country': u'Sweden', u'total_medals': 0}, {u'country': u'United States', u'total_medals': 0}, {u'country': u'Canada', u'total_medals': 0}, {u'country': u'Canada', u'total_medals': 0}, {u'country': u'Canada', u'total_medals': 0}, {u'country': u'Australia', u'total_medals': 0}, {u'country': u'Australia', u'total_medals': 0}, {u'country': u'Australia', u'total_medals': 0}, {u'country': u'United States', u'total_medals': 0}, {u'country': u'Netherlands', u'total_medals': 0}, {u'country': u'Great Britain', u'total_medals': 0}, {u'country': u'Tonga', u'total_medals': 0}, {u'country': u'Canada', u'total_medals': 0}, {u'country': u'United States', u'total_medals': 0}, {u'country': u'Iceland', u'total_medals': 0}, {u'country': u'Mongolia', u'total_medals': 0}, {u'country': u'New Zealand', u'total_medals': 0}, {u'country': u'Canada', u'total_medals': 0}, {u'country': u'Sweden', u'total_medals': 0}, {u'country': u'Great Britain', u'total_medals': 0}, {u'country': u'Australia', u'total_medals': 0}, {u'country': u'United States', u'total_medals': 0}, {u'country': u'Australia', u'total_medals': 0}, {u'country': u'Norway', u'total_medals': 0}, {u'country': u'Portugal', u'total_medals': 0}, {u'country': u'Switzerland', u'total_medals': 0}, {u'country': u'Canada', u'total_medals': 0}, {u'country': u'Netherlands', u'total_medals': 0}, {u'country': u'Germany', u'total_medals': 1}, {u'country': u'Sweden', u'total_medals': 0}, {u'country': u'Sweden', u'total_medals': 0}, {u'country': u'Switzerland', u'total_medals': 0}, {u'country': u'Switzerland', u'total_medals': 0}, {u'country': u'Switzerland', u'total_medals': 0}, {u'country': u'Italy', u'total_medals': 0}, {u'country': u'Spain', u'total_medals': 0}, {u'country': u'Canada', u'total_medals': 0}, {u'country': u'Canada', u'total_medals': 0}, {u'country': u'Switzerland', u'total_medals': 0}, {u'country': u'Canada', u'total_medals': 0}, {u'country': u'Germany', u'total_medals': 0}, {u'country': u'Japan', u'total_medals': 0}, {u'country': u'Italy', u'total_medals': 0}, {u'country': u'Sweden', u'total_medals': 0}, {u'country': u'France', u'total_medals': 0}, {u'country': u'Norway', u'total_medals': 0}, {u'country': u'Korea', u'total_medals': 0}, {u'country': u'Canada', u'total_medals': 0}, {u'country': u'China', u'total_medals': 0}, {u'country': u'China', u'total_medals': 0}, {u'country': u'Canada', u'total_medals': 0}, {u'country': u'Italy', u'total_medals': 0}, {u'country': u'United States', u'total_medals': 0}, {u'country': u'Canada', u'total_medals': 1}, {u'country': u'Canada', u'total_medals': 0}, {u'country': u'United States', u'total_medals': 2}, {u'country': u'Canada', u'total_medals': 0}, {u'country': u'France', u'total_medals': 0}, {u'country': u'Great Britain', u'total_medals': 0}, {u'country': u'Sweden', u'total_medals': 3}, {u'country': u'Canada', u'total_medals': 0}, {u'country': u'Great Britain', u'total_medals': 0}, {u'country': u'China', u'total_medals': 0}, {u'country': u'Korea', u'total_medals': 0}, {u'country': u'Netherlands', u'total_medals': 0}, {u'country': u'Italy', u'total_medals': 0}, {u'country': u'Austria', u'total_medals': 0}, {u'country': u'Japan', u'total_medals': 0}, {u'country': u'Japan', u'total_medals': 0}, {u'country': u'Korea', u'total_medals': 0}, {u'country': u'Japan', u'total_medals': 0}, {u'country': u'Chinese Taipei', u'total_medals': 0}, {u'country': u'Canada', u'total_medals': 1}, {u'country': u'France', u'total_medals': 1}, {u'country': u'Norway', u'total_medals': 0}, {u'country': u'Canada', u'total_medals': 0}, {u'country': u'Japan', u'total_medals': 0}, {u'country': u'Canada', u'total_medals': 0}, {u'country': u'Netherlands', u'total_medals': 0}, {u'country': u'Italy', u'total_medals': 0}, {u'country': u'Switzerland', u'total_medals': 0}, {u'country': u'Norway', u'total_medals': 0}, {u'country': u'United States', u'total_medals': 0}, {u'country': u'Italy', u'total_medals': 0}, {u'country': u'Germany', u'total_medals': 0}, {u'country': u'Germany', u'total_medals': 0}, {u'country': u'Sweden', u'total_medals': 0}, {u'country': u'Germany', u'total_medals': 0}, {u'country': u'Austria', u'total_medals': 0}, {u'country': u'Austria', u'total_medals': 0}, {u'country': u'Canada', u'total_medals': 0}, {u'country': u'Italy', u'total_medals': 2}, {u'country': u'Sweden', u'total_medals': 0}, {u'country': u'Denmark', u'total_medals': 0}, {u'country': u'Norway', u'total_medals': 0}, {u'country': u'Austria', u'total_medals': 0}, {u'country': u'Italy', u'total_medals': 0}, {u'country': u'Germany', u'total_medals': 0}, {u'country': u'Austria', u'total_medals': 0}, {u'country': u'Austria', u'total_medals': 0}, {u'country': u'Germany', u'total_medals': 0}, {u'country': u'United States', u'total_medals': 0}, {u'country': u'Canada', u'total_medals': 0}, {u'country': u'United States', u'total_medals': 0}, {u'country': u'Switzerland', u'total_medals': 0}, {u'country': u'United States', u'total_medals': 0}, {u'country': u'Canada', u'total_medals': 0}, {u'country': u'New Zealand', u'total_medals': 0}, {u'country': u'Great Britain', u'total_medals': 0}, {u'country': u'Germany', u'total_medals': 1}, {u'country': u'Germany', u'total_medals': 0}, {u'country': u'Austria', u'total_medals': 0}, {u'country': u'Switzerland', u'total_medals': 0}, {u'country': u'Switzerland', u'total_medals': 0}, {u'country': u'France', u'total_medals': 0}, {u'country': u'Austria', u'total_medals': 0}, {u'country': u'Canada', u'total_medals': 0}, {u'country': u'France', u'total_medals': 1}, {u'country': u'Ireland', u'total_medals': 0}, {u'country': u'Cyprus', u'total_medals': 0}, {u'country': u'France', u'total_medals': 0}, {u'country': u'Canada', u'total_medals': 0}, {u'country': u'Italy', u'total_medals': 0}, {u'country': u'Romania', u'total_medals': 0}, {u'country': u'Austria', u'total_medals': 0}, {u'country': u'United States', u'total_medals': 0}, {u'country': u'United States', u'total_medals': 0}, {u'country': u'Great Britain', u'total_medals': 0}, {u'country': u'Canada', u'total_medals': 0}, {u'country': u'Argentina', u'total_medals': 0}, {u'country': u'Switzerland', u'total_medals': 0}, {u'country': u'United States', u'total_medals': 0}, {u'country': u'France', u'total_medals': 0}, {u'country': u'France', u'total_medals': 0}, {u'country': u'France', u'total_medals': 0}, {u'country': u'Netherlands', u'total_medals': 0}, {u'country': u'Nepal', u'total_medals': 0}, {u'country': u'Japan', u'total_medals': 0}, {u'country': u'Japan', u'total_medals': 1}, {u'country': u'Japan', u'total_medals': 0}, {u'country': u'China', u'total_medals': 0}, {u'country': u'Australia', u'total_medals': 0}, {u'country': u'Croatia', u'total_medals': 0}, {u'country': u'United States', u'total_medals': 0}, {u'country': u'Switzerland', u'total_medals': 0}, {u'country': u'Canada', u'total_medals': 0}, {u'country': u'China', u'total_medals': 0}, {u'country': u'China', u'total_medals': 0}, {u'country': u'Sweden', u'total_medals': 0}, {u'country': u'Germany', u'total_medals': 0}, {u'country': u'Germany', u'total_medals': 0}, {u'country': u'Australia', u'total_medals': 0}, {u'country': u'Austria', u'total_medals': 0}, {u'country': u'Austria', u'total_medals': 0}, {u'country': u'Austria', u'total_medals': 0}, {u'country': u'Sweden', u'total_medals': 2}, {u'country': u'Sweden', u'total_medals': 0}, {u'country': u'Norway', u'total_medals': 0}, {u'country': u'Italy', u'total_medals': 0}, {u'country': u'Austria', u'total_medals': 0}, {u'country': u'Germany', u'total_medals': 0}, {u'country': u'Switzerland', u'total_medals': 0}, {u'country': u'Poland', u'total_medals': 0}, {u'country': u'Norway', u'total_medals': 0}, {u'country': u'Austria', u'total_medals': 1}, {u'country': u'Slovakia', u'total_medals': 0}, {u'country': u'Italy', u'total_medals': 0}, {u'country': u'Australia', u'total_medals': 0}, {u'country': u'Australia', u'total_medals': 0}, {u'country': u'Canada', u'total_medals': 0}, {u'country': u'Estonia', u'total_medals': 0}, {u'country': u'United States', u'total_medals': 0}, {u'country': u'Romania', u'total_medals': 0}, {u'country': u'Canada', u'total_medals': 1}, {u'country': u'Canada', u'total_medals': 0}, {u'country': u'Estonia', u'total_medals': 0}, {u'country': u'Switzerland', u'total_medals': 2}, {u'country': u'The Former Yugoslav Republic of Macedonia', u'total_medals': 0}, {u'country': u'Belarus', u'total_medals': 3}, {u'country': u'Kazakhstan', u'total_medals': 0}, {u'country': u'Kazakhstan', u'total_medals': 0}, {u'country': u'Latvia', u'total_medals': 0}, {u'country': u'Sweden', u'total_medals': 0}, {u'country': u'United States', u'total_medals': 0}, {u'country': u'Czech Republic', u'total_medals': 0}, {u'country': u'Canada', u'total_medals': 0}, {u'country': u'Italy', u'total_medals': 0}, {u'country': u'United States', u'total_medals': 0}, {u'country': u'Great Britain', u'total_medals': 0}, {u'country': u'Canada', u'total_medals': 0}, {u'country': u'Switzerland', u'total_medals': 0}, {u'country': u'Italy', u'total_medals': 0}, {u'country': u'Great Britain', u'total_medals': 0}, {u'country': u'Czech Republic', u'total_medals': 0}, {u'country': u'Germany', u'total_medals': 0}, {u'country': u'Australia', u'total_medals': 1}, {u'country': u'Great Britain', u'total_medals': 0}, {u'country': u'France', u'total_medals': 0}, {u'country': u'Slovenia', u'total_medals': 0}, {u'country': u'Great Britain', u'total_medals': 0}, {u'country': u'United States', u'total_medals': 0}, {u'country': u'Italy', u'total_medals': 0}, {u'country': u'Italy', u'total_medals': 0}, {u'country': u'Italy', u'total_medals': 0}, {u'country': u'Australia', u'total_medals': 0}, {u'country': u'Poland', u'total_medals': 0}, {u'country': u'Poland', u'total_medals': 0}, {u'country': u'Canada', u'total_medals': 0}, {u'country': u'Korea', u'total_medals': 0}, {u'country': u'Australia', u'total_medals': 0}, {u'country': u'Italy', u'total_medals': 0}, {u'country': u'France', u'total_medals': 0}, {u'country': u'United States', u'total_medals': 0}, {u'country': u'Italy', u'total_medals': 0}, {u'country': u'Lithuania', u'total_medals': 0}, {u'country': u'China', u'total_medals': 0}, {u'country': u'Switzerland', u'total_medals': 0}, {u'country': u'Russian Fed.', u'total_medals': 0}, {u'country': u'Russian Fed.', u'total_medals': 0}, {u'country': u'Kazakhstan', u'total_medals': 0}, {u'country': u'Kazakhstan', u'total_medals': 0}, {u'country': u'Belarus', u'total_medals': 0}, {u'country': u'Kazakhstan', u'total_medals': 1}, {u'country': u'Kazakhstan', u'total_medals': 0}, {u'country': u'Russian Fed.', u'total_medals': 0}, {u'country': u'Switzerland', u'total_medals': 0}, {u'country': u'Germany', u'total_medals': 1}, {u'country': u'Italy', u'total_medals': 0}, {u'country': u'Germany', u'total_medals': 0}, {u'country': u'Canada', u'total_medals': 2}, {u'country': u'China', u'total_medals': 0}, {u'country': u'Canada', u'total_medals': 0}, {u'country': u'United States', u'total_medals': 0}, {u'country': u'Bulgaria', u'total_medals': 0}, {u'country': u'United States', u'total_medals': 1}, {u'country': u'Canada', u'total_medals': 0}, {u'country': u'China', u'total_medals': 0}, {u'country': u'Lithuania', u'total_medals': 0}, {u'country': u'Kazakhstan', u'total_medals': 0}, {u'country': u'Switzerland', u'total_medals': 0}, {u'country': u'Norway', u'total_medals': 0}, {u'country': u'Norway', u'total_medals': 0}, {u'country': u'Italy', u'total_medals': 0}, {u'country': u'Netherlands', u'total_medals': 0}, {u'country': u'Russian Fed.', u'total_medals': 0}, {u'country': u'Belarus', u'total_medals': 0}, {u'country': u'Ukraine', u'total_medals': 0}, {u'country': u'Russian Fed.', u'total_medals': 1}, {u'country': u'Kazakhstan', u'total_medals': 0}, {u'country': u'Kazakhstan', u'total_medals': 0}, {u'country': u'Russian Fed.', u'total_medals': 1}, {u'country': u'Kazakhstan', u'total_medals': 0}, {u'country': u'Russian Fed.', u'total_medals': 0}, {u'country': u'Kazakhstan', u'total_medals': 0}, {u'country': u'Russian Fed.', u'total_medals': 0}, {u'country': u'Russian Fed.', u'total_medals': 0}, {u'country': u'Russian Fed.', u'total_medals': 0}, {u'country': u'Ukraine', u'total_medals': 0}, {u'country': u'Ukraine', u'total_medals': 0}, {u'country': u'Netherlands', u'total_medals': 0}, {u'country': u'Australia', u'total_medals': 0}, {u'country': u'Great Britain', u'total_medals': 0}, {u'country': u'Great Britain', u'total_medals': 0}, {u'country': u'Czech Republic', u'total_medals': 0}, {u'country': u'Italy', u'total_medals': 0}, {u'country': u'Austria', u'total_medals': 1}, {u'country': u'Italy', u'total_medals': 0}, {u'country': u'Czech Republic', u'total_medals': 0}, {u'country': u'Italy', u'total_medals': 0}, {u'country': u'Switzerland', u'total_medals': 1}, {u'country': u'Canada', u'total_medals': 1}, {u'country': u'Chile', u'total_medals': 0}, {u'country': u'Korea', u'total_medals': 0}, {u'country': u'Korea', u'total_medals': 0}, {u'country': u'Korea', u'total_medals': 0}, {u'country': u'Romania', u'total_medals': 0}, {u'country': u'Italy', u'total_medals': 0}, {u'country': u'Cayman Islands', u'total_medals': 0}, {u'country': u'Canada', u'total_medals': 0}, {u'country': u'Australia', u'total_medals': 0}, {u'country': u'Canada', u'total_medals': 0}, {u'country': u'Czech Republic', u'total_medals': 0}, {u'country': u'United States', u'total_medals': 0}, {u'country': u'Canada', u'total_medals': 0}, {u'country': u'Canada', u'total_medals': 1}, {u'country': u'Canada', u'total_medals': 0}, {u'country': u'Latvia', u'total_medals': 0}, {u'country': u'Croatia', u'total_medals': 0}, {u'country': u'Hungary', u'total_medals': 0}, {u'country': u'Brazil', u'total_medals': 0}, {u'country': u'Brazil', u'total_medals': 0}, {u'country': u'United States', u'total_medals': 0}, {u'country': u'Netherlands', u'total_medals': 0}, {u'country': u'Finland', u'total_medals': 0}, {u'country': u'Russian Fed.', u'total_medals': 0}, {u'country': u'Iceland', u'total_medals': 0}, {u'country': u'Norway', u'total_medals': 0}, {u'country': u'Russian Fed.', u'total_medals': 0}, {u'country': u'Russian Fed.', u'total_medals': 0}, {u'country': u'Russian Fed.', u'total_medals': 1}, {u'country': u'Russian Fed.', u'total_medals': 0}, {u'country': u'Russian Fed.', u'total_medals': 0}, {u'country': u'Russian Fed.', u'total_medals': 0}, {u'country': u'Russian Fed.', u'total_medals': 0}, {u'country': u'Russian Fed.', u'total_medals': 0}, {u'country': u'Russian Fed.', u'total_medals': 0}, {u'country': u'United States', u'total_medals': 0}, {u'country': u'Norway', u'total_medals': 0}, {u'country': u'Italy', u'total_medals': 0}, {u'country': u'Estonia', u'total_medals': 0}, {u'country': u'Russian Fed.', u'total_medals': 2}, {u'country': u'Kazakhstan', u'total_medals': 0}, {u'country': u'Switzerland', u'total_medals': 0}, {u'country': u'Russian Fed.', u'total_medals': 0}, {u'country': u'Russian Fed.', u'total_medals': 1}, {u'country': u'Italy', u'total_medals': 0}, {u'country': u'Italy', u'total_medals': 1}, {u'country': u'Russian Fed.', u'total_medals': 0}, {u'country': u'Georgia', u'total_medals': 0}, {u'country': u'Belgium', u'total_medals': 0}, {u'country': u'Switzerland', u'total_medals': 0}, {u'country': u'Switzerland', u'total_medals': 0}, {u'country': u'Sweden', u'total_medals': 0}, {u'country': u'Italy', u'total_medals': 0}, {u'country': u'Switzerland', u'total_medals': 0}, {u'country': u'Austria', u'total_medals': 0}, {u'country': u'Sweden', u'total_medals': 0}, {u'country': u'Great Britain', u'total_medals': 0}, {u'country': u'Malta', u'total_medals': 0}, {u'country': u'Norway', u'total_medals': 0}, {u'country': u'United States', u'total_medals': 0}, {u'country': u'Latvia', u'total_medals': 1}, {u'country': u'United States', u'total_medals': 0}, {u'country': u'Great Britain', u'total_medals': 1}, {u'country': u'Czech Republic', u'total_medals': 0}, {u'country': u'Russian Fed.', u'total_medals': 0}, {u'country': u'Finland', u'total_medals': 0}, {u'country': u'Canada', u'total_medals': 0}, {u'country': u'France', u'total_medals': 0}, {u'country': u'Italy', u'total_medals': 0}, {u'country': u'Italy', u'total_medals': 0}, {u'country': u'Sweden', u'total_medals': 0}, {u'country': u'United States', u'total_medals': 0}, {u'country': u'Norway', u'total_medals': 0}, {u'country': u'Norway', u'total_medals': 1}, {u'country': u'Sweden', u'total_medals': 1}, {u'country': u'Czech Republic', u'total_medals': 0}, {u'country': u'Sweden', u'total_medals': 0}, {u'country': u'Australia', u'total_medals': 0}, {u'country': u'United States', u'total_medals': 0}, {u'country': u'Canada', u'total_medals': 0}, {u'country': u'United States', u'total_medals': 0}, {u'country': u'Sweden', u'total_medals': 0}, {u'country': u'Sweden', u'total_medals': 0}, {u'country': u'Great Britain', u'total_medals': 0}, {u'country': u'Sweden', u'total_medals': 0}, {u'country': u'Finland', u'total_medals': 0}, {u'country': u'Finland', u'total_medals': 0}, {u'country': u'Sweden', u'total_medals': 1}, {u'country': u'Hungary', u'total_medals': 0}, {u'country': u'Turkey', u'total_medals': 0}, {u'country': u'Finland', u'total_medals': 1}, {u'country': u'Italy', u'total_medals': 0}, {u'country': u'Germany', u'total_medals': 1}, {u'country': u'Canada', u'total_medals': 0}, {u'country': u'Canada', u'total_medals': 1}, {u'country': u'Sweden', u'total_medals': 0}, {u'country': u'United States', u'total_medals': 0}, {u'country': u'United States', u'total_medals': 0}, {u'country': u'Canada', u'total_medals': 0}, {u'country': u'Sweden', u'total_medals': 0}, {u'country': u'Germany', u'total_medals': 1}, {u'country': u'United States', u'total_medals': 0}, {u'country': u'Sweden', u'total_medals': 0}, {u'country': u'United States', u'total_medals': 1}, {u'country': u'Canada', u'total_medals': 0}, {u'country': u'Albania', u'total_medals': 0}, {u'country': u'Iceland', u'total_medals': 0}, {u'country': u'Russian Fed.', u'total_medals': 0}, {u'country': u'Latvia', u'total_medals': 0}, {u'country': u'Netherlands', u'total_medals': 0}, {u'country': u'Norway', u'total_medals': 0}, {u'country': u'Czech Republic', u'total_medals': 0}, {u'country': u'Australia', u'total_medals': 0}, {u'country': u'Chile', u'total_medals': 0}, {u'country': u'Korea', u'total_medals': 0}, {u'country': u'Slovenia', u'total_medals': 0}, {u'country': u'Czech Republic', u'total_medals': 0}, {u'country': u'Czech Republic', u'total_medals': 1}, {u'country': u'Romania', u'total_medals': 0}, {u'country': u'Czech Republic', u'total_medals': 0}, {u'country': u'United States', u'total_medals': 0}, {u'country': u'Great Britain', u'total_medals': 0}, {u'country': u'Finland', u'total_medals': 0}, {u'country': u'Switzerland', u'total_medals': 0}, {u'country': u'Switzerland', u'total_medals': 0}, {u'country': u'Italy', u'total_medals': 0}, {u'country': u'Israel', u'total_medals': 0}, {u'country': u'Russian Fed.', u'total_medals': 0}, {u'country': u'Russian Fed.', u'total_medals': 0}, {u'country': u'Russian Fed.', u'total_medals': 1}, {u'country': u'Russian Fed.', u'total_medals': 0}, {u'country': u'Kyrgyzstan', u'total_medals': 0}, {u'country': u'Belarus', u'total_medals': 0}, {u'country': u'Russian Fed.', u'total_medals': 0}, {u'country': u'Russian Fed.', u'total_medals': 1}, {u'country': u'Russian Fed.', u'total_medals': 0}, {u'country': u'Germany', u'total_medals': 0}, {u'country': u'Poland', u'total_medals': 0}, {u'country': u'France', u'total_medals': 0}, {u'country': u'Switzerland', u'total_medals': 0}, {u'country': u'France', u'total_medals': 0}, {u'country': u'Germany', u'total_medals': 1}, {u'country': u'Brazil', u'total_medals': 0}, {u'country': u'Switzerland', u'total_medals': 0}, {u'country': u'Switzerland', u'total_medals': 0}, {u'country': u'Italy', u'total_medals': 0}, {u'country': u'Sweden', u'total_medals': 0}, {u'country': u'Switzerland', u'total_medals': 0}, {u'country': u'Norway', u'total_medals': 0}, {u'country': u'IR Iran', u'total_medals': 0}, {u'country': u'United States', u'total_medals': 0}, {u'country': u'Italy', u'total_medals': 0}, {u'country': u'San Marino', u'total_medals': 0}, {u'country': u'Argentina', u'total_medals': 0}, {u'country': u'Italy', u'total_medals': 0}, {u'country': u'Russian Fed.', u'total_medals': 2}, {u'country': u'United States', u'total_medals': 0}, {u'country': u'Germany', u'total_medals': 2}, {u'country': u'Germany', u'total_medals': 0}, {u'country': u'Germany', u'total_medals': 0}, {u'country': u'Spain', u'total_medals': 0}, {u'country': u'Slovenia', u'total_medals': 0}, {u'country': u'Czech Republic', u'total_medals': 0}, {u'country': u'Croatia', u'total_medals': 0}, {u'country': u'Norway', u'total_medals': 0}, {u'country': u'Ireland', u'total_medals': 0}, {u'country': u'Switzerland', u'total_medals': 0}, {u'country': u'France', u'total_medals': 0}, {u'country': u'France', u'total_medals': 0}, {u'country': u'Germany', u'total_medals': 0}, {u'country': u'Austria', u'total_medals': 0}, {u'country': u'Romania', u'total_medals': 0}, {u'country': u'Romania', u'total_medals': 0}, {u'country': u'IR Iran', u'total_medals': 0}, {u'country': u'Switzerland', u'total_medals': 0}, {u'country': u'Italy', u'total_medals': 0}, {u'country': u'Italy', u'total_medals': 0}, {u'country': u'Italy', u'total_medals': 0}, {u'country': u'Italy', u'total_medals': 0}, {u'country': u'Germany', u'total_medals': 0}, {u'country': u'France', u'total_medals': 0}, {u'country': u'Canada', u'total_medals': 0}, {u'country': u'Germany', u'total_medals': 0}, {u'country': u'Germany', u'total_medals': 0}, {u'country': u'Germany', u'total_medals': 0}, {u'country': u'Germany', u'total_medals': 0}, {u'country': u'Germany', u'total_medals': 0}, {u'country': u'Germany', u'total_medals': 0}, {u'country': u'Sweden', u'total_medals': 0}, {u'country': u'Sweden', u'total_medals': 0}, {u'country': u'Norway', u'total_medals': 0}, {u'country': u'Netherlands', u'total_medals': 0}, {u'country': u'Sweden', u'total_medals': 0}, {u'country': u'Austria', u'total_medals': 0}, {u'country': u'Germany', u'total_medals': 0}, {u'country': u'Japan', u'total_medals': 0}, {u'country': u'Kazakhstan', u'total_medals': 0}, {u'country': u'Russian Fed.', u'total_medals': 0}, {u'country': u'Sweden', u'total_medals': 0}, {u'country': u'Czech Republic', u'total_medals': 1}, {u'country': u'Germany', u'total_medals': 0}, {u'country': u'Canada', u'total_medals': 0}, {u'country': u'Azerbaijan', u'total_medals': 0}, {u'country': u'Italy', u'total_medals': 0}, {u'country': u'Russian Fed.', u'total_medals': 0}, {u'country': u'Kazakhstan', u'total_medals': 0}, {u'country': u'Australia', u'total_medals': 0}, {u'country': u'Dominica', u'total_medals': 0}, {u'country': u'Slovenia', u'total_medals': 0}, {u'country': u'Canada', u'total_medals': 0}, {u'country': u'Austria', u'total_medals': 0}, {u'country': u'Rep. of Moldova', u'total_medals': 0}, {u'country': u'Austria', u'total_medals': 0}, {u'country': u'Bulgaria', u'total_medals': 0}, {u'country': u'Canada', u'total_medals': 0}, {u'country': u'Latvia', u'total_medals': 0}, {u'country': u'Austria', u'total_medals': 0}, {u'country': u'Italy', u'total_medals': 0}, {u'country': u'Germany', u'total_medals': 0}, {u'country': u'Switzerland', u'total_medals': 0}, {u'country': u'United States', u'total_medals': 0}, {u'country': u'Canada', u'total_medals': 0}, {u'country': u'Canada', u'total_medals': 0}, {u'country': u'Switzerland', u'total_medals': 0}, {u'country': u'Italy', u'total_medals': 0}, {u'country': u'Italy', u'total_medals': 0}, {u'country': u'Italy', u'total_medals': 0}, {u'country': u'Norway', u'total_medals': 0}, {u'country': u'Slovenia', u'total_medals': 0}, {u'country': u'United States', u'total_medals': 1}, {u'country': u'Canada', u'total_medals': 0}, {u'country': u'Great Britain', u'total_medals': 0}, {u'country': u'Germany', u'total_medals': 0}, {u'country': u'Switzerland', u'total_medals': 0}, {u'country': u'Austria', u'total_medals': 1}, {u'country': u'United States', u'total_medals': 0}, {u'country': u'Switzerland', u'total_medals': 0}, {u'country': u'Australia', u'total_medals': 0}, {u'country': u'Italy', u'total_medals': 0}, {u'country': u'Australia', u'total_medals': 0}, {u'country': u'Estonia', u'total_medals': 0}, {u'country': u'Poland', u'total_medals': 0}, {u'country': u'China', u'total_medals': 0}, {u'country': u'France', u'total_medals': 0}, {u'country': u'China', u'total_medals': 0}, {u'country': u'United States', u'total_medals': 1}, {u'country': u'Sweden', u'total_medals': 0}, {u'country': u'Norway', u'total_medals': 0}, {u'country': u'Korea', u'total_medals': 1}, {u'country': u'Norway', u'total_medals': 0}, {u'country': u'Norway', u'total_medals': 0}, {u'country': u'Korea', u'total_medals': 0}, {u'country': u'Canada', u'total_medals': 0}, {u'country': u'Estonia', u'total_medals': 0}, {u'country': u'China', u'total_medals': 0}, {u'country': u'Japan', u'total_medals': 0}, {u'country': u'Korea', u'total_medals': 0}, {u'country': u'Belgium', u'total_medals': 0}, {u'country': u'Sweden', u'total_medals': 0}, {u'country': u'Sweden', u'total_medals': 0}, {u'country': u'Belarus', u'total_medals': 0}, {u'country': u'Germany', u'total_medals': 0}, {u'country': u'United States', u'total_medals': 0}, {u'country': u'United States', u'total_medals': 1}, {u'country': u'United States', u'total_medals': 0}, {u'country': u'Australia', u'total_medals': 0}, {u'country': u'Germany', u'total_medals': 0}, {u'country': u'Austria', u'total_medals': 0}, {u'country': u'Korea', u'total_medals': 0}, {u'country': u'China', u'total_medals': 0}, {u'country': u'Austria', u'total_medals': 0}, {u'country': u'Latvia', u'total_medals': 0}, {u'country': u'Japan', u'total_medals': 0}, {u'country': u'Norway', u'total_medals': 0}, {u'country': u'Norway', u'total_medals': 0}, {u'country': u'Canada', u'total_medals': 0}, {u'country': u'Australia', u'total_medals': 0}, {u'country': u'United States', u'total_medals': 0}, {u'country': u'Canada', u'total_medals': 0}, {u'country': u'United States', u'total_medals': 0}, {u'country': u'Norway', u'total_medals': 0}, {u'country': u'Korea', u'total_medals': 0}, {u'country': u'Norway', u'total_medals': 0}, {u'country': u'United States', u'total_medals': 0}, {u'country': u'Norway', u'total_medals': 1}, {u'country': u'Canada', u'total_medals': 0}, {u'country': u'Germany', u'total_medals': 0}, {u'country': u'Norway', u'total_medals': 0}, {u'country': u'Norway', u'total_medals': 0}, {u'country': u'Iceland', u'total_medals': 0}, {u'country': u'Denmark', u'total_medals': 0}, {u'country': u'Latvia', u'total_medals': 0}, {u'country': u'Sweden', u'total_medals': 0}, {u'country': u'Norway', u'total_medals': 0}, {u'country': u'Sweden', u'total_medals': 0}, {u'country': u'Norway', u'total_medals': 0}, {u'country': u'Norway', u'total_medals': 0}, {u'country': u'Sweden', u'total_medals': 0}, {u'country': u'Chile', u'total_medals': 0}, {u'country': u'Sweden', u'total_medals': 0}, {u'country': u'Latvia', u'total_medals': 0}, {u'country': u'Korea', u'total_medals': 0}, {u'country': u'Japan', u'total_medals': 0}, {u'country': u'Japan', u'total_medals': 0}, {u'country': u'Japan', u'total_medals': 0}, {u'country': u'United States', u'total_medals': 0}, {u'country': u'Norway', u'total_medals': 0}, {u'country': u'Independent Olymp. participant', u'total_medals': 0}, {u'country': u'Japan', u'total_medals': 0}, {u'country': u'Japan', u'total_medals': 0}, {u'country': u'Japan', u'total_medals': 0}, {u'country': u'Japan', u'total_medals': 0}, {u'country': u'Korea', u'total_medals': 0}, {u'country': u'Korea', u'total_medals': 0}, {u'country': u'United States', u'total_medals': 0}, {u'country': u'Australia', u'total_medals': 0}, {u'country': u'China', u'total_medals': 1}, {u'country': u'China', u'total_medals': 0}, {u'country': u'IR Iran', u'total_medals': 0}, {u'country': u'Mexico', u'total_medals': 0}, {u'country': u'France', u'total_medals': 0}, {u'country': u'Korea', u'total_medals': 0}, {u'country': u'Korea', u'total_medals': 0}, {u'country': u'Korea', u'total_medals': 0}, {u'country': u'Georgia', u'total_medals': 0}, {u'country': u'Sweden', u'total_medals': 1}, {u'country': u'Norway', u'total_medals': 0}, {u'country': u'United States', u'total_medals': 0}, {u'country': u'Lithuania', u'total_medals': 0}, {u'country': u'Russian Fed.', u'total_medals': 0}, {u'country': u'Bosnia and Herzegovina', u'total_medals': 0}, {u'country': u'Kazakhstan', u'total_medals': 0}, {u'country': u'Finland', u'total_medals': 0}, {u'country': u'Italy', u'total_medals': 0}, {u'country': u'Russian Fed.', u'total_medals': 0}, {u'country': u'Slovenia', u'total_medals': 0}, {u'country': u'Finland', u'total_medals': 0}, {u'country': u'Finland', u'total_medals': 0}, {u'country': u'Russian Fed.', u'total_medals': 0}, {u'country': u'Russian Fed.', u'total_medals': 0}, {u'country': u'Russian Fed.', u'total_medals': 0}, {u'country': u'Russian Fed.', u'total_medals': 0}, {u'country': u'Russian Fed.', u'total_medals': 0}, {u'country': u'Spain', u'total_medals': 0}, {u'country': u'Korea', u'total_medals': 0}, {u'country': u'Austria', u'total_medals': 0}, {u'country': u'Latvia', u'total_medals': 0}, {u'country': u'Estonia', u'total_medals': 0}, {u'country': u'Latvia', u'total_medals': 0}, {u'country': u'Lithuania', u'total_medals': 0}, {u'country': u'Norway', u'total_medals': 1}, {u'country': u'Russian Fed.', u'total_medals': 0}, {u'country': u'Kazakhstan', u'total_medals': 0}, {u'country': u'Romania', u'total_medals': 0}, {u'country': u'Switzerland', u'total_medals': 1}, {u'country': u'Switzerland', u'total_medals': 0}, {u'country': u'Netherlands', u'total_medals': 3}, {u'country': u'Russian Fed.', u'total_medals': 0}, {u'country': u'Russian Fed.', u'total_medals': 0}, {u'country': u'Austria', u'total_medals': 0}, {u'country': u'Brazil', u'total_medals': 0}, {u'country': u'Switzerland', u'total_medals': 0}, {u'country': u'Germany', u'total_medals': 0}, {u'country': u'Lithuania', u'total_medals': 0}, {u'country': u'Brazil', u'total_medals': 0}, {u'country': u'Canada', u'total_medals': 0}, {u'country': u'Slovakia', u'total_medals': 0}, {u'country': u'Switzerland', u'total_medals': 0}, {u'country': u'Russian Fed.', u'total_medals': 0}, {u'country': u'France', u'total_medals': 1}, {u'country': u'Russian Fed.', u'total_medals': 0}, {u'country': u'Bulgaria', u'total_medals': 0}, {u'country': u'Montenegro', u'total_medals': 0}, {u'country': u'Serbia', u'total_medals': 0}, {u'country': u'Canada', u'total_medals': 0}, {u'country': u'Croatia', u'total_medals': 1}, {u'country': u'Germany', u'total_medals': 0}, {u'country': u'Russian Fed.', u'total_medals': 0}, {u'country': u'Slovenia', u'total_medals': 0}, {u'country': u'United States', u'total_medals': 0}, {u'country': u'Great Britain', u'total_medals': 0}, {u'country': u'Lebanon', u'total_medals': 0}, {u'country': u'United States', u'total_medals': 0}, {u'country': u'Germany', u'total_medals': 0}, {u'country': u'United States', u'total_medals': 0}, {u'country': u'Korea', u'total_medals': 0}, {u'country': u'Slovenia', u'total_medals': 0}, {u'country': u'Canada', u'total_medals': 0}, {u'country': u'Sweden', u'total_medals': 0}, {u'country': u'Slovenia', u'total_medals': 0}, {u'country': u'Czech Republic', u'total_medals': 0}, {u'country': u'Czech Republic', u'total_medals': 0}, {u'country': u'Czech Republic', u'total_medals': 0}, {u'country': u'Great Britain', u'total_medals': 0}, {u'country': u'Canada', u'total_medals': 0}, {u'country': u'United States', u'total_medals': 0}, {u'country': u'Great Britain', u'total_medals': 0}, {u'country': u'United States', u'total_medals': 1}, {u'country': u'Canada', u'total_medals': 0}, {u'country': u'Canada', u'total_medals': 0}, {u'country': u'United States', u'total_medals': 0}, {u'country': u'Great Britain', u'total_medals': 0}, {u'country': u'Poland', u'total_medals': 0}, {u'country': u'Netherlands', u'total_medals': 1}, {u'country': u'Canada', u'total_medals': 1}, {u'country': u'Slovenia', u'total_medals': 0}, {u'country': u'Slovakia', u'total_medals': 0}, {u'country': u'Czech Republic', u'total_medals': 0}, {u'country': u'Slovenia', u'total_medals': 0}, {u'country': u'Ireland', u'total_medals': 0}, {u'country': u'Switzerland', u'total_medals': 0}, {u'country': u'Netherlands', u'total_medals': 1}, {u'country': u'Poland', u'total_medals': 0}, {u'country': u'Slovenia', u'total_medals': 0}, {u'country': u'Czech Republic', u'total_medals': 0}, {u'country': u'Poland', u'total_medals': 0}, {u'country': u'Slovakia', u'total_medals': 0}, {u'country': u'Slovakia', u'total_medals': 0}, {u'country': u'Australia', u'total_medals': 0}, {u'country': u'Slovenia', u'total_medals': 0}, {u'country': u'New Zealand', u'total_medals': 0}, {u'country': u'Switzerland', u'total_medals': 0}, {u'country': u'Austria', u'total_medals': 0}, {u'country': u'Switzerland', u'total_medals': 0}, {u'country': u'Latvia', u'total_medals': 0}, {u'country': u'Latvia', u'total_medals': 0}, {u'country': u'Latvia', u'total_medals': 0}, {u'country': u'Finland', u'total_medals': 0}, {u'country': u'Finland', u'total_medals': 0}, {u'country': u'Finland', u'total_medals': 0}, {u'country': u'Finland', u'total_medals': 0}, {u'country': u'Germany', u'total_medals': 0}, {u'country': u'Brazil', u'total_medals': 0}, {u'country': u'United States', u'total_medals': 0}, {u'country': u'United States', u'total_medals': 0}, {u'country': u'Finland', u'total_medals': 0}, {u'country': u'Finland', u'total_medals': 0}, {u'country': u'Finland', u'total_medals': 0}, {u'country': u'Czech Republic', u'total_medals': 0}, {u'country': u'Slovakia', u'total_medals': 0}, {u'country': u'Czech Republic', u'total_medals': 1}, {u'country': u'Australia', u'total_medals': 0}, {u'country': u'Canada', u'total_medals': 0}, {u'country': u'\"Virgin I', u'total_medals': 0}, {u'country': u'United States', u'total_medals': 1}, {u'country': u'France', u'total_medals': 0}, {u'country': u'Spain', u'total_medals': 0}, {u'country': u'Spain', u'total_medals': 0}, {u'country': u'Spain', u'total_medals': 0}, {u'country': u'Canada', u'total_medals': 0}, {u'country': u'Canada', u'total_medals': 0}, {u'country': u'United States', u'total_medals': 0}, {u'country': u'United States', u'total_medals': 0}, {u'country': u'Korea', u'total_medals': 0}, {u'country': u'Korea', u'total_medals': 0}, {u'country': u'France', u'total_medals': 0}, {u'country': u'France', u'total_medals': 1}, {u'country': u'France', u'total_medals': 1}, {u'country': u'France', u'total_medals': 0}, {u'country': u'Canada', u'total_medals': 0}, {u'country': u'Denmark', u'total_medals': 0}, {u'country': u'Korea', u'total_medals': 0}, {u'country': u'Canada', u'total_medals': 0}, {u'country': u'United States', u'total_medals': 0}, {u'country': u'Belgium', u'total_medals': 0}, {u'country': u'Canada', u'total_medals': 0}, {u'country': u'Great Britain', u'total_medals': 0}, {u'country': u'Sweden', u'total_medals': 0}, {u'country': u'Finland', u'total_medals': 0}, {u'country': u'Canada', u'total_medals': 0}, {u'country': u'Germany', u'total_medals': 0}, {u'country': u'Canada', u'total_medals': 0}, {u'country': u'Canada', u'total_medals': 0}, {u'country': u'Great Britain', u'total_medals': 1}, {u'country': u'Australia', u'total_medals': 0}, {u'country': u'Germany', u'total_medals': 0}, {u'country': u'Germany', u'total_medals': 0}, {u'country': u'France', u'total_medals': 0}, {u'country': u'United States', u'total_medals': 1}, {u'country': u'France', u'total_medals': 0}, {u'country': u'France', u'total_medals': 0}, {u'country': u'Slovenia', u'total_medals': 0}, {u'country': u'Sweden', u'total_medals': 0}, {u'country': u'Canada', u'total_medals': 0}, {u'country': u'Canada', u'total_medals': 0}, {u'country': u'United States', u'total_medals': 0}, {u'country': u'Canada', u'total_medals': 0}, {u'country': u'Germany', u'total_medals': 0}, {u'country': u'Canada', u'total_medals': 1}, {u'country': u'United States', u'total_medals': 0}, {u'country': u'Sweden', u'total_medals': 0}, {u'country': u'Switzerland', u'total_medals': 0}, {u'country': u'United States', u'total_medals': 0}, {u'country': u'United States', u'total_medals': 0}, {u'country': u'United States', u'total_medals': 0}, {u'country': u'United States', u'total_medals': 0}, {u'country': u'Sweden', u'total_medals': 0}, {u'country': u'Brazil', u'total_medals': 0}, {u'country': u'Korea', u'total_medals': 0}, {u'country': u'China', u'total_medals': 0}, {u'country': u'China', u'total_medals': 0}, {u'country': u'China', u'total_medals': 0}, {u'country': u'China', u'total_medals': 1}, {u'country': u'China', u'total_medals': 0}, {u'country': u'Canada', u'total_medals': 0}, {u'country': u'United States', u'total_medals': 0}, {u'country': u'Finland', u'total_medals': 0}, {u'country': u'Sweden', u'total_medals': 0}, {u'country': u'United States', u'total_medals': 0}, {u'country': u'China', u'total_medals': 0}, {u'country': u'Korea', u'total_medals': 0}, {u'country': u'Czech Republic', u'total_medals': 0}, {u'country': u'Czech Republic', u'total_medals': 0}, {u'country': u'Korea', u'total_medals': 0}, {u'country': u'Czech Republic', u'total_medals': 0}, {u'country': u'Norway', u'total_medals': 0}, {u'country': u'Austria', u'total_medals': 0}, {u'country': u'Andorra', u'total_medals': 0}, {u'country': u'Poland', u'total_medals': 0}, {u'country': u'United States', u'total_medals': 0}, {u'country': u'Canada', u'total_medals': 0}, {u'country': u'United States', u'total_medals': 0}, {u'country': u'Great Britain', u'total_medals': 0}, {u'country': u'Switzerland', u'total_medals': 0}, {u'country': u'Norway', u'total_medals': 1}, {u'country': u'Switzerland', u'total_medals': 0}, {u'country': u'United States', u'total_medals': 0}, {u'country': u'France', u'total_medals': 0}, {u'country': u'Sweden', u'total_medals': 2}, {u'country': u'France', u'total_medals': 0}, {u'country': u'Sweden', u'total_medals': 0}, {u'country': u'Estonia', u'total_medals': 0}, {u'country': u'Austria', u'total_medals': 0}, {u'country': u'Germany', u'total_medals': 0}, {u'country': u'Germany', u'total_medals': 0}, {u'country': u'Norway', u'total_medals': 0}, {u'country': u'Great Britain', u'total_medals': 0}, {u'country': u'United States', u'total_medals': 0}, {u'country': u'United States', u'total_medals': 0}, {u'country': u'Sweden', u'total_medals': 0}, {u'country': u'Canada', u'total_medals': 0}, {u'country': u'Australia', u'total_medals': 0}, {u'country': u'Canada', u'total_medals': 0}, {u'country': u'Germany', u'total_medals': 0}, {u'country': u'Great Britain', u'total_medals': 0}, {u'country': u'United States', u'total_medals': 0}, {u'country': u'United States', u'total_medals': 0}, {u'country': u'Canada', u'total_medals': 0}, {u'country': u'United States', u'total_medals': 0}, {u'country': u'Denmark', u'total_medals': 0}, {u'country': u'Sweden', u'total_medals': 0}, {u'country': u'United States', u'total_medals': 0}, {u'country': u'Japan', u'total_medals': 0}, {u'country': u'Norway', u'total_medals': 0}, {u'country': u'Great Britain', u'total_medals': 0}, {u'country': u'Switzerland', u'total_medals': 0}, {u'country': u'France', u'total_medals': 0}, {u'country': u'Sweden', u'total_medals': 0}, {u'country': u'Switzerland', u'total_medals': 0}, {u'country': u'Norway', u'total_medals': 0}, {u'country': u'Sweden', u'total_medals': 0}, {u'country': u'United States', u'total_medals': 0}, {u'country': u'United States', u'total_medals': 0}, {u'country': u'France', u'total_medals': 0}, {u'country': u'United States', u'total_medals': 0}, {u'country': u'Canada', u'total_medals': 0}, {u'country': u'United States', u'total_medals': 0}, {u'country': u'Argentina', u'total_medals': 0}, {u'country': u'Finland', u'total_medals': 0}, {u'country': u'Netherlands', u'total_medals': 1}, {u'country': u'Belgium', u'total_medals': 0}, {u'country': u'Switzerland', u'total_medals': 0}, {u'country': u'Netherlands', u'total_medals': 2}, {u'country': u'Germany', u'total_medals': 0}, {u'country': u'Sweden', u'total_medals': 0}, {u'country': u'Brazil', u'total_medals': 0}, {u'country': u'United States', u'total_medals': 0}, {u'country': u'Germany', u'total_medals': 0}, {u'country': u'New Zealand', u'total_medals': 0}, {u'country': u'United States', u'total_medals': 1}, {u'country': u'Finland', u'total_medals': 0}, {u'country': u'Switzerland', u'total_medals': 0}, {u'country': u'Slovakia', u'total_medals': 0}, {u'country': u'Slovakia', u'total_medals': 0}, {u'country': u'Germany', u'total_medals': 0}, {u'country': u'Netherlands', u'total_medals': 0}, {u'country': u'Switzerland', u'total_medals': 0}, {u'country': u'Finland', u'total_medals': 0}, {u'country': u'Finland', u'total_medals': 0}, {u'country': u'France', u'total_medals': 0}, {u'country': u'France', u'total_medals': 0}, {u'country': u'Austria', u'total_medals': 0}, {u'country': u'United States', u'total_medals': 0}, {u'country': u'Russian Fed.', u'total_medals': 0}, {u'country': u'United States', u'total_medals': 0}, {u'country': u'Finland', u'total_medals': 0}, {u'country': u'Ukraine', u'total_medals': 0}, {u'country': u'United States', u'total_medals': 1}, {u'country': u'Paraguay', u'total_medals': 0}, {u'country': u'Switzerland', u'total_medals': 0}, {u'country': u'Azerbaijan', u'total_medals': 0}, {u'country': u'Germany', u'total_medals': 0}, {u'country': u'Austria', u'total_medals': 0}, {u'country': u'United States', u'total_medals': 0}, {u'country': u'Switzerland', u'total_medals': 0}, {u'country': u'France', u'total_medals': 0}, {u'country': u'Switzerland', u'total_medals': 0}, {u'country': u'Argentina', u'total_medals': 0}, {u'country': u'Ukraine', u'total_medals': 0}, {u'country': u'Korea', u'total_medals': 0}, {u'country': u'Korea', u'total_medals': 0}, {u'country': u'Korea', u'total_medals': 0}, {u'country': u'Korea', u'total_medals': 0}, {u'country': u'Korea', u'total_medals': 0}, {u'country': u'Japan', u'total_medals': 0}, {u'country': u'Slovakia', u'total_medals': 0}, {u'country': u'Slovenia', u'total_medals': 0}, {u'country': u'Latvia', u'total_medals': 2}, {u'country': u'Latvia', u'total_medals': 0}, {u'country': u'Finland', u'total_medals': 0}, {u'country': u'Finland', u'total_medals': 0}, {u'country': u'Finland', u'total_medals': 0}, {u'country': u'Canada', u'total_medals': 0}, {u'country': u'United States', u'total_medals': 0}, {u'country': u'Canada', u'total_medals': 0}, {u'country': u'Switzerland', u'total_medals': 0}, {u'country': u'United States', u'total_medals': 0}, {u'country': u'United States', u'total_medals': 0}, {u'country': u'Canada', u'total_medals': 0}, {u'country': u'Canada', u'total_medals': 1}, {u'country': u'Poland', u'total_medals': 1}, {u'country': u'Finland', u'total_medals': 0}, {u'country': u'Estonia', u'total_medals': 0}, {u'country': u'United States', u'total_medals': 0}, {u'country': u'Estonia', u'total_medals': 0}, {u'country': u'Canada', u'total_medals': 1}, {u'country': u'Japan', u'total_medals': 0}, {u'country': u'Switzerland', u'total_medals': 0}, {u'country': u'Canada', u'total_medals': 0}, {u'country': u'Finland', u'total_medals': 0}, {u'country': u'United States', u'total_medals': 1}, {u'country': u'Canada', u'total_medals': 0}, {u'country': u'Canada', u'total_medals': 0}, {u'country': u'Sweden', u'total_medals': 0}, {u'country': u'Estonia', u'total_medals': 0}, {u'country': u'Canada', u'total_medals': 0}, {u'country': u'Poland', u'total_medals': 2}, {u'country': u'Japan', u'total_medals': 0}, {u'country': u'Japan', u'total_medals': 0}, {u'country': u'Thailand', u'total_medals': 0}, {u'country': u'Korea', u'total_medals': 0}, {u'country': u'Estonia', u'total_medals': 0}, {u'country': u'Finland', u'total_medals': 0}, {u'country': u'Luxembourg', u'total_medals': 0}, {u'country': u'Italy', u'total_medals': 0}, {u'country': u'Estonia', u'total_medals': 0}, {u'country': u'United States', u'total_medals': 0}, {u'country': u'Poland', u'total_medals': 0}, {u'country': u'Slovakia', u'total_medals': 0}, {u'country': u'Finland', u'total_medals': 0}, {u'country': u'Poland', u'total_medals': 0}, {u'country': u'Czech Republic', u'total_medals': 0}, {u'country': u'Czech Republic', u'total_medals': 0}, {u'country': u'Poland', u'total_medals': 0}, {u'country': u'Poland', u'total_medals': 0}, {u'country': u'Hungary', u'total_medals': 0}, {u'country': u'Switzerland', u'total_medals': 0}, {u'country': u'Latvia', u'total_medals': 0}, {u'country': u'Slovenia', u'total_medals': 0}, {u'country': u'Poland', u'total_medals': 0}, {u'country': u'Poland', u'total_medals': 0}, {u'country': u'United States', u'total_medals': 0}, {u'country': u'Czech Republic', u'total_medals': 0}, {u'country': u'Czech Republic', u'total_medals': 0}, {u'country': u'Austria', u'total_medals': 0}, {u'country': u'Ukraine', u'total_medals': 0}, {u'country': u'Ukraine', u'total_medals': 0}, {u'country': u'Germany', u'total_medals': 0}, {u'country': u'Austria', u'total_medals': 0}, {u'country': u'New Zealand', u'total_medals': 0}, {u'country': u'Austria', u'total_medals': 0}, {u'country': u'Spain', u'total_medals': 0}, {u'country': u'Great Britain', u'total_medals': 0}, {u'country': u'Canada', u'total_medals': 0}, {u'country': u'United States', u'total_medals': 0}, {u'country': u'Slovenia', u'total_medals': 0}, {u'country': u'Slovenia', u'total_medals': 0}, {u'country': u'Belgium', u'total_medals': 0}, {u'country': u'Switzerland', u'total_medals': 0}, {u'country': u'Switzerland', u'total_medals': 0}, {u'country': u'Austria', u'total_medals': 0}, {u'country': u'Germany', u'total_medals': 0}, {u'country': u'Australia', u'total_medals': 0}, {u'country': u'Armenia', u'total_medals': 0}, {u'country': u'Estonia', u'total_medals': 0}, {u'country': u'Canada', u'total_medals': 0}, {u'country': u'Canada', u'total_medals': 0}, {u'country': u'Japan', u'total_medals': 0}, {u'country': u'Japan', u'total_medals': 0}, {u'country': u'Turkey', u'total_medals': 0}, {u'country': u'United States', u'total_medals': 0}, {u'country': u'United States', u'total_medals': 1}, {u'country': u'United States', u'total_medals': 0}, {u'country': u'Canada', u'total_medals': 0}, {u'country': u'Canada', u'total_medals': 0}, {u'country': u'Norway', u'total_medals': 0}, {u'country': u'United States', u'total_medals': 0}, {u'country': u'Australia', u'total_medals': 0}, {u'country': u'Japan', u'total_medals': 0}, {u'country': u'Morocco', u'total_medals': 0}, {u'country': u'United States', u'total_medals': 0}, {u'country': u'Austria', u'total_medals': 0}, {u'country': u'Germany', u'total_medals': 0}, {u'country': u'Finland', u'total_medals': 1}, {u'country': u'Andorra', u'total_medals': 0}, {u'country': u'Canada', u'total_medals': 0}, {u'country': u'Germany', u'total_medals': 0}, {u'country': u'Canada', u'total_medals': 1}, {u'country': u'France', u'total_medals': 0}, {u'country': u'Switzerland', u'total_medals': 0}, {u'country': u'United States', u'total_medals': 0}, {u'country': u'China', u'total_medals': 0}, {u'country': u'China', u'total_medals': 0}, {u'country': u'United States', u'total_medals': 0}, {u'country': u'Canada', u'total_medals': 1}, {u'country': u'Sweden', u'total_medals': 0}, {u'country': u'Canada', u'total_medals': 0}, {u'country': u'Finland', u'total_medals': 0}, {u'country': u'Russian Fed.', u'total_medals': 0}, {u'country': u'Canada', u'total_medals': 1}, {u'country': u'Canada', u'total_medals': 0}, {u'country': u'Norway', u'total_medals': 0}, {u'country': u'Norway', u'total_medals': 2}, {u'country': u'Czech Republic', u'total_medals': 0}, {u'country': u'Czech Republic', u'total_medals': 0}, {u'country': u'Austria', u'total_medals': 0}, {u'country': u'Slovenia', u'total_medals': 0}, {u'country': u'Slovenia', u'total_medals': 0}, {u'country': u'Slovenia', u'total_medals': 0}, {u'country': u'Latvia', u'total_medals': 0}, {u'country': u'Netherlands', u'total_medals': 1}, {u'country': u'Hungary', u'total_medals': 0}, {u'country': u'Poland', u'total_medals': 0}, {u'country': u'Russian Fed.', u'total_medals': 0}, {u'country': u'Germany', u'total_medals': 0}, {u'country': u'Poland', u'total_medals': 0}, {u'country': u'Greece', u'total_medals': 0}, {u'country': u'Bulgaria', u'total_medals': 0}, {u'country': u'United States', u'total_medals': 0}, {u'country': u'Latvia', u'total_medals': 0}, {u'country': u'Finland', u'total_medals': 1}, {u'country': u'Great Britain', u'total_medals': 0}, {u'country': u'Latvia', u'total_medals': 0}, {u'country': u'Latvia', u'total_medals': 0}, {u'country': u'Latvia', u'total_medals': 0}, {u'country': u'Latvia', u'total_medals': 0}, {u'country': u'Norway', u'total_medals': 0}, {u'country': u'Norway', u'total_medals': 0}, {u'country': u'Slovakia', u'total_medals': 0}, {u'country': u'Estonia', u'total_medals': 0}, {u'country': u'Czech Republic', u'total_medals': 0}, {u'country': u'Poland', u'total_medals': 0}, {u'country': u'Poland', u'total_medals': 0}, {u'country': u'Russian Fed.', u'total_medals': 0}, {u'country': u'Russian Fed.', u'total_medals': 2}, {u'country': u'Uzbekistan', u'total_medals': 0}, {u'country': u'Korea', u'total_medals': 0}, {u'country': u'Korea', u'total_medals': 0}, {u'country': u'United States', u'total_medals': 0}, {u'country': u'United States', u'total_medals': 0}, {u'country': u'Korea', u'total_medals': 0}, {u'country': u'Korea', u'total_medals': 0}, {u'country': u'Russian Fed.', u'total_medals': 0}, {u'country': u'Switzerland', u'total_medals': 0}, {u'country': u'Czech Republic', u'total_medals': 0}, {u'country': u'Great Britain', u'total_medals': 0}, {u'country': u'United States', u'total_medals': 0}, {u'country': u'Switzerland', u'total_medals': 1}, {u'country': u'Switzerland', u'total_medals': 0}, {u'country': u'Netherlands', u'total_medals': 0}, {u'country': u'Finland', u'total_medals': 0}, {u'country': u'Canada', u'total_medals': 0}, {u'country': u'Spain', u'total_medals': 0}, {u'country': u'Norway', u'total_medals': 0}, {u'country': u'Norway', u'total_medals': 0}, {u'country': u'Sweden', u'total_medals': 1}, {u'country': u'Denmark', u'total_medals': 0}, {u'country': u'Norway', u'total_medals': 0}, {u'country': u'Canada', u'total_medals': 0}, {u'country': u'Finland', u'total_medals': 0}, {u'country': u'Switzerland', u'total_medals': 0}, {u'country': u'Germany', u'total_medals': 0}, {u'country': u'Canada', u'total_medals': 0}, {u'country': u'Germany', u'total_medals': 0}, {u'country': u'Spain', u'total_medals': 0}, {u'country': u'Australia', u'total_medals': 0}, {u'country': u'Andorra', u'total_medals': 0}, {u'country': u'United States', u'total_medals': 0}, {u'country': u'Great Britain', u'total_medals': 0}, {u'country': u'United States', u'total_medals': 0}, {u'country': u'Finland', u'total_medals': 0}, {u'country': u'Finland', u'total_medals': 0}, {u'country': u'Canada', u'total_medals': 0}, {u'country': u'Switzerland', u'total_medals': 0}, {u'country': u'Netherlands', u'total_medals': 0}, {u'country': u'Latvia', u'total_medals': 0}, {u'country': u'United States', u'total_medals': 0}, {u'country': u'Australia', u'total_medals': 0}, {u'country': u'Czech Republic', u'total_medals': 0}, {u'country': u'France', u'total_medals': 0}, {u'country': u'Brazil', u'total_medals': 0}, {u'country': u'United States', u'total_medals': 0}, {u'country': u'United States', u'total_medals': 0}, {u'country': u'Great Britain', u'total_medals': 0}, {u'country': u'Norway', u'total_medals': 0}, {u'country': u'United States', u'total_medals': 0}, {u'country': u'Latvia', u'total_medals': 0}, {u'country': u'Latvia', u'total_medals': 0}, {u'country': u'Canada', u'total_medals': 0}, {u'country': u'Denmark', u'total_medals': 0}, {u'country': u'Finland', u'total_medals': 0}, {u'country': u'Canada', u'total_medals': 0}, {u'country': u'Sweden', u'total_medals': 0}, {u'country': u'Sweden', u'total_medals': 0}, {u'country': u'China', u'total_medals': 0}, {u'country': u'Finland', u'total_medals': 0}, {u'country': u'United States', u'total_medals': 0}, {u'country': u'United States', u'total_medals': 0}, {u'country': u'Norway', u'total_medals': 0}, {u'country': u'Sweden', u'total_medals': 0}, {u'country': u'Germany', u'total_medals': 0}, {u'country': u'Austria', u'total_medals': 0}, {u'country': u'Germany', u'total_medals': 0}, {u'country': u'Belarus', u'total_medals': 0}, {u'country': u'Russian Fed.', u'total_medals': 0}, {u'country': u'Switzerland', u'total_medals': 0}, {u'country': u'France', u'total_medals': 0}, {u'country': u'Andorra', u'total_medals': 0}, {u'country': u'France', u'total_medals': 0}, {u'country': u'United States', u'total_medals': 0}, {u'country': u'China', u'total_medals': 0}, {u'country': u'Norway', u'total_medals': 0}, {u'country': u'Netherlands', u'total_medals': 1}, {u'country': u'Sweden', u'total_medals': 0}, {u'country': u'United States', u'total_medals': 0}, {u'country': u'Switzerland', u'total_medals': 0}, {u'country': u'Switzerland', u'total_medals': 0}, {u'country': u'Italy', u'total_medals': 0}, {u'country': u'Italy', u'total_medals': 0}, {u'country': u'Italy', u'total_medals': 0}, {u'country': u'Switzerland', u'total_medals': 0}, {u'country': u'Austria', u'total_medals': 0}, {u'country': u'Spain', u'total_medals': 0}, {u'country': u'Canada', u'total_medals': 0}, {u'country': u'Australia', u'total_medals': 0}, {u'country': u'Germany', u'total_medals': 0}, {u'country': u'Italy', u'total_medals': 1}, {u'country': u'Switzerland', u'total_medals': 0}, {u'country': u'Australia', u'total_medals': 0}, {u'country': u'Australia', u'total_medals': 0}, {u'country': u'Sweden', u'total_medals': 0}, {u'country': u'Italy', u'total_medals': 0}, {u'country': u'Poland', u'total_medals': 0}, {u'country': u'Slovenia', u'total_medals': 0}, {u'country': u'Czech Republic', u'total_medals': 0}, {u'country': u'Czech Republic', u'total_medals': 0}, {u'country': u'Czech Republic', u'total_medals': 0}, {u'country': u'Italy', u'total_medals': 0}, {u'country': u'Austria', u'total_medals': 0}, {u'country': u'Slovakia', u'total_medals': 0}, {u'country': u'Czech Republic', u'total_medals': 0}, {u'country': u'Austria', u'total_medals': 0}, {u'country': u'Italy', u'total_medals': 0}, {u'country': u'Poland', u'total_medals': 0}, {u'country': u'Poland', u'total_medals': 0}, {u'country': u'Zimbabwe', u'total_medals': 0}, {u'country': u'Australia', u'total_medals': 1}, {u'country': u'United States', u'total_medals': 0}, {u'country': u'Canada', u'total_medals': 0}, {u'country': u'New Zealand', u'total_medals': 0}, {u'country': u'United States', u'total_medals': 0}, {u'country': u'United States', u'total_medals': 0}, {u'country': u'Argentina', u'total_medals': 0}, {u'country': u'Poland', u'total_medals': 0}, {u'country': u'Poland', u'total_medals': 0}, {u'country': u'Poland', u'total_medals': 0}, {u'country': u'Poland', u'total_medals': 0}, {u'country': u'Poland', u'total_medals': 0}, {u'country': u'Poland', u'total_medals': 0}, {u'country': u'Chinese Taipei', u'total_medals': 0}, {u'country': u'Canada', u'total_medals': 0}, {u'country': u'United States', u'total_medals': 0}, {u'country': u'United States', u'total_medals': 0}, {u'country': u'Norway', u'total_medals': 0}, {u'country': u'France', u'total_medals': 0}, {u'country': u'Canada', u'total_medals': 0}, {u'country': u'Poland', u'total_medals': 0}, {u'country': u'Norway', u'total_medals': 1}, {u'country': u'Norway', u'total_medals': 1}, {u'country': u'United States', u'total_medals': 0}, {u'country': u'Norway', u'total_medals': 1}, {u'country': u'Slovenia', u'total_medals': 0}, {u'country': u'Japan', u'total_medals': 0}, {u'country': u'Japan', u'total_medals': 0}, {u'country': u'Belarus', u'total_medals': 0}, {u'country': u'Japan', u'total_medals': 0}, {u'country': u'Italy', u'total_medals': 0}, {u'country': u'Peru', u'total_medals': 0}, {u'country': u'Austria', u'total_medals': 0}, {u'country': u'Canada', u'total_medals': 0}, {u'country': u'Germany', u'total_medals': 0}, {u'country': u'Japan', u'total_medals': 0}, {u'country': u'Kazakhstan', u'total_medals': 0}, {u'country': u'Andorra', u'total_medals': 0}, {u'country': u'Canada', u'total_medals': 0}, {u'country': u'Canada', u'total_medals': 0}, {u'country': u'Austria', u'total_medals': 0}, {u'country': u'Slovakia', u'total_medals': 0}, {u'country': u'Slovenia', u'total_medals': 0}, {u'country': u'Poland', u'total_medals': 0}, {u'country': u'Italy', u'total_medals': 0}, {u'country': u'Austria', u'total_medals': 0}, {u'country': u'Liechtenstein', u'total_medals': 0}, {u'country': u'United States', u'total_medals': 0}, {u'country': u'Sweden', u'total_medals': 2}, {u'country': u'Sweden', u'total_medals': 0}, {u'country': u'Sweden', u'total_medals': 0}, {u'country': u'Sweden', u'total_medals': 0}, {u'country': u'Finland', u'total_medals': 0}, {u'country': u'Czech Republic', u'total_medals': 0}, {u'country': u'Slovakia', u'total_medals': 0}, {u'country': u'Czech Republic', u'total_medals': 0}, {u'country': u'Norway', u'total_medals': 0}, {u'country': u'Sweden', u'total_medals': 0}, {u'country': u'Russian Fed.', u'total_medals': 0}, {u'country': u'Netherlands', u'total_medals': 2}, {u'country': u'Norway', u'total_medals': 0}, {u'country': u'Finland', u'total_medals': 0}, {u'country': u'Russian Fed.', u'total_medals': 0}, {u'country': u'Romania', u'total_medals': 0}, {u'country': u'Germany', u'total_medals': 2}, {u'country': u'Bulgaria', u'total_medals': 0}, {u'country': u'Russian Fed.', u'total_medals': 0}, {u'country': u'United States', u'total_medals': 0}, {u'country': u'Sweden', u'total_medals': 0}, {u'country': u'Romania', u'total_medals': 0}, {u'country': u'Russian Fed.', u'total_medals': 0}, {u'country': u'Sweden', u'total_medals': 0}, {u'country': u'Denmark', u'total_medals': 0}, {u'country': u'Sweden', u'total_medals': 0}, {u'country': u'Austria', u'total_medals': 0}, {u'country': u'Belarus', u'total_medals': 0}, {u'country': u'Sweden', u'total_medals': 0}, {u'country': u'Slovakia', u'total_medals': 0}, {u'country': u'Slovakia', u'total_medals': 0}, {u'country': u'Switzerland', u'total_medals': 0}, {u'country': u'Canada', u'total_medals': 0}, {u'country': u'Canada', u'total_medals': 1}, {u'country': u'France', u'total_medals': 0}, {u'country': u'France', u'total_medals': 0}, {u'country': u'France', u'total_medals': 0}, {u'country': u'France', u'total_medals': 0}, {u'country': u'Canada', u'total_medals': 1}, {u'country': u'Canada', u'total_medals': 0}, {u'country': u'Canada', u'total_medals': 0}, {u'country': u'Canada', u'total_medals': 0}, {u'country': u'France', u'total_medals': 0}, {u'country': u'Canada', u'total_medals': 0}, {u'country': u'The Former Yugoslav Republic of Macedonia', u'total_medals': 0}, {u'country': u'Russian Fed.', u'total_medals': 0}, {u'country': u'Switzerland', u'total_medals': 0}, {u'country': u'Kazakhstan', u'total_medals': 0}, {u'country': u'Ukraine', u'total_medals': 0}, {u'country': u'Liechtenstein', u'total_medals': 0}, {u'country': u'Italy', u'total_medals': 0}, {u'country': u'France', u'total_medals': 0}, {u'country': u'Germany', u'total_medals': 1}, {u'country': u'Austria', u'total_medals': 0}, {u'country': u'Austria', u'total_medals': 0}, {u'country': u'Austria', u'total_medals': 0}, {u'country': u'France', u'total_medals': 0}, {u'country': u'France', u'total_medals': 0}, {u'country': u'France', u'total_medals': 0}, {u'country': u'Austria', u'total_medals': 0}, {u'country': u'Germany', u'total_medals': 0}, {u'country': u'United States', u'total_medals': 1}, {u'country': u'Norway', u'total_medals': 1}, {u'country': u'Germany', u'total_medals': 0}, {u'country': u'Ukraine', u'total_medals': 0}, {u'country': u'Slovenia', u'total_medals': 0}, {u'country': u'Canada', u'total_medals': 1}, {u'country': u'Kazakhstan', u'total_medals': 0}, {u'country': u'Switzerland', u'total_medals': 0}, {u'country': u'Netherlands', u'total_medals': 0}, {u'country': u'Germany', u'total_medals': 0}, {u'country': u'Bosnia and Herzegovina', u'total_medals': 0}, {u'country': u'Serbia', u'total_medals': 0}, {u'country': u'Italy', u'total_medals': 0}, {u'country': u'Norway', u'total_medals': 0}, {u'country': u'Sweden', u'total_medals': 0}, {u'country': u'Finland', u'total_medals': 0}, {u'country': u'Austria', u'total_medals': 0}, {u'country': u'Austria', u'total_medals': 0}, {u'country': u'Italy', u'total_medals': 0}, {u'country': u'Austria', u'total_medals': 0}, {u'country': u'Netherlands', u'total_medals': 0}, {u'country': u'Canada', u'total_medals': 0}, {u'country': u'Norway', u'total_medals': 0}, {u'country': u'Slovakia', u'total_medals': 0}, {u'country': u'Slovakia', u'total_medals': 0}, {u'country': u'Czech Republic', u'total_medals': 0}, {u'country': u'France', u'total_medals': 3}, {u'country': u'Czech Republic', u'total_medals': 0}, {u'country': u'Switzerland', u'total_medals': 0}, {u'country': u'Czech Republic', u'total_medals': 0}, {u'country': u'Norway', u'total_medals': 1}, {u'country': u'Kazakhstan', u'total_medals': 0}, {u'country': u'Slovakia', u'total_medals': 0}, {u'country': u'Denmark', u'total_medals': 0}, {u'country': u'Slovakia', u'total_medals': 0}, {u'country': u'Switzerland', u'total_medals': 0}, {u'country': u'Germany', u'total_medals': 0}, {u'country': u'Norway', u'total_medals': 0}, {u'country': u'Canada', u'total_medals': 0}, {u'country': u'Slovakia', u'total_medals': 0}, {u'country': u'Czech Republic', u'total_medals': 0}, {u'country': u'Slovakia', u'total_medals': 0}, {u'country': u'Czech Republic', u'total_medals': 0}, {u'country': u'Switzerland', u'total_medals': 0}, {u'country': u'Czech Republic', u'total_medals': 1}, {u'country': u'Italy', u'total_medals': 1}, {u'country': u'Latvia', u'total_medals': 0}, {u'country': u'Latvia', u'total_medals': 1}, {u'country': u'Latvia', u'total_medals': 0}, {u'country': u'Latvia', u'total_medals': 0}, {u'country': u'Latvia', u'total_medals': 1}, {u'country': u'Finland', u'total_medals': 0}, {u'country': u'Slovenia', u'total_medals': 0}, {u'country': u'Jamaica', u'total_medals': 0}, {u'country': u'Switzerland', u'total_medals': 0}, {u'country': u'Ukraine', u'total_medals': 0}, {u'country': u'Poland', u'total_medals': 0}, {u'country': u'Japan', u'total_medals': 0}, {u'country': u'Japan', u'total_medals': 0}, {u'country': u'Greece', u'total_medals': 0}, {u'country': u'Slovakia', u'total_medals': 0}, {u'country': u'Slovakia', u'total_medals': 0}, {u'country': u'Croatia', u'total_medals': 0}, {u'country': u'Poland', u'total_medals': 0}, {u'country': u'Poland', u'total_medals': 0}, {u'country': u'Austria', u'total_medals': 0}, {u'country': u'Switzerland', u'total_medals': 0}, {u'country': u'Austria', u'total_medals': 0}, {u'country': u'France', u'total_medals': 0}, {u'country': u'Canada', u'total_medals': 0}, {u'country': u'Togo', u'total_medals': 0}, {u'country': u'Norway', u'total_medals': 0}, {u'country': u'Slovenia', u'total_medals': 0}, {u'country': u'Norway', u'total_medals': 0}, {u'country': u'Norway', u'total_medals': 0}, {u'country': u'Norway', u'total_medals': 0}, {u'country': u'Canada', u'total_medals': 0}, {u'country': u'Australia', u'total_medals': 0}, {u'country': u'Canada', u'total_medals': 0}, {u'country': u'Italy', u'total_medals': 0}, {u'country': u'Italy', u'total_medals': 0}, {u'country': u'United States', u'total_medals': 1}, {u'country': u'Canada', u'total_medals': 0}, {u'country': u'United States', u'total_medals': 0}, {u'country': u'Great Britain', u'total_medals': 0}, {u'country': u'Canada', u'total_medals': 0}, {u'country': u'Switzerland', u'total_medals': 0}, {u'country': u'Austria', u'total_medals': 0}, {u'country': u'Austria', u'total_medals': 0}, {u'country': u'Austria', u'total_medals': 1}, {u'country': u'Austria', u'total_medals': 0}, {u'country': u'Finland', u'total_medals': 0}, {u'country': u'Italy', u'total_medals': 0}, {u'country': u'Sweden', u'total_medals': 0}, {u'country': u'Sweden', u'total_medals': 0}, {u'country': u'France', u'total_medals': 1}, {u'country': u'Italy', u'total_medals': 0}, {u'country': u'Switzerland', u'total_medals': 0}, {u'country': u'Austria', u'total_medals': 0}, {u'country': u'Austria', u'total_medals': 0}, {u'country': u'United States', u'total_medals': 0}, {u'country': u'Canada', u'total_medals': 0}, {u'country': u'Russian Fed.', u'total_medals': 0}, {u'country': u'Russian Fed.', u'total_medals': 0}, {u'country': u'Russian Fed.', u'total_medals': 2}, {u'country': u'Russian Fed.', u'total_medals': 1}, {u'country': u'France', u'total_medals': 0}, {u'country': u'Canada', u'total_medals': 0}, {u'country': u'France', u'total_medals': 0}, {u'country': u'Germany', u'total_medals': 0}, {u'country': u'Brazil', u'total_medals': 0}, {u'country': u'Germany', u'total_medals': 0}, {u'country': u'Canada', u'total_medals': 1}, {u'country': u'Canada', u'total_medals': 0}, {u'country': u'Finland', u'total_medals': 0}, {u'country': u'United States', u'total_medals': 0}, {u'country': u'Canada', u'total_medals': 0}, {u'country': u'Canada', u'total_medals': 0}, {u'country': u'United States', u'total_medals': 0}, {u'country': u'Canada', u'total_medals': 0}, {u'country': u'United States', u'total_medals': 0}, {u'country': u'Italy', u'total_medals': 0}, {u'country': u'Canada', u'total_medals': 0}, {u'country': u'Canada', u'total_medals': 0}, {u'country': u'China', u'total_medals': 1}, {u'country': u'Canada', u'total_medals': 0}, {u'country': u'Finland', u'total_medals': 0}, {u'country': u'United States', u'total_medals': 2}, {u'country': u'Denmark', u'total_medals': 0}, {u'country': u'Korea', u'total_medals': 0}, {u'country': u'Philippines', u'total_medals': 0}, {u'country': u'Sweden', u'total_medals': 0}, {u'country': u'Czech Republic', u'total_medals': 0}, {u'country': u'Canada', u'total_medals': 0}, {u'country': u'Great Britain', u'total_medals': 0}, {u'country': u'Austria', u'total_medals': 0}, {u'country': u'Austria', u'total_medals': 1}, {u'country': u'Canada', u'total_medals': 0}, {u'country': u'Canada', u'total_medals': 0}, {u'country': u'Austria', u'total_medals': 0}, {u'country': u'Switzerland', u'total_medals': 0}, {u'country': u'Austria', u'total_medals': 0}, {u'country': u'Bulgaria', u'total_medals': 0}, {u'country': u'Belarus', u'total_medals': 0}, {u'country': u'Czech Republic', u'total_medals': 0}, {u'country': u'Czech Republic', u'total_medals': 0}, {u'country': u'Slovakia', u'total_medals': 0}, {u'country': u'Poland', u'total_medals': 0}, {u'country': u'Czech Republic', u'total_medals': 0}, {u'country': u'Poland', u'total_medals': 0}, {u'country': u'Czech Republic', u'total_medals': 0}, {u'country': u'Czech Republic', u'total_medals': 0}, {u'country': u'Czech Republic', u'total_medals': 0}, {u'country': u'Slovakia', u'total_medals': 0}, {u'country': u'Netherlands', u'total_medals': 2}, {u'country': u'Italy', u'total_medals': 0}, {u'country': u'Italy', u'total_medals': 0}, {u'country': u'Netherlands', u'total_medals': 0}, {u'country': u'Switzerland', u'total_medals': 0}, {u'country': u'Finland', u'total_medals': 0}, {u'country': u'Sweden', u'total_medals': 0}, {u'country': u'United States', u'total_medals': 0}, {u'country': u'Australia', u'total_medals': 0}, {u'country': u'Japan', u'total_medals': 0}, {u'country': u'Slovenia', u'total_medals': 0}, {u'country': u'Japan', u'total_medals': 0}, {u'country': u'Korea', u'total_medals': 0}, {u'country': u'Japan', u'total_medals': 0}, {u'country': u'Finland', u'total_medals': 0}, {u'country': u'Finland', u'total_medals': 0}, {u'country': u'Canada', u'total_medals': 1}, {u'country': u'United States', u'total_medals': 0}, {u'country': u'Canada', u'total_medals': 0}, {u'country': u'Canada', u'total_medals': 0}, {u'country': u'Latvia', u'total_medals': 0}, {u'country': u'Russian Fed.', u'total_medals': 0}, {u'country': u'Japan', u'total_medals': 0}, {u'country': u'Japan', u'total_medals': 0}, {u'country': u'Finland', u'total_medals': 0}, {u'country': u'Denmark', u'total_medals': 0}, {u'country': u'Norway', u'total_medals': 0}, {u'country': u'Latvia', u'total_medals': 0}, {u'country': u'Slovakia', u'total_medals': 0}, {u'country': u'Slovakia', u'total_medals': 0}, {u'country': u'Slovakia', u'total_medals': 0}, {u'country': u'Czech Republic', u'total_medals': 0}, {u'country': u'Hungary', u'total_medals': 0}, {u'country': u'Serbia', u'total_medals': 0}, {u'country': u'Korea', u'total_medals': 0}, {u'country': u'Finland', u'total_medals': 0}, {u'country': u'Finland', u'total_medals': 0}, {u'country': u'France', u'total_medals': 0}, {u'country': u'Andorra', u'total_medals': 0}, {u'country': u'Austria', u'total_medals': 0}, {u'country': u'Austria', u'total_medals': 0}, {u'country': u'Switzerland', u'total_medals': 0}, {u'country': u'Switzerland', u'total_medals': 0}, {u'country': u'Italy', u'total_medals': 0}, {u'country': u'Czech Republic', u'total_medals': 0}, {u'country': u'Bulgaria', u'total_medals': 0}, {u'country': u'Slovakia', u'total_medals': 0}, {u'country': u'Japan', u'total_medals': 0}, {u'country': u'Switzerland', u'total_medals': 0}, {u'country': u'Uzbekistan', u'total_medals': 0}, {u'country': u'Canada', u'total_medals': 0}, {u'country': u'Canada', u'total_medals': 0}, {u'country': u'United States', u'total_medals': 0}, {u'country': u'Slovenia', u'total_medals': 0}, {u'country': u'Slovenia', u'total_medals': 0}, {u'country': u'Slovenia', u'total_medals': 0}, {u'country': u'Japan', u'total_medals': 0}, {u'country': u'Bosnia and Herzegovina', u'total_medals': 0}, {u'country': u'Japan', u'total_medals': 0}, {u'country': u'Japan', u'total_medals': 0}, {u'country': u'IR Iran', u'total_medals': 0}, {u'country': u'United States', u'total_medals': 0}, {u'country': u'Norway', u'total_medals': 0}, {u'country': u'Finland', u'total_medals': 0}, {u'country': u'Germany', u'total_medals': 0}, {u'country': u'Poland', u'total_medals': 0}, {u'country': u'Germany', u'total_medals': 0}, {u'country': u'United States', u'total_medals': 0}, {u'country': u'Croatia', u'total_medals': 0}, {u'country': u'France', u'total_medals': 0}, {u'country': u'Canada', u'total_medals': 0}, {u'country': u'France', u'total_medals': 0}, {u'country': u'Germany', u'total_medals': 0}, {u'country': u'Switzerland', u'total_medals': 0}, {u'country': u'Norway', u'total_medals': 0}, {u'country': u'Pakistan', u'total_medals': 0}, {u'country': u'Canada', u'total_medals': 0}, {u'country': u'Great Britain', u'total_medals': 0}, {u'country': u'Ukraine', u'total_medals': 0}, {u'country': u'China', u'total_medals': 0}, {u'country': u'Independent Olymp. participant', u'total_medals': 0}, {u'country': u'Russian Fed.', u'total_medals': 0}, {u'country': u'Russian Fed.', u'total_medals': 0}, {u'country': u'Belarus', u'total_medals': 1}, {u'country': u'Italy', u'total_medals': 0}, {u'country': u'Ukraine', u'total_medals': 0}, {u'country': u'Ukraine', u'total_medals': 0}, {u'country': u'Switzerland', u'total_medals': 0}, {u'country': u'Switzerland', u'total_medals': 0}, {u'country': u'Italy', u'total_medals': 0}, {u'country': u'Belarus', u'total_medals': 0}, {u'country': u'Japan', u'total_medals': 0}, {u'country': u'Japan', u'total_medals': 0}, {u'country': u'Japan', u'total_medals': 0}, {u'country': u'Japan', u'total_medals': 0}, {u'country': u'Japan', u'total_medals': 0}, {u'country': u'France', u'total_medals': 0}, {u'country': u'Belarus', u'total_medals': 0}, {u'country': u'Poland', u'total_medals': 0}, {u'country': u'Russian Fed.', u'total_medals': 0}, {u'country': u'Ukraine', u'total_medals': 0}, {u'country': u'Slovakia', u'total_medals': 0}, {u'country': u'Russian Fed.', u'total_medals': 0}, {u'country': u'Poland', u'total_medals': 0}, {u'country': u'Russian Fed.', u'total_medals': 0}, {u'country': u'Germany', u'total_medals': 2}, {u'country': u'Canada', u'total_medals': 0}, {u'country': u'Russian Fed.', u'total_medals': 0}, {u'country': u'Ukraine', u'total_medals': 0}, {u'country': u'Russian Fed.', u'total_medals': 0}, {u'country': u'United States', u'total_medals': 0}, {u'country': u'France', u'total_medals': 0}, {u'country': u'Austria', u'total_medals': 0}, {u'country': u'Germany', u'total_medals': 0}, {u'country': u'United States', u'total_medals': 0}, {u'country': u'Australia', u'total_medals': 0}, {u'country': u'Canada', u'total_medals': 0}, {u'country': u'Croatia', u'total_medals': 0}, {u'country': u'Germany', u'total_medals': 0}, {u'country': u'France', u'total_medals': 0}, {u'country': u'Serbia', u'total_medals': 0}, {u'country': u'Canada', u'total_medals': 0}, {u'country': u'Switzerland', u'total_medals': 0}, {u'country': u'United States', u'total_medals': 0}, {u'country': u'Great Britain', u'total_medals': 0}, {u'country': u'United States', u'total_medals': 0}, {u'country': u'United States', u'total_medals': 1}, {u'country': u'United States', u'total_medals': 0}, {u'country': u'United States', u'total_medals': 0}, {u'country': u'Sweden', u'total_medals': 0}, {u'country': u'Germany', u'total_medals': 0}, {u'country': u'Greece', u'total_medals': 0}, {u'country': u'Italy', u'total_medals': 0}, {u'country': u'Romania', u'total_medals': 0}, {u'country': u'Switzerland', u'total_medals': 0}, {u'country': u'Italy', u'total_medals': 0}, {u'country': u'Germany', u'total_medals': 1}, {u'country': u'Italy', u'total_medals': 0}, {u'country': u'Austria', u'total_medals': 2}, {u'country': u'Australia', u'total_medals': 0}, {u'country': u'Slovakia', u'total_medals': 0}, {u'country': u'Austria', u'total_medals': 0}, {u'country': u'Netherlands', u'total_medals': 0}, {u'country': u'Netherlands', u'total_medals': 0}, {u'country': u'Slovenia', u'total_medals': 0}, {u'country': u'Russian Fed.', u'total_medals': 0}, {u'country': u'Russian Fed.', u'total_medals': 2}, {u'country': u'Russian Fed.', u'total_medals': 0}, {u'country': u'Russian Fed.', u'total_medals': 0}, {u'country': u'Russian Fed.', u'total_medals': 0}, {u'country': u'Russian Fed.', u'total_medals': 0}, {u'country': u'Sweden', u'total_medals': 0}, {u'country': u'Sweden', u'total_medals': 0}, {u'country': u'Sweden', u'total_medals': 0}, {u'country': u'Sweden', u'total_medals': 0}, {u'country': u'Norway', u'total_medals': 0}, {u'country': u'Czech Republic', u'total_medals': 0}, {u'country': u'Bulgaria', u'total_medals': 0}, {u'country': u'Czech Republic', u'total_medals': 0}, {u'country': u'Russian Fed.', u'total_medals': 0}, {u'country': u'Kazakhstan', u'total_medals': 0}, {u'country': u'Russian Fed.', u'total_medals': 0}, {u'country': u'Russian Fed.', u'total_medals': 1}, {u'country': u'Switzerland', u'total_medals': 0}, {u'country': u'Germany', u'total_medals': 0}, {u'country': u'China', u'total_medals': 0}, {u'country': u'Norway', u'total_medals': 0}, {u'country': u'Serbia', u'total_medals': 0}, {u'country': u'Switzerland', u'total_medals': 0}, {u'country': u'Austria', u'total_medals': 0}, {u'country': u'Finland', u'total_medals': 0}, {u'country': u'Switzerland', u'total_medals': 0}, {u'country': u'Switzerland', u'total_medals': 0}, {u'country': u'Georgia', u'total_medals': 0}, {u'country': u'Russian Fed.', u'total_medals': 0}, {u'country': u'Russian Fed.', u'total_medals': 0}, {u'country': u'Canada', u'total_medals': 0}, {u'country': u'United States', u'total_medals': 0}, {u'country': u'Japan', u'total_medals': 0}, {u'country': u'Japan', u'total_medals': 0}, {u'country': u'Chile', u'total_medals': 0}, {u'country': u'United States', u'total_medals': 1}, {u'country': u'United States', u'total_medals': 0}, {u'country': u'Finland', u'total_medals': 0}, {u'country': u'Hungary', u'total_medals': 0}, {u'country': u'Japan', u'total_medals': 2}, {u'country': u'Japan', u'total_medals': 0}, {u'country': u'Kazakhstan', u'total_medals': 0}, {u'country': u'Brazil', u'total_medals': 0}, {u'country': u'Norway', u'total_medals': 1}, {u'country': u'Norway', u'total_medals': 1}, {u'country': u'Norway', u'total_medals': 0}, {u'country': u'Ukraine', u'total_medals': 0}, {u'country': u'Ukraine', u'total_medals': 0}, {u'country': u'Ukraine', u'total_medals': 0}, {u'country': u'Ukraine', u'total_medals': 0}, {u'country': u'Ukraine', u'total_medals': 0}, {u'country': u'Ukraine', u'total_medals': 0}, {u'country': u'Russian Fed.', u'total_medals': 0}, {u'country': u'Russian Fed.', u'total_medals': 1}, {u'country': u'Russian Fed.', u'total_medals': 1}, {u'country': u'Russian Fed.', u'total_medals': 0}, {u'country': u'Russian Fed.', u'total_medals': 0}, {u'country': u'Ukraine', u'total_medals': 0}, {u'country': u'Russian Fed.', u'total_medals': 0}, {u'country': u'Russian Fed.', u'total_medals': 0}, {u'country': u'Russian Fed.', u'total_medals': 0}, {u'country': u'Russian Fed.', u'total_medals': 1}, {u'country': u'Russian Fed.', u'total_medals': 0}, {u'country': u'Sweden', u'total_medals': 0}, {u'country': u'Austria', u'total_medals': 0}, {u'country': u'Canada', u'total_medals': 0}, {u'country': u'Monaco', u'total_medals': 0}, {u'country': u'Finland', u'total_medals': 0}, {u'country': u'Finland', u'total_medals': 0}, {u'country': u'Finland', u'total_medals': 0}, {u'country': u'Finland', u'total_medals': 0}, {u'country': u'Italy', u'total_medals': 0}, {u'country': u'Czech Republic', u'total_medals': 0}, {u'country': u'Italy', u'total_medals': 0}, {u'country': u'Czech Republic', u'total_medals': 0}, {u'country': u'Czech Republic', u'total_medals': 2}, {u'country': u'Czech Republic', u'total_medals': 0}, {u'country': u'Czech Republic', u'total_medals': 0}, {u'country': u'France', u'total_medals': 0}, {u'country': u'Peru', u'total_medals': 0}, {u'country': u'Sweden', u'total_medals': 0}, {u'country': u'Sweden', u'total_medals': 0}, {u'country': u'Latvia', u'total_medals': 0}, {u'country': u'Latvia', u'total_medals': 0}, {u'country': u'Latvia', u'total_medals': 0}, {u'country': u'Latvia', u'total_medals': 0}, {u'country': u'Finland', u'total_medals': 0}, {u'country': u'Mongolia', u'total_medals': 0}, {u'country': u'Austria', u'total_medals': 0}, {u'country': u'Finland', u'total_medals': 0}, {u'country': u'Norway', u'total_medals': 0}, {u'country': u'Canada', u'total_medals': 0}, {u'country': u'Norway', u'total_medals': 0}, {u'country': u'Canada', u'total_medals': 0}, {u'country': u'\"Hong Ko', u'total_medals': 0}, {u'country': u'Greece', u'total_medals': 0}, {u'country': u'Canada', u'total_medals': 0}, {u'country': u'Monaco', u'total_medals': 0}, {u'country': u'Germany', u'total_medals': 0}, {u'country': u'Azerbaijan', u'total_medals': 0}, {u'country': u'Germany', u'total_medals': 0}, {u'country': u'Canada', u'total_medals': 2}, {u'country': u'United States', u'total_medals': 0}, {u'country': u'Italy', u'total_medals': 0}, {u'country': u'United States', u'total_medals': 0}, {u'country': u'Austria', u'total_medals': 0}, {u'country': u'Switzerland', u'total_medals': 0}, {u'country': u'Canada', u'total_medals': 0}, {u'country': u'United States', u'total_medals': 0}, {u'country': u'Italy', u'total_medals': 0}, {u'country': u'Canada', u'total_medals': 0}, {u'country': u'Italy', u'total_medals': 0}, {u'country': u'Norway', u'total_medals': 0}, {u'country': u'Switzerland', u'total_medals': 0}, {u'country': u'Sweden', u'total_medals': 0}, {u'country': u'Czech Republic', u'total_medals': 0}, {u'country': u'Switzerland', u'total_medals': 0}, {u'country': u'Poland', u'total_medals': 0}, {u'country': u'Poland', u'total_medals': 0}, {u'country': u'Germany', u'total_medals': 0}, {u'country': u'Italy', u'total_medals': 0}, {u'country': u'Romania', u'total_medals': 0}, {u'country': u'Spain', u'total_medals': 0}, {u'country': u'United States', u'total_medals': 0}, {u'country': u'Romania', u'total_medals': 0}, {u'country': u'United States', u'total_medals': 0}, {u'country': u'France', u'total_medals': 0}, {u'country': u'Great Britain', u'total_medals': 0}, {u'country': u'Poland', u'total_medals': 0}, {u'country': u'Slovakia', u'total_medals': 0}, {u'country': u'Poland', u'total_medals': 0}, {u'country': u'Czech Republic', u'total_medals': 0}, {u'country': u'Russian Fed.', u'total_medals': 0}, {u'country': u'Russian Fed.', u'total_medals': 0}, {u'country': u'Kazakhstan', u'total_medals': 0}, {u'country': u'Russian Fed.', u'total_medals': 0}, {u'country': u'Russian Fed.', u'total_medals': 0}, {u'country': u'Russian Fed.', u'total_medals': 0}, {u'country': u'Russian Fed.', u'total_medals': 0}, {u'country': u'Slovakia', u'total_medals': 0}, {u'country': u'Poland', u'total_medals': 0}, {u'country': u'Poland', u'total_medals': 0}, {u'country': u'Estonia', u'total_medals': 0}, {u'country': u'Finland', u'total_medals': 0}, {u'country': u'Finland', u'total_medals': 0}, {u'country': u'Great Britain', u'total_medals': 0}, {u'country': u'Norway', u'total_medals': 0}, {u'country': u'Sweden', u'total_medals': 0}, {u'country': u'Norway', u'total_medals': 0}, {u'country': u'Canada', u'total_medals': 0}, {u'country': u'France', u'total_medals': 0}, {u'country': u'Sweden', u'total_medals': 0}, {u'country': u'France', u'total_medals': 0}, {u'country': u'Slovakia', u'total_medals': 0}, {u'country': u'\"Virgin I', u'total_medals': 0}, {u'country': u'Slovenia', u'total_medals': 0}, {u'country': u'Italy', u'total_medals': 0}, {u'country': u'United States', u'total_medals': 0}, {u'country': u'Germany', u'total_medals': 0}, {u'country': u'Slovakia', u'total_medals': 0}, {u'country': u'Slovakia', u'total_medals': 0}, {u'country': u'Austria', u'total_medals': 0}, {u'country': u'Slovenia', u'total_medals': 2}, {u'country': u'Germany', u'total_medals': 0}, {u'country': u'Latvia', u'total_medals': 0}, {u'country': u'Russian Fed.', u'total_medals': 0}, {u'country': u'Russian Fed.', u'total_medals': 0}, {u'country': u'Russian Fed.', u'total_medals': 0}, {u'country': u'Slovakia', u'total_medals': 0}, {u'country': u'Czech Republic', u'total_medals': 0}, {u'country': u'Czech Republic', u'total_medals': 0}, {u'country': u'Czech Republic', u'total_medals': 0}, {u'country': u'Slovakia', u'total_medals': 0}, {u'country': u'Finland', u'total_medals': 0}, {u'country': u'Norway', u'total_medals': 0}, {u'country': u'United States', u'total_medals': 0}, {u'country': u'Canada', u'total_medals': 0}, {u'country': u'Liechtenstein', u'total_medals': 0}, {u'country': u'Switzerland', u'total_medals': 0}, {u'country': u'Austria', u'total_medals': 0}, {u'country': u'Canada', u'total_medals': 0}, {u'country': u'Australia', u'total_medals': 0}, {u'country': u'Austria', u'total_medals': 0}, {u'country': u'Switzerland', u'total_medals': 0}, {u'country': u'Australia', u'total_medals': 0}, {u'country': u'France', u'total_medals': 1}, {u'country': u'Poland', u'total_medals': 0}, {u'country': u'Spain', u'total_medals': 0}, {u'country': u'United States', u'total_medals': 0}, {u'country': u'United States', u'total_medals': 0}, {u'country': u'China', u'total_medals': 0}, {u'country': u'China', u'total_medals': 0}, {u'country': u'China', u'total_medals': 0}, {u'country': u'China', u'total_medals': 0}, {u'country': u'China', u'total_medals': 0}, {u'country': u'China', u'total_medals': 0}, {u'country': u'China', u'total_medals': 0}, {u'country': u'France', u'total_medals': 0}, {u'country': u'Spain', u'total_medals': 0}, {u'country': u'Czech Republic', u'total_medals': 0}, {u'country': u'Bulgaria', u'total_medals': 0}, {u'country': u'Romania', u'total_medals': 0}, {u'country': u'Poland', u'total_medals': 0}, {u'country': u'Italy', u'total_medals': 0}, {u'country': u'Norway', u'total_medals': 0}, {u'country': u'Estonia', u'total_medals': 0}, {u'country': u'Latvia', u'total_medals': 0}, {u'country': u'Latvia', u'total_medals': 0}, {u'country': u'Romania', u'total_medals': 0}, {u'country': u'Switzerland', u'total_medals': 0}, {u'country': u'Japan', u'total_medals': 0}, {u'country': u'Switzerland', u'total_medals': 0}, {u'country': u'Austria', u'total_medals': 0}, {u'country': u'Austria', u'total_medals': 0}, {u'country': u'Denmark', u'total_medals': 0}, {u'country': u'Canada', u'total_medals': 0}, {u'country': u'New Zealand', u'total_medals': 0}, {u'country': u'New Zealand', u'total_medals': 0}, {u'country': u'Great Britain', u'total_medals': 0}, {u'country': u'Russian Fed.', u'total_medals': 0}, {u'country': u'Austria', u'total_medals': 0}, {u'country': u'Spain', u'total_medals': 0}, {u'country': u'Austria', u'total_medals': 0}, {u'country': u'Austria', u'total_medals': 0}, {u'country': u'Serbia', u'total_medals': 0}, {u'country': u'Switzerland', u'total_medals': 0}, {u'country': u'Switzerland', u'total_medals': 0}, {u'country': u'France', u'total_medals': 0}, {u'country': u'Austria', u'total_medals': 0}, {u'country': u'Slovakia', u'total_medals': 0}, {u'country': u'Japan', u'total_medals': 1}, {u'country': u'United States', u'total_medals': 0}, {u'country': u'Switzerland', u'total_medals': 0}, {u'country': u'Switzerland', u'total_medals': 0}, {u'country': u'Netherlands', u'total_medals': 0}, {u'country': u'Germany', u'total_medals': 0}, {u'country': u'Slovakia', u'total_medals': 0}, {u'country': u'Great Britain', u'total_medals': 0}, {u'country': u'Canada', u'total_medals': 0}, {u'country': u'Switzerland', u'total_medals': 0}, {u'country': u'Finland', u'total_medals': 0}, {u'country': u'Finland', u'total_medals': 0}, {u'country': u'Finland', u'total_medals': 0}, {u'country': u'Japan', u'total_medals': 0}, {u'country': u'Canada', u'total_medals': 0}, {u'country': u'Slovenia', u'total_medals': 0}, {u'country': u'Slovenia', u'total_medals': 0}, {u'country': u'Germany', u'total_medals': 0}, {u'country': u'Austria', u'total_medals': 0}, {u'country': u'Slovenia', u'total_medals': 0}, {u'country': u'Germany', u'total_medals': 0}, {u'country': u'Peru', u'total_medals': 0}, {u'country': u'Italy', u'total_medals': 0}, {u'country': u'Canada', u'total_medals': 0}, {u'country': u'Italy', u'total_medals': 0}, {u'country': u'Latvia', u'total_medals': 0}, {u'country': u'Latvia', u'total_medals': 0}, {u'country': u'Norway', u'total_medals': 0}, {u'country': u'France', u'total_medals': 1}, {u'country': u'Germany', u'total_medals': 1}, {u'country': u'Slovenia', u'total_medals': 0}, {u'country': u'Slovenia', u'total_medals': 0}, {u'country': u'Slovenia', u'total_medals': 0}, {u'country': u'Slovenia', u'total_medals': 0}, {u'country': u'Lithuania', u'total_medals': 0}, {u'country': u'Italy', u'total_medals': 0}, {u'country': u'Italy', u'total_medals': 0}, {u'country': u'Estonia', u'total_medals': 0}, {u'country': u'France', u'total_medals': 0}, {u'country': u'Czech Republic', u'total_medals': 0}, {u'country': u'Switzerland', u'total_medals': 0}, {u'country': u'Czech Republic', u'total_medals': 0}, {u'country': u'Kazakhstan', u'total_medals': 0}, {u'country': u'Kazakhstan', u'total_medals': 0}, {u'country': u'Switzerland', u'total_medals': 0}, {u'country': u'Switzerland', u'total_medals': 0}, {u'country': u'Ukraine', u'total_medals': 0}, {u'country': u'Austria', u'total_medals': 0}, {u'country': u'Switzerland', u'total_medals': 0}, {u'country': u'Netherlands', u'total_medals': 1}, {u'country': u'Latvia', u'total_medals': 0}, {u'country': u'France', u'total_medals': 0}, {u'country': u'Finland', u'total_medals': 0}, {u'country': u'Finland', u'total_medals': 0}, {u'country': u'Canada', u'total_medals': 0}, {u'country': u'Great Britain', u'total_medals': 0}, {u'country': u'Canada', u'total_medals': 0}, {u'country': u'Australia', u'total_medals': 0}, {u'country': u'Great Britain', u'total_medals': 0}, {u'country': u'Hungary', u'total_medals': 0}, {u'country': u'Canada', u'total_medals': 0}, {u'country': u'China', u'total_medals': 0}, {u'country': u'Japan', u'total_medals': 0}, {u'country': u'Norway', u'total_medals': 0}, {u'country': u'Ukraine', u'total_medals': 0}, {u'country': u'Russian Fed.', u'total_medals': 0}, {u'country': u'Russian Fed.', u'total_medals': 0}, {u'country': u'United States', u'total_medals': 0}, {u'country': u'Australia', u'total_medals': 0}, {u'country': u'United States', u'total_medals': 0}, {u'country': u'Canada', u'total_medals': 0}, {u'country': u'Switzerland', u'total_medals': 0}, {u'country': u'Canada', u'total_medals': 0}, {u'country': u'Canada', u'total_medals': 0}, {u'country': u'United States', u'total_medals': 0}, {u'country': u'United States', u'total_medals': 0}, {u'country': u'United States', u'total_medals': 0}, {u'country': u'United States', u'total_medals': 0}, {u'country': u'United States', u'total_medals': 0}, {u'country': u'Japan', u'total_medals': 0}, {u'country': u'Japan', u'total_medals': 0}, {u'country': u'Japan', u'total_medals': 0}, {u'country': u'Turkey', u'total_medals': 0}, {u'country': u'Slovenia', u'total_medals': 0}, {u'country': u'Germany', u'total_medals': 0}, {u'country': u'United States', u'total_medals': 0}, {u'country': u'Iceland', u'total_medals': 0}, {u'country': u'United States', u'total_medals': 1}, {u'country': u'Finland', u'total_medals': 0}, {u'country': u'Finland', u'total_medals': 0}, {u'country': u'Brazil', u'total_medals': 0}, {u'country': u'Argentina', u'total_medals': 0}, {u'country': u'Australia', u'total_medals': 0}, {u'country': u'Australia', u'total_medals': 0}, {u'country': u'Finland', u'total_medals': 0}, {u'country': u'Australia', u'total_medals': 0}, {u'country': u'Finland', u'total_medals': 0}, {u'country': u'Finland', u'total_medals': 0}, {u'country': u'Finland', u'total_medals': 0}, {u'country': u'Finland', u'total_medals': 0}, {u'country': u'Italy', u'total_medals': 0}, {u'country': u'Canada', u'total_medals': 0}, {u'country': u'Germany', u'total_medals': 0}, {u'country': u'Latvia', u'total_medals': 0}, {u'country': u'Hungary', u'total_medals': 0}, {u'country': u'Switzerland', u'total_medals': 0}, {u'country': u'Italy', u'total_medals': 0}, {u'country': u'Germany', u'total_medals': 0}, {u'country': u'Sweden', u'total_medals': 0}, {u'country': u'Italy', u'total_medals': 0}, {u'country': u'Switzerland', u'total_medals': 0}, {u'country': u'Switzerland', u'total_medals': 0}, {u'country': u'Switzerland', u'total_medals': 1}, {u'country': u'Korea', u'total_medals': 1}, {u'country': u'Korea', u'total_medals': 0}, {u'country': u'Korea', u'total_medals': 1}, {u'country': u'Switzerland', u'total_medals': 0}, {u'country': u'Netherlands', u'total_medals': 0}, {u'country': u'Finland', u'total_medals': 0}, {u'country': u'Switzerland', u'total_medals': 0}, {u'country': u'Sweden', u'total_medals': 0}, {u'country': u'Sweden', u'total_medals': 0}, {u'country': u'Spain', u'total_medals': 0}, {u'country': u'Sweden', u'total_medals': 0}, {u'country': u'Germany', u'total_medals': 0}, {u'country': u'United States', u'total_medals': 0}, {u'country': u'Japan', u'total_medals': 0}, {u'country': u'Switzerland', u'total_medals': 0}, {u'country': u'United States', u'total_medals': 0}, {u'country': u'Canada', u'total_medals': 0}, {u'country': u'Czech Republic', u'total_medals': 0}, {u'country': u'Czech Republic', u'total_medals': 0}, {u'country': u'Germany', u'total_medals': 0}, {u'country': u'Japan', u'total_medals': 0}, {u'country': u'Japan', u'total_medals': 0}, {u'country': u'Great Britain', u'total_medals': 0}, {u'country': u'Australia', u'total_medals': 0}, {u'country': u'Canada', u'total_medals': 2}, {u'country': u'Canada', u'total_medals': 0}, {u'country': u'Australia', u'total_medals': 0}, {u'country': u'Ireland', u'total_medals': 0}, {u'country': u'United States', u'total_medals': 0}, {u'country': u'Ireland', u'total_medals': 0}, {u'country': u'Croatia', u'total_medals': 0}, {u'country': u'Italy', u'total_medals': 0}, {u'country': u'Poland', u'total_medals': 0}, {u'country': u'Germany', u'total_medals': 0}, {u'country': u'Poland', u'total_medals': 0}, {u'country': u'Sweden', u'total_medals': 0}, {u'country': u'Norway', u'total_medals': 0}, {u'country': u'Argentina', u'total_medals': 0}, {u'country': u'Monaco', u'total_medals': 0}, {u'country': u'France', u'total_medals': 0}, {u'country': u'France', u'total_medals': 0}, {u'country': u'Canada', u'total_medals': 0}, {u'country': u'Switzerland', u'total_medals': 1}, {u'country': u'Germany', u'total_medals': 0}, {u'country': u'Russian Fed.', u'total_medals': 0}, {u'country': u'Russian Fed.', u'total_medals': 0}, {u'country': u'Russian Fed.', u'total_medals': 0}, {u'country': u'Japan', u'total_medals': 0}, {u'country': u'Korea', u'total_medals': 0}, {u'country': u'Korea', u'total_medals': 0}, {u'country': u'Belgium', u'total_medals': 0}, {u'country': u'Switzerland', u'total_medals': 0}, {u'country': u'Switzerland', u'total_medals': 0}, {u'country': u'Kazakhstan', u'total_medals': 0}, {u'country': u'Russian Fed.', u'total_medals': 0}, {u'country': u'Russian Fed.', u'total_medals': 0}, {u'country': u'Belarus', u'total_medals': 0}, {u'country': u'Russian Fed.', u'total_medals': 0}, {u'country': u'Kazakhstan', u'total_medals': 0}, {u'country': u'Armenia', u'total_medals': 0}, {u'country': u'Russian Fed.', u'total_medals': 0}, {u'country': u'Kazakhstan', u'total_medals': 0}, {u'country': u'Belarus', u'total_medals': 0}, {u'country': u'Russian Fed.', u'total_medals': 0}, {u'country': u'Russian Fed.', u'total_medals': 0}, {u'country': u'Russian Fed.', u'total_medals': 0}, {u'country': u'Ukraine', u'total_medals': 0}, {u'country': u'Ukraine', u'total_medals': 0}, {u'country': u'Korea', u'total_medals': 0}, {u'country': u'Korea', u'total_medals': 0}, {u'country': u'Korea', u'total_medals': 0}, {u'country': u'Korea', u'total_medals': 2}, {u'country': u'Switzerland', u'total_medals': 0}, {u'country': u'Germany', u'total_medals': 1}, {u'country': u'Austria', u'total_medals': 0}, {u'country': u'IR Iran', u'total_medals': 0}, {u'country': u'Korea', u'total_medals': 0}, {u'country': u'New Zealand', u'total_medals': 0}, {u'country': u'Japan', u'total_medals': 0}, {u'country': u'United States', u'total_medals': 0}, {u'country': u'Canada', u'total_medals': 0}, {u'country': u'United States', u'total_medals': 0}, {u'country': u'Canada', u'total_medals': 0}, {u'country': u'Great Britain', u'total_medals': 0}, {u'country': u'New Zealand', u'total_medals': 0}, {u'country': u'Japan', u'total_medals': 0}, {u'country': u'Korea', u'total_medals': 0}, {u'country': u'Japan', u'total_medals': 0}, {u'country': u'Japan', u'total_medals': 0}, {u'country': u'Independent Olymp. participant', u'total_medals': 0}, {u'country': u'Japan', u'total_medals': 0}, {u'country': u'Japan', u'total_medals': 0}, {u'country': u'China', u'total_medals': 0}, {u'country': u'China', u'total_medals': 0}, {u'country': u'China', u'total_medals': 0}, {u'country': u'China', u'total_medals': 0}, {u'country': u'Canada', u'total_medals': 0}, {u'country': u'Estonia', u'total_medals': 0}, {u'country': u'Estonia', u'total_medals': 0}, {u'country': u'Korea', u'total_medals': 0}, {u'country': u'Norway', u'total_medals': 0}, {u'country': u'Switzerland', u'total_medals': 0}, {u'country': u'Italy', u'total_medals': 0}, {u'country': u'Norway', u'total_medals': 0}, {u'country': u'United States', u'total_medals': 0}, {u'country': u'Switzerland', u'total_medals': 0}, {u'country': u'Switzerland', u'total_medals': 0}, {u'country': u'France', u'total_medals': 0}, {u'country': u'Austria', u'total_medals': 0}, {u'country': u'France', u'total_medals': 0}, {u'country': u'Switzerland', u'total_medals': 0}, {u'country': u'Switzerland', u'total_medals': 0}, {u'country': u'Slovenia', u'total_medals': 0}, {u'country': u'Switzerland', u'total_medals': 0}, {u'country': u'Sweden', u'total_medals': 0}, {u'country': u'Germany', u'total_medals': 0}, {u'country': u'Switzerland', u'total_medals': 0}, {u'country': u'United States', u'total_medals': 1}, {u'country': u'Switzerland', u'total_medals': 0}, {u'country': u'Italy', u'total_medals': 0}, {u'country': u'Italy', u'total_medals': 0}, {u'country': u'Switzerland', u'total_medals': 0}, {u'country': u'Ukraine', u'total_medals': 0}, {u'country': u'Netherlands', u'total_medals': 1}, {u'country': u'Norway', u'total_medals': 0}, {u'country': u'Korea', u'total_medals': 0}, {u'country': u'Korea', u'total_medals': 0}, {u'country': u'Sweden', u'total_medals': 0}, {u'country': u'Sweden', u'total_medals': 0}, {u'country': u'Russian Fed.', u'total_medals': 0}, {u'country': u'Ukraine', u'total_medals': 0}, {u'country': u'Croatia', u'total_medals': 0}, {u'country': u'Norway', u'total_medals': 0}, {u'country': u'Germany', u'total_medals': 0}, {u'country': u'Greece', u'total_medals': 0}, {u'country': u'Switzerland', u'total_medals': 0}, {u'country': u'France', u'total_medals': 0}, {u'country': u'United States', u'total_medals': 0}, {u'country': u'Germany', u'total_medals': 0}, {u'country': u'France', u'total_medals': 0}, {u'country': u'Romania', u'total_medals': 0}, {u'country': u'Slovenia', u'total_medals': 0}, {u'country': u'Canada', u'total_medals': 0}, {u'country': u'Norway', u'total_medals': 1}, {u'country': u'United States', u'total_medals': 0}, {u'country': u'Great Britain', u'total_medals': 0}, {u'country': u'Bulgaria', u'total_medals': 0}, {u'country': u'Russian Fed.', u'total_medals': 0}, {u'country': u'Russian Fed.', u'total_medals': 0}, {u'country': u'Germany', u'total_medals': 0}, {u'country': u'Netherlands', u'total_medals': 1}, {u'country': u'Germany', u'total_medals': 0}, {u'country': u'Bulgaria', u'total_medals': 0}, {u'country': u'Austria', u'total_medals': 0}, {u'country': u'Austria', u'total_medals': 0}, {u'country': u'Italy', u'total_medals': 0}, {u'country': u'Germany', u'total_medals': 1}, {u'country': u'Switzerland', u'total_medals': 0}, {u'country': u'Switzerland', u'total_medals': 0}, {u'country': u'Germany', u'total_medals': 0}, {u'country': u'Italy', u'total_medals': 0}, {u'country': u'Norway', u'total_medals': 0}, {u'country': u'New Zealand', u'total_medals': 0}, {u'country': u'Russian Fed.', u'total_medals': 0}, {u'country': u'Germany', u'total_medals': 0}, {u'country': u'Chile', u'total_medals': 0}, {u'country': u'Australia', u'total_medals': 0}, {u'country': u'Germany', u'total_medals': 0}, {u'country': u'France', u'total_medals': 0}, {u'country': u'United States', u'total_medals': 1}, {u'country': u'United States', u'total_medals': 1}, {u'country': u'United States', u'total_medals': 0}, {u'country': u'Norway', u'total_medals': 0}, {u'country': u'Sweden', u'total_medals': 0}, {u'country': u'Great Britain', u'total_medals': 0}, {u'country': u'Albania', u'total_medals': 0}, {u'country': u'United States', u'total_medals': 0}, {u'country': u'Korea', u'total_medals': 2}, {u'country': u'United States', u'total_medals': 0}, {u'country': u'Korea', u'total_medals': 0}, {u'country': u'Korea', u'total_medals': 0}, {u'country': u'Korea', u'total_medals': 0}, {u'country': u'United States', u'total_medals': 0}, {u'country': u'Germany', u'total_medals': 0}, {u'country': u'Finland', u'total_medals': 0}, {u'country': u'Germany', u'total_medals': 0}, {u'country': u'Austria', u'total_medals': 0}, {u'country': u'Germany', u'total_medals': 0}, {u'country': u'Netherlands', u'total_medals': 2}, {u'country': u'Switzerland', u'total_medals': 0}, {u'country': u'Sweden', u'total_medals': 0}, {u'country': u'Norway', u'total_medals': 0}, {u'country': u'Russian Fed.', u'total_medals': 0}, {u'country': u'Netherlands', u'total_medals': 0}, {u'country': u'France', u'total_medals': 0}, {u'country': u'Poland', u'total_medals': 0}, {u'country': u'Norway', u'total_medals': 0}, {u'country': u'Hungary', u'total_medals': 0}, {u'country': u'United States', u'total_medals': 0}, {u'country': u'Korea', u'total_medals': 0}, {u'country': u'Korea', u'total_medals': 0}, {u'country': u'Japan', u'total_medals': 0}, {u'country': u'Japan', u'total_medals': 1}, {u'country': u'Japan', u'total_medals': 1}, {u'country': u'Germany', u'total_medals': 0}, {u'country': u'Bosnia and Herzegovina', u'total_medals': 0}, {u'country': u'Germany', u'total_medals': 0}, {u'country': u'Switzerland', u'total_medals': 0}, {u'country': u'Finland', u'total_medals': 0}, {u'country': u'Switzerland', u'total_medals': 0}, {u'country': u'Canada', u'total_medals': 0}, {u'country': u'Montenegro', u'total_medals': 0}, {u'country': u'Norway', u'total_medals': 0}, {u'country': u'Japan', u'total_medals': 0}, {u'country': u'Slovakia', u'total_medals': 0}, {u'country': u'Russian Fed.', u'total_medals': 0}, {u'country': u'Russian Fed.', u'total_medals': 2}, {u'country': u'Germany', u'total_medals': 1}, {u'country': u'Japan', u'total_medals': 0}, {u'country': u'Russian Fed.', u'total_medals': 0}, {u'country': u'Russian Fed.', u'total_medals': 1}, {u'country': u'Kazakhstan', u'total_medals': 0}, {u'country': u'Australia', u'total_medals': 0}, {u'country': u'United States', u'total_medals': 0}, {u'country': u'United States', u'total_medals': 0}, {u'country': u'Canada', u'total_medals': 0}, {u'country': u'Chinese Taipei', u'total_medals': 0}, {u'country': u'Finland', u'total_medals': 0}, {u'country': u'United States', u'total_medals': 0}, {u'country': u'Finland', u'total_medals': 0}, {u'country': u'Slovenia', u'total_medals': 1}, {u'country': u'Sweden', u'total_medals': 1}, {u'country': u'Bulgaria', u'total_medals': 0}, {u'country': u'Austria', u'total_medals': 0}, {u'country': u'Czech Republic', u'total_medals': 0}, {u'country': u'Slovakia', u'total_medals': 0}, {u'country': u'Canada', u'total_medals': 2}, {u'country': u'Ukraine', u'total_medals': 0}, {u'country': u'Norway', u'total_medals': 1}, {u'country': u'France', u'total_medals': 0}, {u'country': u'France', u'total_medals': 0}, {u'country': u'Germany', u'total_medals': 0}, {u'country': u'Norway', u'total_medals': 0}, {u'country': u'Austria', u'total_medals': 1}, {u'country': u'France', u'total_medals': 0}, {u'country': u'Germany', u'total_medals': 0}, {u'country': u'Germany', u'total_medals': 0}, {u'country': u'Austria', u'total_medals': 0}, {u'country': u'Austria', u'total_medals': 0}, {u'country': u'France', u'total_medals': 0}, {u'country': u'Switzerland', u'total_medals': 0}, {u'country': u'Switzerland', u'total_medals': 0}, {u'country': u'France', u'total_medals': 0}, {u'country': u'Austria', u'total_medals': 1}, {u'country': u'Austria', u'total_medals': 0}, {u'country': u'Austria', u'total_medals': 0}, {u'country': u'Norway', u'total_medals': 0}, {u'country': u'Austria', u'total_medals': 0}, {u'country': u'Austria', u'total_medals': 0}, {u'country': u'Norway', u'total_medals': 0}, {u'country': u'Germany', u'total_medals': 0}, {u'country': u'China', u'total_medals': 1}, {u'country': u'United States', u'total_medals': 0}, {u'country': u'Switzerland', u'total_medals': 0}, {u'country': u'United States', u'total_medals': 0}, {u'country': u'Germany', u'total_medals': 0}, {u'country': u'Switzerland', u'total_medals': 0}, {u'country': u'Slovenia', u'total_medals': 0}, {u'country': u'Romania', u'total_medals': 0}, {u'country': u'Russian Fed.', u'total_medals': 0}, {u'country': u'Canada', u'total_medals': 0}, {u'country': u'Slovenia', u'total_medals': 2}, {u'country': u'Liechtenstein', u'total_medals': 0}, {u'country': u'Germany', u'total_medals': 0}, {u'country': u'Norway', u'total_medals': 1}, {u'country': u'Germany', u'total_medals': 0}, {u'country': u'Germany', u'total_medals': 2}, {u'country': u'Sweden', u'total_medals': 0}, {u'country': u'Switzerland', u'total_medals': 0}, {u'country': u'Germany', u'total_medals': 2}, {u'country': u'United States', u'total_medals': 0}, {u'country': u'Norway', u'total_medals': 0}, {u'country': u'Great Britain', u'total_medals': 0}, {u'country': u'Slovakia', u'total_medals': 0}, {u'country': u'Slovakia', u'total_medals': 0}, {u'country': u'Czech Republic', u'total_medals': 0}, {u'country': u'Lithuania', u'total_medals': 0}, {u'country': u'Slovakia', u'total_medals': 0}, {u'country': u'Czech Republic', u'total_medals': 0}, {u'country': u'Czech Republic', u'total_medals': 0}, {u'country': u'Slovakia', u'total_medals': 0}, {u'country': u'Czech Republic', u'total_medals': 0}, {u'country': u'Czech Republic', u'total_medals': 0}, {u'country': u'Czech Republic', u'total_medals': 0}, {u'country': u'Slovakia', u'total_medals': 0}, {u'country': u'Slovakia', u'total_medals': 0}, {u'country': u'Slovakia', u'total_medals': 0}, {u'country': u'Czech Republic', u'total_medals': 0}, {u'country': u'Slovakia', u'total_medals': 0}, {u'country': u'Latvia', u'total_medals': 0}, {u'country': u'Slovenia', u'total_medals': 0}, {u'country': u'Italy', u'total_medals': 0}, {u'country': u'Italy', u'total_medals': 0}, {u'country': u'Finland', u'total_medals': 0}, {u'country': u'Japan', u'total_medals': 0}, {u'country': u'Japan', u'total_medals': 0}, {u'country': u'Japan', u'total_medals': 0}, {u'country': u'Germany', u'total_medals': 0}, {u'country': u'Switzerland', u'total_medals': 0}, {u'country': u'France', u'total_medals': 0}, {u'country': u'Norway', u'total_medals': 1}, {u'country': u'Australia', u'total_medals': 1}, {u'country': u'Norway', u'total_medals': 0}, {u'country': u'Norway', u'total_medals': 0}, {u'country': u'Norway', u'total_medals': 0}, {u'country': u'United States', u'total_medals': 0}, {u'country': u'United States', u'total_medals': 0}, {u'country': u'Japan', u'total_medals': 0}, {u'country': u'United States', u'total_medals': 0}, {u'country': u'Canada', u'total_medals': 0}, {u'country': u'United States', u'total_medals': 0}, {u'country': u'Canada', u'total_medals': 0}, {u'country': u'Canada', u'total_medals': 0}, {u'country': u'Estonia', u'total_medals': 0}, {u'country': u'Estonia', u'total_medals': 0}, {u'country': u'Canada', u'total_medals': 0}, {u'country': u'Denmark', u'total_medals': 0}, {u'country': u'United States', u'total_medals': 0}, {u'country': u'Bermuda', u'total_medals': 0}, {u'country': u'United States', u'total_medals': 0}, {u'country': u'Turkey', u'total_medals': 0}, {u'country': u'Finland', u'total_medals': 0}, {u'country': u'Finland', u'total_medals': 0}, {u'country': u'United States', u'total_medals': 0}, {u'country': u'Latvia', u'total_medals': 0}, {u'country': u'Germany', u'total_medals': 0}, {u'country': u'Korea', u'total_medals': 0}, {u'country': u'Switzerland', u'total_medals': 0}, {u'country': u'Latvia', u'total_medals': 0}, {u'country': u'Romania', u'total_medals': 0}, {u'country': u'Italy', u'total_medals': 0}, {u'country': u'Ukraine', u'total_medals': 0}, {u'country': u'Sweden', u'total_medals': 0}, {u'country': u'Russian Fed.', u'total_medals': 0}, {u'country': u'Canada', u'total_medals': 1}, {u'country': u'Russian Fed.', u'total_medals': 0}, {u'country': u'Kazakhstan', u'total_medals': 0}, {u'country': u'Russian Fed.', u'total_medals': 0}, {u'country': u'Belarus', u'total_medals': 0}, {u'country': u'Ukraine', u'total_medals': 0}, {u'country': u'Austria', u'total_medals': 0}, {u'country': u'Germany', u'total_medals': 0}, {u'country': u'France', u'total_medals': 0}, {u'country': u'Thailand', u'total_medals': 0}, {u'country': u'Croatia', u'total_medals': 0}, {u'country': u'Czech Republic', u'total_medals': 0}, {u'country': u'Finland', u'total_medals': 0}, {u'country': u'Russian Fed.', u'total_medals': 0}, {u'country': u'Switzerland', u'total_medals': 0}, {u'country': u'Italy', u'total_medals': 0}, {u'country': u'Russian Fed.', u'total_medals': 0}, {u'country': u'Austria', u'total_medals': 0}, {u'country': u'Czech Republic', u'total_medals': 0}, {u'country': u'Austria', u'total_medals': 0}, {u'country': u'France', u'total_medals': 0}, {u'country': u'Bulgaria', u'total_medals': 0}, {u'country': u'Slovenia', u'total_medals': 1}, {u'country': u'Norway', u'total_medals': 0}, {u'country': u'Russian Fed.', u'total_medals': 0}, {u'country': u'Great Britain', u'total_medals': 0}, {u'country': u'Russian Fed.', u'total_medals': 2}, {u'country': u'Spain', u'total_medals': 0}, {u'country': u'Sweden', u'total_medals': 0}, {u'country': u'Rep. of Moldova', u'total_medals': 0}, {u'country': u'Spain', u'total_medals': 0}, {u'country': u'Russian Fed.', u'total_medals': 0}, {u'country': u'Slovakia', u'total_medals': 0}, {u'country': u'Sweden', u'total_medals': 0}, {u'country': u'Hungary', u'total_medals': 0}, {u'country': u'Ukraine', u'total_medals': 0}, {u'country': u'Austria', u'total_medals': 0}, {u'country': u'Estonia', u'total_medals': 0}, {u'country': u'Russian Fed.', u'total_medals': 0}, {u'country': u'Sweden', u'total_medals': 0}, {u'country': u'Germany', u'total_medals': 1}, {u'country': u'Russian Fed.', u'total_medals': 0}, {u'country': u'Finland', u'total_medals': 0}, {u'country': u'Finland', u'total_medals': 0}, {u'country': u'Finland', u'total_medals': 0}, {u'country': u'Finland', u'total_medals': 0}, {u'country': u'France', u'total_medals': 0}, {u'country': u'Canada', u'total_medals': 0}, {u'country': u'San Marino', u'total_medals': 0}, {u'country': u'Austria', u'total_medals': 0}, {u'country': u'Germany', u'total_medals': 0}, {u'country': u'Israel', u'total_medals': 0}, {u'country': u'Italy', u'total_medals': 0}, {u'country': u'Switzerland', u'total_medals': 0}, {u'country': u'Ukraine', u'total_medals': 1}, {u'country': u'Latvia', u'total_medals': 0}, {u'country': u'Belarus', u'total_medals': 0}, {u'country': u'Russian Fed.', u'total_medals': 1}, {u'country': u'Bulgaria', u'total_medals': 0}, {u'country': u'Russian Fed.', u'total_medals': 0}, {u'country': u'Russian Fed.', u'total_medals': 0}, {u'country': u'Bulgaria', u'total_medals': 0}, {u'country': u'Russian Fed.', u'total_medals': 1}, {u'country': u'Israel', u'total_medals': 0}, {u'country': u'Russian Fed.', u'total_medals': 0}, {u'country': u'Russian Fed.', u'total_medals': 0}, {u'country': u'Czech Republic', u'total_medals': 0}, {u'country': u'Belarus', u'total_medals': 0}, {u'country': u'Serbia', u'total_medals': 0}, {u'country': u'Russian Fed.', u'total_medals': 0}, {u'country': u'Lithuania', u'total_medals': 0}, {u'country': u'China', u'total_medals': 0}, {u'country': u'Estonia', u'total_medals': 0}, {u'country': u'Jamaica', u'total_medals': 0}, {u'country': u'Switzerland', u'total_medals': 0}, {u'country': u'China', u'total_medals': 0}, {u'country': u'China', u'total_medals': 0}, {u'country': u'Italy', u'total_medals': 0}, {u'country': u'Poland', u'total_medals': 0}, {u'country': u'Austria', u'total_medals': 0}, {u'country': u'Canada', u'total_medals': 0}, {u'country': u'Italy', u'total_medals': 0}, {u'country': u'Jamaica', u'total_medals': 0}, {u'country': u'Austria', u'total_medals': 0}, {u'country': u'Austria', u'total_medals': 1}, {u'country': u'France', u'total_medals': 0}, {u'country': u'China', u'total_medals': 0}, {u'country': u'China', u'total_medals': 0}, {u'country': u'China', u'total_medals': 0}, {u'country': u'China', u'total_medals': 0}, {u'country': u'China', u'total_medals': 0}, {u'country': u'China', u'total_medals': 0}, {u'country': u'China', u'total_medals': 0}, {u'country': u'Ukraine', u'total_medals': 0}, {u'country': u'Kazakhstan', u'total_medals': 0}, {u'country': u'China', u'total_medals': 0}, {u'country': u'China', u'total_medals': 0}, {u'country': u'Russian Fed.', u'total_medals': 0}, {u'country': u'China', u'total_medals': 1}, {u'country': u'Switzerland', u'total_medals': 0}, {u'country': u'Switzerland', u'total_medals': 0}, {u'country': u'Netherlands', u'total_medals': 0}, {u'country': u'Kazakhstan', u'total_medals': 0}, {u'country': u'Russian Fed.', u'total_medals': 0}, {u'country': u'Russian Fed.', u'total_medals': 0}, {u'country': u'Russian Fed.', u'total_medals': 0}, {u'country': u'Russian Fed.', u'total_medals': 0}, {u'country': u'Russian Fed.', u'total_medals': 0}, {u'country': u'Russian Fed.', u'total_medals': 0}, {u'country': u'Russian Fed.', u'total_medals': 0}, {u'country': u'Russian Fed.', u'total_medals': 0}, {u'country': u'Kazakhstan', u'total_medals': 0}, {u'country': u'Kazakhstan', u'total_medals': 0}, {u'country': u'Kazakhstan', u'total_medals': 0}, {u'country': u'Russian Fed.', u'total_medals': 0}, {u'country': u'Russian Fed.', u'total_medals': 0}, {u'country': u'Kazakhstan', u'total_medals': 0}, {u'country': u'Russian Fed.', u'total_medals': 0}, {u'country': u'China', u'total_medals': 0}, {u'country': u'China', u'total_medals': 0}, {u'country': u'China', u'total_medals': 0}, {u'country': u'Timor-Leste', u'total_medals': 0}, {u'country': u'Japan', u'total_medals': 0}, {u'country': u'Chile', u'total_medals': 0}, {u'country': u'Japan', u'total_medals': 0}, {u'country': u'Ukraine', u'total_medals': 0}, {u'country': u'Korea', u'total_medals': 0}, {u'country': u'Korea', u'total_medals': 0}, {u'country': u'Korea', u'total_medals': 0}, {u'country': u'Japan', u'total_medals': 0}, {u'country': u'Japan', u'total_medals': 0}, {u'country': u'Japan', u'total_medals': 0}, {u'country': u'Japan', u'total_medals': 0}, {u'country': u'Japan', u'total_medals': 0}, {u'country': u'Japan', u'total_medals': 0}, {u'country': u'Japan', u'total_medals': 0}, {u'country': u'Japan', u'total_medals': 0}, {u'country': u'Japan', u'total_medals': 0}, {u'country': u'Canada', u'total_medals': 0}, {u'country': u'Kazakhstan', u'total_medals': 0}, {u'country': u'Russian Fed.', u'total_medals': 0}, {u'country': u'Russian Fed.', u'total_medals': 1}, {u'country': u'Russian Fed.', u'total_medals': 0}, {u'country': u'Russian Fed.', u'total_medals': 0}, {u'country': u'Russian Fed.', u'total_medals': 0}, {u'country': u'Russian Fed.', u'total_medals': 0}, {u'country': u'Japan', u'total_medals': 0}, {u'country': u'Korea', u'total_medals': 0}, {u'country': u'Korea', u'total_medals': 0}, {u'country': u'Korea', u'total_medals': 0}, {u'country': u'Italy', u'total_medals': 0}, {u'country': u'Belarus', u'total_medals': 0}, {u'country': u'Russian Fed.', u'total_medals': 0}, {u'country': u'Ukraine', u'total_medals': 0}, {u'country': u'Japan', u'total_medals': 0}, {u'country': u'Japan', u'total_medals': 0}, {u'country': u'Belarus', u'total_medals': 0}, {u'country': u'Japan', u'total_medals': 0}, {u'country': u'Japan', u'total_medals': 0}, {u'country': u'China', u'total_medals': 0}, {u'country': u'Japan', u'total_medals': 0}, {u'country': u'Japan', u'total_medals': 0}, {u'country': u'Japan', u'total_medals': 1}, {u'country': u'Italy', u'total_medals': 0}, {u'country': u'Netherlands', u'total_medals': 0}, {u'country': u'United States', u'total_medals': 0}, {u'country': u'Slovenia', u'total_medals': 0}, {u'country': u'Slovenia', u'total_medals': 0}, {u'country': u'Bosnia and Herzegovina', u'total_medals': 0}, {u'country': u'Latvia', u'total_medals': 0}, {u'country': u'Poland', u'total_medals': 1}, {u'country': u'Czech Republic', u'total_medals': 0}, {u'country': u'Slovakia', u'total_medals': 0}, {u'country': u'Latvia', u'total_medals': 0}, {u'country': u'Kazakhstan', u'total_medals': 0}, {u'country': u'Kazakhstan', u'total_medals': 0}, {u'country': u'China', u'total_medals': 0}, {u'country': u'China', u'total_medals': 0}, {u'country': u'China', u'total_medals': 0}, {u'country': u'Slovenia', u'total_medals': 0}, {u'country': u'Slovenia', u'total_medals': 0}, {u'country': u'Slovenia', u'total_medals': 0}, {u'country': u'China', u'total_medals': 0}, {u'country': u'Canada', u'total_medals': 0}, {u'country': u'Great Britain', u'total_medals': 0}, {u'country': u'Romania', u'total_medals': 0}, {u'country': u'China', u'total_medals': 1}, {u'country': u'Hungary', u'total_medals': 0}, {u'country': u'Slovakia', u'total_medals': 0}]\n"
     ]
    }
   ],
   "source": [
    "# Count country with at least 10 medals\n",
    "print list(db.atleti.aggregate([\n",
    "        {'$project': {'country': 1, 'total_medals': 1, '_id': 0}},#considero solo le colonne 'country' e 'medals'\n",
    "        #{'$group': {'_id': '$country', 'medals': {'$sum': '$total_medals'}}},#$ premesso al nome di un campo, \n",
    "                    #restituisce il valore del campo, sul quale quindi deve essere agita un'operazione\n",
    "        #{'$match': {'medals': {'$gt': 20}}},\n",
    "        #{'$sort': {'medals': 1}}\n",
    "    ]))"
   ]
  },
  {
   "cell_type": "code",
   "execution_count": 70,
   "metadata": {
    "collapsed": false
   },
   "outputs": [
    {
     "name": "stdout",
     "output_type": "stream",
     "text": [
      "[{u'_id': u'Timor-Leste', u'medals': 0}, {u'_id': u'Bermuda', u'medals': 0}, {u'_id': u'Philippines', u'medals': 0}, {u'_id': u'Liechtenstein', u'medals': 0}, {u'_id': u'Peru', u'medals': 0}, {u'_id': u'Thailand', u'medals': 0}, {u'_id': u'Paraguay', u'medals': 0}, {u'_id': u'Independent Olymp. participant', u'medals': 0}, {u'_id': u'San Marino', u'medals': 0}, {u'_id': u'IR Iran', u'medals': 0}, {u'_id': u'Kyrgyzstan', u'medals': 0}, {u'_id': u'Albania', u'medals': 0}, {u'_id': u'Malta', u'medals': 0}, {u'_id': u'Cayman Islands', u'medals': 0}, {u'_id': u'Iceland', u'medals': 0}, {u'_id': u'Tonga', u'medals': 0}, {u'_id': u'China', u'medals': 6}, {u'_id': u'Belgium', u'medals': 0}, {u'_id': u'Uzbekistan', u'medals': 0}, {u'_id': u'Argentina', u'medals': 0}, {u'_id': u'Mongolia', u'medals': 0}, {u'_id': u'Armenia', u'medals': 0}, {u'_id': u'Venezuela', u'medals': 0}, {u'_id': u'Estonia', u'medals': 0}, {u'_id': u'Sweden', u'medals': 15}, {u'_id': u'Jamaica', u'medals': 0}, {u'_id': u'Montenegro', u'medals': 0}, {u'_id': u'Austria', u'medals': 13}, {u'_id': u'Switzerland', u'medals': 9}, {u'_id': u'\"Hong Ko', u'medals': 0}, {u'_id': u'Chile', u'medals': 0}, {u'_id': u'Australia', u'medals': 3}, {u'_id': u'Great Britain', u'medals': 2}, {u'_id': u'Norway', u'medals': 18}, {u'_id': u'Latvia', u'medals': 7}, {u'_id': u'Chinese Taipei', u'medals': 0}, {u'_id': u'Bulgaria', u'medals': 0}, {u'_id': u'Lithuania', u'medals': 0}, {u'_id': u'Poland', u'medals': 4}, {u'_id': u'Kazakhstan', u'medals': 1}, {u'_id': u'Ireland', u'medals': 0}, {u'_id': u'Italy', u'medals': 9}, {u'_id': u'Netherlands', u'medals': 20}, {u'_id': u'Hungary', u'medals': 0}, {u'_id': u'Cyprus', u'medals': 0}, {u'_id': u'Andorra', u'medals': 0}, {u'_id': u'Bosnia and Herzegovina', u'medals': 0}, {u'_id': u'Israel', u'medals': 0}, {u'_id': u'Portugal', u'medals': 0}, {u'_id': u'Morocco', u'medals': 0}, {u'_id': u'Togo', u'medals': 0}, {u'_id': u'Ukraine', u'medals': 1}, {u'_id': u'The Former Yugoslav Republic of Macedonia', u'medals': 0}, {u'_id': u'Finland', u'medals': 5}, {u'_id': u'Japan', u'medals': 9}, {u'_id': u'France', u'medals': 11}, {u'_id': u'United States', u'medals': 28}, {u'_id': u'Spain', u'medals': 0}, {u'_id': u'Mexico', u'medals': 0}, {u'_id': u'Czech Republic', u'medals': 6}, {u'_id': u'Germany', u'medals': 26}, {u'_id': u'Slovakia', u'medals': 1}, {u'_id': u'Korea', u'medals': 8}, {u'_id': u'Denmark', u'medals': 0}, {u'_id': u'Tajikistan', u'medals': 0}, {u'_id': u'Rep. of Moldova', u'medals': 0}, {u'_id': u'Serbia', u'medals': 0}, {u'_id': u'Zimbabwe', u'medals': 0}, {u'_id': u'Canada', u'medals': 28}, {u'_id': u'Georgia', u'medals': 0}, {u'_id': u'Monaco', u'medals': 0}, {u'_id': u'Brazil', u'medals': 0}, {u'_id': u'Slovenia', u'medals': 6}, {u'_id': u'Croatia', u'medals': 1}, {u'_id': u'Lebanon', u'medals': 0}, {u'_id': u'Pakistan', u'medals': 0}, {u'_id': u'Russian Fed.', u'medals': 38}, {u'_id': u'Greece', u'medals': 0}, {u'_id': u'Luxembourg', u'medals': 0}, {u'_id': u'Romania', u'medals': 0}, {u'_id': u'Azerbaijan', u'medals': 0}, {u'_id': u'Turkey', u'medals': 0}, {u'_id': u'\"Virgin I', u'medals': 0}, {u'_id': u'Nepal', u'medals': 0}, {u'_id': u'New Zealand', u'medals': 0}, {u'_id': u'Belarus', u'medals': 6}, {u'_id': u'Dominica', u'medals': 0}]\n"
     ]
    }
   ],
   "source": [
    "# Count country with at least 10 medals\n",
    "print list(db.atleti.aggregate([\n",
    "        {'$project': {'country': 1, 'total_medals': 1, '_id': 0}},#considero solo le colonne 'country' e 'medals'\n",
    "        {'$group': {'_id': '$country', 'medals': {'$sum': '$total_medals'}}},#$ premesso al nome di un campo, \n",
    "                    #restituisce il valore del campo, sul quale quindi deve essere agita un'operazione\n",
    "        #{'$match': {'medals': {'$gt': 20}}},\n",
    "        #{'$sort': {'medals': 1}}\n",
    "    ]))"
   ]
  },
  {
   "cell_type": "code",
   "execution_count": 71,
   "metadata": {
    "collapsed": false
   },
   "outputs": [
    {
     "name": "stdout",
     "output_type": "stream",
     "text": [
      "[{u'_id': u'United States', u'medals': 28}, {u'_id': u'Germany', u'medals': 26}, {u'_id': u'Canada', u'medals': 28}, {u'_id': u'Russian Fed.', u'medals': 38}]\n"
     ]
    }
   ],
   "source": [
    "# Count country with at least 10 medals\n",
    "print list(db.atleti.aggregate([\n",
    "        {'$project': {'country': 1, 'total_medals': 1, '_id': 0}},#considero solo le colonne 'country' e 'medals'\n",
    "        {'$group': {'_id': '$country', 'medals': {'$sum': '$total_medals'}}},#$ premesso al nome di un campo, \n",
    "                    #restituisce il valore del campo, sul quale quindi deve essere agita un'operazione\n",
    "        {'$match': {'medals': {'$gt': 20}}},\n",
    "        #{'$sort': {'medals': 1}}\n",
    "    ]))"
   ]
  },
  {
   "cell_type": "code",
   "execution_count": 68,
   "metadata": {
    "collapsed": false
   },
   "outputs": [
    {
     "name": "stdout",
     "output_type": "stream",
     "text": [
      "226\n",
      "\n",
      "-----\n",
      "\n",
      "{u'count': 226, u'_id': u'count'}\n",
      "\n",
      "-----\n",
      "\n",
      "[{u'_id': u'Germany', u'medals': 26}, {u'_id': u'United States', u'medals': 28}, {u'_id': u'Canada', u'medals': 28}, {u'_id': u'Russian Fed.', u'medals': 38}]\n",
      "\n",
      "-----\n",
      "\n",
      "{u'_id': u'Germany', u'medals': 26}\n",
      "{u'_id': u'United States', u'medals': 28}\n",
      "{u'_id': u'Canada', u'medals': 28}\n",
      "{u'_id': u'Russian Fed.', u'medals': 38}\n"
     ]
    }
   ],
   "source": [
    "db = client.olimpiadi\n",
    "\n",
    "# How many people from Italy and France?\n",
    "print len(list(db.atleti.aggregate([\n",
    "                {'$match': {'country': {'$in':['Italy', 'France']}}}\n",
    "            ])))\n",
    "\n",
    "print \"\\n-----\\n\"\n",
    "\n",
    "# Count them using only the pipeline \n",
    "print db.atleti.aggregate([\n",
    "        {'$match': {'country': {'$in':['Italy', 'France']}}},\n",
    "        {'$group': {'_id': 'count', 'count': {'$sum': 1}}}\n",
    "    ]).next()\n",
    "\n",
    "print \"\\n-----\\n\"\n",
    "\n",
    "# Count people with at least 10 medals\n",
    "print list(db.atleti.aggregate([\n",
    "        {'$project': {'country': 1, 'total_medals': 1, '_id': 0}},\n",
    "        {'$group': {'_id': '$country', 'medals': {'$sum': '$total_medals'}}},\n",
    "        {'$match': {'medals': {'$gt': 20}}},\n",
    "        {'$sort': {'medals': 1}}\n",
    "    ]))\n",
    "\n",
    "\n",
    "print \"\\n-----\\n\"\n",
    "\n",
    "# The same as before\n",
    "country_with_more_than_ten_medals = db.atleti.aggregate([\n",
    "        {'$project': {'country': 1, 'total_medals': 1, '_id': 0}},\n",
    "        {'$group': {'_id': '$country', 'medals': {'$sum': '$total_medals'}}},\n",
    "        {'$match': {'medals': {'$gt': 20}}},\n",
    "        {'$sort': {'medals': 1}}\n",
    "    ])\n",
    "for entry in country_with_more_than_ten_medals:\n",
    "    print entry\n",
    "\n"
   ]
  },
  {
   "cell_type": "markdown",
   "metadata": {},
   "source": [
    "MapReduce\n",
    "----------\n",
    "\n",
    "MongoDB is powered by the V8 javascript engine, this means that each mongod node is able to run javascript code.\n",
    "With an high enough number of mongod nodes, you actually end up with a powerful execution environment for distributed code that also copes with the major problem of data locality.\n",
    "\n",
    "For this reason MongoDB exposes a **mapreduce** function which can be leveraged in shareded environments to run map reduce jobs.\n",
    "Note that the Aggregation Pipeline is usually faster than the mapReduce feature, and it scales with the number of nodes as mapReduce, so you should rely on MapReduce only when the algorithm cannot be efficiently expressed with the Aggregation Pipeline."
   ]
  },
  {
   "cell_type": "code",
   "execution_count": 72,
   "metadata": {
    "collapsed": false
   },
   "outputs": [
    {
     "name": "stdout",
     "output_type": "stream",
     "text": [
      "{u'_id': u'Croatia', u'value': 1.0}\n",
      "{u'_id': u'Kazakhstan', u'value': 1.0}\n",
      "{u'_id': u'Slovakia', u'value': 1.0}\n",
      "{u'_id': u'Ukraine', u'value': 1.0}\n",
      "{u'_id': u'Great Britain', u'value': 2.0}\n",
      "{u'_id': u'Australia', u'value': 3.0}\n",
      "{u'_id': u'Poland', u'value': 4.0}\n",
      "{u'_id': u'Finland', u'value': 5.0}\n",
      "{u'_id': u'Belarus', u'value': 6.0}\n",
      "{u'_id': u'China', u'value': 6.0}\n",
      "{u'_id': u'Czech Republic', u'value': 6.0}\n",
      "{u'_id': u'Slovenia', u'value': 6.0}\n",
      "{u'_id': u'Latvia', u'value': 7.0}\n",
      "{u'_id': u'Korea', u'value': 8.0}\n",
      "{u'_id': u'Italy', u'value': 9.0}\n",
      "{u'_id': u'Japan', u'value': 9.0}\n",
      "{u'_id': u'Switzerland', u'value': 9.0}\n",
      "{u'_id': u'France', u'value': 11.0}\n",
      "{u'_id': u'Austria', u'value': 13.0}\n",
      "{u'_id': u'Sweden', u'value': 15.0}\n",
      "{u'_id': u'Norway', u'value': 18.0}\n",
      "{u'_id': u'Netherlands', u'value': 20.0}\n",
      "{u'_id': u'Germany', u'value': 26.0}\n",
      "{u'_id': u'Canada', u'value': 28.0}\n",
      "{u'_id': u'United States', u'value': 28.0}\n",
      "{u'_id': u'Russian Fed.', u'value': 38.0}\n"
     ]
    }
   ],
   "source": [
    "#per ogni country somma tutte le medaglie\n",
    "#'''...''' serve per inserire stringhe lunghe che vanno anche a capo\n",
    "#in Java non si po'u fare il multistep, ecco perch il reduce torna solo il value e non la coppia key\\tvalue\n",
    "#key va nell'_id\n",
    "db.atleti.map_reduce(map='''function(){\n",
    "            var country = this.country;\n",
    "            var medals = parseInt(this.total_medals);\n",
    "            emit(country, medals);\n",
    "        }''', reduce='''function(key, values){\n",
    "            return Array.sum(values)\n",
    "        }''',out='medalsfrequency')\n",
    "\n",
    "for entry in db.medalsfrequency.find().sort('value'):\n",
    "    if entry['value'] > 0:\n",
    "        print entry"
   ]
  },
  {
   "cell_type": "code",
   "execution_count": null,
   "metadata": {
    "collapsed": true
   },
   "outputs": [],
   "source": [
    "\n",
    "db.atleti.map_reduce(map='''function(){\n",
    "            var country = this.country;\n",
    "            var medals = parseInt(this.total_medals);\n",
    "            emit(country, medals);\n",
    "        }''', reduce='''function(key, values){\n",
    "            return Array.sum(values)\n",
    "        }''',out='medalsfrequency')\n",
    "\n",
    "for entry in db.medalsfrequency.find().sort('value'):\n",
    "    if entry['value'] > 0:\n",
    "        print entry"
   ]
  },
  {
   "cell_type": "markdown",
   "metadata": {},
   "source": [
    "## Esercizio 1\n",
    "\n",
    "Utilizzando il dataset, calcolare per ogni età il numero di atleti.\n",
    "\n",
    "## Esercizio 2\n",
    "\n",
    "Partendo dall'esercizio precedente, restituire come output l'eta' con il numero maggiore di occorrenze.\n",
    "\n",
    "## Esercizio 3\n",
    "\n",
    "Calcolare il numero di uomini e donne per ogni eta'.\n"
   ]
  },
  {
   "cell_type": "code",
   "execution_count": 73,
   "metadata": {
    "collapsed": false
   },
   "outputs": [
    {
     "name": "stdout",
     "output_type": "stream",
     "text": [
      "{u'_id': u'45', u'value': 1.0}\n",
      "{u'_id': u'46', u'value': 1.0}\n",
      "{u'_id': u'47', u'value': 1.0}\n",
      "{u'_id': u'55', u'value': 1.0}\n",
      "{u'_id': u'48', u'value': 2.0}\n",
      "{u'_id': u'43', u'value': 3.0}\n",
      "{u'_id': u'44', u'value': 4.0}\n",
      "{u'_id': u'42', u'value': 5.0}\n",
      "{u'_id': u'40', u'value': 8.0}\n",
      "{u'_id': u'15', u'value': 9.0}\n",
      "{u'_id': u'41', u'value': 10.0}\n",
      "{u'_id': u'38', u'value': 13.0}\n",
      "{u'_id': u'39', u'value': 13.0}\n",
      "{u'_id': u'37', u'value': 17.0}\n",
      "{u'_id': u'16', u'value': 18.0}\n",
      "{u'_id': u'36', u'value': 32.0}\n",
      "{u'_id': u'17', u'value': 39.0}\n",
      "{u'_id': u'34', u'value': 46.0}\n",
      "{u'_id': u'35', u'value': 52.0}\n",
      "{u'_id': u'33', u'value': 73.0}\n",
      "{u'_id': u'32', u'value': 83.0}\n",
      "{u'_id': u'18', u'value': 85.0}\n",
      "{u'_id': u'19', u'value': 100.0}\n",
      "{u'_id': u'31', u'value': 110.0}\n",
      "{u'_id': u'20', u'value': 127.0}\n",
      "{u'_id': u'30', u'value': 135.0}\n",
      "{u'_id': u'29', u'value': 165.0}\n",
      "{u'_id': u'21', u'value': 181.0}\n",
      "{u'_id': u'28', u'value': 199.0}\n",
      "{u'_id': u'27', u'value': 207.0}\n",
      "{u'_id': u'25', u'value': 211.0}\n",
      "{u'_id': u'22', u'value': 220.0}\n",
      "{u'_id': u'26', u'value': 225.0}\n",
      "{u'_id': u'23', u'value': 229.0}\n",
      "{u'_id': u'24', u'value': 234.0}\n"
     ]
    }
   ],
   "source": [
    "#Esercizio 1\n",
    "db.atleti.map_reduce(map='''function(){\n",
    "            var age = this.age;\n",
    "            emit(age, 1);\n",
    "        }''', reduce='''function(key, values){\n",
    "            return Array.sum(values)\n",
    "        }''',out='agefrequency')\n",
    "\n",
    "for entry in db.agefrequency.find().sort('value'):\n",
    "    if entry['value'] > 0:\n",
    "        print entry"
   ]
  },
  {
   "cell_type": "code",
   "execution_count": 84,
   "metadata": {
    "collapsed": false
   },
   "outputs": [
    {
     "name": "stdout",
     "output_type": "stream",
     "text": [
      "{u'_id': u'24', u'value': 234.0}\n"
     ]
    }
   ],
   "source": [
    "#Esercizio 2\n",
    "db.atleti.map_reduce(map='''function(){\n",
    "            emit(this.age, 1);\n",
    "        }''', reduce='''function(key, values){\n",
    "            return Array.sum(values)\n",
    "        }''',out='agefrequency')\n",
    "\n",
    "maxAge = db.agefrequency.find().sort('value', -1)\n",
    "print maxAge[0]"
   ]
  },
  {
   "cell_type": "code",
   "execution_count": 86,
   "metadata": {
    "collapsed": false
   },
   "outputs": [
    {
     "name": "stdout",
     "output_type": "stream",
     "text": [
      "{u'_id': u'26 Male', u'value': 137.0}\n",
      "{u'_id': u'22 Male', u'value': 129.0}\n",
      "{u'_id': u'25 Male', u'value': 128.0}\n",
      "{u'_id': u'23 Male', u'value': 127.0}\n",
      "{u'_id': u'27 Male', u'value': 127.0}\n",
      "{u'_id': u'24 Male', u'value': 126.0}\n",
      "{u'_id': u'28 Male', u'value': 125.0}\n",
      "{u'_id': u'29 Male', u'value': 110.0}\n",
      "{u'_id': u'24 Female', u'value': 108.0}\n",
      "{u'_id': u'23 Female', u'value': 102.0}\n",
      "{u'_id': u'21 Female', u'value': 92.0}\n",
      "{u'_id': u'22 Female', u'value': 91.0}\n",
      "{u'_id': u'30 Male', u'value': 91.0}\n",
      "{u'_id': u'21 Male', u'value': 89.0}\n",
      "{u'_id': u'26 Female', u'value': 88.0}\n",
      "{u'_id': u'25 Female', u'value': 83.0}\n",
      "{u'_id': u'27 Female', u'value': 80.0}\n",
      "{u'_id': u'20 Male', u'value': 74.0}\n",
      "{u'_id': u'28 Female', u'value': 74.0}\n",
      "{u'_id': u'31 Male', u'value': 72.0}\n",
      "{u'_id': u'32 Male', u'value': 58.0}\n",
      "{u'_id': u'29 Female', u'value': 55.0}\n",
      "{u'_id': u'20 Female', u'value': 53.0}\n",
      "{u'_id': u'19 Male', u'value': 52.0}\n",
      "{u'_id': u'33 Male', u'value': 51.0}\n",
      "{u'_id': u'19 Female', u'value': 48.0}\n",
      "{u'_id': u'18 Female', u'value': 45.0}\n",
      "{u'_id': u'30 Female', u'value': 44.0}\n",
      "{u'_id': u'18 Male', u'value': 40.0}\n",
      "{u'_id': u'31 Female', u'value': 38.0}\n",
      "{u'_id': u'34 Male', u'value': 33.0}\n",
      "{u'_id': u'35 Male', u'value': 33.0}\n",
      "{u'_id': u'36 Male', u'value': 27.0}\n",
      "{u'_id': u'32 Female', u'value': 25.0}\n",
      "{u'_id': u'17 Female', u'value': 23.0}\n",
      "{u'_id': u'33 Female', u'value': 22.0}\n",
      "{u'_id': u'35 Female', u'value': 19.0}\n",
      "{u'_id': u'17 Male', u'value': 16.0}\n",
      "{u'_id': u'16 Female', u'value': 14.0}\n",
      "{u'_id': u'34 Female', u'value': 13.0}\n",
      "{u'_id': u'37 Male', u'value': 12.0}\n"
     ]
    }
   ],
   "source": [
    "#Esercizio 3\n",
    "db.atleti.map_reduce(map='''function(){\n",
    "            emit(this.age + \" \" + this.gender, 1);\n",
    "        }''', reduce='''function(key, values){\n",
    "            return Array.sum(values)\n",
    "        }''',out='ageGender')\n",
    "\n",
    "for entry in db.ageGender.find().sort('value', -1):\n",
    "    if entry['value'] > 10:\n",
    "        print entry"
   ]
  },
  {
   "cell_type": "code",
   "execution_count": null,
   "metadata": {
    "collapsed": false
   },
   "outputs": [],
   "source": [
    "# Esercizio 1\n",
    "\n",
    "db.atleti.map_reduce(map='''function(){\n",
    "            emit(this.age, 1);\n",
    "        }''', reduce='''function(key, values){\n",
    "            return Array.sum(values)\n",
    "        }''',out='agefrequency')\n",
    "\n",
    "for entry in db.agefrequency.find().sort('id'):\n",
    "    print entry"
   ]
  },
  {
   "cell_type": "code",
   "execution_count": null,
   "metadata": {
    "collapsed": false
   },
   "outputs": [],
   "source": [
    "# Esercizio 2\n",
    "\n",
    "db.atleti.map_reduce(map='''function(){\n",
    "            emit(this.age, 1);\n",
    "        }''', reduce='''function(key, values){\n",
    "            return Array.sum(values)\n",
    "        }''',out='agefrequency')\n",
    "\n",
    "max(db.agefrequency.find(), key=lambda x:x['value'])#la lambda function serve perche' su un dizionario non posso\n",
    "                            #fare il max per dirgli che l'input  la find delle frequenze calcolate e il max viene \n",
    "                            #fatto solo sui values\n"
   ]
  },
  {
   "cell_type": "code",
   "execution_count": null,
   "metadata": {
    "collapsed": false,
    "scrolled": false
   },
   "outputs": [],
   "source": [
    "# Esercizio 3\n",
    "\n",
    "db.atleti.map_reduce(map='''function(){\n",
    "            emit(this.gender + \" \" + this.age, 1);\n",
    "        }''', reduce='''function(key, values){\n",
    "            return Array.sum(values)\n",
    "        }''',out='genderfrequency')\n",
    "\n",
    "for entry in db.genderfrequency.find().sort('id'):\n",
    "    if entry['value'] > 10:\n",
    "        print entry"
   ]
  },
  {
   "cell_type": "code",
   "execution_count": null,
   "metadata": {
    "collapsed": false,
    "scrolled": false
   },
   "outputs": [],
   "source": []
  },
  {
   "cell_type": "code",
   "execution_count": null,
   "metadata": {
    "collapsed": true
   },
   "outputs": [],
   "source": []
  },
  {
   "cell_type": "markdown",
   "metadata": {
    "collapsed": true
   },
   "source": [
    "Scaling - Sharding\n",
    "====================\n",
    "\n",
    "Sharding, or horizontal scaling, divides the data set and distributes the data over multiple servers, or shards. Each shard is an independent database, and collectively, the shards make up a single logical database.\n",
    "\n",
    "**Chunk**\n",
    "The whole set of data is divided in Chunks, chunk are then distributed as equally as possible through all the nodes\n",
    "\n",
    "**Shard Key**\n",
    "The shard key is the *Document* property on which chunks are decided, the range of shard key possible values is divided in chunks and each chunk is assigned to a node. Document which near values for the shard key will end up being in the same chunk and so on the same node.\n",
    "\n",
    "**Shard**\n",
    "Each MongoDB node or ReplicaSet that contains part of the sharded data.\n",
    "\n",
    "**Router**\n",
    "The routers is the interface to the cluster, each query and operation will be performed against the router. The router is then in charge of forwarding the operation to one or multiple shards and gather the results.\n",
    "\n",
    "**Config Server**\n",
    "The config servers keep track of chunks distribution, they know which shard contains which chunk and which values are kept inside each chunk. Whenever the router has to perform an operation or split chunks that became too big it will read and write chunks distribution from the config servers.\n",
    "\n",
    "Setting Up a Sharder Cluster\n",
    "================================================\n",
    "\n",
    "To properly setup a shared environment I suggest you to check [THIS REPOSITORY](https://github.com/alexcomu/mongodb_howto). Is a collection of *How To* for:\n",
    "\n",
    "___01 - Install & Play with MongoDB___\n",
    "\n",
    "___02 - Replica Set tutorial___\n",
    "\n",
    "___03 - Arbiter configuration___\n",
    "\n",
    "___04 - Sharding___\n",
    "\n",
    "___05 - From Replica Set to Sharding - Tutorial___"
   ]
  },
  {
   "cell_type": "code",
   "execution_count": null,
   "metadata": {
    "collapsed": true
   },
   "outputs": [],
   "source": []
  },
  {
   "cell_type": "markdown",
   "metadata": {
    "collapsed": true
   },
   "source": [
    "## Map Reduce and MongoDB\n",
    "\n",
    "# Esercizio\n",
    "\n",
    "Utilizzare il dataset FakeFriends del capitolo 05 per creare uno script MapReduce che come output del processo vada a scrivere all'interno di MongoDB una entry per ogni riga del dataset. La entry dovrà contenere tutte le informazioni presenti all'interno del dataset."
   ]
  },
  {
   "cell_type": "code",
   "execution_count": null,
   "metadata": {
    "collapsed": true
   },
   "outputs": [],
   "source": []
  }
 ],
 "metadata": {
  "kernelspec": {
   "display_name": "Python [Root]",
   "language": "python",
   "name": "Python [Root]"
  },
  "language_info": {
   "codemirror_mode": {
    "name": "ipython",
    "version": 2
   },
   "file_extension": ".py",
   "mimetype": "text/x-python",
   "name": "python",
   "nbconvert_exporter": "python",
   "pygments_lexer": "ipython2",
   "version": "2.7.12"
  }
 },
 "nbformat": 4,
 "nbformat_minor": 0
}
