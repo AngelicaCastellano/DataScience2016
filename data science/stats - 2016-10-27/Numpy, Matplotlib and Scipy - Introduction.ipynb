{
 "cells": [
  {
   "cell_type": "markdown",
   "metadata": {},
   "source": [
    "# Numpy and Scipy\n",
    "\n",
    "[Numpy](http://numpy.org) is the **fundamental package for scientific computing with Python**. It contains among other things:\n",
    "\n",
    "* a powerful N-dimensional array object\n",
    "* sophisticated (**broadcasting**) functions [what is *broadcasting*?]\n",
    "* tools for integrating C/C++ and Fortran code\n",
    "* useful linear algebra, Fourier transform, and random number capabilities\n",
    "\n",
    "[Scipy](http://scipy) contains additional routines for optimization, special functions, and so on. Both contain modules written in C and Fortran so that they're as fast as possible. Together, they give Python roughly the same capability that the [Matlab](http://www.mathworks.com/products/matlab/) program offers. (In fact, if you're an experienced Matlab user, there a [guide to Numpy for Matlab users](http://www.scipy.org/NumPy_for_Matlab_Users) just for you.)\n",
    "\n",
    "In IPython, the easiest way to import the numpy package is to call **%pylab inline**. A frequent alternative is to call **import numpy as np**.\n",
    "\n",
    "## Making vectors and matrices\n",
    "Fundamental to both Numpy and Scipy is the ability to work with vectors and matrices. You can create vectors from lists using the **array** command:"
   ]
  },
  {
   "cell_type": "code",
   "execution_count": 3,
   "metadata": {
    "collapsed": false
   },
   "outputs": [
    {
     "name": "stdout",
     "output_type": "stream",
     "text": [
      "Populating the interactive namespace from numpy and matplotlib\n"
     ]
    }
   ],
   "source": [
    "%pylab inline"
   ]
  },
  {
   "cell_type": "code",
   "execution_count": 4,
   "metadata": {
    "collapsed": true
   },
   "outputs": [],
   "source": [
    "random.seed(1)"
   ]
  },
  {
   "cell_type": "code",
   "execution_count": 5,
   "metadata": {
    "collapsed": false
   },
   "outputs": [
    {
     "data": {
      "text/plain": [
       "array([-2,  0,  1,  2,  3,  4,  5,  6])"
      ]
     },
     "execution_count": 5,
     "metadata": {},
     "output_type": "execute_result"
    }
   ],
   "source": [
    "array([-2,0,1,2,3,4,5,6])"
   ]
  },
  {
   "cell_type": "markdown",
   "metadata": {},
   "source": [
    "**remember:** a [python list](https://docs.python.org/2/tutorial/datastructures.html) and a [numpy array](https://docs.scipy.org/doc/numpy/reference/generated/numpy.array.html) are different! E.g."
   ]
  },
  {
   "cell_type": "code",
   "execution_count": 6,
   "metadata": {
    "collapsed": false
   },
   "outputs": [
    {
     "data": {
      "text/plain": [
       "[1, 2, 3, 4, 5, 8]"
      ]
     },
     "execution_count": 6,
     "metadata": {},
     "output_type": "execute_result"
    }
   ],
   "source": [
    "[1,2,3]+[4,5,8]"
   ]
  },
  {
   "cell_type": "code",
   "execution_count": 7,
   "metadata": {
    "collapsed": false
   },
   "outputs": [
    {
     "data": {
      "text/plain": [
       "array([ 5,  7, 11])"
      ]
     },
     "execution_count": 7,
     "metadata": {},
     "output_type": "execute_result"
    }
   ],
   "source": [
    "array([1,2,3])+array([4,5,8])"
   ]
  },
  {
   "cell_type": "markdown",
   "metadata": {},
   "source": [
    "What is the type of the array?"
   ]
  },
  {
   "cell_type": "code",
   "execution_count": 8,
   "metadata": {
    "collapsed": false
   },
   "outputs": [
    {
     "data": {
      "text/plain": [
       "dtype('int64')"
      ]
     },
     "execution_count": 8,
     "metadata": {},
     "output_type": "execute_result"
    }
   ],
   "source": [
    "array([-2,0,1,2,3,4,5,6]).dtype"
   ]
  },
  {
   "cell_type": "markdown",
   "metadata": {},
   "source": [
    "You can pass in a second argument to **array** that gives the numeric type. There are a number of types [listed here](http://docs.scipy.org/doc/numpy/user/basics.types.html) that your array can be. The most common ones are float64 (double precision floating point number), and int64."
   ]
  },
  {
   "cell_type": "code",
   "execution_count": 9,
   "metadata": {
    "collapsed": false,
    "scrolled": true
   },
   "outputs": [
    {
     "data": {
      "text/plain": [
       "array([-2.,  0.,  1.,  2.,  3.,  4.,  5.,  6.])"
      ]
     },
     "execution_count": 9,
     "metadata": {},
     "output_type": "execute_result"
    }
   ],
   "source": [
    "array([-2,0,1,2,3,4,5,6],float64)"
   ]
  },
  {
   "cell_type": "markdown",
   "metadata": {},
   "source": [
    "Other examples"
   ]
  },
  {
   "cell_type": "code",
   "execution_count": 10,
   "metadata": {
    "collapsed": false
   },
   "outputs": [
    {
     "data": {
      "text/plain": [
       "array([ True, False,  True,  True,  True,  True,  True,  True], dtype=bool)"
      ]
     },
     "execution_count": 10,
     "metadata": {},
     "output_type": "execute_result"
    }
   ],
   "source": [
    "array([-2,0,1,2,3,4,5,6],bool)"
   ]
  },
  {
   "cell_type": "markdown",
   "metadata": {},
   "source": [
    "An array with different types:"
   ]
  },
  {
   "cell_type": "code",
   "execution_count": 11,
   "metadata": {
    "collapsed": false
   },
   "outputs": [
    {
     "data": {
      "text/plain": [
       "array(['1.0', '2', 'a', 'True'], \n",
       "      dtype='|S32')"
      ]
     },
     "execution_count": 11,
     "metadata": {},
     "output_type": "execute_result"
    }
   ],
   "source": [
    "array([1.,2,'a',True])"
   ]
  },
  {
   "cell_type": "markdown",
   "metadata": {},
   "source": [
    "numpy try to infer the most exhaustive type, this could be useful or not. As an alternative, you could force the type to be an **object** so that everything keep its original type."
   ]
  },
  {
   "cell_type": "code",
   "execution_count": null,
   "metadata": {
    "collapsed": false
   },
   "outputs": [],
   "source": [
    "array([1.,2,'a',True],object)"
   ]
  },
  {
   "cell_type": "markdown",
   "metadata": {},
   "source": [
    "To build matrices, you can either use the array command with lists of lists:"
   ]
  },
  {
   "cell_type": "code",
   "execution_count": 12,
   "metadata": {
    "collapsed": false
   },
   "outputs": [
    {
     "data": {
      "text/plain": [
       "array([[ 0.,  1.],\n",
       "       [ 1.,  0.]])"
      ]
     },
     "execution_count": 12,
     "metadata": {},
     "output_type": "execute_result"
    }
   ],
   "source": [
    "array([[0,1], [1,0]], float64)"
   ]
  },
  {
   "cell_type": "markdown",
   "metadata": {},
   "source": [
    "You can create arrays with any number of dimensions using lists of lists of .... of lists:"
   ]
  },
  {
   "cell_type": "code",
   "execution_count": 13,
   "metadata": {
    "collapsed": false
   },
   "outputs": [
    {
     "data": {
      "text/plain": [
       "array([[[ 0.,  1.],\n",
       "        [ 0.,  1.]],\n",
       "\n",
       "       [[ 1.,  0.],\n",
       "        [ 1.,  0.]]])"
      ]
     },
     "execution_count": 13,
     "metadata": {},
     "output_type": "execute_result"
    }
   ],
   "source": [
    "array([[[0,1],[0,1]], [[1,0],[1,0]]], float64)"
   ]
  },
  {
   "cell_type": "markdown",
   "metadata": {},
   "source": [
    "### Array creation routines"
   ]
  },
  {
   "cell_type": "markdown",
   "metadata": {},
   "source": [
    "You can also form empty (zero) matrices of arbitrary shape (including vectors, which Numpy treats as vectors with one row), using the **[zeros](https://docs.scipy.org/doc/numpy/reference/generated/numpy.zeros.html)** command:"
   ]
  },
  {
   "cell_type": "code",
   "execution_count": 14,
   "metadata": {
    "collapsed": false
   },
   "outputs": [
    {
     "data": {
      "text/plain": [
       "array([[ 0.,  0.,  0.],\n",
       "       [ 0.,  0.,  0.],\n",
       "       [ 0.,  0.,  0.]])"
      ]
     },
     "execution_count": 14,
     "metadata": {},
     "output_type": "execute_result"
    }
   ],
   "source": [
    "zeros((3,3), float64)"
   ]
  },
  {
   "cell_type": "markdown",
   "metadata": {},
   "source": [
    "The first argument is a tuple containing the **shape** of the matrix, and the second is the data type (**dtype**) argument, which follows the same conventions as in the array command. The default dtype is float32. Thus, you can make row vectors:"
   ]
  },
  {
   "cell_type": "code",
   "execution_count": 15,
   "metadata": {
    "collapsed": false
   },
   "outputs": [
    {
     "data": {
      "text/plain": [
       "array([ 0.,  0.,  0.])"
      ]
     },
     "execution_count": 15,
     "metadata": {},
     "output_type": "execute_result"
    }
   ],
   "source": [
    "zeros(3)"
   ]
  },
  {
   "cell_type": "code",
   "execution_count": 16,
   "metadata": {
    "collapsed": false
   },
   "outputs": [
    {
     "data": {
      "text/plain": [
       "array([[ 0.,  0.,  0.]])"
      ]
     },
     "execution_count": 16,
     "metadata": {},
     "output_type": "execute_result"
    }
   ],
   "source": [
    "zeros((1, 3))"
   ]
  },
  {
   "cell_type": "markdown",
   "metadata": {},
   "source": [
    "or column vectors:"
   ]
  },
  {
   "cell_type": "code",
   "execution_count": 17,
   "metadata": {
    "collapsed": false
   },
   "outputs": [
    {
     "data": {
      "text/plain": [
       "array([[ 0.],\n",
       "       [ 0.],\n",
       "       [ 0.]])"
      ]
     },
     "execution_count": 17,
     "metadata": {},
     "output_type": "execute_result"
    }
   ],
   "source": [
    "zeros((3, 1))"
   ]
  },
  {
   "cell_type": "markdown",
   "metadata": {},
   "source": [
    "The **[identity](https://docs.scipy.org/doc/numpy/reference/generated/numpy.identity.html)** function creates an identity matrix:"
   ]
  },
  {
   "cell_type": "code",
   "execution_count": 18,
   "metadata": {
    "collapsed": false
   },
   "outputs": [
    {
     "data": {
      "text/plain": [
       "array([[ 1.,  0.,  0.,  0.],\n",
       "       [ 0.,  1.,  0.,  0.],\n",
       "       [ 0.,  0.,  1.,  0.],\n",
       "       [ 0.,  0.,  0.,  1.]])"
      ]
     },
     "execution_count": 18,
     "metadata": {},
     "output_type": "execute_result"
    }
   ],
   "source": [
    "identity(4)"
   ]
  },
  {
   "cell_type": "markdown",
   "metadata": {},
   "source": [
    "And the **[ones](https://docs.scipy.org/doc/numpy/reference/generated/numpy.identity.html)** funciton creates an array of ones:"
   ]
  },
  {
   "cell_type": "code",
   "execution_count": 19,
   "metadata": {
    "collapsed": false
   },
   "outputs": [
    {
     "data": {
      "text/plain": [
       "array([[ 1.,  1.,  1.],\n",
       "       [ 1.,  1.,  1.],\n",
       "       [ 1.,  1.,  1.]])"
      ]
     },
     "execution_count": 19,
     "metadata": {},
     "output_type": "execute_result"
    }
   ],
   "source": [
    "ones((3, 3))"
   ]
  },
  {
   "cell_type": "markdown",
   "metadata": {},
   "source": [
    "You can create arrays with any number of dimensions by adding dimensions to the **shape** argument:"
   ]
  },
  {
   "cell_type": "code",
   "execution_count": 64,
   "metadata": {
    "collapsed": false
   },
   "outputs": [
    {
     "data": {
      "text/plain": [
       "array([[[ 1.,  1.,  1.,  1.,  1.],\n",
       "        [ 1.,  1.,  1.,  1.,  1.],\n",
       "        [ 1.,  1.,  1.,  1.,  1.]],\n",
       "\n",
       "       [[ 1.,  1.,  1.,  1.,  1.],\n",
       "        [ 1.,  1.,  1.,  1.,  1.],\n",
       "        [ 1.,  1.,  1.,  1.,  1.]],\n",
       "\n",
       "       [[ 1.,  1.,  1.,  1.,  1.],\n",
       "        [ 1.,  1.,  1.,  1.,  1.],\n",
       "        [ 1.,  1.,  1.,  1.,  1.]],\n",
       "\n",
       "       [[ 1.,  1.,  1.,  1.,  1.],\n",
       "        [ 1.,  1.,  1.,  1.,  1.],\n",
       "        [ 1.,  1.,  1.,  1.,  1.]],\n",
       "\n",
       "       [[ 1.,  1.,  1.,  1.,  1.],\n",
       "        [ 1.,  1.,  1.,  1.,  1.],\n",
       "        [ 1.,  1.,  1.,  1.,  1.]],\n",
       "\n",
       "       [[ 1.,  1.,  1.,  1.,  1.],\n",
       "        [ 1.,  1.,  1.,  1.,  1.],\n",
       "        [ 1.,  1.,  1.,  1.,  1.]]])"
      ]
     },
     "execution_count": 64,
     "metadata": {},
     "output_type": "execute_result"
    }
   ],
   "source": [
    "ones((6, 3, 5))\n"
   ]
  },
  {
   "cell_type": "code",
   "execution_count": 63,
   "metadata": {
    "collapsed": false
   },
   "outputs": [
    {
     "name": "stdout",
     "output_type": "stream",
     "text": [
      "Help on function identity in module numpy.core.numeric:\n",
      "\n",
      "identity(n, dtype=None)\n",
      "    Return the identity array.\n",
      "    \n",
      "    The identity array is a square array with ones on\n",
      "    the main diagonal.\n",
      "    \n",
      "    Parameters\n",
      "    ----------\n",
      "    n : int\n",
      "        Number of rows (and columns) in `n` x `n` output.\n",
      "    dtype : data-type, optional\n",
      "        Data-type of the output.  Defaults to ``float``.\n",
      "    \n",
      "    Returns\n",
      "    -------\n",
      "    out : ndarray\n",
      "        `n` x `n` array with its main diagonal set to one,\n",
      "        and all other elements 0.\n",
      "    \n",
      "    Examples\n",
      "    --------\n",
      "    >>> np.identity(3)\n",
      "    array([[ 1.,  0.,  0.],\n",
      "           [ 0.,  1.,  0.],\n",
      "           [ 0.,  0.,  1.]])\n",
      "\n"
     ]
    }
   ],
   "source": [
    "help(identity)\n",
    "\n",
    "identity()\n",
    "?identity"
   ]
  },
  {
   "cell_type": "markdown",
   "metadata": {},
   "source": [
    "Other array creation routines are:"
   ]
  },
  {
   "cell_type": "markdown",
   "metadata": {},
   "source": [
    "**[empty](https://docs.scipy.org/doc/numpy/reference/generated/numpy.empty.html)**"
   ]
  },
  {
   "cell_type": "code",
   "execution_count": 27,
   "metadata": {
    "collapsed": false
   },
   "outputs": [
    {
     "data": {
      "text/plain": [
       "array([[ 0.,  0.],\n",
       "       [ 0.,  0.]])"
      ]
     },
     "execution_count": 27,
     "metadata": {},
     "output_type": "execute_result"
    }
   ],
   "source": [
    "empty((2, 2))"
   ]
  },
  {
   "cell_type": "markdown",
   "metadata": {},
   "source": [
    "**[eye](https://docs.scipy.org/doc/numpy/reference/generated/numpy.eye.html)**"
   ]
  },
  {
   "cell_type": "code",
   "execution_count": 30,
   "metadata": {
    "collapsed": false
   },
   "outputs": [
    {
     "data": {
      "text/plain": [
       "array([[ 0.,  1.,  0.,  0.],\n",
       "       [ 0.,  0.,  1.,  0.],\n",
       "       [ 0.,  0.,  0.,  1.]])"
      ]
     },
     "execution_count": 30,
     "metadata": {},
     "output_type": "execute_result"
    }
   ],
   "source": [
    "eye(3, 4, 1)"
   ]
  },
  {
   "cell_type": "markdown",
   "metadata": {},
   "source": [
    "**[arange](https://docs.scipy.org/doc/numpy/reference/generated/numpy.arange.html)**"
   ]
  },
  {
   "cell_type": "code",
   "execution_count": 31,
   "metadata": {
    "collapsed": false
   },
   "outputs": [
    {
     "data": {
      "text/plain": [
       "array([0, 1, 2, 3])"
      ]
     },
     "execution_count": 31,
     "metadata": {},
     "output_type": "execute_result"
    }
   ],
   "source": [
    "arange(4)"
   ]
  },
  {
   "cell_type": "code",
   "execution_count": 32,
   "metadata": {
    "collapsed": false
   },
   "outputs": [
    {
     "name": "stdout",
     "output_type": "stream",
     "text": [
      "Help on built-in function arange in module numpy.core.multiarray:\n",
      "\n",
      "arange(...)\n",
      "    arange([start,] stop[, step,], dtype=None)\n",
      "    \n",
      "    Return evenly spaced values within a given interval.\n",
      "    \n",
      "    Values are generated within the half-open interval ``[start, stop)``\n",
      "    (in other words, the interval including `start` but excluding `stop`).\n",
      "    For integer arguments the function is equivalent to the Python built-in\n",
      "    `range <http://docs.python.org/lib/built-in-funcs.html>`_ function,\n",
      "    but returns an ndarray rather than a list.\n",
      "    \n",
      "    When using a non-integer step, such as 0.1, the results will often not\n",
      "    be consistent.  It is better to use ``linspace`` for these cases.\n",
      "    \n",
      "    Parameters\n",
      "    ----------\n",
      "    start : number, optional\n",
      "        Start of interval.  The interval includes this value.  The default\n",
      "        start value is 0.\n",
      "    stop : number\n",
      "        End of interval.  The interval does not include this value, except\n",
      "        in some cases where `step` is not an integer and floating point\n",
      "        round-off affects the length of `out`.\n",
      "    step : number, optional\n",
      "        Spacing between values.  For any output `out`, this is the distance\n",
      "        between two adjacent values, ``out[i+1] - out[i]``.  The default\n",
      "        step size is 1.  If `step` is specified, `start` must also be given.\n",
      "    dtype : dtype\n",
      "        The type of the output array.  If `dtype` is not given, infer the data\n",
      "        type from the other input arguments.\n",
      "    \n",
      "    Returns\n",
      "    -------\n",
      "    arange : ndarray\n",
      "        Array of evenly spaced values.\n",
      "    \n",
      "        For floating point arguments, the length of the result is\n",
      "        ``ceil((stop - start)/step)``.  Because of floating point overflow,\n",
      "        this rule may result in the last element of `out` being greater\n",
      "        than `stop`.\n",
      "    \n",
      "    See Also\n",
      "    --------\n",
      "    linspace : Evenly spaced numbers with careful handling of endpoints.\n",
      "    ogrid: Arrays of evenly spaced numbers in N-dimensions.\n",
      "    mgrid: Grid-shaped arrays of evenly spaced numbers in N-dimensions.\n",
      "    \n",
      "    Examples\n",
      "    --------\n",
      "    >>> np.arange(3)\n",
      "    array([0, 1, 2])\n",
      "    >>> np.arange(3.0)\n",
      "    array([ 0.,  1.,  2.])\n",
      "    >>> np.arange(3,7)\n",
      "    array([3, 4, 5, 6])\n",
      "    >>> np.arange(3,7,2)\n",
      "    array([3, 5])\n",
      "\n"
     ]
    }
   ],
   "source": [
    "help(arange)"
   ]
  },
  {
   "cell_type": "code",
   "execution_count": 33,
   "metadata": {
    "collapsed": false
   },
   "outputs": [
    {
     "data": {
      "text/plain": [
       "array([2, 3, 4, 5])"
      ]
     },
     "execution_count": 33,
     "metadata": {},
     "output_type": "execute_result"
    }
   ],
   "source": [
    "arange(2,6)"
   ]
  },
  {
   "cell_type": "code",
   "execution_count": 34,
   "metadata": {
    "collapsed": false
   },
   "outputs": [
    {
     "data": {
      "text/plain": [
       "array([-10,  -9,  -8,  -7,  -6,  -5,  -4,  -3,  -2,  -1,   0,   1,   2,   3])"
      ]
     },
     "execution_count": 34,
     "metadata": {},
     "output_type": "execute_result"
    }
   ],
   "source": [
    "arange(-10,4)"
   ]
  },
  {
   "cell_type": "code",
   "execution_count": 35,
   "metadata": {
    "collapsed": false
   },
   "outputs": [
    {
     "data": {
      "text/plain": [
       "array([ 4,  2,  0, -2, -4, -6, -8])"
      ]
     },
     "execution_count": 35,
     "metadata": {},
     "output_type": "execute_result"
    }
   ],
   "source": [
    "arange(4,-10,-2)"
   ]
  },
  {
   "cell_type": "markdown",
   "metadata": {},
   "source": [
    "**[diag](https://docs.scipy.org/doc/numpy/reference/generated/numpy.diag.html)**"
   ]
  },
  {
   "cell_type": "code",
   "execution_count": 37,
   "metadata": {
    "collapsed": false
   },
   "outputs": [
    {
     "data": {
      "text/plain": [
       "array([[0, 0, 0, 0, 0, 0, 0, 0, 0, 0],\n",
       "       [0, 1, 0, 0, 0, 0, 0, 0, 0, 0],\n",
       "       [0, 0, 2, 0, 0, 0, 0, 0, 0, 0],\n",
       "       [0, 0, 0, 3, 0, 0, 0, 0, 0, 0],\n",
       "       [0, 0, 0, 0, 4, 0, 0, 0, 0, 0],\n",
       "       [0, 0, 0, 0, 0, 5, 0, 0, 0, 0],\n",
       "       [0, 0, 0, 0, 0, 0, 6, 0, 0, 0],\n",
       "       [0, 0, 0, 0, 0, 0, 0, 7, 0, 0],\n",
       "       [0, 0, 0, 0, 0, 0, 0, 0, 8, 0],\n",
       "       [0, 0, 0, 0, 0, 0, 0, 0, 0, 9]])"
      ]
     },
     "execution_count": 37,
     "metadata": {},
     "output_type": "execute_result"
    }
   ],
   "source": [
    "diag(arange(10))"
   ]
  },
  {
   "cell_type": "code",
   "execution_count": 40,
   "metadata": {
    "collapsed": false
   },
   "outputs": [
    {
     "data": {
      "text/plain": [
       "array([0, 1, 2, 3, 4, 5, 6, 7, 8, 9])"
      ]
     },
     "execution_count": 40,
     "metadata": {},
     "output_type": "execute_result"
    }
   ],
   "source": [
    "diag(diag(arange(10)))"
   ]
  },
  {
   "cell_type": "code",
   "execution_count": null,
   "metadata": {
    "collapsed": true
   },
   "outputs": [],
   "source": []
  },
  {
   "cell_type": "markdown",
   "metadata": {},
   "source": [
    "The **[linspace](https://docs.scipy.org/doc/numpy/reference/generated/numpy.linspace.html)** command makes a linear array of points from a starting to an ending value."
   ]
  },
  {
   "cell_type": "code",
   "execution_count": 41,
   "metadata": {
    "collapsed": false
   },
   "outputs": [
    {
     "data": {
      "text/plain": [
       "array([ 0. ,  0.5,  1. ,  1.5,  2. ])"
      ]
     },
     "execution_count": 41,
     "metadata": {},
     "output_type": "execute_result"
    }
   ],
   "source": [
    "linspace(0, 2, 5)"
   ]
  },
  {
   "cell_type": "markdown",
   "metadata": {},
   "source": [
    "Same command in log, [logspace](https://docs.scipy.org/doc/numpy/reference/generated/numpy.logspace.html)"
   ]
  },
  {
   "cell_type": "code",
   "execution_count": 42,
   "metadata": {
    "collapsed": false
   },
   "outputs": [
    {
     "data": {
      "text/plain": [
       "array([   1.        ,    1.77827941,    3.16227766,    5.62341325,\n",
       "         10.        ,   17.7827941 ,   31.6227766 ,   56.23413252,  100.        ])"
      ]
     },
     "execution_count": 42,
     "metadata": {},
     "output_type": "execute_result"
    }
   ],
   "source": [
    "logspace(0, 2, 9)"
   ]
  },
  {
   "cell_type": "markdown",
   "metadata": {},
   "source": [
    "### [reshape](https://docs.scipy.org/doc/numpy/reference/generated/numpy.reshape.html)"
   ]
  },
  {
   "cell_type": "code",
   "execution_count": 43,
   "metadata": {
    "collapsed": false
   },
   "outputs": [
    {
     "data": {
      "text/plain": [
       "array([ 0,  1,  2,  3,  4,  5,  6,  7,  8,  9, 10, 11, 12, 13, 14, 15, 16,\n",
       "       17, 18, 19, 20, 21, 22, 23, 24, 25, 26, 27, 28, 29, 30, 31, 32, 33,\n",
       "       34, 35, 36, 37, 38, 39, 40, 41, 42, 43, 44, 45, 46, 47, 48, 49, 50,\n",
       "       51, 52, 53, 54, 55, 56, 57, 58, 59, 60, 61, 62, 63])"
      ]
     },
     "execution_count": 43,
     "metadata": {},
     "output_type": "execute_result"
    }
   ],
   "source": [
    "a = arange(64)\n",
    "a"
   ]
  },
  {
   "cell_type": "code",
   "execution_count": 46,
   "metadata": {
    "collapsed": false
   },
   "outputs": [
    {
     "data": {
      "text/plain": [
       "array([[ 0,  1],\n",
       "       [ 2,  3],\n",
       "       [ 4,  5],\n",
       "       [ 6,  7],\n",
       "       [ 8,  9],\n",
       "       [10, 11],\n",
       "       [12, 13],\n",
       "       [14, 15],\n",
       "       [16, 17],\n",
       "       [18, 19],\n",
       "       [20, 21],\n",
       "       [22, 23],\n",
       "       [24, 25],\n",
       "       [26, 27],\n",
       "       [28, 29],\n",
       "       [30, 31],\n",
       "       [32, 33],\n",
       "       [34, 35],\n",
       "       [36, 37],\n",
       "       [38, 39],\n",
       "       [40, 41],\n",
       "       [42, 43],\n",
       "       [44, 45],\n",
       "       [46, 47],\n",
       "       [48, 49],\n",
       "       [50, 51],\n",
       "       [52, 53],\n",
       "       [54, 55],\n",
       "       [56, 57],\n",
       "       [58, 59],\n",
       "       [60, 61],\n",
       "       [62, 63]])"
      ]
     },
     "execution_count": 46,
     "metadata": {},
     "output_type": "execute_result"
    }
   ],
   "source": [
    "a.reshape(32,2)"
   ]
  },
  {
   "cell_type": "markdown",
   "metadata": {},
   "source": [
    "### [transpose](https://docs.scipy.org/doc/numpy/reference/generated/numpy.transpose.html)"
   ]
  },
  {
   "cell_type": "code",
   "execution_count": 47,
   "metadata": {
    "collapsed": false
   },
   "outputs": [
    {
     "data": {
      "text/plain": [
       "array([[ 0,  8, 16, 24, 32, 40, 48, 56],\n",
       "       [ 1,  9, 17, 25, 33, 41, 49, 57],\n",
       "       [ 2, 10, 18, 26, 34, 42, 50, 58],\n",
       "       [ 3, 11, 19, 27, 35, 43, 51, 59],\n",
       "       [ 4, 12, 20, 28, 36, 44, 52, 60],\n",
       "       [ 5, 13, 21, 29, 37, 45, 53, 61],\n",
       "       [ 6, 14, 22, 30, 38, 46, 54, 62],\n",
       "       [ 7, 15, 23, 31, 39, 47, 55, 63]])"
      ]
     },
     "execution_count": 47,
     "metadata": {},
     "output_type": "execute_result"
    }
   ],
   "source": [
    "a.reshape(8,8).T"
   ]
  },
  {
   "cell_type": "markdown",
   "metadata": {},
   "source": [
    "### [Indexing/Slicing](https://docs.scipy.org/doc/numpy/reference/arrays.indexing.html)\n",
    "\n",
    "You can index and slice numpy arrays in the same way you index/slice lists."
   ]
  },
  {
   "cell_type": "code",
   "execution_count": 48,
   "metadata": {
    "collapsed": false
   },
   "outputs": [
    {
     "data": {
      "text/plain": [
       "array([ 0,  1,  2,  3,  4,  5,  6,  7,  8,  9, 10, 11, 12, 13, 14, 15, 16,\n",
       "       17, 18, 19, 20, 21, 22, 23, 24, 25, 26, 27, 28, 29])"
      ]
     },
     "execution_count": 48,
     "metadata": {},
     "output_type": "execute_result"
    }
   ],
   "source": [
    "a3 = arange(30) \n",
    "a3"
   ]
  },
  {
   "cell_type": "code",
   "execution_count": 53,
   "metadata": {
    "collapsed": false
   },
   "outputs": [
    {
     "data": {
      "text/plain": [
       "20"
      ]
     },
     "execution_count": 53,
     "metadata": {},
     "output_type": "execute_result"
    }
   ],
   "source": [
    "a3[-10]"
   ]
  },
  {
   "cell_type": "code",
   "execution_count": 54,
   "metadata": {
    "collapsed": false
   },
   "outputs": [
    {
     "data": {
      "text/plain": [
       "array([29, 28, 27, 26, 25, 24, 23, 22, 21, 20, 19, 18, 17, 16, 15, 14, 13,\n",
       "       12, 11, 10,  9,  8,  7,  6,  5,  4,  3,  2,  1,  0])"
      ]
     },
     "execution_count": 54,
     "metadata": {},
     "output_type": "execute_result"
    }
   ],
   "source": [
    "a3[::-1]"
   ]
  },
  {
   "cell_type": "code",
   "execution_count": 55,
   "metadata": {
    "collapsed": false
   },
   "outputs": [
    {
     "data": {
      "text/plain": [
       "array([2, 3, 4])"
      ]
     },
     "execution_count": 55,
     "metadata": {},
     "output_type": "execute_result"
    }
   ],
   "source": [
    "a3[2:5]"
   ]
  },
  {
   "cell_type": "markdown",
   "metadata": {},
   "source": [
    "### [Boolean array indexing](https://docs.scipy.org/doc/numpy/reference/arrays.indexing.html): a very **useful** recipe"
   ]
  },
  {
   "cell_type": "code",
   "execution_count": 56,
   "metadata": {
    "collapsed": false
   },
   "outputs": [
    {
     "data": {
      "text/plain": [
       "array([21, 22, 23, 24, 25, 26, 27, 28, 29])"
      ]
     },
     "execution_count": 56,
     "metadata": {},
     "output_type": "execute_result"
    }
   ],
   "source": [
    "a3[a3>20]"
   ]
  },
  {
   "cell_type": "code",
   "execution_count": 58,
   "metadata": {
    "collapsed": false,
    "scrolled": true
   },
   "outputs": [],
   "source": [
    "x = array([[1., 2.], [nan, 3.], [nan, nan]])"
   ]
  },
  {
   "cell_type": "code",
   "execution_count": 59,
   "metadata": {
    "collapsed": false
   },
   "outputs": [
    {
     "data": {
      "text/plain": [
       "array([[  1.,   2.],\n",
       "       [ nan,   3.],\n",
       "       [ nan,  nan]])"
      ]
     },
     "execution_count": 59,
     "metadata": {},
     "output_type": "execute_result"
    }
   ],
   "source": [
    "x"
   ]
  },
  {
   "cell_type": "code",
   "execution_count": 62,
   "metadata": {
    "collapsed": false
   },
   "outputs": [
    {
     "data": {
      "text/plain": [
       "array([[False, False],\n",
       "       [ True, False],\n",
       "       [ True,  True]], dtype=bool)"
      ]
     },
     "execution_count": 62,
     "metadata": {},
     "output_type": "execute_result"
    }
   ],
   "source": [
    "isnan(x)"
   ]
  },
  {
   "cell_type": "markdown",
   "metadata": {},
   "source": [
    "#### 2d, 3d slicing"
   ]
  },
  {
   "cell_type": "code",
   "execution_count": 65,
   "metadata": {
    "collapsed": false
   },
   "outputs": [
    {
     "data": {
      "text/plain": [
       "array([[ 0,  1,  2,  3,  4,  5,  6,  7],\n",
       "       [ 8,  9, 10, 11, 12, 13, 14, 15],\n",
       "       [16, 17, 18, 19, 20, 21, 22, 23],\n",
       "       [24, 25, 26, 27, 28, 29, 30, 31],\n",
       "       [32, 33, 34, 35, 36, 37, 38, 39],\n",
       "       [40, 41, 42, 43, 44, 45, 46, 47],\n",
       "       [48, 49, 50, 51, 52, 53, 54, 55],\n",
       "       [56, 57, 58, 59, 60, 61, 62, 63]])"
      ]
     },
     "execution_count": 65,
     "metadata": {},
     "output_type": "execute_result"
    }
   ],
   "source": [
    "a = arange(64).reshape(8,8)\n",
    "a"
   ]
  },
  {
   "cell_type": "code",
   "execution_count": 66,
   "metadata": {
    "collapsed": false
   },
   "outputs": [
    {
     "data": {
      "text/plain": [
       "array([0, 1, 2, 3, 4, 5, 6, 7])"
      ]
     },
     "execution_count": 66,
     "metadata": {},
     "output_type": "execute_result"
    }
   ],
   "source": [
    "a[0,:]"
   ]
  },
  {
   "cell_type": "code",
   "execution_count": 67,
   "metadata": {
    "collapsed": false
   },
   "outputs": [
    {
     "data": {
      "text/plain": [
       "array([ 0,  8, 16, 24, 32, 40, 48, 56])"
      ]
     },
     "execution_count": 67,
     "metadata": {},
     "output_type": "execute_result"
    }
   ],
   "source": [
    "a[:,0]"
   ]
  },
  {
   "cell_type": "code",
   "execution_count": 68,
   "metadata": {
    "collapsed": false
   },
   "outputs": [
    {
     "data": {
      "text/plain": [
       "array([[0, 1],\n",
       "       [8, 9]])"
      ]
     },
     "execution_count": 68,
     "metadata": {},
     "output_type": "execute_result"
    }
   ],
   "source": [
    "a[:2,:2]"
   ]
  },
  {
   "cell_type": "code",
   "execution_count": 70,
   "metadata": {
    "collapsed": false
   },
   "outputs": [
    {
     "data": {
      "text/plain": [
       "array([[ 0,  2,  4,  6],\n",
       "       [16, 18, 20, 22],\n",
       "       [32, 34, 36, 38],\n",
       "       [48, 50, 52, 54]])"
      ]
     },
     "execution_count": 70,
     "metadata": {},
     "output_type": "execute_result"
    }
   ],
   "source": [
    "a[::2,::2]"
   ]
  },
  {
   "cell_type": "code",
   "execution_count": 71,
   "metadata": {
    "collapsed": false
   },
   "outputs": [
    {
     "data": {
      "text/plain": [
       "array([[[ 0,  1,  2],\n",
       "        [ 3,  4,  5],\n",
       "        [ 6,  7,  8]],\n",
       "\n",
       "       [[ 9, 10, 11],\n",
       "        [12, 13, 14],\n",
       "        [15, 16, 17]],\n",
       "\n",
       "       [[18, 19, 20],\n",
       "        [21, 22, 23],\n",
       "        [24, 25, 26]]])"
      ]
     },
     "execution_count": 71,
     "metadata": {},
     "output_type": "execute_result"
    }
   ],
   "source": [
    "b = arange(27).reshape(3,3,3)\n",
    "b"
   ]
  },
  {
   "cell_type": "code",
   "execution_count": 72,
   "metadata": {
    "collapsed": false
   },
   "outputs": [
    {
     "data": {
      "text/plain": [
       "0"
      ]
     },
     "execution_count": 72,
     "metadata": {},
     "output_type": "execute_result"
    }
   ],
   "source": [
    "b[0,0,0]"
   ]
  },
  {
   "cell_type": "code",
   "execution_count": 73,
   "metadata": {
    "collapsed": false
   },
   "outputs": [
    {
     "data": {
      "text/plain": [
       "array([[0, 1, 2],\n",
       "       [3, 4, 5],\n",
       "       [6, 7, 8]])"
      ]
     },
     "execution_count": 73,
     "metadata": {},
     "output_type": "execute_result"
    }
   ],
   "source": [
    "b[0,:,:]"
   ]
  },
  {
   "cell_type": "code",
   "execution_count": 74,
   "metadata": {
    "collapsed": false
   },
   "outputs": [
    {
     "data": {
      "text/plain": [
       "array([[ 0,  1,  2],\n",
       "       [ 9, 10, 11],\n",
       "       [18, 19, 20]])"
      ]
     },
     "execution_count": 74,
     "metadata": {},
     "output_type": "execute_result"
    }
   ],
   "source": [
    "b[:,0,:]"
   ]
  },
  {
   "cell_type": "code",
   "execution_count": 75,
   "metadata": {
    "collapsed": false
   },
   "outputs": [
    {
     "data": {
      "text/plain": [
       "array([[ 0,  3,  6],\n",
       "       [ 9, 12, 15],\n",
       "       [18, 21, 24]])"
      ]
     },
     "execution_count": 75,
     "metadata": {},
     "output_type": "execute_result"
    }
   ],
   "source": [
    "b[:,:,0]"
   ]
  },
  {
   "cell_type": "markdown",
   "metadata": {},
   "source": [
    "### NumPy Functions\n",
    "\n",
    "http://docs.scipy.org/doc/numpy/reference/routines.math.html"
   ]
  },
  {
   "cell_type": "markdown",
   "metadata": {},
   "source": [
    "#### [randint](https://docs.scipy.org/doc/numpy/reference/generated/numpy.random.randint.html)"
   ]
  },
  {
   "cell_type": "code",
   "execution_count": 87,
   "metadata": {
    "collapsed": false
   },
   "outputs": [],
   "source": [
    "a=random.randint(0,10,100)"
   ]
  },
  {
   "cell_type": "code",
   "execution_count": 88,
   "metadata": {
    "collapsed": false
   },
   "outputs": [
    {
     "data": {
      "text/plain": [
       "array([0, 1, 8, 8, 3, 9, 8, 7, 3, 6, 5, 1, 9, 3, 4, 8, 1, 4, 0, 3, 9, 2, 0,\n",
       "       4, 9, 2, 7, 7, 9, 8, 6, 9, 3, 7, 7, 4, 5, 9, 3, 6, 8, 0, 2, 7, 7, 9,\n",
       "       7, 3, 0, 8, 7, 7, 1, 1, 3, 0, 8, 6, 4, 5, 6, 2, 5, 7, 8, 4, 4, 7, 7,\n",
       "       4, 9, 0, 2, 0, 7, 1, 7, 9, 8, 4, 0, 1, 9, 8, 2, 3, 1, 2, 7, 2, 6, 0,\n",
       "       9, 2, 6, 6, 2, 7, 7, 0])"
      ]
     },
     "execution_count": 88,
     "metadata": {},
     "output_type": "execute_result"
    }
   ],
   "source": [
    "a"
   ]
  },
  {
   "cell_type": "code",
   "execution_count": null,
   "metadata": {
    "collapsed": true
   },
   "outputs": [],
   "source": [
    "random.randint()"
   ]
  },
  {
   "cell_type": "raw",
   "metadata": {},
   "source": []
  },
  {
   "cell_type": "raw",
   "metadata": {},
   "source": []
  },
  {
   "cell_type": "markdown",
   "metadata": {},
   "source": [
    "#### [min](https://docs.scipy.org/doc/numpy/reference/generated/numpy.ndarray.min.html)"
   ]
  },
  {
   "cell_type": "code",
   "execution_count": 89,
   "metadata": {
    "collapsed": false
   },
   "outputs": [
    {
     "data": {
      "text/plain": [
       "0"
      ]
     },
     "execution_count": 89,
     "metadata": {},
     "output_type": "execute_result"
    }
   ],
   "source": [
    "a.min()"
   ]
  },
  {
   "cell_type": "markdown",
   "metadata": {},
   "source": [
    "#### [max](https://docs.scipy.org/doc/numpy/reference/generated/numpy.ndarray.max.html)"
   ]
  },
  {
   "cell_type": "code",
   "execution_count": 90,
   "metadata": {
    "collapsed": false
   },
   "outputs": [
    {
     "data": {
      "text/plain": [
       "9"
      ]
     },
     "execution_count": 90,
     "metadata": {},
     "output_type": "execute_result"
    }
   ],
   "source": [
    "a.max()"
   ]
  },
  {
   "cell_type": "markdown",
   "metadata": {},
   "source": [
    "#### [mean](https://docs.scipy.org/doc/numpy/reference/generated/numpy.ndarray.mean.html)"
   ]
  },
  {
   "cell_type": "code",
   "execution_count": 91,
   "metadata": {
    "collapsed": false
   },
   "outputs": [
    {
     "data": {
      "text/plain": [
       "4.8099999999999996"
      ]
     },
     "execution_count": 91,
     "metadata": {},
     "output_type": "execute_result"
    }
   ],
   "source": [
    "a.mean()"
   ]
  },
  {
   "cell_type": "markdown",
   "metadata": {},
   "source": [
    "#### [std](https://docs.scipy.org/doc/numpy/reference/generated/numpy.ndarray.std.html)"
   ]
  },
  {
   "cell_type": "code",
   "execution_count": 92,
   "metadata": {
    "collapsed": false
   },
   "outputs": [
    {
     "data": {
      "text/plain": [
       "3.0089699234123297"
      ]
     },
     "execution_count": 92,
     "metadata": {},
     "output_type": "execute_result"
    }
   ],
   "source": [
    "a.std()#standard deviation"
   ]
  },
  {
   "cell_type": "markdown",
   "metadata": {},
   "source": [
    "#### [sum](https://docs.scipy.org/doc/numpy/reference/generated/numpy.ndarray.sum.html)"
   ]
  },
  {
   "cell_type": "code",
   "execution_count": 93,
   "metadata": {
    "collapsed": false
   },
   "outputs": [
    {
     "data": {
      "text/plain": [
       "481"
      ]
     },
     "execution_count": 93,
     "metadata": {},
     "output_type": "execute_result"
    }
   ],
   "source": [
    "a.sum()"
   ]
  },
  {
   "cell_type": "code",
   "execution_count": 95,
   "metadata": {
    "collapsed": false
   },
   "outputs": [],
   "source": [
    "b=random.randint(0,10,(10,5))"
   ]
  },
  {
   "cell_type": "code",
   "execution_count": 96,
   "metadata": {
    "collapsed": false
   },
   "outputs": [
    {
     "data": {
      "text/plain": [
       "array([[1, 2, 4, 3, 0],\n",
       "       [6, 0, 7, 2, 8],\n",
       "       [3, 0, 8, 4, 2],\n",
       "       [9, 0, 3, 8, 1],\n",
       "       [4, 3, 3, 6, 7],\n",
       "       [3, 5, 3, 2, 4],\n",
       "       [4, 0, 3, 3, 8],\n",
       "       [3, 5, 6, 7, 5],\n",
       "       [1, 7, 0, 2, 8],\n",
       "       [2, 1, 4, 0, 4]])"
      ]
     },
     "execution_count": 96,
     "metadata": {},
     "output_type": "execute_result"
    }
   ],
   "source": [
    "b"
   ]
  },
  {
   "cell_type": "code",
   "execution_count": 97,
   "metadata": {
    "collapsed": false
   },
   "outputs": [
    {
     "data": {
      "text/plain": [
       "(10, 5)"
      ]
     },
     "execution_count": 97,
     "metadata": {},
     "output_type": "execute_result"
    }
   ],
   "source": [
    "b.shape"
   ]
  },
  {
   "cell_type": "code",
   "execution_count": 98,
   "metadata": {
    "collapsed": false
   },
   "outputs": [
    {
     "data": {
      "text/plain": [
       "array([[1, 6, 3, 9, 4, 3, 4, 3, 1, 2],\n",
       "       [2, 0, 0, 0, 3, 5, 0, 5, 7, 1],\n",
       "       [4, 7, 8, 3, 3, 3, 3, 6, 0, 4],\n",
       "       [3, 2, 4, 8, 6, 2, 3, 7, 2, 0],\n",
       "       [0, 8, 2, 1, 7, 4, 8, 5, 8, 4]])"
      ]
     },
     "execution_count": 98,
     "metadata": {},
     "output_type": "execute_result"
    }
   ],
   "source": [
    "b.T"
   ]
  },
  {
   "cell_type": "code",
   "execution_count": 99,
   "metadata": {
    "collapsed": false
   },
   "outputs": [
    {
     "data": {
      "text/plain": [
       "(5, 10)"
      ]
     },
     "execution_count": 99,
     "metadata": {},
     "output_type": "execute_result"
    }
   ],
   "source": [
    "b.T.shape"
   ]
  },
  {
   "cell_type": "markdown",
   "metadata": {},
   "source": [
    "#### [trace](https://docs.scipy.org/doc/numpy/reference/generated/numpy.ndarray.trace.html)"
   ]
  },
  {
   "cell_type": "code",
   "execution_count": 100,
   "metadata": {
    "collapsed": false
   },
   "outputs": [
    {
     "data": {
      "text/plain": [
       "24"
      ]
     },
     "execution_count": 100,
     "metadata": {},
     "output_type": "execute_result"
    }
   ],
   "source": [
    "b.trace()"
   ]
  },
  {
   "cell_type": "markdown",
   "metadata": {},
   "source": [
    "#### [diag](https://docs.scipy.org/doc/numpy/reference/generated/numpy.ndarray.diag.html)"
   ]
  },
  {
   "cell_type": "code",
   "execution_count": 101,
   "metadata": {
    "collapsed": false
   },
   "outputs": [
    {
     "data": {
      "text/plain": [
       "array([1, 0, 8, 8, 7])"
      ]
     },
     "execution_count": 101,
     "metadata": {},
     "output_type": "execute_result"
    }
   ],
   "source": [
    "diag(b)"
   ]
  },
  {
   "cell_type": "code",
   "execution_count": 102,
   "metadata": {
    "collapsed": false
   },
   "outputs": [
    {
     "data": {
      "text/plain": [
       "0"
      ]
     },
     "execution_count": 102,
     "metadata": {},
     "output_type": "execute_result"
    }
   ],
   "source": [
    "b.min()"
   ]
  },
  {
   "cell_type": "code",
   "execution_count": 103,
   "metadata": {
    "collapsed": false
   },
   "outputs": [
    {
     "data": {
      "text/plain": [
       "array([1, 0, 0, 0, 0])"
      ]
     },
     "execution_count": 103,
     "metadata": {},
     "output_type": "execute_result"
    }
   ],
   "source": [
    "b.min(axis=0)"
   ]
  },
  {
   "cell_type": "code",
   "execution_count": 104,
   "metadata": {
    "collapsed": false
   },
   "outputs": [
    {
     "data": {
      "text/plain": [
       "array([0, 0, 0, 0, 3, 2, 0, 3, 0, 0])"
      ]
     },
     "execution_count": 104,
     "metadata": {},
     "output_type": "execute_result"
    }
   ],
   "source": [
    "b.min(axis=1)"
   ]
  },
  {
   "cell_type": "markdown",
   "metadata": {},
   "source": [
    "#### [ravel](https://docs.scipy.org/doc/numpy/reference/generated/numpy.ndarray.ravel.html)"
   ]
  },
  {
   "cell_type": "code",
   "execution_count": 105,
   "metadata": {
    "collapsed": false
   },
   "outputs": [
    {
     "data": {
      "text/plain": [
       "array([1, 2, 4, 3, 0, 6, 0, 7, 2, 8, 3, 0, 8, 4, 2, 9, 0, 3, 8, 1, 4, 3, 3,\n",
       "       6, 7, 3, 5, 3, 2, 4, 4, 0, 3, 3, 8, 3, 5, 6, 7, 5, 1, 7, 0, 2, 8, 2,\n",
       "       1, 4, 0, 4])"
      ]
     },
     "execution_count": 105,
     "metadata": {},
     "output_type": "execute_result"
    }
   ],
   "source": [
    "b.ravel()"
   ]
  },
  {
   "cell_type": "markdown",
   "metadata": {},
   "source": [
    "# Matplotlib\n",
    "\n",
    "[Matplotlib](http://matplotlib.org/) is the **fundamental package for scientific plotting with Python**. We suggest to visit the [gallery](http://matplotlib.org/gallery.html) to get an idea of the different kind of plots that it could be made with matplotlib"
   ]
  },
  {
   "cell_type": "code",
   "execution_count": 110,
   "metadata": {
    "collapsed": true
   },
   "outputs": [],
   "source": [
    "x=array([1,2,4,10,8])\n",
    "y=array([-2,6,7,2,5])"
   ]
  },
  {
   "cell_type": "markdown",
   "metadata": {},
   "source": [
    "#### [plot](http://matplotlib.org/api/pyplot_api.html#matplotlib.pyplot.plot)"
   ]
  },
  {
   "cell_type": "code",
   "execution_count": 114,
   "metadata": {
    "collapsed": false
   },
   "outputs": [
    {
     "data": {
      "text/plain": [
       "[<matplotlib.lines.Line2D at 0x7fb9ff5a2290>]"
      ]
     },
     "execution_count": 114,
     "metadata": {},
     "output_type": "execute_result"
    },
    {
     "data": {
      "image/png": "[encoded data removed]",
      "text/plain": [
       "<matplotlib.figure.Figure at 0x7fb9ff4ee490>"
      ]
     },
     "metadata": {},
     "output_type": "display_data"
    }
   ],
   "source": [
    "plot(x,y,':x')"
   ]
  },
  {
   "cell_type": "code",
   "execution_count": 115,
   "metadata": {
    "collapsed": false
   },
   "outputs": [
    {
     "data": {
      "text/plain": [
       "<matplotlib.legend.Legend at 0x7fb9ff3bd550>"
      ]
     },
     "execution_count": 115,
     "metadata": {},
     "output_type": "execute_result"
    },
    {
     "data": {
      "image/png": "[encoded data removed]",
      "text/plain": [
       "<matplotlib.figure.Figure at 0x7fb9ff4aa190>"
      ]
     },
     "metadata": {},
     "output_type": "display_data"
    }
   ],
   "source": [
    "plot(x,2+3*x,label='a line')\n",
    "plot(linspace(1,10,100),10*sin(linspace(1,10,100)),label='sin(x)')\n",
    "xlabel('x')\n",
    "ylabel('y')\n",
    "legend()"
   ]
  },
  {
   "cell_type": "code",
   "execution_count": 116,
   "metadata": {
    "collapsed": true
   },
   "outputs": [],
   "source": [
    "r=random.rand(100)"
   ]
  },
  {
   "cell_type": "markdown",
   "metadata": {},
   "source": [
    "#### [hist](http://matplotlib.org/api/pyplot_api.html#matplotlib.pyplot.hist)"
   ]
  },
  {
   "cell_type": "code",
   "execution_count": 124,
   "metadata": {
    "collapsed": false
   },
   "outputs": [
    {
     "data": {
      "image/png": "[encoded data removed]",
      "text/plain": [
       "<matplotlib.figure.Figure at 0x7fb9fe655790>"
      ]
     },
     "metadata": {},
     "output_type": "display_data"
    }
   ],
   "source": [
    "hist(r,[0,.4,.6,1])\n",
    "show()"
   ]
  },
  {
   "cell_type": "code",
   "execution_count": 126,
   "metadata": {
    "collapsed": false
   },
   "outputs": [
    {
     "data": {
      "text/plain": [
       "array([  1.07905705e+00,  -6.86831626e-01,  -4.30680627e-01,\n",
       "        -5.97968543e-01,  -9.13443410e-01,  -6.23905153e-01,\n",
       "         2.61875479e-01,  -5.87029005e-01,   8.76199863e-01,\n",
       "         1.23255464e-01,  -3.97125683e-01,   8.86089920e-01,\n",
       "         3.18971826e-01,   2.64867626e-01,   1.04003845e+00,\n",
       "         5.73265449e-01,  -1.08898467e-01,   9.37554843e-01,\n",
       "         3.09317802e-01,   2.91730876e+00,   1.09868850e+00,\n",
       "         1.15321262e+00,   1.29099337e+00,   7.98396113e-02,\n",
       "         1.31289541e+00,   2.33570276e-02,  -8.31173403e-01,\n",
       "        -5.63986458e-01,   5.27950554e-01,  -1.56111989e+00,\n",
       "         2.08352921e-01,  -7.28350085e-01,   7.18216383e-01,\n",
       "        -7.46173711e-01,   1.87230326e+00,   7.67818129e-01,\n",
       "        -1.26885896e+00,   1.75875935e+00,  -2.27252509e-01,\n",
       "        -7.27476110e-01,  -1.02379932e+00,   5.67764740e-01,\n",
       "         1.50452187e+00,  -5.78426973e-01,  -9.97620842e-01,\n",
       "        -1.13970009e+00,   1.49640531e+00,   1.67072922e+00,\n",
       "        -3.48471140e-01,   5.37705087e-01,  -2.90545028e-03,\n",
       "        -6.06303023e-02,   9.64022632e-01,   4.40956001e-01,\n",
       "         3.29489967e-01,  -2.92578935e-01,   8.15600360e-01,\n",
       "        -2.82005902e-01,   4.99224881e-02,   2.19477494e-01,\n",
       "        -1.20115566e+00,  -2.99094967e-01,  -3.12603014e-01,\n",
       "         1.01203086e-01,  -1.11181809e+00,  -1.18655170e+00,\n",
       "         1.62346210e+00,   1.15644361e+00,   8.89039357e-01,\n",
       "         1.82481879e+00,   4.19595238e-01,  -9.10787349e-02,\n",
       "         4.82175748e-01,  -1.87928699e+00,  -1.09808315e+00,\n",
       "         7.58637063e-01,   3.26154832e-02,  -1.27763634e+00,\n",
       "         6.58536872e-01,   9.98901649e-01,   6.67879561e-01,\n",
       "        -3.02967794e-02,  -8.36049480e-01,   1.07594938e-01,\n",
       "         4.26924329e-01,  -3.58588798e-01,   6.03035910e-01,\n",
       "         3.14431934e-01,   3.33114550e-01,  -2.03253979e+00,\n",
       "         1.08109299e+00,   1.72439172e+00,  -4.02467625e-01,\n",
       "        -1.47689898e+00,   6.38929319e-01,  -4.65659732e-01,\n",
       "        -9.67012371e-01,   1.21771626e+00,  -1.38337935e+00,\n",
       "         7.17428622e-01,  -1.24773412e+00,   1.46226798e+00,\n",
       "         5.16552466e-01,  -2.57394997e-01,   1.49369958e-01,\n",
       "         5.82087387e-01,   8.29894377e-01,   8.27791428e-01,\n",
       "         5.46730266e-01,  -4.77381662e-01,   6.64079548e-01,\n",
       "        -1.31132438e+00,   1.00409310e+00,   8.73005837e-01,\n",
       "         1.39408104e+00,  -5.88779607e-01,   1.86211698e-01,\n",
       "         8.58286001e-01,   3.17857879e-01,  -4.26667284e-01,\n",
       "         3.07331067e-01,   6.80320347e-02,   9.95703941e-01,\n",
       "        -6.28462553e-01,   3.39487806e-01,   2.92931126e-01,\n",
       "         7.57328124e-01,  -7.28922452e-02,   1.27314636e-01,\n",
       "        -7.09496749e-02,   3.40658626e-02,   8.35916276e-03,\n",
       "        -3.26744551e-01,   2.82729979e+00,  -8.43911488e-01,\n",
       "        -1.17340991e+00,  -7.95626613e-01,  -7.10052549e-01,\n",
       "         1.14365712e-02,   1.43093280e+00,   1.68838378e+00,\n",
       "         2.37324364e-01,  -2.49821271e+00,   3.84359353e-01,\n",
       "        -1.31065457e+00,  -5.00701575e-01,  -1.14972279e+00,\n",
       "         4.25622580e-01,  -6.26607445e-01,   7.72119677e-01,\n",
       "         4.77302396e-01,  -2.40069567e-01,   8.05603706e-02,\n",
       "         9.17419766e-01,  -3.72131916e-01,   9.15618885e-01,\n",
       "        -1.93160067e-02,   2.69397453e-01,   7.99240871e-01,\n",
       "         1.33153252e+00,   5.20812199e-01,   5.83718840e-02,\n",
       "         7.20685935e-01,  -1.54544764e+00,   1.63896160e+00,\n",
       "        -1.32549127e+00,   9.03709433e-01,  -5.64163931e-01,\n",
       "         5.07251585e-01,  -1.16567424e-01,   3.03589759e-01,\n",
       "        -8.00787040e-01,  -2.16062800e+00,   4.06655649e-01,\n",
       "        -6.00504339e-01,  -6.48635768e-01,  -7.25323137e-01,\n",
       "         1.98441125e+00,  -5.82192438e-01,   3.26812979e-01,\n",
       "        -1.16044319e+00,   1.52309671e+00,  -5.56267969e-01,\n",
       "        -2.60064181e+00,   2.71194987e+00,  -1.09814863e+00,\n",
       "         1.30893233e+00,   7.33072561e-01,   6.52179636e-01,\n",
       "        -2.31484830e-01,   1.89198752e-01,   1.22393601e+00,\n",
       "        -3.00930716e-01,   2.51309632e-01,   9.28290215e-01,\n",
       "         8.33888372e-02,  -4.24983195e-01,   1.45167891e+00,\n",
       "         3.41688599e-01,  -1.25172665e-01,  -7.75894824e-01,\n",
       "        -1.00559722e+00,   8.93784105e-01,   9.49268086e-01,\n",
       "        -2.17071106e+00,  -6.15491639e-01,   9.64888137e-01,\n",
       "         2.42430662e+00,   2.15035381e+00,   9.41866175e-01,\n",
       "         1.37333246e+00,  -5.27419457e-01,   7.74534524e-01,\n",
       "        -1.23716470e+00,  -5.61876346e-01,   3.20971083e-01,\n",
       "         2.16793707e+00,   7.47963329e-01,   2.73827091e-01,\n",
       "        -1.70083563e-01,  -1.32244297e+00,   6.02863002e-01,\n",
       "        -3.49093697e-01,   2.39044706e-01,  -8.89330914e-01,\n",
       "         1.21254954e-01,  -1.53702887e+00,   5.03906219e-01,\n",
       "         1.31972591e+00,   9.13950815e-01,   2.11382376e+00,\n",
       "         3.24553516e-01,   5.05363442e-01,   5.14864838e-01,\n",
       "        -8.79729802e-01,   2.15323347e+00,   9.88578084e-01,\n",
       "        -2.42826421e-01,  -9.02831743e-01,   5.81509283e-01,\n",
       "         8.57547554e-01,   1.37884868e-01,   1.86074517e-01,\n",
       "        -1.88116833e-01,  -2.74739573e-03,   1.33514133e+00,\n",
       "         1.40061789e+00,  -1.50017688e+00,   1.38878875e-01,\n",
       "        -1.20410135e+00,  -1.33569545e+00,   5.85952787e-01,\n",
       "        -8.41569338e-01,  -3.15335745e+00,   6.45152653e-01,\n",
       "         1.28214183e+00,   2.03877714e+00,  -3.96293292e-01,\n",
       "         1.44544531e+00,  -2.62101164e+00,  -1.04339961e+00,\n",
       "         5.18969371e-01,   4.71534268e-01,   1.32041791e+00,\n",
       "         9.56689490e-01,  -8.15700197e-02,   1.52924786e+00,\n",
       "         6.86482640e-01,   1.71708873e+00,  -8.04276993e-01,\n",
       "         3.00253676e-01,  -4.29595674e-01,   8.05913307e-01,\n",
       "        -2.19552167e-01,  -2.51852197e-01,  -1.32648965e+00,\n",
       "         3.08204134e-01,   1.11548937e+00,   1.00819561e+00,\n",
       "        -3.01603199e+00,  -1.61964569e+00,   2.00514053e+00,\n",
       "        -1.87626349e-01,  -1.48941229e-01,   1.16533544e+00,\n",
       "         1.96645295e-01,  -6.32590142e-01,  -2.09846949e-01,\n",
       "         1.89716069e+00,  -1.38139115e+00,   1.30122484e+00,\n",
       "        -3.12392115e-01,  -2.71228715e-01,   1.86291309e+00,\n",
       "        -6.42873595e-01,   8.35058365e-01,  -3.63053451e-01,\n",
       "        -1.43206703e+00,  -1.66019870e-01,   1.16892637e+00,\n",
       "        -1.85892178e-01,   5.49421827e-01,   1.88553315e-01,\n",
       "         4.68313580e-02,  -4.17497823e-01,   1.31782301e-01,\n",
       "        -2.03289345e+00,  -4.48321656e-01,  -1.80394363e+00,\n",
       "         2.69698847e-01,   3.54660486e-01,  -7.96065249e-01,\n",
       "         8.01307608e-01,   3.95830551e-01,   2.93572087e-01,\n",
       "        -3.61403861e-01,   4.72793004e-01,   1.05420704e+00,\n",
       "        -6.60443191e-01,  -8.16844426e-01,   1.18901076e+00,\n",
       "        -2.31842848e+00,  -2.61729009e+00,  -1.81472709e+00,\n",
       "         1.81741030e-01,   1.52374207e-01,   4.96505038e-01,\n",
       "         7.59772904e-02,   1.53737981e+00,   1.57578345e+00,\n",
       "         1.15901064e+00,  -1.15580027e+00,   3.63577886e-01,\n",
       "        -8.66202681e-01,  -5.00710366e-01,  -1.02336220e+00,\n",
       "         1.07124266e-02,   5.44124084e-01,   7.86920498e-02,\n",
       "        -1.19336869e+00,  -1.52603519e+00,  -7.62084805e-01,\n",
       "        -7.77638357e-01,   7.84273167e-01,  -3.19280859e-01,\n",
       "        -1.88666339e-01,  -1.56935067e-01,   1.09684815e+00,\n",
       "         1.63611512e+00,   4.27058537e-01,  -2.48305833e-01,\n",
       "         1.40250153e+00,   4.38241393e-01,  -4.21096885e-01,\n",
       "         1.01057371e+00,   2.07229946e-01,  -1.43403073e+00,\n",
       "         6.26906306e-01,   2.99825202e-01,  -1.85664142e+00,\n",
       "        -2.15104316e+00,   1.36301005e-01,   6.83356255e-01,\n",
       "         6.08580050e-01,  -1.36097977e+00,  -3.47009949e-01,\n",
       "         6.66589919e-01,  -1.53575221e+00,   8.52829822e-02,\n",
       "         2.13329269e-01,   9.23755969e-01,  -2.45389193e+00,\n",
       "         1.44987327e-01,   2.01812185e+00,  -6.21207339e-01,\n",
       "        -3.16239328e-01,   9.53992230e-01,  -7.63142601e-01,\n",
       "         1.15695488e+00,   5.40533161e-01,  -1.57407343e+00,\n",
       "         1.00593418e-01,  -1.45898196e+00,   9.52547818e-01,\n",
       "        -1.68067447e+00,  -1.81175371e+00,  -1.13730441e+00,\n",
       "        -8.03072666e-01,   1.31494079e+00,  -1.82575352e-02,\n",
       "         2.91004542e-01,   1.07489975e+00,  -6.97809900e-01,\n",
       "        -5.78325717e-01,  -8.47452538e-01,   7.84904647e-01,\n",
       "         1.63327621e+00,   2.58742494e-01,  -6.23279994e-01,\n",
       "        -5.20361027e-01,  -1.11231429e+00,   7.31145370e-01,\n",
       "        -1.06292876e+00,  -2.54633065e-01,  -1.16896134e+00,\n",
       "        -1.89946310e+00,  -2.53995540e+00,  -8.89961510e-01,\n",
       "         2.18078498e-01,  -3.17815566e-01,  -2.23574887e-01,\n",
       "        -1.07137988e+00,  -9.31681562e-01,  -1.06770234e+00,\n",
       "         2.11233661e-01,   2.04765484e+00,  -1.36372510e-01,\n",
       "        -1.36928041e+00,   1.27262333e+00,  -9.98566415e-01,\n",
       "         5.57532641e-01,  -4.42655410e-01,   8.10832058e-02,\n",
       "         3.43266343e+00,  -7.47526269e-01,  -5.86680440e-01,\n",
       "         3.75235451e-01,  -2.19467638e-02,  -4.06070901e-01,\n",
       "        -6.88407543e-01,   5.90493866e-01,   1.07737657e+00,\n",
       "        -9.52084072e-01,  -1.13643310e+00,   1.82990624e+00,\n",
       "        -1.42515617e+00,   7.15333449e-01,   4.39127373e-01,\n",
       "        -1.10296955e+00,   7.59493593e-01,  -1.10321635e+00,\n",
       "        -1.08955110e+00,  -1.38955024e+00,   8.34283205e-01,\n",
       "        -4.49345848e-01,   1.08525132e+00,  -8.10140031e-01,\n",
       "         6.14662586e-01,   1.40741059e+00,  -8.60135131e-02,\n",
       "        -1.12545275e+00,  -3.42570942e-01,   1.25673747e+00,\n",
       "         7.39093836e-01,  -3.85988094e-01,  -1.74437237e+00,\n",
       "         7.15536785e-01,   1.63090625e+00,   1.64859408e+00,\n",
       "         4.32790200e-01,  -1.91029171e-01,  -7.86121270e-01,\n",
       "        -5.72601817e-01,  -1.64975030e+00,   2.13455156e+00,\n",
       "        -2.69643893e-02,   2.38440514e+00,  -7.44974154e-02,\n",
       "        -1.61831793e+00,   1.86156510e+00,  -8.59827024e-01,\n",
       "        -4.37908211e-01,   1.64855109e+00,   1.45877321e+00,\n",
       "        -2.02620642e+00,   1.05476994e-03,  -1.08953501e+00,\n",
       "         5.39138222e-01,   1.81217709e+00,  -5.17489822e-01,\n",
       "         1.49322280e+00,  -9.28644275e-01,   2.17227052e+00,\n",
       "        -8.25653891e-01,  -4.63337968e-01,   2.96957368e-01,\n",
       "        -1.40059445e+00,   1.54960885e+00,  -1.07001690e+00,\n",
       "         6.13951564e-01,  -1.28913004e+00,   1.09782946e-01,\n",
       "        -1.05261754e-02,  -3.88240907e-01,   4.89219194e-01,\n",
       "        -1.11683226e+00,   1.52186577e+00,   2.02447357e-01,\n",
       "        -2.79144404e+00,   2.00556158e+00,   4.52713622e-01,\n",
       "         1.55356522e+00,  -1.76936557e-01,  -2.26261533e+00,\n",
       "        -4.19717870e-01,  -1.22606996e+00,  -3.84824623e-02,\n",
       "        -4.82726862e-01,   2.09012280e-01,  -1.76440808e+00,\n",
       "         5.37824044e-02,  -4.59581833e-01,   6.33508871e-01,\n",
       "        -1.69230255e+00,  -4.25070976e-01,   1.65839934e+00,\n",
       "        -1.18106290e+00,   7.38053685e-01,   1.33050612e+00,\n",
       "        -1.00897684e-02,   9.88510642e-01,   1.04143963e+00,\n",
       "         1.56975551e+00,  -3.67832201e-01,  -1.12299083e-01,\n",
       "         8.04122851e-01,  -7.45644050e-01,   4.80507067e-02,\n",
       "        -6.98570662e-01,  -2.32904112e+00,   3.34915144e-01,\n",
       "         1.70243005e+00,  -3.72064681e-01,   8.42973909e-02,\n",
       "        -4.53104951e-01,  -7.40963343e-01,   1.36104464e-01,\n",
       "         1.07293110e+00,   2.21584334e+00,   8.26476557e-01,\n",
       "        -9.61363803e-01,  -1.42701563e+00,   1.30683059e+00,\n",
       "         3.16714992e-01,  -6.10463243e-01,  -1.05617214e+00,\n",
       "        -8.07722367e-01,   1.23342491e+00,  -2.23593720e-02,\n",
       "        -1.40046998e+00,   8.72578990e-01,   3.10102596e-01,\n",
       "        -2.91132171e-01,   6.07715248e-01,  -8.27683957e-01,\n",
       "         9.63904597e-01,  -1.42486090e+00,  -9.03442726e-01,\n",
       "        -1.37688304e+00,  -4.16559060e-01,  -7.57451033e-01,\n",
       "        -3.62645919e-01,   4.76783178e-03,   5.54252540e-01,\n",
       "         1.46532073e-01,   2.51859703e-01,   1.60432394e+00,\n",
       "        -2.66490561e-01,  -1.45833594e+00,   9.51381812e-01,\n",
       "         1.83586955e+00,   1.87288694e-01,   8.39534223e-01,\n",
       "        -6.55616687e-01,   1.85675354e-01,   6.37025319e-01,\n",
       "         3.78575577e-01,  -5.39697653e-01,   1.63062979e+00,\n",
       "         1.72816084e-01,   9.30198206e-01,   4.05778987e-01,\n",
       "         8.73674223e-01,   9.33253297e-01,  -2.16155149e-01,\n",
       "         8.33678813e-01,   2.16045573e+00,   1.99899201e+00,\n",
       "         7.64041420e-01,   1.68725522e+00,  -1.30797134e+00,\n",
       "         1.47239631e+00,   7.48760979e-02,  -1.78693540e+00,\n",
       "         1.65210587e-01,   9.76296298e-01,  -6.96027671e-01,\n",
       "         1.93713158e+00,   1.34922768e+00,  -1.27511386e+00,\n",
       "         1.00909026e+00,   1.11972687e-01,  -5.51680244e-01,\n",
       "        -3.16631643e-01,  -4.44995003e-01,  -1.21627102e+00,\n",
       "        -4.48323107e-01,   6.92688912e-01,   1.42594203e+00,\n",
       "         1.45833834e+00,  -5.73360729e-01,  -1.17247677e-01,\n",
       "        -8.59371317e-01,   1.03000249e+00,  -1.64815292e+00,\n",
       "        -1.36327656e+00,  -6.35846699e-01,   2.51473444e-01,\n",
       "        -3.21147980e-01,   3.30639057e-02,   4.75346222e-02,\n",
       "         2.33279727e-01,  -1.03446298e+00,  -3.39359771e-01,\n",
       "         5.77612336e-01,   2.80229156e-01,   1.09330663e+00,\n",
       "        -7.46224275e-01,   9.06261413e-01,   1.46662474e+00,\n",
       "        -1.42590292e-01,   2.65930144e-01,   2.25189434e-01,\n",
       "         5.35670589e-01,   3.87921115e-01,   1.46948771e+00,\n",
       "         5.13364936e-01,   8.64501704e-01,   3.31526731e-01,\n",
       "        -1.04177028e+00,   4.33360352e-01,  -2.29956023e-01,\n",
       "        -6.35087419e-01,  -8.94370644e-01,  -7.03970806e-02,\n",
       "        -6.07464102e-01,   2.03967227e+00,   1.59677190e+00,\n",
       "        -2.66930296e-01,   7.09157172e-01,   1.15696250e+00,\n",
       "        -1.72839372e-01,   1.84823337e+00,   9.22110368e-01,\n",
       "        -1.01709114e-01,  -1.79929913e+00,  -9.65955208e-01,\n",
       "         3.18692543e-01,  -4.38263949e-01,  -2.07532616e-02,\n",
       "        -7.87313542e-01,   2.46922731e-01,  -4.58302038e-01,\n",
       "        -1.55270587e+00,  -3.41643251e-01,  -5.72025887e-01,\n",
       "        -1.55165764e+00,   1.42317719e+00,  -7.60509662e-02,\n",
       "        -3.26866079e-01,   7.50374811e-01,  -8.25952390e-02,\n",
       "         7.67293626e-01,  -1.48065462e+00,  -1.03665587e+00,\n",
       "         5.45227591e-01,   1.49189736e+00,   3.00115262e-02,\n",
       "         2.16434264e-01,  -8.23443904e-01,  -2.99358768e-02,\n",
       "        -7.08936714e-01,  -1.60238116e-01,   7.22280124e-01,\n",
       "        -1.99876394e+00,   2.13025726e-01,  -8.04541585e-01,\n",
       "        -6.46582215e-01,   1.13817277e+00,   2.95439665e-01,\n",
       "         9.33629628e-01,  -1.76377472e+00,  -4.10216819e-01,\n",
       "        -4.53667125e-01,  -5.89429671e-01,   4.40234504e-01,\n",
       "         8.95921481e-01,  -1.10677887e+00,  -9.62662564e-01,\n",
       "        -1.25195743e+00,   1.14760667e+00,  -5.14734922e-01,\n",
       "        -1.01380781e-01,  -3.32210679e-01,  -9.63656585e-01,\n",
       "         3.73260974e-01,   3.83026870e-01,   9.41325585e-01,\n",
       "        -2.25420082e-01,  -2.97087421e-01,  -5.85521747e-01,\n",
       "         1.48814157e+00,   1.00756699e+00,  -4.03852079e-02,\n",
       "         6.48973606e-01,  -5.85843747e-01,   2.05447476e+00,\n",
       "        -5.91566250e-01,  -3.79688955e-01,  -3.71031518e-01,\n",
       "         1.70123497e+00,   1.47602436e-01,   1.08441856e+00,\n",
       "        -1.10096958e-01,  -1.21297497e+00,   7.75480174e-01,\n",
       "        -6.26456546e-01,  -1.31852251e+00,  -4.16075544e-01,\n",
       "         6.31657101e-01,   1.76428506e+00,  -1.38747793e+00,\n",
       "        -2.19905799e+00,   9.30156997e-01,   3.00051259e-01,\n",
       "        -5.63472911e-01,   4.18361917e-01,   7.29443074e-01,\n",
       "         1.91206875e+00,  -1.30341932e-01,   1.27980017e+00,\n",
       "        -4.51755942e-01,  -5.09668741e-01,   4.23773430e-01,\n",
       "        -1.11496750e+00,  -1.30195903e+00,   9.63193097e-01,\n",
       "        -1.96307507e+00,   1.13348255e-01,  -3.24742264e-01,\n",
       "        -3.73020192e-01,  -1.33230529e+00,  -2.03590244e+00,\n",
       "        -6.60908476e-01,  -1.16521800e+00,  -4.25419025e-01,\n",
       "         8.80360961e-02,  -7.41760232e-01,  -1.07252530e+00,\n",
       "         2.90041364e-01,  -7.61834691e-01,  -9.59531823e-01,\n",
       "        -2.99153271e-01,   2.85491436e-01,   2.10874843e+00,\n",
       "         1.61356155e+00,  -1.26338094e+00,  -1.32424922e+00,\n",
       "         6.47173722e-02,   5.56998940e-01,  -1.31705563e-01,\n",
       "         2.17233280e+00,   1.17707022e+00,   1.64005737e+00,\n",
       "        -4.17870618e-01,  -8.96879586e-01,  -1.07028829e+00,\n",
       "        -1.13781564e-01,  -1.25834992e+00,  -6.33792054e-01,\n",
       "        -4.30769739e-01,   9.44284729e-01,  -4.72875559e-01,\n",
       "        -1.40706411e+00,  -4.47473273e-01,   1.88582912e-01,\n",
       "         5.60918058e-01,  -9.21659055e-01,   6.47375116e-01,\n",
       "         1.38682559e+00,   4.89516618e-01,   2.38795858e-01,\n",
       "        -4.48111806e-01,  -6.10795003e-01,  -2.02994507e+00,\n",
       "         6.07946586e-01,  -3.54108884e-01,   1.52581490e-01,\n",
       "         5.01274849e-01,  -7.86402771e-01,   1.01699569e+00,\n",
       "         1.13110582e-01,   1.49699525e+00,   1.68937668e-01,\n",
       "         3.18624695e-01,  -2.73377138e-01,   1.47641399e+00,\n",
       "        -2.10349278e+00,  -5.32831961e-01,  -3.05053994e-01,\n",
       "        -1.53042074e+00,  -7.94702652e-01,  -2.17212271e+00,\n",
       "         1.90387237e-01,  -1.40522754e+00,   3.69860474e-01,\n",
       "        -2.61781696e-01,  -8.32713513e-01,  -1.55378261e+00,\n",
       "        -6.82847844e-01,   3.10623820e-01,  -1.25447194e-01,\n",
       "         6.66243799e-01,  -7.88330269e-01,   1.60599352e+00,\n",
       "        -2.37953416e-01,  -8.45195429e-01,   1.31015923e+00,\n",
       "         1.35756648e+00,  -9.01693171e-02,  -4.84302117e-01,\n",
       "         9.10074639e-01,  -8.94136968e-01,   9.35191542e-01,\n",
       "        -1.38718052e+00,  -8.33932729e-02,   1.17555072e-02,\n",
       "         1.20809946e+00,  -1.82921963e+00,   2.34436722e-01,\n",
       "        -1.20710467e-01,   2.90828716e-03,  -8.84105546e-01,\n",
       "        -1.30189483e+00,  -4.63137062e-01,  -2.41663785e-01,\n",
       "         1.47518348e+00,   1.11381644e-01,  -4.27625467e-03,\n",
       "         6.98346293e-01,  -1.61185464e+00,   7.22566447e-01,\n",
       "         9.15376141e-01,   9.07143868e-01,  -3.32994062e-01,\n",
       "        -1.23525000e+00,  -9.84928506e-01,   2.47453869e-01,\n",
       "         5.36764845e-01,   1.27654978e+00,   1.52143405e+00,\n",
       "         8.71248281e-01,   3.39287984e-02,   2.64919957e-01,\n",
       "        -2.35312370e-01,   1.05486845e+00,   5.94271549e-01,\n",
       "         2.15859672e-01,  -1.25560054e+00,   1.04666138e+00,\n",
       "        -1.52688637e+00,   1.23178219e+00,   9.84629504e-01,\n",
       "        -1.58706882e+00,  -4.84643360e-02,  -1.24139426e+00,\n",
       "        -1.44619320e-01,   5.55169974e-01,  -1.36638100e-01,\n",
       "        -1.36386802e+00,   2.60827277e-01,   2.59487707e-01,\n",
       "        -2.72348106e-02,  -1.04513897e+00,  -3.49781662e-01,\n",
       "         2.68527168e-01,  -1.55049821e-01,   2.11262212e+00,\n",
       "         2.56079437e-01,  -2.06761334e-01,   4.82597952e-01,\n",
       "        -1.10543235e+00,   4.20755200e-01,   1.61679423e+00,\n",
       "        -8.83771319e-01,   2.98835019e-01,   7.67113096e-01,\n",
       "        -1.69334871e+00,   1.63888893e+00,  -1.04499819e+00,\n",
       "        -3.35054058e-01,   3.80672178e-01,  -2.32602884e-01,\n",
       "         8.02936667e-01,   1.50925417e-01,   5.69751291e-01,\n",
       "         7.49734237e-02,   1.47200161e+00,  -2.01549801e+00,\n",
       "         3.64094247e-01,  -3.00615128e-01,  -9.59032617e-01,\n",
       "        -8.11610011e-01,  -5.71979978e-01,   5.78410537e-01,\n",
       "        -8.96130436e-01,  -1.63183576e-01,   2.75248870e-01,\n",
       "        -1.15579165e+00,   1.11234865e+00,   2.42158930e+00,\n",
       "        -6.74017307e-01,   9.19447184e-01,  -3.09679480e-01,\n",
       "         5.33367456e-01,  -1.81705195e-01,   2.20866163e+00,\n",
       "        -3.24331816e-01,   7.93930409e-01,   6.07366153e-01,\n",
       "        -1.08396014e+00,  -2.16026941e+00,   5.79087216e-01,\n",
       "         8.44518440e-01,  -5.36705418e-01,  -6.33374668e-01,\n",
       "         9.76803256e-01,   8.52833425e-01,   9.55876647e-01,\n",
       "         2.61402036e-01,  -7.88276461e-01,  -1.21797338e+00,\n",
       "        -1.99313655e+00,  -5.76817579e-02,   1.91916876e+00,\n",
       "         4.77894556e-01,  -7.97402435e-02,  -1.52074622e+00,\n",
       "        -6.67930067e-01,   4.93877562e-03,  -2.22219476e-01,\n",
       "         9.08339690e-01,  -1.58606770e-01,   6.95305995e-01,\n",
       "        -1.14218260e-01,  -1.89767166e-01,   1.25913353e+00,\n",
       "        -7.51977434e-01,  -2.83052868e-01,  -1.29273740e+00,\n",
       "         9.67393546e-02,   1.06950100e+00,   6.81401910e-01,\n",
       "         7.34011810e-01,   1.05304238e+00,   6.25218187e-01,\n",
       "         7.58259432e-01,   4.03724077e-01,  -9.75388545e-01,\n",
       "         5.26095100e-01,   9.45886375e-01,  -8.91909655e-01,\n",
       "         2.35989981e-01,   1.08281307e+00,  -3.73476455e-01,\n",
       "        -1.32110657e+00,   6.15339719e-02,   1.59368556e+00,\n",
       "        -9.12945419e-01,  -1.05390070e-01,  -7.51030947e-01,\n",
       "        -3.58967294e-01,   2.34771281e-01,   1.47681361e+00,\n",
       "        -7.16644026e-01,  -7.08654994e-01,  -8.72502440e-01,\n",
       "        -1.09379045e+00,  -1.53470006e+00,  -8.51262199e-01,\n",
       "        -1.05813269e-01,   4.08653865e-02,   1.17244919e+00,\n",
       "        -8.21600485e-01,  -7.79938124e-01,  -7.56837241e-01,\n",
       "         1.95745919e-01,  -1.58472417e-01,   7.77208795e-01,\n",
       "        -7.89140807e-01])"
      ]
     },
     "execution_count": 126,
     "metadata": {},
     "output_type": "execute_result"
    }
   ],
   "source": [
    "rn=random.randn(1000)\n",
    "rn"
   ]
  },
  {
   "cell_type": "code",
   "execution_count": 128,
   "metadata": {
    "collapsed": false
   },
   "outputs": [
    {
     "data": {
      "text/plain": [
       "1.0151632090852645"
      ]
     },
     "execution_count": 128,
     "metadata": {},
     "output_type": "execute_result"
    }
   ],
   "source": [
    "rn.mean()\n",
    "# rn.std()"
   ]
  },
  {
   "cell_type": "code",
   "execution_count": 129,
   "metadata": {
    "collapsed": false
   },
   "outputs": [
    {
     "data": {
      "text/plain": [
       "(array([   1.,   11.,   75.,  239.,  334.,  235.,   98.,    6.,    1.]),\n",
       " array([-4.        , -3.11111111, -2.22222222, -1.33333333, -0.44444444,\n",
       "         0.44444444,  1.33333333,  2.22222222,  3.11111111,  4.        ]),\n",
       " <a list of 9 Patch objects>)"
      ]
     },
     "execution_count": 129,
     "metadata": {},
     "output_type": "execute_result"
    },
    {
     "data": {
      "image/png": "[encoded data removed]",
      "text/plain": [
       "<matplotlib.figure.Figure at 0x7fb9fe395fd0>"
      ]
     },
     "metadata": {},
     "output_type": "display_data"
    }
   ],
   "source": [
    "hist(rn,bins=linspace(-4,4,10))"
   ]
  },
  {
   "cell_type": "markdown",
   "metadata": {},
   "source": [
    "be aware also of the command [histogram](https://docs.scipy.org/doc/numpy/reference/generated/numpy.histogram.html) of numpy. For istance the previous plot could also be obtained in the following way:"
   ]
  },
  {
   "cell_type": "code",
   "execution_count": 130,
   "metadata": {
    "collapsed": true
   },
   "outputs": [],
   "source": [
    "x_bin=linspace(-4,4,10)"
   ]
  },
  {
   "cell_type": "code",
   "execution_count": 133,
   "metadata": {
    "collapsed": false
   },
   "outputs": [
    {
     "data": {
      "text/plain": [
       "(array([  1,  11,  75, 239, 334, 235,  98,   6,   1]),\n",
       " array([-4.        , -3.11111111, -2.22222222, -1.33333333, -0.44444444,\n",
       "         0.44444444,  1.33333333,  2.22222222,  3.11111111,  4.        ]))"
      ]
     },
     "execution_count": 133,
     "metadata": {},
     "output_type": "execute_result"
    }
   ],
   "source": [
    "h=histogram(rn,bins=x_bin)\n",
    "h"
   ]
  },
  {
   "cell_type": "code",
   "execution_count": 132,
   "metadata": {
    "collapsed": false
   },
   "outputs": [
    {
     "data": {
      "text/plain": [
       "[<matplotlib.lines.Line2D at 0x7fb9fe395150>]"
      ]
     },
     "execution_count": 132,
     "metadata": {},
     "output_type": "execute_result"
    },
    {
     "data": {
      "image/png": "[encoded data removed]",
      "text/plain": [
       "<matplotlib.figure.Figure at 0x7fb9fe301a90>"
      ]
     },
     "metadata": {},
     "output_type": "display_data"
    }
   ],
   "source": [
    "plot(h[1][:-1],h[0],'-o')"
   ]
  },
  {
   "cell_type": "markdown",
   "metadata": {},
   "source": [
    "or using the [bar](http://matplotlib.org/api/pyplot_api.html#matplotlib.pyplot.bar) command:"
   ]
  },
  {
   "cell_type": "code",
   "execution_count": 134,
   "metadata": {
    "collapsed": false
   },
   "outputs": [
    {
     "data": {
      "text/plain": [
       "<Container object of 9 artists>"
      ]
     },
     "execution_count": 134,
     "metadata": {},
     "output_type": "execute_result"
    },
    {
     "data": {
      "image/png": "[encoded data removed]",
      "text/plain": [
       "<matplotlib.figure.Figure at 0x7fb9fe26d190>"
      ]
     },
     "metadata": {},
     "output_type": "display_data"
    }
   ],
   "source": [
    "bar(h[1][:-1],h[0])"
   ]
  },
  {
   "cell_type": "markdown",
   "metadata": {},
   "source": [
    "#### [imshow](http://matplotlib.org/api/pyplot_api.html#matplotlib.pyplot.imshow)"
   ]
  },
  {
   "cell_type": "code",
   "execution_count": 135,
   "metadata": {
    "collapsed": true
   },
   "outputs": [],
   "source": [
    "r_matrix=random.rand(100,100)"
   ]
  },
  {
   "cell_type": "code",
   "execution_count": 136,
   "metadata": {
    "collapsed": false
   },
   "outputs": [
    {
     "data": {
      "text/plain": [
       "<matplotlib.colorbar.Colorbar at 0x7fb9fdfe2d50>"
      ]
     },
     "execution_count": 136,
     "metadata": {},
     "output_type": "execute_result"
    },
    {
     "data": {
      "image/png": "[encoded data removed]",
      "text/plain": [
       "<matplotlib.figure.Figure at 0x7fb9fe13c8d0>"
      ]
     },
     "metadata": {},
     "output_type": "display_data"
    }
   ],
   "source": [
    "imshow(r_matrix,interpolation='None')\n",
    "colorbar()"
   ]
  },
  {
   "cell_type": "markdown",
   "metadata": {},
   "source": [
    "# Scipy"
   ]
  },
  {
   "cell_type": "markdown",
   "metadata": {},
   "source": [
    "[Scipy](http://scipy.org) contains additional routines for optimization, special functions, and so on.\n",
    "\n",
    "Some examples:\n",
    "* [do you want to maximize/minimize a function?](https://docs.scipy.org/doc/scipy/reference/tutorial/optimize.html)\n",
    "* [some linear algebra (eigenvalues, matrix inversion, etc.)?](https://docs.scipy.org/doc/scipy/reference/tutorial/linalg.html)\n",
    "* [integrate a function?](https://docs.scipy.org/doc/scipy/reference/tutorial/integrate.html)\n",
    "* [some useful statistical funciton?](https://docs.scipy.org/doc/scipy/reference/tutorial/stats.html)\n",
    "* [further examples](https://docs.scipy.org/doc/scipy/reference/)\n"
   ]
  },
  {
   "cell_type": "markdown",
   "metadata": {},
   "source": [
    "Consider the following example: we want to know if the sample $r1$ and the sample $r2$ come from the same distribution?"
   ]
  },
  {
   "cell_type": "code",
   "execution_count": 137,
   "metadata": {
    "collapsed": true
   },
   "outputs": [],
   "source": [
    "r1=random.randn(2453)*3 # amplio la standard deviation\n",
    "r2=random.randn(5718)"
   ]
  },
  {
   "cell_type": "code",
   "execution_count": 141,
   "metadata": {
    "collapsed": true
   },
   "outputs": [],
   "source": [
    "h1=histogram(r1,linspace(-10,10,100))\n",
    "h2=histogram(r2,linspace(-10,10,100))"
   ]
  },
  {
   "cell_type": "code",
   "execution_count": 140,
   "metadata": {
    "collapsed": false
   },
   "outputs": [
    {
     "data": {
      "text/plain": [
       "<matplotlib.legend.Legend at 0x7fb9fe387e90>"
      ]
     },
     "execution_count": 140,
     "metadata": {},
     "output_type": "execute_result"
    },
    {
     "data": {
      "image/png": "[encoded data removed]",
      "text/plain": [
       "<matplotlib.figure.Figure at 0x7fb9fdf63b10>"
      ]
     },
     "metadata": {},
     "output_type": "display_data"
    }
   ],
   "source": [
    "plot(h1[1][:-1],h1[0]*1./sum(h1[0]),label='r1')\n",
    "plot(h1[1][:-1],h2[0]*1./sum(h2[0]),label='r2')\n",
    "legend()"
   ]
  },
  {
   "cell_type": "code",
   "execution_count": 142,
   "metadata": {
    "collapsed": false
   },
   "outputs": [
    {
     "data": {
      "text/plain": [
       "<matplotlib.legend.Legend at 0x7fb9fe932250>"
      ]
     },
     "execution_count": 142,
     "metadata": {},
     "output_type": "execute_result"
    },
    {
     "data": {
      "image/png": "[encoded data removed]",
      "text/plain": [
       "<matplotlib.figure.Figure at 0x7fb9fdfffe10>"
      ]
     },
     "metadata": {},
     "output_type": "display_data"
    }
   ],
   "source": [
    "plot(h1[1][:-1],cumsum(h1[0]*1./sum(h1[0])),label='line1')\n",
    "plot(h1[1][:-1],cumsum(h2[0]*1./sum(h2[0])),label='line2')\n",
    "legend()"
   ]
  },
  {
   "cell_type": "markdown",
   "metadata": {},
   "source": [
    "## [Statistical Functions](https://docs.scipy.org/doc/scipy/reference/stats.html#) in Scipy"
   ]
  },
  {
   "cell_type": "code",
   "execution_count": 143,
   "metadata": {
    "collapsed": false
   },
   "outputs": [],
   "source": [
    "from scipy import stats"
   ]
  },
  {
   "cell_type": "markdown",
   "metadata": {},
   "source": [
    "#### [Two-samples Kolmogorov-Smirnov test](https://docs.scipy.org/doc/scipy/reference/generated/scipy.stats.ks_2samp.html#scipy.stats.ks_2samp)"
   ]
  },
  {
   "cell_type": "code",
   "execution_count": 144,
   "metadata": {
    "collapsed": false
   },
   "outputs": [],
   "source": [
    "r,p=stats.ks_2samp(r1,r2)"
   ]
  },
  {
   "cell_type": "markdown",
   "metadata": {},
   "source": [
    "the **Kolmogorov-Smirnov** statistic"
   ]
  },
  {
   "cell_type": "code",
   "execution_count": 145,
   "metadata": {
    "collapsed": false
   },
   "outputs": [
    {
     "data": {
      "text/plain": [
       "0.26456764578767789"
      ]
     },
     "execution_count": 145,
     "metadata": {},
     "output_type": "execute_result"
    }
   ],
   "source": [
    "r # distanza max fra le due distribuzioni cumulate"
   ]
  },
  {
   "cell_type": "markdown",
   "metadata": {},
   "source": [
    "the **p-value**"
   ]
  },
  {
   "cell_type": "code",
   "execution_count": 146,
   "metadata": {
    "collapsed": false
   },
   "outputs": [
    {
     "data": {
      "text/plain": [
       "2.0765281695402895e-105"
      ]
     },
     "execution_count": 146,
     "metadata": {},
     "output_type": "execute_result"
    }
   ],
   "source": [
    "p"
   ]
  },
  {
   "cell_type": "markdown",
   "metadata": {},
   "source": [
    "# Further Readings"
   ]
  },
  {
   "cell_type": "code",
   "execution_count": 147,
   "metadata": {
    "collapsed": false
   },
   "outputs": [
    {
     "name": "stdout",
     "output_type": "stream",
     "text": [
      "The Zen of Python, by Tim Peters\n",
      "\n",
      "Beautiful is better than ugly.\n",
      "Explicit is better than implicit.\n",
      "Simple is better than complex.\n",
      "Complex is better than complicated.\n",
      "Flat is better than nested.\n",
      "Sparse is better than dense.\n",
      "Readability counts.\n",
      "Special cases aren't special enough to break the rules.\n",
      "Although practicality beats purity.\n",
      "Errors should never pass silently.\n",
      "Unless explicitly silenced.\n",
      "In the face of ambiguity, refuse the temptation to guess.\n",
      "There should be one-- and preferably only one --obvious way to do it.\n",
      "Although that way may not be obvious at first unless you're Dutch.\n",
      "Now is better than never.\n",
      "Although never is often better than *right* now.\n",
      "If the implementation is hard to explain, it's a bad idea.\n",
      "If the implementation is easy to explain, it may be a good idea.\n",
      "Namespaces are one honking great idea -- let's do more of those!\n"
     ]
    }
   ],
   "source": [
    "import this"
   ]
  },
  {
   "cell_type": "code",
   "execution_count": null,
   "metadata": {
    "collapsed": true
   },
   "outputs": [],
   "source": []
  },
  {
   "cell_type": "code",
   "execution_count": null,
   "metadata": {
    "collapsed": true
   },
   "outputs": [],
   "source": []
  }
 ],
 "metadata": {
  "kernelspec": {
   "display_name": "Python [Root]",
   "language": "python",
   "name": "Python [Root]"
  },
  "language_info": {
   "codemirror_mode": {
    "name": "ipython",
    "version": 2
   },
   "file_extension": ".py",
   "mimetype": "text/x-python",
   "name": "python",
   "nbconvert_exporter": "python",
   "pygments_lexer": "ipython2",
   "version": "2.7.12"
  }
 },
 "nbformat": 4,
 "nbformat_minor": 0
}
