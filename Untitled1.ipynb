{
 "cells": [
  {
   "cell_type": "markdown",
   "metadata": {},
   "source": [
    "## FOR"
   ]
  },
  {
   "cell_type": "code",
   "execution_count": 1,
   "metadata": {
    "collapsed": false
   },
   "outputs": [
    {
     "name": "stdout",
     "output_type": "stream",
     "text": [
      "1\n",
      "2\n",
      "3\n"
     ]
    }
   ],
   "source": [
    "c = [1, 2, 3]\n",
    "for i in c:\n",
    "    print i"
   ]
  },
  {
   "cell_type": "code",
   "execution_count": 7,
   "metadata": {
    "collapsed": false
   },
   "outputs": [
    {
     "name": "stdout",
     "output_type": "stream",
     "text": [
      "zero\n",
      "uno\n",
      "due\n",
      "tre\n"
     ]
    }
   ],
   "source": [
    "lista = [\"zero\", \"uno\", \"due\", \"tre\"]\n",
    "for value in lista:\n",
    "    print value"
   ]
  },
  {
   "cell_type": "code",
   "execution_count": 5,
   "metadata": {
    "collapsed": false
   },
   "outputs": [
    {
     "name": "stdout",
     "output_type": "stream",
     "text": [
      "ciao\n",
      "ciao\n",
      "ciao\n",
      "ciao\n",
      "ciao\n"
     ]
    }
   ],
   "source": [
    "for i in range(5):\n",
    "    print \"ciao\""
   ]
  },
  {
   "cell_type": "code",
   "execution_count": 6,
   "metadata": {
    "collapsed": false
   },
   "outputs": [
    {
     "data": {
      "text/plain": [
       "[1, 2, 3, 4]"
      ]
     },
     "execution_count": 6,
     "metadata": {},
     "output_type": "execute_result"
    }
   ],
   "source": [
    "range(1,5)"
   ]
  },
  {
   "cell_type": "code",
   "execution_count": 8,
   "metadata": {
    "collapsed": false
   },
   "outputs": [
    {
     "name": "stdout",
     "output_type": "stream",
     "text": [
      "INDICE: 0 --> zero\n",
      "INDICE: 1 --> uno\n",
      "INDICE: 2 --> due\n",
      "INDICE: 3 --> tre\n"
     ]
    }
   ],
   "source": [
    "for indice, valore in enumerate(lista):\n",
    "    print \"INDICE: %s --> %s\" % (indice, valore)"
   ]
  },
  {
   "cell_type": "code",
   "execution_count": 10,
   "metadata": {
    "collapsed": false
   },
   "outputs": [
    {
     "name": "stdout",
     "output_type": "stream",
     "text": [
      "0  -  zero\n",
      "1  -  uno\n",
      "2  -  due\n",
      "3  -  tre\n"
     ]
    }
   ],
   "source": [
    "for v in enumerate(lista):\n",
    "    print v[0], \" - \", v[1]"
   ]
  },
  {
   "cell_type": "code",
   "execution_count": 12,
   "metadata": {
    "collapsed": false
   },
   "outputs": [
    {
     "name": "stdout",
     "output_type": "stream",
     "text": [
      "zero\n",
      "uno\n",
      "due\n",
      "tre\n"
     ]
    }
   ],
   "source": [
    "len (lista)\n",
    "for indice in range(len(lista)):\n",
    "    print lista[indice]"
   ]
  },
  {
   "cell_type": "markdown",
   "metadata": {},
   "source": [
    "## UGUAGLIANZA VS IDENTITA'"
   ]
  },
  {
   "cell_type": "code",
   "execution_count": 13,
   "metadata": {
    "collapsed": false
   },
   "outputs": [
    {
     "name": "stdout",
     "output_type": "stream",
     "text": [
      "True\n",
      "True\n"
     ]
    }
   ],
   "source": [
    "x = 0\n",
    "y = 0\n",
    "print x ==0\n",
    "print x is y"
   ]
  },
  {
   "cell_type": "code",
   "execution_count": 14,
   "metadata": {
    "collapsed": false
   },
   "outputs": [
    {
     "name": "stdout",
     "output_type": "stream",
     "text": [
      "True\n"
     ]
    }
   ],
   "source": [
    "x = [0]\n",
    "y = [0]\n",
    "print x == y"
   ]
  },
  {
   "cell_type": "code",
   "execution_count": 15,
   "metadata": {
    "collapsed": false
   },
   "outputs": [
    {
     "name": "stdout",
     "output_type": "stream",
     "text": [
      "False\n"
     ]
    }
   ],
   "source": [
    "print x is y"
   ]
  },
  {
   "cell_type": "markdown",
   "metadata": {},
   "source": [
    "## TRY / Exception"
   ]
  },
  {
   "cell_type": "code",
   "execution_count": 19,
   "metadata": {
    "collapsed": false
   },
   "outputs": [
    {
     "name": "stdout",
     "output_type": "stream",
     "text": [
      "ERRORE\n"
     ]
    }
   ],
   "source": [
    "try:\n",
    "    print abc\n",
    "except:\n",
    "    print \"ERRORE\""
   ]
  },
  {
   "cell_type": "code",
   "execution_count": 23,
   "metadata": {
    "collapsed": false
   },
   "outputs": [
    {
     "name": "stdout",
     "output_type": "stream",
     "text": [
      "Errore sconosciuto\n"
     ]
    }
   ],
   "source": [
    "try:\n",
    "    print \"a\" + 1\n",
    "except NameError:\n",
    "    print \"NOME ERRORE\"\n",
    "except:\n",
    "    print \"Errore sconosciuto\""
   ]
  },
  {
   "cell_type": "code",
   "execution_count": 24,
   "metadata": {
    "collapsed": false
   },
   "outputs": [
    {
     "name": "stdout",
     "output_type": "stream",
     "text": [
      "Help on class NameError in module exceptions:\n",
      "\n",
      "class NameError(StandardError)\n",
      " |  Name not found globally.\n",
      " |  \n",
      " |  Method resolution order:\n",
      " |      NameError\n",
      " |      StandardError\n",
      " |      Exception\n",
      " |      BaseException\n",
      " |      __builtin__.object\n",
      " |  \n",
      " |  Methods defined here:\n",
      " |  \n",
      " |  __init__(...)\n",
      " |      x.__init__(...) initializes x; see help(type(x)) for signature\n",
      " |  \n",
      " |  ----------------------------------------------------------------------\n",
      " |  Data and other attributes defined here:\n",
      " |  \n",
      " |  __new__ = <built-in method __new__ of type object>\n",
      " |      T.__new__(S, ...) -> a new object with type S, a subtype of T\n",
      " |  \n",
      " |  ----------------------------------------------------------------------\n",
      " |  Methods inherited from BaseException:\n",
      " |  \n",
      " |  __delattr__(...)\n",
      " |      x.__delattr__('name') <==> del x.name\n",
      " |  \n",
      " |  __getattribute__(...)\n",
      " |      x.__getattribute__('name') <==> x.name\n",
      " |  \n",
      " |  __getitem__(...)\n",
      " |      x.__getitem__(y) <==> x[y]\n",
      " |  \n",
      " |  __getslice__(...)\n",
      " |      x.__getslice__(i, j) <==> x[i:j]\n",
      " |      \n",
      " |      Use of negative indices is not supported.\n",
      " |  \n",
      " |  __reduce__(...)\n",
      " |  \n",
      " |  __repr__(...)\n",
      " |      x.__repr__() <==> repr(x)\n",
      " |  \n",
      " |  __setattr__(...)\n",
      " |      x.__setattr__('name', value) <==> x.name = value\n",
      " |  \n",
      " |  __setstate__(...)\n",
      " |  \n",
      " |  __str__(...)\n",
      " |      x.__str__() <==> str(x)\n",
      " |  \n",
      " |  __unicode__(...)\n",
      " |  \n",
      " |  ----------------------------------------------------------------------\n",
      " |  Data descriptors inherited from BaseException:\n",
      " |  \n",
      " |  __dict__\n",
      " |  \n",
      " |  args\n",
      " |  \n",
      " |  message\n",
      "\n"
     ]
    }
   ],
   "source": [
    "help(NameError)"
   ]
  },
  {
   "cell_type": "code",
   "execution_count": 26,
   "metadata": {
    "collapsed": false
   },
   "outputs": [
    {
     "name": "stdout",
     "output_type": "stream",
     "text": [
      "cannot concatenate 'str' and 'int' objects\n",
      "sono giunta nel finally\n"
     ]
    }
   ],
   "source": [
    "try:\n",
    "    print \"a\" + 1\n",
    "except NameError:\n",
    "    print \"NOME ERRORE\"\n",
    "except Exception as e:\n",
    "    print e\n",
    "else:\n",
    "    print \"funziona!!!\"\n",
    "finally:\n",
    "    print \"sono giunta nel finally\""
   ]
  },
  {
   "cell_type": "code",
   "execution_count": 27,
   "metadata": {
    "collapsed": true
   },
   "outputs": [],
   "source": [
    "try:\n",
    "    a = 0\n",
    "except:\n",
    "    print \"Errore\"\n",
    "    "
   ]
  },
  {
   "cell_type": "markdown",
   "metadata": {
    "collapsed": true
   },
   "source": [
    "## Funzioni"
   ]
  },
  {
   "cell_type": "code",
   "execution_count": 3,
   "metadata": {
    "collapsed": false
   },
   "outputs": [
    {
     "name": "stdout",
     "output_type": "stream",
     "text": [
      "Sono dentro la funzione\n",
      "ciao\n"
     ]
    }
   ],
   "source": [
    "def nome_funzione(parametro1, parametro2):\n",
    "    print \"Sono dentro la funzione\"\n",
    "    return \"ciao\"\n",
    "\n",
    "risultato = nome_funzione(1,2)\n",
    "print risultato"
   ]
  },
  {
   "cell_type": "code",
   "execution_count": 5,
   "metadata": {
    "collapsed": false
   },
   "outputs": [],
   "source": [
    "def func():\n",
    "    pass\n",
    "\n",
    "func()"
   ]
  },
  {
   "cell_type": "code",
   "execution_count": 6,
   "metadata": {
    "collapsed": false
   },
   "outputs": [
    {
     "name": "stdout",
     "output_type": "stream",
     "text": [
      "None None\n"
     ]
    }
   ],
   "source": [
    "def func(param1=None, param2=None):\n",
    "    print param1, param2\n",
    "    \n",
    "func()"
   ]
  },
  {
   "cell_type": "code",
   "execution_count": 8,
   "metadata": {
    "collapsed": false
   },
   "outputs": [
    {
     "name": "stdout",
     "output_type": "stream",
     "text": [
      "1 2\n"
     ]
    }
   ],
   "source": [
    "func (1,2)"
   ]
  },
  {
   "cell_type": "code",
   "execution_count": 9,
   "metadata": {
    "collapsed": false
   },
   "outputs": [
    {
     "name": "stdout",
     "output_type": "stream",
     "text": [
      "None 1\n"
     ]
    }
   ],
   "source": [
    "func(param2=1)"
   ]
  },
  {
   "cell_type": "code",
   "execution_count": 10,
   "metadata": {
    "collapsed": false
   },
   "outputs": [
    {
     "name": "stdout",
     "output_type": "stream",
     "text": [
      "3 None\n"
     ]
    }
   ],
   "source": [
    "func(3)"
   ]
  },
  {
   "cell_type": "code",
   "execution_count": 11,
   "metadata": {
    "collapsed": false
   },
   "outputs": [
    {
     "name": "stdout",
     "output_type": "stream",
     "text": [
      "10 4\n"
     ]
    }
   ],
   "source": [
    "func(param2=4, param1=10)"
   ]
  },
  {
   "cell_type": "code",
   "execution_count": 18,
   "metadata": {
    "collapsed": false
   },
   "outputs": [
    {
     "name": "stdout",
     "output_type": "stream",
     "text": [
      "Errore\n",
      "Errore\n"
     ]
    }
   ],
   "source": [
    "def func(param=None):\n",
    "    if param:\n",
    "        print param\n",
    "    else:\n",
    "        print \"Errore\"\n",
    "\n",
    "func()\n",
    "func(False)"
   ]
  },
  {
   "cell_type": "code",
   "execution_count": 19,
   "metadata": {
    "collapsed": false
   },
   "outputs": [
    {
     "name": "stdout",
     "output_type": "stream",
     "text": [
      "(1, 2, 3, 5)\n"
     ]
    }
   ],
   "source": [
    "def func(*args):\n",
    "    print args\n",
    "    \n",
    "func(1,2,3,5)"
   ]
  },
  {
   "cell_type": "code",
   "execution_count": 20,
   "metadata": {
    "collapsed": false
   },
   "outputs": [
    {
     "name": "stdout",
     "output_type": "stream",
     "text": [
      "1 2 (3, 5)\n"
     ]
    }
   ],
   "source": [
    "def func(p1, p2, *args):\n",
    "    print p1, p2, args\n",
    "    \n",
    "func(1,2,3,5)"
   ]
  },
  {
   "cell_type": "code",
   "execution_count": 21,
   "metadata": {
    "collapsed": false
   },
   "outputs": [
    {
     "name": "stdout",
     "output_type": "stream",
     "text": [
      "1 2 <type 'tuple'>\n"
     ]
    }
   ],
   "source": [
    "def func(p1, p2, *args):\n",
    "    print p1, p2, type(args)\n",
    "    \n",
    "func(1,2,3,5)"
   ]
  },
  {
   "cell_type": "code",
   "execution_count": 22,
   "metadata": {
    "collapsed": false
   },
   "outputs": [
    {
     "name": "stdout",
     "output_type": "stream",
     "text": [
      "1 2 (3, 4, 5) {'ciao': 1}\n"
     ]
    }
   ],
   "source": [
    "def func(p1, p2, *args, **kw):\n",
    "    print p1, p2, args, kw\n",
    "    \n",
    "func(1,2,3,4,5, ciao=1)"
   ]
  },
  {
   "cell_type": "code",
   "execution_count": 25,
   "metadata": {
    "collapsed": false
   },
   "outputs": [
    {
     "name": "stdout",
     "output_type": "stream",
     "text": [
      "1 2 (3, 4, 5) {'ciao': 1, 'pippo': '3'}\n",
      "[('ciao', 1), ('pippo', '3')]\n",
      "<type 'tuple'>\n",
      "<type 'dict'>\n"
     ]
    }
   ],
   "source": [
    "def func(p1, p2, *args, **kw):\n",
    "    print p1, p2, args, kw\n",
    "    print kw.items()\n",
    "    print type(args)\n",
    "    print type(kw)\n",
    "    \n",
    "func(1,2,3,4,5, ciao=1, pippo=\"3\")"
   ]
  },
  {
   "cell_type": "code",
   "execution_count": 26,
   "metadata": {
    "collapsed": false
   },
   "outputs": [
    {
     "name": "stdout",
     "output_type": "stream",
     "text": [
      "5\n",
      "0\n"
     ]
    }
   ],
   "source": [
    "num = 0\n",
    "def func():\n",
    "    num = 5\n",
    "    print num\n",
    "    \n",
    "func()\n",
    "print num\n"
   ]
  },
  {
   "cell_type": "code",
   "execution_count": 27,
   "metadata": {
    "collapsed": true
   },
   "outputs": [],
   "source": [
    "def func(*args, **kw):\n",
    "    print kw\n",
    "diz = dict(a=2)"
   ]
  },
  {
   "cell_type": "code",
   "execution_count": 28,
   "metadata": {
    "collapsed": false
   },
   "outputs": [
    {
     "name": "stdout",
     "output_type": "stream",
     "text": [
      "{}\n"
     ]
    }
   ],
   "source": [
    "func(diz)"
   ]
  },
  {
   "cell_type": "code",
   "execution_count": 29,
   "metadata": {
    "collapsed": false
   },
   "outputs": [
    {
     "name": "stdout",
     "output_type": "stream",
     "text": [
      "{'a': 2}\n"
     ]
    }
   ],
   "source": [
    "func(**diz)"
   ]
  },
  {
   "cell_type": "code",
   "execution_count": 30,
   "metadata": {
    "collapsed": false
   },
   "outputs": [
    {
     "name": "stdout",
     "output_type": "stream",
     "text": [
      "{}\n"
     ]
    }
   ],
   "source": [
    "func(dict(key1=1, key2=2))"
   ]
  },
  {
   "cell_type": "code",
   "execution_count": 31,
   "metadata": {
    "collapsed": false
   },
   "outputs": [
    {
     "name": "stdout",
     "output_type": "stream",
     "text": [
      "{'key2': 2, 'key1': 1}\n"
     ]
    }
   ],
   "source": [
    "def func(ciao):\n",
    "    print ciao\n",
    "    \n",
    "func(dict(key1=1, key2=2))"
   ]
  },
  {
   "cell_type": "markdown",
   "metadata": {},
   "source": [
    "## Esercizio"
   ]
  },
  {
   "cell_type": "code",
   "execution_count": 73,
   "metadata": {
    "collapsed": false
   },
   "outputs": [
    {
     "name": "stdout",
     "output_type": "stream",
     "text": [
      "POSIZIONE: 0 --> ciao\n",
      "POSIZIONE: 1 --> pippo\n",
      "POSIZIONE: 2 --> pluto\n"
     ]
    }
   ],
   "source": [
    "'''Esercizio 1'''\n",
    "def p_list(mylist):\n",
    "    for indice, valore in enumerate(mylist):\n",
    "        print \"POSIZIONE: %s --> %s\" % (indice, valore)\n",
    "    \n",
    "p_list(['ciao', 'pippo', 'pluto'])"
   ]
  },
  {
   "cell_type": "code",
   "execution_count": 41,
   "metadata": {
    "collapsed": false
   },
   "outputs": [
    {
     "ename": "SyntaxError",
     "evalue": "invalid syntax (<ipython-input-41-b755632effc9>, line 5)",
     "output_type": "error",
     "traceback": [
      "\u001b[1;36m  File \u001b[1;32m\"<ipython-input-41-b755632effc9>\"\u001b[1;36m, line \u001b[1;32m5\u001b[0m\n\u001b[1;33m    p_dict({0='ciao', 1='pippo', 3='pluto'})\u001b[0m\n\u001b[1;37m             ^\u001b[0m\n\u001b[1;31mSyntaxError\u001b[0m\u001b[1;31m:\u001b[0m invalid syntax\n"
     ]
    }
   ],
   "source": [
    "def p_dict(**myDict):\n",
    "    for i in range(len(myDict)):\n",
    "        print \"CHIAVE: %s --> %s\" % (myDict.keys[i], myDict.vlues[i])\n",
    "    \n",
    "p_dict({0='ciao', 1='pippo', 3='pluto'})"
   ]
  },
  {
   "cell_type": "code",
   "execution_count": 42,
   "metadata": {
    "collapsed": false
   },
   "outputs": [
    {
     "name": "stdout",
     "output_type": "stream",
     "text": [
      "['__class__', '__cmp__', '__contains__', '__delattr__', '__delitem__', '__doc__', '__eq__', '__format__', '__ge__', '__getattribute__', '__getitem__', '__gt__', '__hash__', '__init__', '__iter__', '__le__', '__len__', '__lt__', '__ne__', '__new__', '__reduce__', '__reduce_ex__', '__repr__', '__setattr__', '__setitem__', '__sizeof__', '__str__', '__subclasshook__', 'clear', 'copy', 'fromkeys', 'get', 'has_key', 'items', 'iteritems', 'iterkeys', 'itervalues', 'keys', 'pop', 'popitem', 'setdefault', 'update', 'values', 'viewitems', 'viewkeys', 'viewvalues']\n"
     ]
    }
   ],
   "source": [
    "print dir(dict)"
   ]
  },
  {
   "cell_type": "code",
   "execution_count": 44,
   "metadata": {
    "collapsed": false
   },
   "outputs": [
    {
     "ename": "SyntaxError",
     "evalue": "invalid syntax (<ipython-input-44-3bf278d437c4>, line 1)",
     "output_type": "error",
     "traceback": [
      "\u001b[1;36m  File \u001b[1;32m\"<ipython-input-44-3bf278d437c4>\"\u001b[1;36m, line \u001b[1;32m1\u001b[0m\n\u001b[1;33m    diz= {0='ciao', 1='pippo', 3='pluto'}\u001b[0m\n\u001b[1;37m           ^\u001b[0m\n\u001b[1;31mSyntaxError\u001b[0m\u001b[1;31m:\u001b[0m invalid syntax\n"
     ]
    }
   ],
   "source": [
    "diz= {0='ciao', 1='pippo', 3='pluto'}\n",
    "for i in __len__(diz):\n",
    "    print diz.keys[i]\n",
    "    print diz.values[i]"
   ]
  },
  {
   "cell_type": "code",
   "execution_count": 59,
   "metadata": {
    "collapsed": false
   },
   "outputs": [
    {
     "name": "stdout",
     "output_type": "stream",
     "text": [
      "CHIAVE: chiave3 --> 3\n",
      "CHIAVE: chiave2 --> False\n",
      "CHIAVE: chiave1 --> ciao\n"
     ]
    }
   ],
   "source": [
    "def p_dict(myDict):\n",
    "    for chiave, valore in myDict.items():\n",
    "        print \"CHIAVE: %s --> %s\" % (chiave, valore)\n",
    "    \n",
    "dizionario = dict(chiave1='ciao', chiave2=False, chiave3=3)\n",
    "p_dict(dizionario)"
   ]
  },
  {
   "cell_type": "code",
   "execution_count": 60,
   "metadata": {
    "collapsed": false
   },
   "outputs": [
    {
     "name": "stdout",
     "output_type": "stream",
     "text": [
      "CHIAVE: chiave3 --> 3\n",
      "CHIAVE: chiave2 --> False\n",
      "CHIAVE: chiave1 --> ciao\n"
     ]
    }
   ],
   "source": [
    "'''Esercizio 2'''\n",
    "def p_dict(myDict):\n",
    "    for chiave in myDict.keys():\n",
    "        print \"CHIAVE: %s --> %s\" % (chiave, myDict[chiave])\n",
    "    \n",
    "dizionario = dict(chiave1='ciao', chiave2=False, chiave3=3)\n",
    "p_dict(dizionario)"
   ]
  },
  {
   "cell_type": "code",
   "execution_count": 71,
   "metadata": {
    "collapsed": false
   },
   "outputs": [
    {
     "name": "stdout",
     "output_type": "stream",
     "text": [
      "1\n",
      "Non ne' una lista ne' un dizionario\n"
     ]
    }
   ],
   "source": [
    "'''Esercizio 3'''\n",
    "def p_stampa(param):\n",
    "    if type(param) == list:\n",
    "        p_list(param)\n",
    "        print \"E' una lista\"\n",
    "    elif type(param) == dict:\n",
    "        p_dict(param)\n",
    "        print \"E' un dizionario\"\n",
    "    else:\n",
    "        print \"Non ne' una lista ne' un dizionario\"\n",
    "        \n",
    "p_stampa(1)\n",
    "        "
   ]
  },
  {
   "cell_type": "code",
   "execution_count": 77,
   "metadata": {
    "collapsed": false
   },
   "outputs": [
    {
     "name": "stdout",
     "output_type": "stream",
     "text": [
      "POSIZIONE: 0 --> 2\n",
      "POSIZIONE: 1 --> 3\n",
      "POSIZIONE: 2 --> ciao\n",
      "POSIZIONE: 3 --> True\n",
      "E' una lista\n"
     ]
    }
   ],
   "source": [
    "p_stampa([2, 3, 'ciao', True])"
   ]
  },
  {
   "cell_type": "code",
   "execution_count": 70,
   "metadata": {
    "collapsed": false
   },
   "outputs": [
    {
     "name": "stdout",
     "output_type": "stream",
     "text": [
      "CHIAVE: key3 --> True\n",
      "CHIAVE: key2 --> 22\n",
      "CHIAVE: key1 --> (2, 'angelica')\n",
      "CHIAVE: key0 --> Intesa\n",
      "CHIAVE: key4 --> Angelica\n"
     ]
    }
   ],
   "source": [
    "p_stampa(dict(key0='Intesa', key1=(2, 'angelica'), key2=22, key3=True, key4='Angelica'))"
   ]
  },
  {
   "cell_type": "code",
   "execution_count": 64,
   "metadata": {
    "collapsed": false
   },
   "outputs": [
    {
     "name": "stdout",
     "output_type": "stream",
     "text": [
      "{'chiave3': ('ciao', 'mondo'), 'chiave2': False, 'chiave1': 23}\n"
     ]
    }
   ],
   "source": [
    "print dict(chiave1=23, chiave2=False, chiave3=('ciao', 'mondo'))"
   ]
  },
  {
   "cell_type": "code",
   "execution_count": 76,
   "metadata": {
    "collapsed": false
   },
   "outputs": [
    {
     "name": "stdout",
     "output_type": "stream",
     "text": [
      "['__add__', '__class__', '__contains__', '__delattr__', '__delitem__', '__delslice__', '__doc__', '__eq__', '__format__', '__ge__', '__getattribute__', '__getitem__', '__getslice__', '__gt__', '__hash__', '__iadd__', '__imul__', '__init__', '__iter__', '__le__', '__len__', '__lt__', '__mul__', '__ne__', '__new__', '__reduce__', '__reduce_ex__', '__repr__', '__reversed__', '__rmul__', '__setattr__', '__setitem__', '__setslice__', '__sizeof__', '__str__', '__subclasshook__', 'append', 'count', 'extend', 'index', 'insert', 'pop', 'remove', 'reverse', 'sort']\n"
     ]
    }
   ],
   "source": [
    "print dir(list)\n"
   ]
  },
  {
   "cell_type": "code",
   "execution_count": 89,
   "metadata": {
    "collapsed": false
   },
   "outputs": [
    {
     "name": "stdout",
     "output_type": "stream",
     "text": [
      "Oggi\n",
      "il\n",
      "sole\n",
      "splende\n",
      "in\n",
      "cielo\n",
      "6\n",
      "Oggi\n",
      "il\n",
      "sole\n",
      "splende\n",
      "in\n",
      "cielo\n",
      "6\n"
     ]
    }
   ],
   "source": [
    "'''Esercizio 4'''\n",
    "def conta_parole(frase):\n",
    "    if type(frase) == str:\n",
    "        for parola in frase.split():\n",
    "            print parola\n",
    "        print len(frase.split())\n",
    "    else: print 'Il parametro in input deve essere una frase'\n",
    "        \n",
    "esempio = 'Oggi il sole splende in cielo'\n",
    "conta_parole(esempio)\n",
    "\n",
    "\n",
    "def conta_parole1(frase):\n",
    "    if isinstance(frase, str):\n",
    "        parole = frase.split()\n",
    "        for parola in parole:\n",
    "            print parola\n",
    "        print len(parole)\n",
    "    else: print \"L'input non e' una frase\"\n",
    "\n",
    "conta_parole1(esempio)"
   ]
  },
  {
   "cell_type": "code",
   "execution_count": 79,
   "metadata": {
    "collapsed": false
   },
   "outputs": [
    {
     "data": {
      "text/plain": [
       "['Oggi', 'il', 'sole', 'splende', 'in', 'cielo']"
      ]
     },
     "execution_count": 79,
     "metadata": {},
     "output_type": "execute_result"
    }
   ],
   "source": [
    "frase = 'Oggi il sole splende in cielo'\n",
    "frase.split()"
   ]
  },
  {
   "cell_type": "code",
   "execution_count": 82,
   "metadata": {
    "collapsed": true
   },
   "outputs": [],
   "source": [
    "'''Esercizio 3 corretto'''\n",
    "def p_dict1(myDict):\n",
    "    for chiave in myDict.keys():\n",
    "        print \"CHIAVE: %s --> %s\" % (chiave, myDict[chiave])"
   ]
  },
  {
   "cell_type": "code",
   "execution_count": 84,
   "metadata": {
    "collapsed": false
   },
   "outputs": [
    {
     "ename": "RuntimeError",
     "evalue": "maximum recursion depth exceeded while calling a Python object",
     "output_type": "error",
     "traceback": [
      "\u001b[1;31m---------------------------------------------------------------------------\u001b[0m",
      "\u001b[1;31mRuntimeError\u001b[0m                              Traceback (most recent call last)",
      "\u001b[1;32m<ipython-input-84-73c3b3553f8d>\u001b[0m in \u001b[0;36m<module>\u001b[1;34m()\u001b[0m\n\u001b[0;32m      9\u001b[0m \u001b[1;33m\u001b[0m\u001b[0m\n\u001b[0;32m     10\u001b[0m \u001b[0mmyDict\u001b[0m\u001b[1;33m=\u001b[0m\u001b[0mdict\u001b[0m\u001b[1;33m(\u001b[0m\u001b[0mchiave1\u001b[0m\u001b[1;33m=\u001b[0m\u001b[1;36m23\u001b[0m\u001b[1;33m,\u001b[0m \u001b[0mchiave2\u001b[0m\u001b[1;33m=\u001b[0m\u001b[0mFalse\u001b[0m\u001b[1;33m,\u001b[0m \u001b[0mchiave3\u001b[0m\u001b[1;33m=\u001b[0m\u001b[1;33m[\u001b[0m\u001b[1;36m1\u001b[0m\u001b[1;33m,\u001b[0m\u001b[1;36m2\u001b[0m\u001b[1;33m,\u001b[0m\u001b[1;34m'ciao'\u001b[0m\u001b[1;33m]\u001b[0m\u001b[1;33m)\u001b[0m\u001b[1;33m\u001b[0m\u001b[0m\n\u001b[1;32m---> 11\u001b[1;33m \u001b[0mp_dict1\u001b[0m\u001b[1;33m(\u001b[0m\u001b[0mmyDict\u001b[0m\u001b[1;33m)\u001b[0m\u001b[1;33m\u001b[0m\u001b[0m\n\u001b[0m",
      "\u001b[1;32m<ipython-input-84-73c3b3553f8d>\u001b[0m in \u001b[0;36mp_dict1\u001b[1;34m(myDict)\u001b[0m\n\u001b[0;32m      4\u001b[0m             \u001b[0mp_list\u001b[0m\u001b[1;33m(\u001b[0m\u001b[0mmyDict\u001b[0m\u001b[1;33m)\u001b[0m\u001b[1;33m\u001b[0m\u001b[0m\n\u001b[0;32m      5\u001b[0m         \u001b[1;32melif\u001b[0m \u001b[0misinstance\u001b[0m\u001b[1;33m(\u001b[0m\u001b[0mmyDict\u001b[0m\u001b[1;33m,\u001b[0m \u001b[0mdict\u001b[0m\u001b[1;33m)\u001b[0m\u001b[1;33m:\u001b[0m\u001b[1;33m\u001b[0m\u001b[0m\n\u001b[1;32m----> 6\u001b[1;33m             \u001b[0mp_dict1\u001b[0m\u001b[1;33m(\u001b[0m\u001b[0mmyDict\u001b[0m\u001b[1;33m)\u001b[0m\u001b[1;33m\u001b[0m\u001b[0m\n\u001b[0m\u001b[0;32m      7\u001b[0m         \u001b[1;32melse\u001b[0m\u001b[1;33m:\u001b[0m\u001b[1;33m\u001b[0m\u001b[0m\n\u001b[0;32m      8\u001b[0m             \u001b[1;32mprint\u001b[0m \u001b[1;34m'KEY: %s --> %s'\u001b[0m \u001b[1;33m%\u001b[0m \u001b[1;33m(\u001b[0m\u001b[0mchiave\u001b[0m\u001b[1;33m,\u001b[0m \u001b[0mvalore\u001b[0m\u001b[1;33m)\u001b[0m\u001b[1;33m\u001b[0m\u001b[0m\n",
      "... last 1 frames repeated, from the frame below ...\n",
      "\u001b[1;32m<ipython-input-84-73c3b3553f8d>\u001b[0m in \u001b[0;36mp_dict1\u001b[1;34m(myDict)\u001b[0m\n\u001b[0;32m      4\u001b[0m             \u001b[0mp_list\u001b[0m\u001b[1;33m(\u001b[0m\u001b[0mmyDict\u001b[0m\u001b[1;33m)\u001b[0m\u001b[1;33m\u001b[0m\u001b[0m\n\u001b[0;32m      5\u001b[0m         \u001b[1;32melif\u001b[0m \u001b[0misinstance\u001b[0m\u001b[1;33m(\u001b[0m\u001b[0mmyDict\u001b[0m\u001b[1;33m,\u001b[0m \u001b[0mdict\u001b[0m\u001b[1;33m)\u001b[0m\u001b[1;33m:\u001b[0m\u001b[1;33m\u001b[0m\u001b[0m\n\u001b[1;32m----> 6\u001b[1;33m             \u001b[0mp_dict1\u001b[0m\u001b[1;33m(\u001b[0m\u001b[0mmyDict\u001b[0m\u001b[1;33m)\u001b[0m\u001b[1;33m\u001b[0m\u001b[0m\n\u001b[0m\u001b[0;32m      7\u001b[0m         \u001b[1;32melse\u001b[0m\u001b[1;33m:\u001b[0m\u001b[1;33m\u001b[0m\u001b[0m\n\u001b[0;32m      8\u001b[0m             \u001b[1;32mprint\u001b[0m \u001b[1;34m'KEY: %s --> %s'\u001b[0m \u001b[1;33m%\u001b[0m \u001b[1;33m(\u001b[0m\u001b[0mchiave\u001b[0m\u001b[1;33m,\u001b[0m \u001b[0mvalore\u001b[0m\u001b[1;33m)\u001b[0m\u001b[1;33m\u001b[0m\u001b[0m\n",
      "\u001b[1;31mRuntimeError\u001b[0m: maximum recursion depth exceeded while calling a Python object"
     ]
    }
   ],
   "source": [
    "def p_dict1(myDict):\n",
    "    for chiave, valore in myDict.items():\n",
    "        if isinstance(myDict, list):\n",
    "            p_list(myDict)\n",
    "        elif isinstance(myDict, dict):\n",
    "            p_dict1(myDict)\n",
    "        else:\n",
    "            print 'KEY: %s --> %s' % (chiave, valore)\n",
    "            \n",
    "myDict=dict(chiave1=23, chiave2=False, chiave3=[1,2,'ciao'])\n",
    "p_dict1(myDict)"
   ]
  },
  {
   "cell_type": "code",
   "execution_count": 94,
   "metadata": {
    "collapsed": false
   },
   "outputs": [
    {
     "name": "stdout",
     "output_type": "stream",
     "text": [
      "'int' object has no attribute 'items'\n"
     ]
    }
   ],
   "source": [
    "def func(dizionario):\n",
    "    try:\n",
    "        print dizionario.items()\n",
    "    except Exception as e:\n",
    "        raise Exception(e)\n",
    "    \n",
    "try:\n",
    "    func(1)    \n",
    "except Exception as e:\n",
    "        print e"
   ]
  },
  {
   "cell_type": "code",
   "execution_count": null,
   "metadata": {
    "collapsed": true
   },
   "outputs": [],
   "source": []
  }
 ],
 "metadata": {
  "kernelspec": {
   "display_name": "Python [Root]",
   "language": "python",
   "name": "Python [Root]"
  },
  "language_info": {
   "codemirror_mode": {
    "name": "ipython",
    "version": 2
   },
   "file_extension": ".py",
   "mimetype": "text/x-python",
   "name": "python",
   "nbconvert_exporter": "python",
   "pygments_lexer": "ipython2",
   "version": "2.7.12"
  }
 },
 "nbformat": 4,
 "nbformat_minor": 0
}
