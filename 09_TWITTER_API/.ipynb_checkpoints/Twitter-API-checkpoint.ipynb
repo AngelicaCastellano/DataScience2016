{
 "cells": [
  {
   "cell_type": "markdown",
   "metadata": {},
   "source": [
    "# Network Science\n",
    "\n",
    "\n",
    "**GOAL OF THE SESSION**: Fetch data from Twitter APIs\n",
    "\n",
    "**DATA SOURCE**: Twitter \n",
    "\n",
    "**DEVELOPMENT**: How to create a Python script to query Twitter APIs\n",
    "\n",
    "**REQUIREMENTS**: \n",
    "\n",
    "    Twitter Developer Account\n",
    "    tweepy \n",
    "    Python Pretty Print\n",
    "\n",
    "### Pretty Print\n",
    "\n",
    "Using **pprint** we can format in a nice way the print output. Here an example:\n",
    "\n",
    "    import pprint\n",
    "    pp = pprint.PrettyPrinter(indent=2)\n",
    "    pp.pprint(OBJECT-TO-PRINT)\n"
   ]
  },
  {
   "cell_type": "code",
   "execution_count": 1,
   "metadata": {
    "collapsed": false
   },
   "outputs": [
    {
     "name": "stdout",
     "output_type": "stream",
     "text": [
      "NON PRETTY\n",
      "{'list': [1, 2, 3], 'Surname': 'Comu', 'name': 'Alex', 'address': {'street': 'Via Maria Vittoria', 'number': 1}} \n",
      "\n",
      "PRETTY:\n",
      "{ 'Surname': 'Comu',\n",
      "  'address': { 'number': 1, 'street': 'Via Maria Vittoria'},\n",
      "  'list': [1, 2, 3],\n",
      "  'name': 'Alex'}\n"
     ]
    }
   ],
   "source": [
    "import pprint\n",
    "#print help(pprint.PrettyPrinter)\n",
    "pp = pprint.PrettyPrinter(indent=2)\n",
    "names = {\"name\":\"Alex\", \"Surname\":\"Comu\", \"list\":[1,2,3],\"address\":{\"street\":\"Via Maria Vittoria\", \"number\":1}}\n",
    "print \"NON PRETTY\\n\", names, \"\\n\"\n",
    "print \"PRETTY:\"\n",
    "pp.pprint(names)"
   ]
  },
  {
   "cell_type": "markdown",
   "metadata": {},
   "source": [
    "# Demo with Special Effects\n",
    "\n",
    "Inside the folder **demo** you'll find a very cool demo, a super interaction between:\n",
    "\n",
    "* Twitter API\n",
    "* Python Web Server\n",
    "* D3Js visualization\n",
    "\n",
    "Read the file **Readme.md** to have more information about the example.\n",
    "\n",
    "The goal of the demo is to create a Connector between my PC and Twitter. After the creation of this connector I want ro retrieve all the tweets that contains a specific **hashtags**.\n",
    "\n",
    "At the end I'll represent the tweets in a dynamic data visualization with D3Js."
   ]
  },
  {
   "cell_type": "markdown",
   "metadata": {},
   "source": [
    "# Twitter Developer Account\n",
    "\n",
    "Sign in @ [https://dev.twitter.com/](https://dev.twitter.com/) website and create an account if you need.\n",
    "\n",
    "After the creation of the account we need to create a new Twitter APP to fetch the APIs, so go to [https://apps.twitter.com/](https://apps.twitter.com/) and create a new one.\n",
    "\n",
    "To allow our APP to use the Twitter APIs we need to create an Access Token, so click on **Keys and Access Tokens** and create a new one.\n",
    "\n",
    "And now we're ready to play with Twitter:)\n",
    "\n",
    "## Twitter Documentation\n",
    "\n",
    "[HERE](https://dev.twitter.com/overview/api) we can find a complete overview on Twitter API.\n",
    "\n",
    "# Tweepy Installation\n",
    "\n",
    "We need to install the package **tweepy**:\n",
    "\n",
    "    pip install tweepy\n",
    "    \n",
    "We can find the documentation of the Library:\n",
    "\n",
    "    http://tweepy.readthedocs.io/\n",
    "    \n",
    "## OAuth\n",
    "\n",
    "First of all we need to save our credentials in variables. After that we can login on twitter and start use the APIs.\n"
   ]
  },
  {
   "cell_type": "code",
   "execution_count": 2,
   "metadata": {
    "collapsed": true
   },
   "outputs": [],
   "source": [
    "import tweepy"
   ]
  },
  {
   "cell_type": "code",
   "execution_count": 3,
   "metadata": {
    "collapsed": true
   },
   "outputs": [],
   "source": [
    "CONSUMER_KEY = \"wsIMBhIrfUYFmR51i0ncWMHHi\"\n",
    "SECRET_KEY = \"Qmkl3yz0NLmPecfKDEDk2zISPQl0H4xMDU3ESueCIbQCIvKvY3\"\n",
    "ACCESS_TOKEN = \"799508215096557569-N9JKDOK6mZFI79IMvYEPuybsQx75xPg\"\n",
    "SECRET_ACCESS_TOKEN = \"x9dRamjSOzw9gIFftD97MaXO0r3uNaHa93Kk1gu2mT9sF\""
   ]
  },
  {
   "cell_type": "code",
   "execution_count": 4,
   "metadata": {
    "collapsed": true
   },
   "outputs": [],
   "source": [
    "# Twitter Authentication\n",
    "auth = tweepy.OAuthHandler(CONSUMER_KEY, SECRET_KEY)\n",
    "#sto utilizzado la mia applicazione per accedere ai tweet BDIntesa\n",
    "auth.set_access_token(ACCESS_TOKEN, SECRET_ACCESS_TOKEN)"
   ]
  },
  {
   "cell_type": "code",
   "execution_count": 5,
   "metadata": {
    "collapsed": false
   },
   "outputs": [
    {
     "name": "stdout",
     "output_type": "stream",
     "text": [
      "<tweepy.api.API object at 0x7f0bc2b102d0>\n"
     ]
    }
   ],
   "source": [
    "# Create the connection to the api\n",
    "api = tweepy.API(auth)#oggetto che uso per fare le chiamate\n",
    "print api\n"
   ]
  },
  {
   "cell_type": "code",
   "execution_count": 6,
   "metadata": {
    "collapsed": false
   },
   "outputs": [
    {
     "name": "stdout",
     "output_type": "stream",
     "text": [
      "Help on API in module tweepy.api object:\n",
      "\n",
      "class API(__builtin__.object)\n",
      " |  Twitter API\n",
      " |  \n",
      " |  Methods defined here:\n",
      " |  \n",
      " |  __init__(self, auth_handler=None, host='api.twitter.com', search_host='search.twitter.com', upload_host='upload.twitter.com', cache=None, api_root='/1.1', search_root='', upload_root='/1.1', retry_count=0, retry_delay=0, retry_errors=None, timeout=60, parser=None, compression=False, wait_on_rate_limit=False, wait_on_rate_limit_notify=False, proxy='')\n",
      " |      Api instance Constructor\n",
      " |      \n",
      " |      :param auth_handler:\n",
      " |      :param host:  url of the server of the rest api, default:'api.twitter.com'\n",
      " |      :param search_host: url of the search server, default:'search.twitter.com'\n",
      " |      :param upload_host: url of the upload server, default:'upload.twitter.com'\n",
      " |      :param cache: Cache to query if a GET method is used, default:None\n",
      " |      :param api_root: suffix of the api version, default:'/1.1'\n",
      " |      :param search_root: suffix of the search version, default:''\n",
      " |      :param upload_root: suffix of the upload version, default:'/1.1'\n",
      " |      :param retry_count: number of allowed retries, default:0\n",
      " |      :param retry_delay: delay in second between retries, default:0\n",
      " |      :param retry_errors: default:None\n",
      " |      :param timeout: delay before to consider the request as timed out in seconds, default:60\n",
      " |      :param parser: ModelParser instance to parse the responses, default:None\n",
      " |      :param compression: If the response is compressed, default:False\n",
      " |      :param wait_on_rate_limit: If the api wait when it hits the rate limit, default:False\n",
      " |      :param wait_on_rate_limit_notify: If the api print a notification when the rate limit is hit, default:False\n",
      " |      :param proxy: Url to use as proxy during the HTTP request, default:''\n",
      " |      \n",
      " |      :raise TypeError: If the given parser is not a ModelParser instance.\n",
      " |  \n",
      " |  add_list_members(self, screen_name=None, user_id=None, slug=None, list_id=None, owner_id=None, owner_screen_name=None)\n",
      " |      Perform bulk add of list members from user ID or screenname\n",
      " |  \n",
      " |  lookup_friendships(self, user_ids=None, screen_names=None)\n",
      " |      Perform bulk look up of friendships from user ID or screenname\n",
      " |  \n",
      " |  lookup_users(self, user_ids=None, screen_names=None, include_entities=None)\n",
      " |      Perform bulk look up of users from user ID or screenname\n",
      " |  \n",
      " |  me(self)\n",
      " |      Get the authenticated user\n",
      " |  \n",
      " |  media_upload(self, filename, *args, **kwargs)\n",
      " |      :reference: https://dev.twitter.com/rest/reference/post/media/upload\n",
      " |      :allowed_param:\n",
      " |  \n",
      " |  remove_list_members(self, screen_name=None, user_id=None, slug=None, list_id=None, owner_id=None, owner_screen_name=None)\n",
      " |      Perform bulk remove of list members from user ID or screenname\n",
      " |  \n",
      " |  statuses_lookup(self, id_, include_entities=None, trim_user=None, map_=None)\n",
      " |  \n",
      " |  update_profile_background_image(self, filename, **kargs)\n",
      " |      :reference: https://dev.twitter.com/rest/reference/post/account/update_profile_background_image\n",
      " |      :allowed_param:'tile', 'include_entities', 'skip_status', 'use'\n",
      " |  \n",
      " |  update_profile_banner(self, filename, **kargs)\n",
      " |      :reference: https://dev.twitter.com/rest/reference/post/account/update_profile_banner\n",
      " |      :allowed_param:'width', 'height', 'offset_left', 'offset_right'\n",
      " |  \n",
      " |  update_profile_image(self, filename, file_=None)\n",
      " |      :reference: https://dev.twitter.com/rest/reference/post/account/update_profile_image\n",
      " |      :allowed_param:'include_entities', 'skip_status'\n",
      " |  \n",
      " |  update_status(self, *args, **kwargs)\n",
      " |      :reference: https://dev.twitter.com/rest/reference/post/statuses/update\n",
      " |      :allowed_param:'status', 'in_reply_to_status_id', 'lat', 'long', 'source', 'place_id', 'display_coordinates', 'media_ids'\n",
      " |  \n",
      " |  update_with_media(self, filename, *args, **kwargs)\n",
      " |      :reference: https://dev.twitter.com/rest/reference/post/statuses/update_with_media\n",
      " |      :allowed_param:'status', 'possibly_sensitive', 'in_reply_to_status_id', 'lat', 'long', 'place_id', 'display_coordinates'\n",
      " |  \n",
      " |  verify_credentials(self, **kargs)\n",
      " |      :reference: https://dev.twitter.com/rest/reference/get/account/verify_credentials\n",
      " |      :allowed_param:'include_entities', 'skip_status', 'include_email'\n",
      " |  \n",
      " |  ----------------------------------------------------------------------\n",
      " |  Data descriptors defined here:\n",
      " |  \n",
      " |  __dict__\n",
      " |      dictionary for instance variables (if defined)\n",
      " |  \n",
      " |  __weakref__\n",
      " |      list of weak references to the object (if defined)\n",
      " |  \n",
      " |  add_list_member\n",
      " |      :reference: https://dev.twitter.com/docs/api/1.1/post/lists/members/create\n",
      " |      :allowed_param:'screen_name', 'user_id', 'owner_screen_name',\n",
      " |       'owner_id', 'slug', 'list_id'\n",
      " |  \n",
      " |  blocks\n",
      " |      :reference: https://dev.twitter.com/rest/reference/get/blocks/list\n",
      " |      :allowed_param:'cursor'\n",
      " |  \n",
      " |  blocks_ids\n",
      " |      :reference: https://dev.twitter.com/rest/reference/get/blocks/ids\n",
      " |  \n",
      " |  configuration\n",
      " |      :reference: https://dev.twitter.com/rest/reference/get/help/configuration\n",
      " |  \n",
      " |  create_block\n",
      " |      :reference: https://dev.twitter.com/rest/reference/post/blocks/create\n",
      " |      :allowed_param:'id', 'user_id', 'screen_name'\n",
      " |  \n",
      " |  create_favorite\n",
      " |      :reference:https://dev.twitter.com/rest/reference/post/favorites/create\n",
      " |      :allowed_param:'id'\n",
      " |  \n",
      " |  create_friendship\n",
      " |      :reference: https://dev.twitter.com/rest/reference/post/friendships/create\n",
      " |      :allowed_param:'id', 'user_id', 'screen_name', 'follow'\n",
      " |  \n",
      " |  create_list\n",
      " |      :reference: https://dev.twitter.com/rest/reference/post/lists/create\n",
      " |      :allowed_param:'name', 'mode', 'description'\n",
      " |  \n",
      " |  create_saved_search\n",
      " |      :reference: https://dev.twitter.com/rest/reference/post/saved_searches/create\n",
      " |      :allowed_param:'query'\n",
      " |  \n",
      " |  destroy_block\n",
      " |      :reference: https://dev.twitter.com/rest/reference/post/blocks/destroy\n",
      " |      :allowed_param:'id', 'user_id', 'screen_name'\n",
      " |  \n",
      " |  destroy_direct_message\n",
      " |      :reference: https://dev.twitter.com/rest/reference/post/direct_messages/destroy\n",
      " |      :allowed_param:'id'\n",
      " |  \n",
      " |  destroy_favorite\n",
      " |      :reference: https://dev.twitter.com/rest/reference/post/favorites/destroy\n",
      " |      :allowed_param:'id'\n",
      " |  \n",
      " |  destroy_friendship\n",
      " |      :reference: https://dev.twitter.com/rest/reference/post/friendships/destroy\n",
      " |      :allowed_param:'id', 'user_id', 'screen_name'\n",
      " |  \n",
      " |  destroy_list\n",
      " |      :reference: https://dev.twitter.com/rest/reference/post/lists/destroy\n",
      " |      :allowed_param:'owner_screen_name', 'owner_id', 'list_id', 'slug'\n",
      " |  \n",
      " |  destroy_saved_search\n",
      " |      :reference: https://dev.twitter.com/rest/reference/post/saved_searches/destroy/%3Aid\n",
      " |      :allowed_param:'id'\n",
      " |  \n",
      " |  destroy_status\n",
      " |      :reference: https://dev.twitter.com/rest/reference/post/statuses/destroy/%3Aid\n",
      " |      :allowed_param:'id'\n",
      " |  \n",
      " |  direct_messages\n",
      " |      :reference: https://dev.twitter.com/rest/reference/get/direct_messages\n",
      " |      :allowed_param:'since_id', 'max_id', 'count', 'full_text'\n",
      " |  \n",
      " |  favorites\n",
      " |      :reference: https://dev.twitter.com/rest/reference/get/favorites/list\n",
      " |      :allowed_param:'screen_name', 'user_id', 'max_id', 'count', 'since_id', 'max_id'\n",
      " |  \n",
      " |  followers\n",
      " |      :reference: https://dev.twitter.com/rest/reference/get/followers/list\n",
      " |      :allowed_param:'id', 'user_id', 'screen_name', 'cursor', 'count', 'skip_status', 'include_user_entities'\n",
      " |  \n",
      " |  followers_ids\n",
      " |      :reference: https://dev.twitter.com/rest/reference/get/followers/ids\n",
      " |      :allowed_param:'id', 'user_id', 'screen_name', 'cursor', 'count'\n",
      " |  \n",
      " |  friends\n",
      " |      :reference: https://dev.twitter.com/rest/reference/get/friends/list\n",
      " |      :allowed_param:'id', 'user_id', 'screen_name', 'cursor', 'skip_status', 'include_user_entities'\n",
      " |  \n",
      " |  friends_ids\n",
      " |      :reference: https://dev.twitter.com/rest/reference/get/friends/ids\n",
      " |      :allowed_param:'id', 'user_id', 'screen_name', 'cursor'\n",
      " |  \n",
      " |  friendships_incoming\n",
      " |      :reference: https://dev.twitter.com/rest/reference/get/friendships/incoming\n",
      " |      :allowed_param:'cursor'\n",
      " |  \n",
      " |  friendships_outgoing\n",
      " |      :reference: https://dev.twitter.com/rest/reference/get/friendships/outgoing\n",
      " |      :allowed_param:'cursor'\n",
      " |  \n",
      " |  geo_id\n",
      " |      :reference: https://dev.twitter.com/rest/reference/get/geo/id/%3Aplace_id\n",
      " |      :allowed_param:'id'\n",
      " |  \n",
      " |  geo_search\n",
      " |      :reference: https://dev.twitter.com/docs/api/1.1/get/geo/search\n",
      " |      :allowed_param:'lat', 'long', 'query', 'ip', 'granularity',\n",
      " |       'accuracy', 'max_results', 'contained_within\n",
      " |  \n",
      " |  geo_similar_places\n",
      " |      :reference: https://dev.twitter.com/rest/reference/get/geo/similar_places\n",
      " |      :allowed_param:'lat', 'long', 'name', 'contained_within'\n",
      " |  \n",
      " |  get_direct_message\n",
      " |      :reference: https://dev.twitter.com/rest/reference/get/direct_messages/show\n",
      " |      :allowed_param:'id', 'full_text'\n",
      " |  \n",
      " |  get_list\n",
      " |      :reference: https://dev.twitter.com/rest/reference/get/lists/show\n",
      " |      :allowed_param:'owner_screen_name', 'owner_id', 'slug', 'list_id'\n",
      " |  \n",
      " |  get_oembed\n",
      " |      :reference: https://dev.twitter.com/rest/reference/get/statuses/oembed\n",
      " |      :allowed_param:'id', 'url', 'maxwidth', 'hide_media', 'omit_script', 'align', 'related', 'lang'\n",
      " |  \n",
      " |  get_saved_search\n",
      " |      :reference: https://dev.twitter.com/rest/reference/get/saved_searches/show/%3Aid\n",
      " |      :allowed_param:'id'\n",
      " |  \n",
      " |  get_settings\n",
      " |      :reference: https://dev.twitter.com/rest/reference/get/account/settings\n",
      " |  \n",
      " |  get_status\n",
      " |      :reference: https://dev.twitter.com/rest/reference/get/statuses/show/%3Aid\n",
      " |      :allowed_param:'id'\n",
      " |  \n",
      " |  get_user\n",
      " |      :reference: https://dev.twitter.com/rest/reference/get/users/show\n",
      " |      :allowed_param:'id', 'user_id', 'screen_name'\n",
      " |  \n",
      " |  home_timeline\n",
      " |      :reference: https://dev.twitter.com/rest/reference/get/statuses/home_timeline\n",
      " |      :allowed_param:'since_id', 'max_id', 'count'\n",
      " |  \n",
      " |  list_members\n",
      " |      :reference: https://dev.twitter.com/docs/api/1.1/get/lists/members\n",
      " |      :allowed_param:'owner_screen_name', 'slug', 'list_id',\n",
      " |       'owner_id', 'cursor\n",
      " |  \n",
      " |  list_subscribers\n",
      " |      :reference: https://dev.twitter.com/docs/api/1.1/get/lists/subscribers\n",
      " |      :allowed_param:'owner_screen_name', 'slug', 'owner_id',\n",
      " |       'list_id', 'cursor\n",
      " |  \n",
      " |  list_timeline\n",
      " |      :reference: https://dev.twitter.com/docs/api/1.1/get/lists/statuses\n",
      " |      :allowed_param:'owner_screen_name', 'slug', 'owner_id', 'list_id',\n",
      " |       'since_id', 'max_id', 'count', 'include_rts\n",
      " |  \n",
      " |  lists_all\n",
      " |      :reference: https://dev.twitter.com/rest/reference/get/lists/list\n",
      " |      :allowed_param:'screen_name', 'user_id'\n",
      " |  \n",
      " |  lists_memberships\n",
      " |      :reference: https://dev.twitter.com/rest/reference/get/lists/memberships\n",
      " |      :allowed_param:'screen_name', 'user_id', 'filter_to_owned_lists', 'cursor'\n",
      " |  \n",
      " |  lists_subscriptions\n",
      " |      :reference: https://dev.twitter.com/rest/reference/get/lists/subscriptions\n",
      " |      :allowed_param:'screen_name', 'user_id', 'cursor'\n",
      " |  \n",
      " |  mentions_timeline\n",
      " |      :reference: https://dev.twitter.com/rest/reference/get/statuses/mentions_timeline\n",
      " |      :allowed_param:'since_id', 'max_id', 'count'\n",
      " |  \n",
      " |  rate_limit_status\n",
      " |      :reference: https://dev.twitter.com/rest/reference/get/application/rate_limit_status\n",
      " |      :allowed_param:'resources'\n",
      " |  \n",
      " |  related_results\n",
      " |      :reference: https://dev.twitter.com/docs/api/1.1/get/related_results/show/%3id.format\n",
      " |      :allowed_param:'id'\n",
      " |  \n",
      " |  remove_list_member\n",
      " |      :reference: https://dev.twitter.com/docs/api/1.1/post/lists/members/destroy\n",
      " |      :allowed_param:'screen_name', 'user_id', 'owner_screen_name',\n",
      " |       'owner_id', 'slug', 'list_id'\n",
      " |  \n",
      " |  report_spam\n",
      " |      :reference: https://dev.twitter.com/rest/reference/post/users/report_spam\n",
      " |      :allowed_param:'user_id', 'screen_name'\n",
      " |  \n",
      " |  retweet\n",
      " |      :reference: https://dev.twitter.com/rest/reference/post/statuses/retweet/%3Aid\n",
      " |      :allowed_param:'id'\n",
      " |  \n",
      " |  retweeters\n",
      " |      :reference: https://dev.twitter.com/rest/reference/get/statuses/retweeters/ids\n",
      " |      :allowed_param:'id', 'cursor', 'stringify_ids\n",
      " |  \n",
      " |  retweets\n",
      " |      :reference: https://dev.twitter.com/rest/reference/get/statuses/retweets/%3Aid\n",
      " |      :allowed_param:'id', 'count'\n",
      " |  \n",
      " |  retweets_of_me\n",
      " |      :reference: https://dev.twitter.com/rest/reference/get/statuses/retweets_of_me\n",
      " |      :allowed_param:'since_id', 'max_id', 'count'\n",
      " |  \n",
      " |  reverse_geocode\n",
      " |      :reference: https://dev.twitter.com/rest/reference/get/geo/reverse_geocode\n",
      " |      :allowed_param:'lat', 'long', 'accuracy', 'granularity', 'max_results'\n",
      " |  \n",
      " |  saved_searches\n",
      " |      :reference: https://dev.twitter.com/rest/reference/get/saved_searches/show/%3Aid\n",
      " |  \n",
      " |  search\n",
      " |      :reference: https://dev.twitter.com/rest/reference/get/search/tweets\n",
      " |      :allowed_param:'q', 'lang', 'locale', 'since_id', 'geocode',\n",
      " |       'max_id', 'since', 'until', 'result_type', 'count',\n",
      " |        'include_entities', 'from', 'to', 'source']\n",
      " |  \n",
      " |  search_users\n",
      " |      :reference: https://dev.twitter.com/rest/reference/get/users/search\n",
      " |      :allowed_param:'q', 'count', 'page'\n",
      " |  \n",
      " |  send_direct_message\n",
      " |      :reference: https://dev.twitter.com/rest/reference/post/direct_messages/new\n",
      " |      :allowed_param:'user', 'screen_name', 'user_id', 'text'\n",
      " |  \n",
      " |  sent_direct_messages\n",
      " |      :reference: https://dev.twitter.com/rest/reference/get/direct_messages/sent\n",
      " |      :allowed_param:'since_id', 'max_id', 'count', 'page', 'full_text'\n",
      " |  \n",
      " |  set_delivery_device\n",
      " |      :reference: https://dev.twitter.com/rest/reference/post/account/update_delivery_device\n",
      " |      :allowed_param:'device'\n",
      " |  \n",
      " |  set_settings\n",
      " |      :reference: https://dev.twitter.com/rest/reference/post/account/settings\n",
      " |      :allowed_param:'sleep_time_enabled', 'start_sleep_time',\n",
      " |      'end_sleep_time', 'time_zone', 'trend_location_woeid',\n",
      " |      'allow_contributor_request', 'lang'\n",
      " |  \n",
      " |  show_friendship\n",
      " |      :reference: https://dev.twitter.com/rest/reference/get/friendships/show\n",
      " |      :allowed_param:'source_id', 'source_screen_name'\n",
      " |  \n",
      " |  show_list_member\n",
      " |      :reference: https://dev.twitter.com/docs/api/1.1/get/lists/members/show\n",
      " |      :allowed_param:'list_id', 'slug', 'user_id', 'screen_name',\n",
      " |       'owner_screen_name', 'owner_id\n",
      " |  \n",
      " |  show_list_subscriber\n",
      " |      :reference: https://dev.twitter.com/docs/api/1.1/get/lists/subscribers/show\n",
      " |      :allowed_param:'owner_screen_name', 'slug', 'screen_name',\n",
      " |       'owner_id', 'list_id', 'user_id\n",
      " |  \n",
      " |  subscribe_list\n",
      " |      :reference: https://dev.twitter.com/docs/api/1.1/post/lists/subscribers/create\n",
      " |      :allowed_param:'owner_screen_name', 'slug', 'owner_id',\n",
      " |      'list_id'\n",
      " |  \n",
      " |  suggested_categories\n",
      " |      :reference: https://dev.twitter.com/rest/reference/get/users/suggestions\n",
      " |      :allowed_param:'lang'\n",
      " |  \n",
      " |  suggested_users\n",
      " |      :reference: https://dev.twitter.com/rest/reference/get/users/suggestions/%3Aslug\n",
      " |      :allowed_param:'slug', 'lang'\n",
      " |  \n",
      " |  suggested_users_tweets\n",
      " |      :reference: https://dev.twitter.com/rest/reference/get/users/suggestions/%3Aslug/members\n",
      " |      :allowed_param:'slug'\n",
      " |  \n",
      " |  supported_languages\n",
      " |      :reference: https://dev.twitter.com/rest/reference/get/help/languages\n",
      " |  \n",
      " |  trends_available\n",
      " |      :reference: https://dev.twitter.com/rest/reference/get/trends/available\n",
      " |  \n",
      " |  trends_closest\n",
      " |      :reference: https://dev.twitter.com/rest/reference/get/trends/closest\n",
      " |      :allowed_param:'lat', 'long'\n",
      " |  \n",
      " |  trends_place\n",
      " |      :reference: https://dev.twitter.com/rest/reference/get/trends/place\n",
      " |      :allowed_param:'id', 'exclude'\n",
      " |  \n",
      " |  unsubscribe_list\n",
      " |      :reference: https://dev.twitter.com/docs/api/1.1/post/lists/subscribers/destroy\n",
      " |      :allowed_param:'owner_screen_name', 'slug', 'owner_id',\n",
      " |      'list_id'\n",
      " |  \n",
      " |  update_list\n",
      " |      :reference: https://dev.twitter.com/rest/reference/post/lists/update\n",
      " |      :allowed_param: list_id', 'slug', 'name', 'mode', 'description', 'owner_screen_name', 'owner_id'\n",
      " |  \n",
      " |  update_profile\n",
      " |      :reference: https://dev.twitter.com/rest/reference/post/account/update_profile\n",
      " |      :allowed_param:'name', 'url', 'location', 'description'\n",
      " |  \n",
      " |  update_profile_colors\n",
      " |      :reference: https://dev.twitter.com/docs/api/1.1/post/account/update_profile_colors\n",
      " |      :allowed_param:'profile_background_color', 'profile_text_color',\n",
      " |       'profile_link_color', 'profile_sidebar_fill_color',\n",
      " |       'profile_sidebar_border_color'],\n",
      " |  \n",
      " |  user_timeline\n",
      " |      :reference: https://dev.twitter.com/rest/reference/get/statuses/user_timeline\n",
      " |      :allowed_param:'id', 'user_id', 'screen_name', 'since_id'\n",
      "\n"
     ]
    }
   ],
   "source": [
    "help(api)"
   ]
  },
  {
   "cell_type": "code",
   "execution_count": 25,
   "metadata": {
    "collapsed": false,
    "scrolled": false
   },
   "outputs": [
    {
     "data": {
      "text/plain": [
       "{u'rate_limit_context': {u'access_token': u'775822357-JMIjKZAAqPGahbfH1mZStlkS4KrESDsVNVA4D1xz'},\n",
       " u'resources': {u'account': {u'/account/login_verification_enrollment': {u'limit': 15,\n",
       "    u'remaining': 15,\n",
       "    u'reset': 1479124589},\n",
       "   u'/account/settings': {u'limit': 15,\n",
       "    u'remaining': 15,\n",
       "    u'reset': 1479124589},\n",
       "   u'/account/update_profile': {u'limit': 15,\n",
       "    u'remaining': 15,\n",
       "    u'reset': 1479124589},\n",
       "   u'/account/verify_credentials': {u'limit': 75,\n",
       "    u'remaining': 75,\n",
       "    u'reset': 1479124589}},\n",
       "  u'application': {u'/application/rate_limit_status': {u'limit': 180,\n",
       "    u'remaining': 179,\n",
       "    u'reset': 1479124589}},\n",
       "  u'auth': {u'/auth/csrf_token': {u'limit': 15,\n",
       "    u'remaining': 15,\n",
       "    u'reset': 1479124589}},\n",
       "  u'blocks': {u'/blocks/ids': {u'limit': 15,\n",
       "    u'remaining': 15,\n",
       "    u'reset': 1479124589},\n",
       "   u'/blocks/list': {u'limit': 15, u'remaining': 15, u'reset': 1479124589}},\n",
       "  u'business_experience': {u'/business_experience/dashboard_features': {u'limit': 450,\n",
       "    u'remaining': 450,\n",
       "    u'reset': 1479124589},\n",
       "   u'/business_experience/dashboard_settings/destroy': {u'limit': 450,\n",
       "    u'remaining': 450,\n",
       "    u'reset': 1479124589},\n",
       "   u'/business_experience/dashboard_settings/show': {u'limit': 450,\n",
       "    u'remaining': 450,\n",
       "    u'reset': 1479124589},\n",
       "   u'/business_experience/dashboard_settings/update': {u'limit': 450,\n",
       "    u'remaining': 450,\n",
       "    u'reset': 1479124589},\n",
       "   u'/business_experience/keywords': {u'limit': 450,\n",
       "    u'remaining': 450,\n",
       "    u'reset': 1479124589}},\n",
       "  u'collections': {u'/collections/entries': {u'limit': 1000,\n",
       "    u'remaining': 1000,\n",
       "    u'reset': 1479124589},\n",
       "   u'/collections/list': {u'limit': 1000,\n",
       "    u'remaining': 1000,\n",
       "    u'reset': 1479124589},\n",
       "   u'/collections/show': {u'limit': 1000,\n",
       "    u'remaining': 1000,\n",
       "    u'reset': 1479124589}},\n",
       "  u'contacts': {u'/contacts/addressbook': {u'limit': 300,\n",
       "    u'remaining': 300,\n",
       "    u'reset': 1479124589},\n",
       "   u'/contacts/delete/status': {u'limit': 300,\n",
       "    u'remaining': 300,\n",
       "    u'reset': 1479124589},\n",
       "   u'/contacts/uploaded_by': {u'limit': 300,\n",
       "    u'remaining': 300,\n",
       "    u'reset': 1479124589},\n",
       "   u'/contacts/users': {u'limit': 300,\n",
       "    u'remaining': 300,\n",
       "    u'reset': 1479124589},\n",
       "   u'/contacts/users_and_uploaded_by': {u'limit': 300,\n",
       "    u'remaining': 300,\n",
       "    u'reset': 1479124589}},\n",
       "  u'device': {u'/device/token': {u'limit': 15,\n",
       "    u'remaining': 15,\n",
       "    u'reset': 1479124589}},\n",
       "  u'direct_messages': {u'/direct_messages': {u'limit': 300,\n",
       "    u'remaining': 300,\n",
       "    u'reset': 1479124589},\n",
       "   u'/direct_messages/sent': {u'limit': 300,\n",
       "    u'remaining': 300,\n",
       "    u'reset': 1479124589},\n",
       "   u'/direct_messages/sent_and_received': {u'limit': 300,\n",
       "    u'remaining': 300,\n",
       "    u'reset': 1479124589},\n",
       "   u'/direct_messages/show': {u'limit': 300,\n",
       "    u'remaining': 300,\n",
       "    u'reset': 1479124589}},\n",
       "  u'drafts': {u'/drafts/statuses/create': {u'limit': 450,\n",
       "    u'remaining': 450,\n",
       "    u'reset': 1479124589},\n",
       "   u'/drafts/statuses/destroy': {u'limit': 450,\n",
       "    u'remaining': 450,\n",
       "    u'reset': 1479124589},\n",
       "   u'/drafts/statuses/ids': {u'limit': 450,\n",
       "    u'remaining': 450,\n",
       "    u'reset': 1479124589},\n",
       "   u'/drafts/statuses/list': {u'limit': 450,\n",
       "    u'remaining': 450,\n",
       "    u'reset': 1479124589},\n",
       "   u'/drafts/statuses/show': {u'limit': 450,\n",
       "    u'remaining': 450,\n",
       "    u'reset': 1479124589},\n",
       "   u'/drafts/statuses/update': {u'limit': 450,\n",
       "    u'remaining': 450,\n",
       "    u'reset': 1479124589}},\n",
       "  u'favorites': {u'/favorites/list': {u'limit': 75,\n",
       "    u'remaining': 73,\n",
       "    u'reset': 1479124565}},\n",
       "  u'feedback': {u'/feedback/events': {u'limit': 1000,\n",
       "    u'remaining': 1000,\n",
       "    u'reset': 1479124589},\n",
       "   u'/feedback/show/:id': {u'limit': 180,\n",
       "    u'remaining': 180,\n",
       "    u'reset': 1479124589}},\n",
       "  u'followers': {u'/followers/ids': {u'limit': 15,\n",
       "    u'remaining': 15,\n",
       "    u'reset': 1479124589},\n",
       "   u'/followers/list': {u'limit': 15, u'remaining': 15, u'reset': 1479124589}},\n",
       "  u'friends': {u'/friends/following/ids': {u'limit': 15,\n",
       "    u'remaining': 15,\n",
       "    u'reset': 1479124589},\n",
       "   u'/friends/following/list': {u'limit': 15,\n",
       "    u'remaining': 15,\n",
       "    u'reset': 1479124589},\n",
       "   u'/friends/ids': {u'limit': 15, u'remaining': 13, u'reset': 1479123780},\n",
       "   u'/friends/list': {u'limit': 15, u'remaining': 15, u'reset': 1479124589}},\n",
       "  u'friendships': {u'/friendships/incoming': {u'limit': 15,\n",
       "    u'remaining': 15,\n",
       "    u'reset': 1479124589},\n",
       "   u'/friendships/list': {u'limit': 200,\n",
       "    u'remaining': 200,\n",
       "    u'reset': 1479124589},\n",
       "   u'/friendships/lookup': {u'limit': 15,\n",
       "    u'remaining': 15,\n",
       "    u'reset': 1479124589},\n",
       "   u'/friendships/no_retweets/ids': {u'limit': 15,\n",
       "    u'remaining': 15,\n",
       "    u'reset': 1479124589},\n",
       "   u'/friendships/outgoing': {u'limit': 15,\n",
       "    u'remaining': 15,\n",
       "    u'reset': 1479124589},\n",
       "   u'/friendships/show': {u'limit': 180,\n",
       "    u'remaining': 180,\n",
       "    u'reset': 1479124589}},\n",
       "  u'geo': {u'/geo/id/:place_id': {u'limit': 75,\n",
       "    u'remaining': 75,\n",
       "    u'reset': 1479124589},\n",
       "   u'/geo/reverse_geocode': {u'limit': 15,\n",
       "    u'remaining': 15,\n",
       "    u'reset': 1479124589},\n",
       "   u'/geo/search': {u'limit': 15, u'remaining': 15, u'reset': 1479124589},\n",
       "   u'/geo/similar_places': {u'limit': 15,\n",
       "    u'remaining': 15,\n",
       "    u'reset': 1479124589}},\n",
       "  u'help': {u'/help/configuration': {u'limit': 15,\n",
       "    u'remaining': 15,\n",
       "    u'reset': 1479124589},\n",
       "   u'/help/languages': {u'limit': 15, u'remaining': 15, u'reset': 1479124589},\n",
       "   u'/help/privacy': {u'limit': 15, u'remaining': 15, u'reset': 1479124589},\n",
       "   u'/help/settings': {u'limit': 15, u'remaining': 15, u'reset': 1479124589},\n",
       "   u'/help/tos': {u'limit': 15, u'remaining': 15, u'reset': 1479124589}},\n",
       "  u'lists': {u'/lists/list': {u'limit': 15,\n",
       "    u'remaining': 15,\n",
       "    u'reset': 1479124589},\n",
       "   u'/lists/members': {u'limit': 900, u'remaining': 900, u'reset': 1479124589},\n",
       "   u'/lists/members/show': {u'limit': 15,\n",
       "    u'remaining': 15,\n",
       "    u'reset': 1479124589},\n",
       "   u'/lists/memberships': {u'limit': 75,\n",
       "    u'remaining': 75,\n",
       "    u'reset': 1479124589},\n",
       "   u'/lists/ownerships': {u'limit': 15,\n",
       "    u'remaining': 15,\n",
       "    u'reset': 1479124589},\n",
       "   u'/lists/show': {u'limit': 75, u'remaining': 75, u'reset': 1479124589},\n",
       "   u'/lists/statuses': {u'limit': 900,\n",
       "    u'remaining': 900,\n",
       "    u'reset': 1479124589},\n",
       "   u'/lists/subscribers': {u'limit': 180,\n",
       "    u'remaining': 180,\n",
       "    u'reset': 1479124589},\n",
       "   u'/lists/subscribers/show': {u'limit': 15,\n",
       "    u'remaining': 15,\n",
       "    u'reset': 1479124589},\n",
       "   u'/lists/subscriptions': {u'limit': 15,\n",
       "    u'remaining': 15,\n",
       "    u'reset': 1479124589}},\n",
       "  u'live_pipeline': {u'/live_pipeline/events': {u'limit': 180,\n",
       "    u'remaining': 180,\n",
       "    u'reset': 1479124589}},\n",
       "  u'live_video_stream': {u'/live_video_stream/status/:id': {u'limit': 1000,\n",
       "    u'remaining': 1000,\n",
       "    u'reset': 1479124589}},\n",
       "  u'media': {u'/media/upload': {u'limit': 500,\n",
       "    u'remaining': 500,\n",
       "    u'reset': 1479124589}},\n",
       "  u'moments': {u'/moments/permissions': {u'limit': 300,\n",
       "    u'remaining': 300,\n",
       "    u'reset': 1479124589}},\n",
       "  u'mutes': {u'/mutes/users/ids': {u'limit': 15,\n",
       "    u'remaining': 15,\n",
       "    u'reset': 1479124589},\n",
       "   u'/mutes/users/list': {u'limit': 15,\n",
       "    u'remaining': 15,\n",
       "    u'reset': 1479124589}},\n",
       "  u'saved_searches': {u'/saved_searches/destroy/:id': {u'limit': 15,\n",
       "    u'remaining': 15,\n",
       "    u'reset': 1479124589},\n",
       "   u'/saved_searches/list': {u'limit': 15,\n",
       "    u'remaining': 15,\n",
       "    u'reset': 1479124589},\n",
       "   u'/saved_searches/show/:id': {u'limit': 15,\n",
       "    u'remaining': 15,\n",
       "    u'reset': 1479124589}},\n",
       "  u'search': {u'/search/tweets': {u'limit': 180,\n",
       "    u'remaining': 180,\n",
       "    u'reset': 1479124589}},\n",
       "  u'statuses': {u'/statuses/friends': {u'limit': 15,\n",
       "    u'remaining': 15,\n",
       "    u'reset': 1479124589},\n",
       "   u'/statuses/home_timeline': {u'limit': 15,\n",
       "    u'remaining': 15,\n",
       "    u'reset': 1479124589},\n",
       "   u'/statuses/lookup': {u'limit': 900,\n",
       "    u'remaining': 900,\n",
       "    u'reset': 1479124589},\n",
       "   u'/statuses/mentions_timeline': {u'limit': 75,\n",
       "    u'remaining': 75,\n",
       "    u'reset': 1479124589},\n",
       "   u'/statuses/oembed': {u'limit': 180,\n",
       "    u'remaining': 180,\n",
       "    u'reset': 1479124589},\n",
       "   u'/statuses/retweeters/ids': {u'limit': 75,\n",
       "    u'remaining': 75,\n",
       "    u'reset': 1479124589},\n",
       "   u'/statuses/retweets/:id': {u'limit': 75,\n",
       "    u'remaining': 75,\n",
       "    u'reset': 1479124589},\n",
       "   u'/statuses/retweets_of_me': {u'limit': 75,\n",
       "    u'remaining': 75,\n",
       "    u'reset': 1479124589},\n",
       "   u'/statuses/show/:id': {u'limit': 900,\n",
       "    u'remaining': 900,\n",
       "    u'reset': 1479124589},\n",
       "   u'/statuses/user_timeline': {u'limit': 900,\n",
       "    u'remaining': 900,\n",
       "    u'reset': 1479124589}},\n",
       "  u'trends': {u'/trends/available': {u'limit': 75,\n",
       "    u'remaining': 75,\n",
       "    u'reset': 1479124589},\n",
       "   u'/trends/closest': {u'limit': 75, u'remaining': 75, u'reset': 1479124589},\n",
       "   u'/trends/place': {u'limit': 75, u'remaining': 75, u'reset': 1479124589}},\n",
       "  u'tweet_prompts': {u'/tweet_prompts/report_interaction': {u'limit': 180,\n",
       "    u'remaining': 180,\n",
       "    u'reset': 1479124589},\n",
       "   u'/tweet_prompts/show': {u'limit': 180,\n",
       "    u'remaining': 180,\n",
       "    u'reset': 1479124589}},\n",
       "  u'users': {u'/users/derived_info': {u'limit': 15,\n",
       "    u'remaining': 15,\n",
       "    u'reset': 1479124589},\n",
       "   u'/users/lookup': {u'limit': 900, u'remaining': 900, u'reset': 1479124589},\n",
       "   u'/users/profile_banner': {u'limit': 180,\n",
       "    u'remaining': 180,\n",
       "    u'reset': 1479124589},\n",
       "   u'/users/report_spam': {u'limit': 15,\n",
       "    u'remaining': 15,\n",
       "    u'reset': 1479124589},\n",
       "   u'/users/search': {u'limit': 900, u'remaining': 900, u'reset': 1479124589},\n",
       "   u'/users/show/:id': {u'limit': 900, u'remaining': 0, u'reset': 1479124304},\n",
       "   u'/users/suggestions': {u'limit': 15,\n",
       "    u'remaining': 15,\n",
       "    u'reset': 1479124589},\n",
       "   u'/users/suggestions/:slug': {u'limit': 15,\n",
       "    u'remaining': 15,\n",
       "    u'reset': 1479124589},\n",
       "   u'/users/suggestions/:slug/members': {u'limit': 15,\n",
       "    u'remaining': 15,\n",
       "    u'reset': 1479124589}}}}"
      ]
     },
     "execution_count": 25,
     "metadata": {},
     "output_type": "execute_result"
    }
   ],
   "source": [
    "#twitter  gratuito, ma con delle limitazioni sulla mole di dati e chiamate ... vedi sotto\n",
    "api.rate_limit_status()"
   ]
  },
  {
   "cell_type": "markdown",
   "metadata": {},
   "source": [
    "## Tweet Stream"
   ]
  },
  {
   "cell_type": "code",
   "execution_count": 10,
   "metadata": {
    "collapsed": false,
    "scrolled": true
   },
   "outputs": [],
   "source": [
    "# download your home timeline tweets\n",
    "my_tweets = api.home_timeline()"
   ]
  },
  {
   "cell_type": "code",
   "execution_count": 11,
   "metadata": {
    "collapsed": false
   },
   "outputs": [
    {
     "name": "stdout",
     "output_type": "stream",
     "text": [
      "Tweets LEN:  20 \n",
      "\n"
     ]
    }
   ],
   "source": [
    "print \"Tweets LEN: \", len(my_tweets), \"\\n\"\n",
    "#nel mondo delle API vengono sempre dati risultati 'paginati', ovvero 20 per volta"
   ]
  },
  {
   "cell_type": "code",
   "execution_count": 12,
   "metadata": {
    "collapsed": false
   },
   "outputs": [
    {
     "data": {
      "text/plain": [
       "{u'contributors': None,\n",
       " u'coordinates': None,\n",
       " u'created_at': u'Fri Nov 18 14:31:54 +0000 2016',\n",
       " u'entities': {u'hashtags': [],\n",
       "  u'symbols': [],\n",
       "  u'urls': [{u'display_url': u'sky.tg/1y6a',\n",
       "    u'expanded_url': u'http://sky.tg/1y6a',\n",
       "    u'indices': [41, 64],\n",
       "    u'url': u'https://t.co/6s8de9JQKO'}],\n",
       "  u'user_mentions': []},\n",
       " u'favorite_count': 0,\n",
       " u'favorited': False,\n",
       " u'geo': None,\n",
       " u'id': 799621157347393539,\n",
       " u'id_str': u'799621157347393539',\n",
       " u'in_reply_to_screen_name': None,\n",
       " u'in_reply_to_status_id': None,\n",
       " u'in_reply_to_status_id_str': None,\n",
       " u'in_reply_to_user_id': None,\n",
       " u'in_reply_to_user_id_str': None,\n",
       " u'is_quote_status': False,\n",
       " u'lang': u'it',\n",
       " u'place': None,\n",
       " u'possibly_sensitive': False,\n",
       " u'possibly_sensitive_appealable': False,\n",
       " u'retweet_count': 0,\n",
       " u'retweeted': False,\n",
       " u'source': u'<a href=\"http://dlvr.it\" rel=\"nofollow\">dlvr.it</a>',\n",
       " u'text': u'VIDEO: Presentata la guida Michelin 2017 https://t.co/6s8de9JQKO',\n",
       " u'truncated': False,\n",
       " u'user': {u'contributors_enabled': False,\n",
       "  u'created_at': u'Wed May 09 09:58:26 +0000 2007',\n",
       "  u'default_profile': False,\n",
       "  u'default_profile_image': False,\n",
       "  u'description': u'News, video, fotogallery e la diretta web 24 ore su 24. Sky TG24 \\xe8 sui canali 100 e 500 di Sky e anche sul canale 50 del digitale terrestre.',\n",
       "  u'entities': {u'description': {u'urls': []},\n",
       "   u'url': {u'urls': [{u'display_url': u'skytg24.it',\n",
       "      u'expanded_url': u'http://www.skytg24.it',\n",
       "      u'indices': [0, 23],\n",
       "      u'url': u'https://t.co/I14UjVAyi3'}]}},\n",
       "  u'favourites_count': 131,\n",
       "  u'follow_request_sent': False,\n",
       "  u'followers_count': 2621627,\n",
       "  u'following': True,\n",
       "  u'friends_count': 297,\n",
       "  u'geo_enabled': True,\n",
       "  u'has_extended_profile': False,\n",
       "  u'id': 5893702,\n",
       "  u'id_str': u'5893702',\n",
       "  u'is_translation_enabled': False,\n",
       "  u'is_translator': False,\n",
       "  u'lang': u'en',\n",
       "  u'listed_count': 7108,\n",
       "  u'location': u'',\n",
       "  u'name': u'Sky TG24',\n",
       "  u'notifications': False,\n",
       "  u'profile_background_color': u'2F0202',\n",
       "  u'profile_background_image_url': u'http://pbs.twimg.com/profile_background_images/378800000133054887/GwsiCwVe.jpeg',\n",
       "  u'profile_background_image_url_https': u'https://pbs.twimg.com/profile_background_images/378800000133054887/GwsiCwVe.jpeg',\n",
       "  u'profile_background_tile': False,\n",
       "  u'profile_banner_url': u'https://pbs.twimg.com/profile_banners/5893702/1465963609',\n",
       "  u'profile_image_url': u'http://pbs.twimg.com/profile_images/742930771451752449/vwz5HyGw_normal.jpg',\n",
       "  u'profile_image_url_https': u'https://pbs.twimg.com/profile_images/742930771451752449/vwz5HyGw_normal.jpg',\n",
       "  u'profile_link_color': u'CC3333',\n",
       "  u'profile_sidebar_border_color': u'FFFFFF',\n",
       "  u'profile_sidebar_fill_color': u'330000',\n",
       "  u'profile_text_color': u'CCCCCC',\n",
       "  u'profile_use_background_image': True,\n",
       "  u'protected': False,\n",
       "  u'screen_name': u'SkyTG24',\n",
       "  u'statuses_count': 140720,\n",
       "  u'time_zone': u'Rome',\n",
       "  u'translator_type': u'none',\n",
       "  u'url': u'https://t.co/I14UjVAyi3',\n",
       "  u'utc_offset': 3600,\n",
       "  u'verified': True}}"
      ]
     },
     "execution_count": 12,
     "metadata": {},
     "output_type": "execute_result"
    }
   ],
   "source": [
    "my_tweets[0]._json"
   ]
  },
  {
   "cell_type": "code",
   "execution_count": 13,
   "metadata": {
    "collapsed": false
   },
   "outputs": [
    {
     "name": "stdout",
     "output_type": "stream",
     "text": [
      "TWEET DIR:  ['__class__', '__delattr__', '__dict__', '__doc__', '__eq__', '__format__', '__getattribute__', '__getstate__', '__hash__', '__init__', '__module__', '__ne__', '__new__', '__reduce__', '__reduce_ex__', '__repr__', '__setattr__', '__sizeof__', '__str__', '__subclasshook__', '__weakref__', '_api', '_json', 'author', 'contributors', 'coordinates', 'created_at', 'destroy', 'entities', 'favorite', 'favorite_count', 'favorited', 'geo', 'id', 'id_str', 'in_reply_to_screen_name', 'in_reply_to_status_id', 'in_reply_to_status_id_str', 'in_reply_to_user_id', 'in_reply_to_user_id_str', 'is_quote_status', 'lang', 'parse', 'parse_list', 'place', 'possibly_sensitive', 'possibly_sensitive_appealable', 'retweet', 'retweet_count', 'retweeted', 'retweets', 'source', 'source_url', 'text', 'truncated', 'user'] \n",
      "\n",
      "Help on Status in module tweepy.models object:\n",
      "\n",
      "class Status(Model)\n",
      " |  Method resolution order:\n",
      " |      Status\n",
      " |      Model\n",
      " |      __builtin__.object\n",
      " |  \n",
      " |  Methods defined here:\n",
      " |  \n",
      " |  __eq__(self, other)\n",
      " |  \n",
      " |  __ne__(self, other)\n",
      " |  \n",
      " |  destroy(self)\n",
      " |  \n",
      " |  favorite(self)\n",
      " |  \n",
      " |  retweet(self)\n",
      " |  \n",
      " |  retweets(self)\n",
      " |  \n",
      " |  ----------------------------------------------------------------------\n",
      " |  Class methods defined here:\n",
      " |  \n",
      " |  parse(cls, api, json) from __builtin__.type\n",
      " |  \n",
      " |  ----------------------------------------------------------------------\n",
      " |  Methods inherited from Model:\n",
      " |  \n",
      " |  __getstate__(self)\n",
      " |  \n",
      " |  __init__(self, api=None)\n",
      " |  \n",
      " |  __repr__(self)\n",
      " |  \n",
      " |  ----------------------------------------------------------------------\n",
      " |  Class methods inherited from Model:\n",
      " |  \n",
      " |  parse_list(cls, api, json_list) from __builtin__.type\n",
      " |      Parse a list of JSON objects into\n",
      " |      a result set of model instances.\n",
      " |  \n",
      " |  ----------------------------------------------------------------------\n",
      " |  Data descriptors inherited from Model:\n",
      " |  \n",
      " |  __dict__\n",
      " |      dictionary for instance variables (if defined)\n",
      " |  \n",
      " |  __weakref__\n",
      " |      list of weak references to the object (if defined)\n",
      "\n",
      "None\n"
     ]
    }
   ],
   "source": [
    "# Dir Command on Tweet\n",
    "print \"TWEET DIR: \", dir(my_tweets[0]), \"\\n\"\n",
    "print help(my_tweets[0])"
   ]
  },
  {
   "cell_type": "code",
   "execution_count": 14,
   "metadata": {
    "collapsed": false
   },
   "outputs": [
    {
     "name": "stdout",
     "output_type": "stream",
     "text": [
      "User(follow_request_sent=False, has_extended_profile=False, profile_use_background_image=True, _json={u'follow_request_sent': False, u'has_extended_profile': False, u'profile_use_background_image': True, u'default_profile_image': False, u'id': 5893702, u'profile_background_image_url_https': u'https://pbs.twimg.com/profile_background_images/378800000133054887/GwsiCwVe.jpeg', u'verified': True, u'translator_type': u'none', u'profile_text_color': u'CCCCCC', u'profile_image_url_https': u'https://pbs.twimg.com/profile_images/742930771451752449/vwz5HyGw_normal.jpg', u'profile_sidebar_fill_color': u'330000', u'entities': {u'url': {u'urls': [{u'url': u'https://t.co/I14UjVAyi3', u'indices': [0, 23], u'expanded_url': u'http://www.skytg24.it', u'display_url': u'skytg24.it'}]}, u'description': {u'urls': []}}, u'followers_count': 2621627, u'profile_sidebar_border_color': u'FFFFFF', u'id_str': u'5893702', u'profile_background_color': u'2F0202', u'listed_count': 7108, u'is_translation_enabled': False, u'utc_offset': 3600, u'statuses_count': 140720, u'description': u'News, video, fotogallery e la diretta web 24 ore su 24. Sky TG24 \\xe8 sui canali 100 e 500 di Sky e anche sul canale 50 del digitale terrestre.', u'friends_count': 297, u'location': u'', u'profile_link_color': u'CC3333', u'profile_image_url': u'http://pbs.twimg.com/profile_images/742930771451752449/vwz5HyGw_normal.jpg', u'following': True, u'geo_enabled': True, u'profile_banner_url': u'https://pbs.twimg.com/profile_banners/5893702/1465963609', u'profile_background_image_url': u'http://pbs.twimg.com/profile_background_images/378800000133054887/GwsiCwVe.jpeg', u'screen_name': u'SkyTG24', u'lang': u'en', u'profile_background_tile': False, u'favourites_count': 131, u'name': u'Sky TG24', u'notifications': False, u'url': u'https://t.co/I14UjVAyi3', u'created_at': u'Wed May 09 09:58:26 +0000 2007', u'contributors_enabled': False, u'time_zone': u'Rome', u'protected': False, u'default_profile': False, u'is_translator': False}, time_zone=u'Rome', id=5893702, description=u'News, video, fotogallery e la diretta web 24 ore su 24. Sky TG24 \\xe8 sui canali 100 e 500 di Sky e anche sul canale 50 del digitale terrestre.', _api=<tweepy.api.API object at 0x7f0bc2b102d0>, verified=True, profile_text_color=u'CCCCCC', profile_image_url_https=u'https://pbs.twimg.com/profile_images/742930771451752449/vwz5HyGw_normal.jpg', profile_sidebar_fill_color=u'330000', is_translator=False, geo_enabled=True, entities={u'url': {u'urls': [{u'url': u'https://t.co/I14UjVAyi3', u'indices': [0, 23], u'expanded_url': u'http://www.skytg24.it', u'display_url': u'skytg24.it'}]}, u'description': {u'urls': []}}, followers_count=2621627, protected=False, id_str=u'5893702', default_profile_image=False, listed_count=7108, lang=u'en', utc_offset=3600, statuses_count=140720, profile_background_color=u'2F0202', friends_count=297, profile_link_color=u'CC3333', profile_image_url=u'http://pbs.twimg.com/profile_images/742930771451752449/vwz5HyGw_normal.jpg', notifications=False, default_profile=False, profile_background_image_url_https=u'https://pbs.twimg.com/profile_background_images/378800000133054887/GwsiCwVe.jpeg', profile_banner_url=u'https://pbs.twimg.com/profile_banners/5893702/1465963609', profile_background_image_url=u'http://pbs.twimg.com/profile_background_images/378800000133054887/GwsiCwVe.jpeg', name=u'Sky TG24', is_translation_enabled=False, profile_background_tile=False, favourites_count=131, screen_name=u'SkyTG24', url=u'https://t.co/I14UjVAyi3', created_at=datetime.datetime(2007, 5, 9, 9, 58, 26), contributors_enabled=False, location=u'', profile_sidebar_border_color=u'FFFFFF', translator_type=u'none', following=True)\n"
     ]
    }
   ],
   "source": [
    "# USER of first Tweet\n",
    "print my_tweets[0].user"
   ]
  },
  {
   "cell_type": "code",
   "execution_count": 20,
   "metadata": {
    "collapsed": false
   },
   "outputs": [
    {
     "data": {
      "text/plain": [
       "u'SkyTG24'"
      ]
     },
     "execution_count": 20,
     "metadata": {},
     "output_type": "execute_result"
    }
   ],
   "source": [
    "my_tweets[0].user.screen_name"
   ]
  },
  {
   "cell_type": "code",
   "execution_count": 16,
   "metadata": {
    "collapsed": false
   },
   "outputs": [
    {
     "name": "stdout",
     "output_type": "stream",
     "text": [
      "VIDEO: Presentata la guida Michelin 2017 https://t.co/6s8de9JQKO \n",
      "\n",
      "RT @Maurizio_Lupi: Adesso la parola ai sindaci. Vi ricordiamo che potete seguirci anche live sul canale #youtube del #Senato https://t.co/8… \n",
      "\n",
      "RT @ApCamera: Siamo nella #SalaKoch del Senato tra poco al via il seminario \"Di #riforme si mangia\" di #AP #giovaniSì. Live su\n",
      "https://t.co… \n",
      "\n"
     ]
    }
   ],
   "source": [
    "# First 3 tweets\n",
    "for index, tw in enumerate(my_tweets):\n",
    "    if index < 3:\n",
    "        print tw.text, \"\\n\""
   ]
  },
  {
   "cell_type": "markdown",
   "metadata": {},
   "source": [
    "## My Followers"
   ]
  },
  {
   "cell_type": "code",
   "execution_count": 17,
   "metadata": {
    "collapsed": false
   },
   "outputs": [
    {
     "name": "stdout",
     "output_type": "stream",
     "text": [
      "My_Followers LEN:  2\n"
     ]
    }
   ],
   "source": [
    "## fetch follewer lists\n",
    "my_followers = api.followers()\n",
    "print \"My_Followers LEN: \", len(my_followers)"
   ]
  },
  {
   "cell_type": "code",
   "execution_count": 18,
   "metadata": {
    "collapsed": false
   },
   "outputs": [
    {
     "name": "stdout",
     "output_type": "stream",
     "text": [
      "My_Followers_ids LEN:  2\n"
     ]
    }
   ],
   "source": [
    "my_followers_ids = api.followers_ids()\n",
    "print \"My_Followers_ids LEN: \", len(my_followers_ids)"
   ]
  },
  {
   "cell_type": "code",
   "execution_count": 19,
   "metadata": {
    "collapsed": false
   },
   "outputs": [
    {
     "data": {
      "text/plain": [
       "User(follow_request_sent=False, has_extended_profile=False, profile_use_background_image=True, profile_sidebar_fill_color=u'000000', live_following=False, time_zone=u'Ljubljana', id=2821297900, description=u\"L'Economia spiegata e commentata\", _api=<tweepy.api.API object at 0x7f0bc2b102d0>, verified=False, blocked_by=False, profile_text_color=u'000000', muting=False, profile_image_url_https=u'https://pbs.twimg.com/profile_images/670241859797688320/xf4xtOO1_normal.jpg', _json={u'follow_request_sent': False, u'has_extended_profile': False, u'profile_use_background_image': True, u'live_following': False, u'default_profile_image': False, u'id': 2821297900, u'profile_background_image_url_https': u'https://pbs.twimg.com/profile_background_images/575285321841029120/lKnq1HNI.jpeg', u'translator_type': u'none', u'verified': False, u'blocked_by': False, u'profile_text_color': u'000000', u'muting': False, u'profile_image_url_https': u'https://pbs.twimg.com/profile_images/670241859797688320/xf4xtOO1_normal.jpg', u'profile_sidebar_fill_color': u'000000', u'entities': {u'url': {u'urls': [{u'url': u'https://t.co/JEFC63FbTM', u'indices': [0, 23], u'expanded_url': u'http://spazioeconomia.net', u'display_url': u'spazioeconomia.net'}]}, u'description': {u'urls': []}}, u'followers_count': 43038, u'profile_sidebar_border_color': u'000000', u'id_str': u'2821297900', u'profile_background_color': u'000000', u'listed_count': 492, u'status': {u'contributors': None, u'truncated': False, u'text': u'#Decontribuzione per nuovi #assunti al Sud.Ormai si corre nella notte a occhi chiusi fino al #referendum\\nhttps://t.co/q5dmUtZhon\\n@Phastidio', u'is_quote_status': False, u'in_reply_to_status_id': None, u'id': 799599912778420224, u'favorite_count': 1, u'source': u'<a href=\"http://twitter.com\" rel=\"nofollow\">Twitter Web Client</a>', u'retweeted': False, u'coordinates': None, u'entities': {u'symbols': [], u'user_mentions': [{u'id': 17028890, u'indices': [129, 139], u'id_str': u'17028890', u'screen_name': u'Phastidio', u'name': u'Mario Seminerio'}], u'hashtags': [{u'indices': [0, 16], u'text': u'Decontribuzione'}, {u'indices': [27, 35], u'text': u'assunti'}, {u'indices': [93, 104], u'text': u'referendum'}], u'urls': [{u'url': u'https://t.co/q5dmUtZhon', u'indices': [105, 128], u'expanded_url': u'https://goo.gl/aMy5AE', u'display_url': u'goo.gl/aMy5AE'}]}, u'in_reply_to_screen_name': None, u'in_reply_to_user_id': None, u'retweet_count': 1, u'id_str': u'799599912778420224', u'favorited': False, u'geo': None, u'in_reply_to_user_id_str': None, u'possibly_sensitive': False, u'lang': u'it', u'created_at': u'Fri Nov 18 13:07:29 +0000 2016', u'in_reply_to_status_id_str': None, u'place': None}, u'is_translation_enabled': False, u'utc_offset': 3600, u'statuses_count': 14558, u'description': u\"L'Economia spiegata e commentata\", u'friends_count': 39223, u'location': u'spazioeconomia@yahoo.it', u'profile_link_color': u'3B94D9', u'profile_image_url': u'http://pbs.twimg.com/profile_images/670241859797688320/xf4xtOO1_normal.jpg', u'following': False, u'geo_enabled': True, u'profile_banner_url': u'https://pbs.twimg.com/profile_banners/2821297900/1447673717', u'blocking': False, u'profile_background_image_url': u'http://pbs.twimg.com/profile_background_images/575285321841029120/lKnq1HNI.jpeg', u'screen_name': u'SpazioEconomia', u'lang': u'it', u'profile_background_tile': False, u'favourites_count': 989, u'name': u'$pazio\\u20acconomia', u'notifications': False, u'url': u'https://t.co/JEFC63FbTM', u'created_at': u'Fri Oct 10 14:44:57 +0000 2014', u'contributors_enabled': False, u'time_zone': u'Ljubljana', u'protected': False, u'default_profile': False, u'is_translator': False}, is_translator=False, geo_enabled=True, entities={u'url': {u'urls': [{u'url': u'https://t.co/JEFC63FbTM', u'indices': [0, 23], u'expanded_url': u'http://spazioeconomia.net', u'display_url': u'spazioeconomia.net'}]}, u'description': {u'urls': []}}, followers_count=43038, protected=False, id_str=u'2821297900', default_profile_image=False, listed_count=492, status=Status(contributors=None, truncated=False, text=u'#Decontribuzione per nuovi #assunti al Sud.Ormai si corre nella notte a occhi chiusi fino al #referendum\\nhttps://t.co/q5dmUtZhon\\n@Phastidio', is_quote_status=False, in_reply_to_status_id=None, id=799599912778420224, favorite_count=1, _api=<tweepy.api.API object at 0x7f0bc2b102d0>, source=u'Twitter Web Client', _json={u'contributors': None, u'truncated': False, u'text': u'#Decontribuzione per nuovi #assunti al Sud.Ormai si corre nella notte a occhi chiusi fino al #referendum\\nhttps://t.co/q5dmUtZhon\\n@Phastidio', u'is_quote_status': False, u'in_reply_to_status_id': None, u'id': 799599912778420224, u'favorite_count': 1, u'source': u'<a href=\"http://twitter.com\" rel=\"nofollow\">Twitter Web Client</a>', u'retweeted': False, u'coordinates': None, u'entities': {u'symbols': [], u'user_mentions': [{u'id': 17028890, u'indices': [129, 139], u'id_str': u'17028890', u'screen_name': u'Phastidio', u'name': u'Mario Seminerio'}], u'hashtags': [{u'indices': [0, 16], u'text': u'Decontribuzione'}, {u'indices': [27, 35], u'text': u'assunti'}, {u'indices': [93, 104], u'text': u'referendum'}], u'urls': [{u'url': u'https://t.co/q5dmUtZhon', u'indices': [105, 128], u'expanded_url': u'https://goo.gl/aMy5AE', u'display_url': u'goo.gl/aMy5AE'}]}, u'in_reply_to_screen_name': None, u'in_reply_to_user_id': None, u'retweet_count': 1, u'id_str': u'799599912778420224', u'favorited': False, u'geo': None, u'in_reply_to_user_id_str': None, u'possibly_sensitive': False, u'lang': u'it', u'created_at': u'Fri Nov 18 13:07:29 +0000 2016', u'in_reply_to_status_id_str': None, u'place': None}, coordinates=None, entities={u'symbols': [], u'user_mentions': [{u'id': 17028890, u'indices': [129, 139], u'id_str': u'17028890', u'screen_name': u'Phastidio', u'name': u'Mario Seminerio'}], u'hashtags': [{u'indices': [0, 16], u'text': u'Decontribuzione'}, {u'indices': [27, 35], u'text': u'assunti'}, {u'indices': [93, 104], u'text': u'referendum'}], u'urls': [{u'url': u'https://t.co/q5dmUtZhon', u'indices': [105, 128], u'expanded_url': u'https://goo.gl/aMy5AE', u'display_url': u'goo.gl/aMy5AE'}]}, in_reply_to_screen_name=None, id_str=u'799599912778420224', retweet_count=1, in_reply_to_user_id=None, favorited=False, source_url=u'http://twitter.com', geo=None, in_reply_to_user_id_str=None, possibly_sensitive=False, lang=u'it', created_at=datetime.datetime(2016, 11, 18, 13, 7, 29), in_reply_to_status_id_str=None, place=None, retweeted=False), lang=u'it', utc_offset=3600, statuses_count=14558, profile_background_color=u'000000', friends_count=39223, profile_link_color=u'3B94D9', profile_image_url=u'http://pbs.twimg.com/profile_images/670241859797688320/xf4xtOO1_normal.jpg', notifications=False, default_profile=False, profile_background_image_url_https=u'https://pbs.twimg.com/profile_background_images/575285321841029120/lKnq1HNI.jpeg', profile_banner_url=u'https://pbs.twimg.com/profile_banners/2821297900/1447673717', blocking=False, profile_background_image_url=u'http://pbs.twimg.com/profile_background_images/575285321841029120/lKnq1HNI.jpeg', name=u'$pazio\\u20acconomia', is_translation_enabled=False, profile_background_tile=False, favourites_count=989, screen_name=u'SpazioEconomia', url=u'https://t.co/JEFC63FbTM', created_at=datetime.datetime(2014, 10, 10, 14, 44, 57), contributors_enabled=False, location=u'spazioeconomia@yahoo.it', profile_sidebar_border_color=u'000000', translator_type=u'none', following=False)"
      ]
     },
     "execution_count": 19,
     "metadata": {},
     "output_type": "execute_result"
    }
   ],
   "source": [
    "my_followers[0]"
   ]
  },
  {
   "cell_type": "code",
   "execution_count": 21,
   "metadata": {
    "collapsed": false
   },
   "outputs": [
    {
     "data": {
      "text/plain": [
       "2821297900"
      ]
     },
     "execution_count": 21,
     "metadata": {},
     "output_type": "execute_result"
    }
   ],
   "source": [
    "my_followers_ids[0]"
   ]
  },
  {
   "cell_type": "code",
   "execution_count": 22,
   "metadata": {
    "collapsed": false
   },
   "outputs": [
    {
     "name": "stdout",
     "output_type": "stream",
     "text": [
      "['__class__', '__delattr__', '__dict__', '__doc__', '__format__', '__getattribute__', '__getstate__', '__hash__', '__init__', '__module__', '__new__', '__reduce__', '__reduce_ex__', '__repr__', '__setattr__', '__sizeof__', '__str__', '__subclasshook__', '__weakref__', '_api', '_json', 'blocked_by', 'blocking', 'contributors_enabled', 'created_at', 'default_profile', 'default_profile_image', 'description', 'entities', 'favourites_count', 'follow', 'follow_request_sent', 'followers', 'followers_count', 'followers_ids', 'following', 'friends', 'friends_count', 'geo_enabled', 'has_extended_profile', 'id', 'id_str', 'is_translation_enabled', 'is_translator', 'lang', 'listed_count', 'lists', 'lists_memberships', 'lists_subscriptions', 'live_following', 'location', 'muting', 'name', 'notifications', 'parse', 'parse_list', 'profile_background_color', 'profile_background_image_url', 'profile_background_image_url_https', 'profile_background_tile', 'profile_banner_url', 'profile_image_url', 'profile_image_url_https', 'profile_link_color', 'profile_sidebar_border_color', 'profile_sidebar_fill_color', 'profile_text_color', 'profile_use_background_image', 'protected', 'screen_name', 'status', 'statuses_count', 'time_zone', 'timeline', 'translator_type', 'unfollow', 'url', 'utc_offset', 'verified']\n"
     ]
    }
   ],
   "source": [
    "print dir(my_followers[0])"
   ]
  },
  {
   "cell_type": "code",
   "execution_count": 23,
   "metadata": {
    "collapsed": false
   },
   "outputs": [
    {
     "name": "stdout",
     "output_type": "stream",
     "text": [
      "Help on User in module tweepy.models object:\n",
      "\n",
      "class User(Model)\n",
      " |  Method resolution order:\n",
      " |      User\n",
      " |      Model\n",
      " |      __builtin__.object\n",
      " |  \n",
      " |  Methods defined here:\n",
      " |  \n",
      " |  follow(self)\n",
      " |  \n",
      " |  followers(self, **kargs)\n",
      " |  \n",
      " |  followers_ids(self, *args, **kargs)\n",
      " |  \n",
      " |  friends(self, **kargs)\n",
      " |  \n",
      " |  lists(self, *args, **kargs)\n",
      " |  \n",
      " |  lists_memberships(self, *args, **kargs)\n",
      " |  \n",
      " |  lists_subscriptions(self, *args, **kargs)\n",
      " |  \n",
      " |  timeline(self, **kargs)\n",
      " |  \n",
      " |  unfollow(self)\n",
      " |  \n",
      " |  ----------------------------------------------------------------------\n",
      " |  Class methods defined here:\n",
      " |  \n",
      " |  parse(cls, api, json) from __builtin__.type\n",
      " |  \n",
      " |  parse_list(cls, api, json_list) from __builtin__.type\n",
      " |  \n",
      " |  ----------------------------------------------------------------------\n",
      " |  Methods inherited from Model:\n",
      " |  \n",
      " |  __getstate__(self)\n",
      " |  \n",
      " |  __init__(self, api=None)\n",
      " |  \n",
      " |  __repr__(self)\n",
      " |  \n",
      " |  ----------------------------------------------------------------------\n",
      " |  Data descriptors inherited from Model:\n",
      " |  \n",
      " |  __dict__\n",
      " |      dictionary for instance variables (if defined)\n",
      " |  \n",
      " |  __weakref__\n",
      " |      list of weak references to the object (if defined)\n",
      "\n",
      "None\n"
     ]
    }
   ],
   "source": [
    "print help(my_followers[0])"
   ]
  },
  {
   "cell_type": "code",
   "execution_count": 24,
   "metadata": {
    "collapsed": false
   },
   "outputs": [
    {
     "name": "stdout",
     "output_type": "stream",
     "text": [
      "{ u'blocked_by': False,\n",
      "  u'blocking': False,\n",
      "  u'contributors_enabled': False,\n",
      "  u'created_at': u'Fri Oct 10 14:44:57 +0000 2014',\n",
      "  u'default_profile': False,\n",
      "  u'default_profile_image': False,\n",
      "  u'description': u\"L'Economia spiegata e commentata\",\n",
      "  u'entities': { u'description': { u'urls': []},\n",
      "                 u'url': { u'urls': [ { u'display_url': u'spazioeconomia.net',\n",
      "                                        u'expanded_url': u'http://spazioeconomia.net',\n",
      "                                        u'indices': [0, 23],\n",
      "                                        u'url': u'https://t.co/JEFC63FbTM'}]}},\n",
      "  u'favourites_count': 989,\n",
      "  u'follow_request_sent': False,\n",
      "  u'followers_count': 43038,\n",
      "  u'following': False,\n",
      "  u'friends_count': 39223,\n",
      "  u'geo_enabled': True,\n",
      "  u'has_extended_profile': False,\n",
      "  u'id': 2821297900,\n",
      "  u'id_str': u'2821297900',\n",
      "  u'is_translation_enabled': False,\n",
      "  u'is_translator': False,\n",
      "  u'lang': u'it',\n",
      "  u'listed_count': 492,\n",
      "  u'live_following': False,\n",
      "  u'location': u'spazioeconomia@yahoo.it',\n",
      "  u'muting': False,\n",
      "  u'name': u'$pazio\\u20acconomia',\n",
      "  u'notifications': False,\n",
      "  u'profile_background_color': u'000000',\n",
      "  u'profile_background_image_url': u'http://pbs.twimg.com/profile_background_images/575285321841029120/lKnq1HNI.jpeg',\n",
      "  u'profile_background_image_url_https': u'https://pbs.twimg.com/profile_background_images/575285321841029120/lKnq1HNI.jpeg',\n",
      "  u'profile_background_tile': False,\n",
      "  u'profile_banner_url': u'https://pbs.twimg.com/profile_banners/2821297900/1447673717',\n",
      "  u'profile_image_url': u'http://pbs.twimg.com/profile_images/670241859797688320/xf4xtOO1_normal.jpg',\n",
      "  u'profile_image_url_https': u'https://pbs.twimg.com/profile_images/670241859797688320/xf4xtOO1_normal.jpg',\n",
      "  u'profile_link_color': u'3B94D9',\n",
      "  u'profile_sidebar_border_color': u'000000',\n",
      "  u'profile_sidebar_fill_color': u'000000',\n",
      "  u'profile_text_color': u'000000',\n",
      "  u'profile_use_background_image': True,\n",
      "  u'protected': False,\n",
      "  u'screen_name': u'SpazioEconomia',\n",
      "  u'status': { u'contributors': None,\n",
      "               u'coordinates': None,\n",
      "               u'created_at': u'Fri Nov 18 13:07:29 +0000 2016',\n",
      "               u'entities': { u'hashtags': [ { u'indices': [0, 16],\n",
      "                                               u'text': u'Decontribuzione'},\n",
      "                                             { u'indices': [27, 35],\n",
      "                                               u'text': u'assunti'},\n",
      "                                             { u'indices': [93, 104],\n",
      "                                               u'text': u'referendum'}],\n",
      "                              u'symbols': [],\n",
      "                              u'urls': [ { u'display_url': u'goo.gl/aMy5AE',\n",
      "                                           u'expanded_url': u'https://goo.gl/aMy5AE',\n",
      "                                           u'indices': [105, 128],\n",
      "                                           u'url': u'https://t.co/q5dmUtZhon'}],\n",
      "                              u'user_mentions': [ { u'id': 17028890,\n",
      "                                                    u'id_str': u'17028890',\n",
      "                                                    u'indices': [129, 139],\n",
      "                                                    u'name': u'Mario Seminerio',\n",
      "                                                    u'screen_name': u'Phastidio'}]},\n",
      "               u'favorite_count': 1,\n",
      "               u'favorited': False,\n",
      "               u'geo': None,\n",
      "               u'id': 799599912778420224,\n",
      "               u'id_str': u'799599912778420224',\n",
      "               u'in_reply_to_screen_name': None,\n",
      "               u'in_reply_to_status_id': None,\n",
      "               u'in_reply_to_status_id_str': None,\n",
      "               u'in_reply_to_user_id': None,\n",
      "               u'in_reply_to_user_id_str': None,\n",
      "               u'is_quote_status': False,\n",
      "               u'lang': u'it',\n",
      "               u'place': None,\n",
      "               u'possibly_sensitive': False,\n",
      "               u'retweet_count': 1,\n",
      "               u'retweeted': False,\n",
      "               u'source': u'<a href=\"http://twitter.com\" rel=\"nofollow\">Twitter Web Client</a>',\n",
      "               u'text': u'#Decontribuzione per nuovi #assunti al Sud.Ormai si corre nella notte a occhi chiusi fino al #referendum\\nhttps://t.co/q5dmUtZhon\\n@Phastidio',\n",
      "               u'truncated': False},\n",
      "  u'statuses_count': 14558,\n",
      "  u'time_zone': u'Ljubljana',\n",
      "  u'translator_type': u'none',\n",
      "  u'url': u'https://t.co/JEFC63FbTM',\n",
      "  u'utc_offset': 3600,\n",
      "  u'verified': False}\n"
     ]
    }
   ],
   "source": [
    "pp.pprint(my_followers[0]._json)"
   ]
  },
  {
   "cell_type": "markdown",
   "metadata": {},
   "source": [
    "# Get External User"
   ]
  },
  {
   "cell_type": "code",
   "execution_count": 25,
   "metadata": {
    "collapsed": false
   },
   "outputs": [
    {
     "data": {
      "text/plain": [
       "User(follow_request_sent=False, has_extended_profile=False, profile_use_background_image=False, _json={u'follow_request_sent': False, u'has_extended_profile': False, u'profile_use_background_image': False, u'profile_text_color': u'333333', u'default_profile_image': False, u'id': 393894382, u'profile_background_image_url_https': u'https://abs.twimg.com/images/themes/theme1/bg.png', u'verified': False, u'translator_type': u'none', u'profile_location': None, u'profile_image_url_https': u'https://pbs.twimg.com/profile_images/597680334474485760/Z6OMNC0B_normal.jpg', u'profile_sidebar_fill_color': u'DDEEF6', u'entities': {u'url': {u'urls': [{u'url': u'http://t.co/lmrSnJtN6Y', u'indices': [0, 22], u'expanded_url': u'http://www.intesasanpaolo.com', u'display_url': u'intesasanpaolo.com'}]}, u'description': {u'urls': []}}, u'followers_count': 4240, u'profile_sidebar_border_color': u'FFFFFF', u'id_str': u'393894382', u'profile_background_color': u'DBDBDB', u'listed_count': 134, u'status': {u'contributors': None, u'truncated': False, u'text': u\"RT @MdR_Torino: Al Campus dei #fuoriclassedellascuola  inizia il #Softskills Lab dell'Ufficio #formazione manageriale @intesasanpaolo. http\\u2026\", u'is_quote_status': False, u'in_reply_to_status_id': None, u'id': 799604807774310401, u'favorite_count': 0, u'source': u'<a href=\"http://twitter.com/download/android\" rel=\"nofollow\">Twitter for Android</a>', u'retweeted': False, u'coordinates': None, u'entities': {u'symbols': [], u'user_mentions': [{u'id': 1131143048, u'indices': [3, 14], u'id_str': u'1131143048', u'screen_name': u'MdR_Torino', u'name': u'Museo del Risparmio'}, {u'id': 393894382, u'indices': [118, 133], u'id_str': u'393894382', u'screen_name': u'intesasanpaolo', u'name': u'Intesa Sanpaolo'}], u'hashtags': [{u'indices': [30, 53], u'text': u'fuoriclassedellascuola'}, {u'indices': [65, 76], u'text': u'Softskills'}, {u'indices': [94, 105], u'text': u'formazione'}], u'urls': []}, u'in_reply_to_screen_name': None, u'in_reply_to_user_id': None, u'retweet_count': 2, u'id_str': u'799604807774310401', u'favorited': False, u'retweeted_status': {u'contributors': None, u'truncated': True, u'text': u\"Al Campus dei #fuoriclassedellascuola  inizia il #Softskills Lab dell'Ufficio #formazione manageriale\\u2026 https://t.co/FBbYyjxjeD\", u'is_quote_status': False, u'in_reply_to_status_id': None, u'id': 799604442790240256, u'favorite_count': 4, u'source': u'<a href=\"http://twitter.com/download/android\" rel=\"nofollow\">Twitter for Android</a>', u'retweeted': False, u'coordinates': None, u'entities': {u'symbols': [], u'user_mentions': [], u'hashtags': [{u'indices': [14, 37], u'text': u'fuoriclassedellascuola'}, {u'indices': [49, 60], u'text': u'Softskills'}, {u'indices': [78, 89], u'text': u'formazione'}], u'urls': [{u'url': u'https://t.co/FBbYyjxjeD', u'indices': [103, 126], u'expanded_url': u'https://twitter.com/i/web/status/799604442790240256', u'display_url': u'twitter.com/i/web/status/7\\u2026'}]}, u'in_reply_to_screen_name': None, u'in_reply_to_user_id': None, u'retweet_count': 2, u'id_str': u'799604442790240256', u'favorited': False, u'geo': None, u'in_reply_to_user_id_str': None, u'possibly_sensitive': False, u'lang': u'it', u'created_at': u'Fri Nov 18 13:25:29 +0000 2016', u'in_reply_to_status_id_str': None, u'place': None}, u'geo': None, u'in_reply_to_user_id_str': None, u'lang': u'it', u'created_at': u'Fri Nov 18 13:26:56 +0000 2016', u'in_reply_to_status_id_str': None, u'place': None}, u'is_translation_enabled': True, u'utc_offset': 3600, u'statuses_count': 2424, u'description': u'Notizie, eventi e informazioni in tempo reale sul mondo Intesa Sanpaolo. Per assistenza su prodotti e servizi seguici su @IntesaSP_Help e @IntesaSPgiovani.', u'friends_count': 179, u'location': u'', u'profile_link_color': u'929292', u'profile_image_url': u'http://pbs.twimg.com/profile_images/597680334474485760/Z6OMNC0B_normal.jpg', u'following': False, u'geo_enabled': False, u'profile_banner_url': u'https://pbs.twimg.com/profile_banners/393894382/1473949795', u'profile_background_image_url': u'http://abs.twimg.com/images/themes/theme1/bg.png', u'name': u'Intesa Sanpaolo', u'lang': u'it', u'profile_background_tile': False, u'favourites_count': 1101, u'screen_name': u'intesasanpaolo', u'notifications': False, u'url': u'http://t.co/lmrSnJtN6Y', u'created_at': u'Wed Oct 19 07:46:49 +0000 2011', u'contributors_enabled': False, u'time_zone': u'Rome', u'protected': False, u'default_profile': False, u'is_translator': False}, time_zone=u'Rome', id=393894382, description=u'Notizie, eventi e informazioni in tempo reale sul mondo Intesa Sanpaolo. Per assistenza su prodotti e servizi seguici su @IntesaSP_Help e @IntesaSPgiovani.', _api=<tweepy.api.API object at 0x7f0bc2b102d0>, verified=False, profile_location=None, profile_image_url_https=u'https://pbs.twimg.com/profile_images/597680334474485760/Z6OMNC0B_normal.jpg', profile_sidebar_fill_color=u'DDEEF6', is_translator=False, geo_enabled=False, entities={u'url': {u'urls': [{u'url': u'http://t.co/lmrSnJtN6Y', u'indices': [0, 22], u'expanded_url': u'http://www.intesasanpaolo.com', u'display_url': u'intesasanpaolo.com'}]}, u'description': {u'urls': []}}, followers_count=4240, protected=False, id_str=u'393894382', default_profile_image=False, listed_count=134, status=Status(contributors=None, truncated=False, text=u\"RT @MdR_Torino: Al Campus dei #fuoriclassedellascuola  inizia il #Softskills Lab dell'Ufficio #formazione manageriale @intesasanpaolo. http\\u2026\", is_quote_status=False, in_reply_to_status_id=None, id=799604807774310401, favorite_count=0, _api=<tweepy.api.API object at 0x7f0bc2b102d0>, source=u'Twitter for Android', _json={u'contributors': None, u'truncated': False, u'text': u\"RT @MdR_Torino: Al Campus dei #fuoriclassedellascuola  inizia il #Softskills Lab dell'Ufficio #formazione manageriale @intesasanpaolo. http\\u2026\", u'is_quote_status': False, u'in_reply_to_status_id': None, u'id': 799604807774310401, u'favorite_count': 0, u'source': u'<a href=\"http://twitter.com/download/android\" rel=\"nofollow\">Twitter for Android</a>', u'retweeted': False, u'coordinates': None, u'entities': {u'symbols': [], u'user_mentions': [{u'id': 1131143048, u'indices': [3, 14], u'id_str': u'1131143048', u'screen_name': u'MdR_Torino', u'name': u'Museo del Risparmio'}, {u'id': 393894382, u'indices': [118, 133], u'id_str': u'393894382', u'screen_name': u'intesasanpaolo', u'name': u'Intesa Sanpaolo'}], u'hashtags': [{u'indices': [30, 53], u'text': u'fuoriclassedellascuola'}, {u'indices': [65, 76], u'text': u'Softskills'}, {u'indices': [94, 105], u'text': u'formazione'}], u'urls': []}, u'in_reply_to_screen_name': None, u'in_reply_to_user_id': None, u'retweet_count': 2, u'id_str': u'799604807774310401', u'favorited': False, u'retweeted_status': {u'contributors': None, u'truncated': True, u'text': u\"Al Campus dei #fuoriclassedellascuola  inizia il #Softskills Lab dell'Ufficio #formazione manageriale\\u2026 https://t.co/FBbYyjxjeD\", u'is_quote_status': False, u'in_reply_to_status_id': None, u'id': 799604442790240256, u'favorite_count': 4, u'source': u'<a href=\"http://twitter.com/download/android\" rel=\"nofollow\">Twitter for Android</a>', u'retweeted': False, u'coordinates': None, u'entities': {u'symbols': [], u'user_mentions': [], u'hashtags': [{u'indices': [14, 37], u'text': u'fuoriclassedellascuola'}, {u'indices': [49, 60], u'text': u'Softskills'}, {u'indices': [78, 89], u'text': u'formazione'}], u'urls': [{u'url': u'https://t.co/FBbYyjxjeD', u'indices': [103, 126], u'expanded_url': u'https://twitter.com/i/web/status/799604442790240256', u'display_url': u'twitter.com/i/web/status/7\\u2026'}]}, u'in_reply_to_screen_name': None, u'in_reply_to_user_id': None, u'retweet_count': 2, u'id_str': u'799604442790240256', u'favorited': False, u'geo': None, u'in_reply_to_user_id_str': None, u'possibly_sensitive': False, u'lang': u'it', u'created_at': u'Fri Nov 18 13:25:29 +0000 2016', u'in_reply_to_status_id_str': None, u'place': None}, u'geo': None, u'in_reply_to_user_id_str': None, u'lang': u'it', u'created_at': u'Fri Nov 18 13:26:56 +0000 2016', u'in_reply_to_status_id_str': None, u'place': None}, coordinates=None, entities={u'symbols': [], u'user_mentions': [{u'id': 1131143048, u'indices': [3, 14], u'id_str': u'1131143048', u'screen_name': u'MdR_Torino', u'name': u'Museo del Risparmio'}, {u'id': 393894382, u'indices': [118, 133], u'id_str': u'393894382', u'screen_name': u'intesasanpaolo', u'name': u'Intesa Sanpaolo'}], u'hashtags': [{u'indices': [30, 53], u'text': u'fuoriclassedellascuola'}, {u'indices': [65, 76], u'text': u'Softskills'}, {u'indices': [94, 105], u'text': u'formazione'}], u'urls': []}, in_reply_to_screen_name=None, id_str=u'799604807774310401', retweet_count=2, in_reply_to_user_id=None, favorited=False, retweeted_status=Status(contributors=None, truncated=True, text=u\"Al Campus dei #fuoriclassedellascuola  inizia il #Softskills Lab dell'Ufficio #formazione manageriale\\u2026 https://t.co/FBbYyjxjeD\", is_quote_status=False, in_reply_to_status_id=None, id=799604442790240256, favorite_count=4, _api=<tweepy.api.API object at 0x7f0bc2b102d0>, source=u'Twitter for Android', _json={u'contributors': None, u'truncated': True, u'text': u\"Al Campus dei #fuoriclassedellascuola  inizia il #Softskills Lab dell'Ufficio #formazione manageriale\\u2026 https://t.co/FBbYyjxjeD\", u'is_quote_status': False, u'in_reply_to_status_id': None, u'id': 799604442790240256, u'favorite_count': 4, u'source': u'<a href=\"http://twitter.com/download/android\" rel=\"nofollow\">Twitter for Android</a>', u'retweeted': False, u'coordinates': None, u'entities': {u'symbols': [], u'user_mentions': [], u'hashtags': [{u'indices': [14, 37], u'text': u'fuoriclassedellascuola'}, {u'indices': [49, 60], u'text': u'Softskills'}, {u'indices': [78, 89], u'text': u'formazione'}], u'urls': [{u'url': u'https://t.co/FBbYyjxjeD', u'indices': [103, 126], u'expanded_url': u'https://twitter.com/i/web/status/799604442790240256', u'display_url': u'twitter.com/i/web/status/7\\u2026'}]}, u'in_reply_to_screen_name': None, u'in_reply_to_user_id': None, u'retweet_count': 2, u'id_str': u'799604442790240256', u'favorited': False, u'geo': None, u'in_reply_to_user_id_str': None, u'possibly_sensitive': False, u'lang': u'it', u'created_at': u'Fri Nov 18 13:25:29 +0000 2016', u'in_reply_to_status_id_str': None, u'place': None}, coordinates=None, entities={u'symbols': [], u'user_mentions': [], u'hashtags': [{u'indices': [14, 37], u'text': u'fuoriclassedellascuola'}, {u'indices': [49, 60], u'text': u'Softskills'}, {u'indices': [78, 89], u'text': u'formazione'}], u'urls': [{u'url': u'https://t.co/FBbYyjxjeD', u'indices': [103, 126], u'expanded_url': u'https://twitter.com/i/web/status/799604442790240256', u'display_url': u'twitter.com/i/web/status/7\\u2026'}]}, in_reply_to_screen_name=None, id_str=u'799604442790240256', retweet_count=2, in_reply_to_user_id=None, favorited=False, source_url=u'http://twitter.com/download/android', geo=None, in_reply_to_user_id_str=None, possibly_sensitive=False, lang=u'it', created_at=datetime.datetime(2016, 11, 18, 13, 25, 29), in_reply_to_status_id_str=None, place=None, retweeted=False), source_url=u'http://twitter.com/download/android', geo=None, in_reply_to_user_id_str=None, lang=u'it', created_at=datetime.datetime(2016, 11, 18, 13, 26, 56), in_reply_to_status_id_str=None, place=None, retweeted=False), lang=u'it', utc_offset=3600, statuses_count=2424, profile_background_color=u'DBDBDB', friends_count=179, profile_link_color=u'929292', profile_image_url=u'http://pbs.twimg.com/profile_images/597680334474485760/Z6OMNC0B_normal.jpg', notifications=False, default_profile=False, favourites_count=1101, profile_background_image_url_https=u'https://abs.twimg.com/images/themes/theme1/bg.png', profile_banner_url=u'https://pbs.twimg.com/profile_banners/393894382/1473949795', profile_background_image_url=u'http://abs.twimg.com/images/themes/theme1/bg.png', screen_name=u'intesasanpaolo', is_translation_enabled=True, profile_background_tile=False, profile_text_color=u'333333', name=u'Intesa Sanpaolo', url=u'http://t.co/lmrSnJtN6Y', created_at=datetime.datetime(2011, 10, 19, 7, 46, 49), contributors_enabled=False, location=u'', profile_sidebar_border_color=u'FFFFFF', translator_type=u'none', following=False)"
      ]
     },
     "execution_count": 25,
     "metadata": {},
     "output_type": "execute_result"
    }
   ],
   "source": [
    "intesa = api.get_user(\"intesasanpaolo\")\n",
    "intesa"
   ]
  },
  {
   "cell_type": "code",
   "execution_count": 26,
   "metadata": {
    "collapsed": false
   },
   "outputs": [
    {
     "data": {
      "text/plain": [
       "4240"
      ]
     },
     "execution_count": 26,
     "metadata": {},
     "output_type": "execute_result"
    }
   ],
   "source": [
    "intesa.followers_count"
   ]
  },
  {
   "cell_type": "code",
   "execution_count": 27,
   "metadata": {
    "collapsed": false
   },
   "outputs": [
    {
     "data": {
      "text/plain": [
       "179"
      ]
     },
     "execution_count": 27,
     "metadata": {},
     "output_type": "execute_result"
    }
   ],
   "source": [
    "intesa.friends_count"
   ]
  },
  {
   "cell_type": "code",
   "execution_count": 28,
   "metadata": {
    "collapsed": false
   },
   "outputs": [
    {
     "name": "stdout",
     "output_type": "stream",
     "text": [
      "Help on User in module tweepy.models object:\n",
      "\n",
      "class User(Model)\n",
      " |  Method resolution order:\n",
      " |      User\n",
      " |      Model\n",
      " |      __builtin__.object\n",
      " |  \n",
      " |  Methods defined here:\n",
      " |  \n",
      " |  follow(self)\n",
      " |  \n",
      " |  followers(self, **kargs)\n",
      " |  \n",
      " |  followers_ids(self, *args, **kargs)\n",
      " |  \n",
      " |  friends(self, **kargs)\n",
      " |  \n",
      " |  lists(self, *args, **kargs)\n",
      " |  \n",
      " |  lists_memberships(self, *args, **kargs)\n",
      " |  \n",
      " |  lists_subscriptions(self, *args, **kargs)\n",
      " |  \n",
      " |  timeline(self, **kargs)\n",
      " |  \n",
      " |  unfollow(self)\n",
      " |  \n",
      " |  ----------------------------------------------------------------------\n",
      " |  Class methods defined here:\n",
      " |  \n",
      " |  parse(cls, api, json) from __builtin__.type\n",
      " |  \n",
      " |  parse_list(cls, api, json_list) from __builtin__.type\n",
      " |  \n",
      " |  ----------------------------------------------------------------------\n",
      " |  Methods inherited from Model:\n",
      " |  \n",
      " |  __getstate__(self)\n",
      " |  \n",
      " |  __init__(self, api=None)\n",
      " |  \n",
      " |  __repr__(self)\n",
      " |  \n",
      " |  ----------------------------------------------------------------------\n",
      " |  Data descriptors inherited from Model:\n",
      " |  \n",
      " |  __dict__\n",
      " |      dictionary for instance variables (if defined)\n",
      " |  \n",
      " |  __weakref__\n",
      " |      list of weak references to the object (if defined)\n",
      "\n"
     ]
    }
   ],
   "source": [
    "help(intesa)"
   ]
  },
  {
   "cell_type": "code",
   "execution_count": 29,
   "metadata": {
    "collapsed": false
   },
   "outputs": [
    {
     "name": "stdout",
     "output_type": "stream",
     "text": [
      "4240\n"
     ]
    }
   ],
   "source": [
    "print intesa.followers_count"
   ]
  },
  {
   "cell_type": "code",
   "execution_count": 30,
   "metadata": {
    "collapsed": false
   },
   "outputs": [
    {
     "name": "stdout",
     "output_type": "stream",
     "text": [
      "179\n"
     ]
    }
   ],
   "source": [
    "friends = api.friends_ids('intesasanpaolo')\n",
    "print len(friends)"
   ]
  },
  {
   "cell_type": "code",
   "execution_count": 31,
   "metadata": {
    "collapsed": false
   },
   "outputs": [
    {
     "name": "stdout",
     "output_type": "stream",
     "text": [
      "20\n"
     ]
    }
   ],
   "source": [
    "likes = api.favorites('intesasanpaolo')\n",
    "print len(likes)"
   ]
  },
  {
   "cell_type": "code",
   "execution_count": 32,
   "metadata": {
    "collapsed": false
   },
   "outputs": [
    {
     "data": {
      "text/plain": [
       "Status(contributors=None, truncated=True, text=u\"#mutui: i migliori a tasso fisso e variabile per l'acquisto della prima casa sono di @intesasanpaolo\\u2026 https://t.co/CEjCTWMjj7\", is_quote_status=False, in_reply_to_status_id=None, id=799234957503762432, favorite_count=1, _api=<tweepy.api.API object at 0x7f0bc2b102d0>, author=User(follow_request_sent=False, has_extended_profile=False, profile_use_background_image=False, _json={u'follow_request_sent': False, u'has_extended_profile': False, u'profile_use_background_image': False, u'default_profile_image': False, u'id': 21642714, u'profile_background_image_url_https': u'https://pbs.twimg.com/profile_background_images/559655930380296192/EWy8ZDp2.jpeg', u'verified': False, u'translator_type': u'none', u'profile_text_color': u'FFB26A', u'profile_image_url_https': u'https://pbs.twimg.com/profile_images/743417282353836032/SQrUiTkl_normal.jpg', u'profile_sidebar_fill_color': u'5EAEE1', u'entities': {u'url': {u'urls': [{u'url': u'http://t.co/lmb4CL7sQ4', u'indices': [0, 22], u'expanded_url': u'http://www.osservatoriofinanziario.it', u'display_url': u'osservatoriofinanziario.it'}]}, u'description': {u'urls': []}}, u'followers_count': 439, u'profile_sidebar_border_color': u'FFEE6A', u'id_str': u'21642714', u'profile_background_color': u'3B94D9', u'listed_count': 23, u'is_translation_enabled': False, u'utc_offset': 3600, u'statuses_count': 1553, u'description': u'The Italian Financial Observatory #OsservatorioFinanziario managed by Francesca Tedeschi Di Dario', u'friends_count': 860, u'location': u'Milan, Italy', u'profile_link_color': u'0084B4', u'profile_image_url': u'http://pbs.twimg.com/profile_images/743417282353836032/SQrUiTkl_normal.jpg', u'following': False, u'geo_enabled': True, u'profile_banner_url': u'https://pbs.twimg.com/profile_banners/21642714/1466079418', u'profile_background_image_url': u'http://pbs.twimg.com/profile_background_images/559655930380296192/EWy8ZDp2.jpeg', u'screen_name': u'of_osservatorio', u'lang': u'it', u'profile_background_tile': False, u'favourites_count': 17, u'name': u'OF', u'notifications': False, u'url': u'http://t.co/lmb4CL7sQ4', u'created_at': u'Mon Feb 23 09:48:21 +0000 2009', u'contributors_enabled': False, u'time_zone': u'Rome', u'protected': False, u'default_profile': False, u'is_translator': False}, time_zone=u'Rome', id=21642714, description=u'The Italian Financial Observatory #OsservatorioFinanziario managed by Francesca Tedeschi Di Dario', _api=<tweepy.api.API object at 0x7f0bc2b102d0>, verified=False, profile_text_color=u'FFB26A', profile_image_url_https=u'https://pbs.twimg.com/profile_images/743417282353836032/SQrUiTkl_normal.jpg', profile_sidebar_fill_color=u'5EAEE1', is_translator=False, geo_enabled=True, entities={u'url': {u'urls': [{u'url': u'http://t.co/lmb4CL7sQ4', u'indices': [0, 22], u'expanded_url': u'http://www.osservatoriofinanziario.it', u'display_url': u'osservatoriofinanziario.it'}]}, u'description': {u'urls': []}}, followers_count=439, protected=False, id_str=u'21642714', default_profile_image=False, listed_count=23, lang=u'it', utc_offset=3600, statuses_count=1553, profile_background_color=u'3B94D9', friends_count=860, profile_link_color=u'0084B4', profile_image_url=u'http://pbs.twimg.com/profile_images/743417282353836032/SQrUiTkl_normal.jpg', notifications=False, default_profile=False, profile_background_image_url_https=u'https://pbs.twimg.com/profile_background_images/559655930380296192/EWy8ZDp2.jpeg', profile_banner_url=u'https://pbs.twimg.com/profile_banners/21642714/1466079418', profile_background_image_url=u'http://pbs.twimg.com/profile_background_images/559655930380296192/EWy8ZDp2.jpeg', name=u'OF', is_translation_enabled=False, profile_background_tile=False, favourites_count=17, screen_name=u'of_osservatorio', url=u'http://t.co/lmb4CL7sQ4', created_at=datetime.datetime(2009, 2, 23, 9, 48, 21), contributors_enabled=False, location=u'Milan, Italy', profile_sidebar_border_color=u'FFEE6A', translator_type=u'none', following=False), _json={u'contributors': None, u'truncated': True, u'text': u\"#mutui: i migliori a tasso fisso e variabile per l'acquisto della prima casa sono di @intesasanpaolo\\u2026 https://t.co/CEjCTWMjj7\", u'is_quote_status': False, u'in_reply_to_status_id': None, u'id': 799234957503762432, u'favorite_count': 1, u'source': u'<a href=\"http://twitter.com\" rel=\"nofollow\">Twitter Web Client</a>', u'retweeted': False, u'coordinates': None, u'entities': {u'symbols': [], u'user_mentions': [{u'id': 393894382, u'indices': [85, 100], u'id_str': u'393894382', u'screen_name': u'intesasanpaolo', u'name': u'Intesa Sanpaolo'}], u'hashtags': [{u'indices': [0, 6], u'text': u'mutui'}], u'urls': [{u'url': u'https://t.co/CEjCTWMjj7', u'indices': [102, 125], u'expanded_url': u'https://twitter.com/i/web/status/799234957503762432', u'display_url': u'twitter.com/i/web/status/7\\u2026'}]}, u'in_reply_to_screen_name': None, u'in_reply_to_user_id': None, u'retweet_count': 0, u'id_str': u'799234957503762432', u'favorited': False, u'user': {u'follow_request_sent': False, u'has_extended_profile': False, u'profile_use_background_image': False, u'default_profile_image': False, u'id': 21642714, u'profile_background_image_url_https': u'https://pbs.twimg.com/profile_background_images/559655930380296192/EWy8ZDp2.jpeg', u'verified': False, u'translator_type': u'none', u'profile_text_color': u'FFB26A', u'profile_image_url_https': u'https://pbs.twimg.com/profile_images/743417282353836032/SQrUiTkl_normal.jpg', u'profile_sidebar_fill_color': u'5EAEE1', u'entities': {u'url': {u'urls': [{u'url': u'http://t.co/lmb4CL7sQ4', u'indices': [0, 22], u'expanded_url': u'http://www.osservatoriofinanziario.it', u'display_url': u'osservatoriofinanziario.it'}]}, u'description': {u'urls': []}}, u'followers_count': 439, u'profile_sidebar_border_color': u'FFEE6A', u'id_str': u'21642714', u'profile_background_color': u'3B94D9', u'listed_count': 23, u'is_translation_enabled': False, u'utc_offset': 3600, u'statuses_count': 1553, u'description': u'The Italian Financial Observatory #OsservatorioFinanziario managed by Francesca Tedeschi Di Dario', u'friends_count': 860, u'location': u'Milan, Italy', u'profile_link_color': u'0084B4', u'profile_image_url': u'http://pbs.twimg.com/profile_images/743417282353836032/SQrUiTkl_normal.jpg', u'following': False, u'geo_enabled': True, u'profile_banner_url': u'https://pbs.twimg.com/profile_banners/21642714/1466079418', u'profile_background_image_url': u'http://pbs.twimg.com/profile_background_images/559655930380296192/EWy8ZDp2.jpeg', u'screen_name': u'of_osservatorio', u'lang': u'it', u'profile_background_tile': False, u'favourites_count': 17, u'name': u'OF', u'notifications': False, u'url': u'http://t.co/lmb4CL7sQ4', u'created_at': u'Mon Feb 23 09:48:21 +0000 2009', u'contributors_enabled': False, u'time_zone': u'Rome', u'protected': False, u'default_profile': False, u'is_translator': False}, u'geo': None, u'in_reply_to_user_id_str': None, u'possibly_sensitive': False, u'lang': u'it', u'created_at': u'Thu Nov 17 12:57:17 +0000 2016', u'in_reply_to_status_id_str': None, u'place': None}, coordinates=None, entities={u'symbols': [], u'user_mentions': [{u'id': 393894382, u'indices': [85, 100], u'id_str': u'393894382', u'screen_name': u'intesasanpaolo', u'name': u'Intesa Sanpaolo'}], u'hashtags': [{u'indices': [0, 6], u'text': u'mutui'}], u'urls': [{u'url': u'https://t.co/CEjCTWMjj7', u'indices': [102, 125], u'expanded_url': u'https://twitter.com/i/web/status/799234957503762432', u'display_url': u'twitter.com/i/web/status/7\\u2026'}]}, in_reply_to_screen_name=None, id_str=u'799234957503762432', retweet_count=0, in_reply_to_user_id=None, favorited=False, source_url=u'http://twitter.com', user=User(follow_request_sent=False, has_extended_profile=False, profile_use_background_image=False, _json={u'follow_request_sent': False, u'has_extended_profile': False, u'profile_use_background_image': False, u'default_profile_image': False, u'id': 21642714, u'profile_background_image_url_https': u'https://pbs.twimg.com/profile_background_images/559655930380296192/EWy8ZDp2.jpeg', u'verified': False, u'translator_type': u'none', u'profile_text_color': u'FFB26A', u'profile_image_url_https': u'https://pbs.twimg.com/profile_images/743417282353836032/SQrUiTkl_normal.jpg', u'profile_sidebar_fill_color': u'5EAEE1', u'entities': {u'url': {u'urls': [{u'url': u'http://t.co/lmb4CL7sQ4', u'indices': [0, 22], u'expanded_url': u'http://www.osservatoriofinanziario.it', u'display_url': u'osservatoriofinanziario.it'}]}, u'description': {u'urls': []}}, u'followers_count': 439, u'profile_sidebar_border_color': u'FFEE6A', u'id_str': u'21642714', u'profile_background_color': u'3B94D9', u'listed_count': 23, u'is_translation_enabled': False, u'utc_offset': 3600, u'statuses_count': 1553, u'description': u'The Italian Financial Observatory #OsservatorioFinanziario managed by Francesca Tedeschi Di Dario', u'friends_count': 860, u'location': u'Milan, Italy', u'profile_link_color': u'0084B4', u'profile_image_url': u'http://pbs.twimg.com/profile_images/743417282353836032/SQrUiTkl_normal.jpg', u'following': False, u'geo_enabled': True, u'profile_banner_url': u'https://pbs.twimg.com/profile_banners/21642714/1466079418', u'profile_background_image_url': u'http://pbs.twimg.com/profile_background_images/559655930380296192/EWy8ZDp2.jpeg', u'screen_name': u'of_osservatorio', u'lang': u'it', u'profile_background_tile': False, u'favourites_count': 17, u'name': u'OF', u'notifications': False, u'url': u'http://t.co/lmb4CL7sQ4', u'created_at': u'Mon Feb 23 09:48:21 +0000 2009', u'contributors_enabled': False, u'time_zone': u'Rome', u'protected': False, u'default_profile': False, u'is_translator': False}, time_zone=u'Rome', id=21642714, description=u'The Italian Financial Observatory #OsservatorioFinanziario managed by Francesca Tedeschi Di Dario', _api=<tweepy.api.API object at 0x7f0bc2b102d0>, verified=False, profile_text_color=u'FFB26A', profile_image_url_https=u'https://pbs.twimg.com/profile_images/743417282353836032/SQrUiTkl_normal.jpg', profile_sidebar_fill_color=u'5EAEE1', is_translator=False, geo_enabled=True, entities={u'url': {u'urls': [{u'url': u'http://t.co/lmb4CL7sQ4', u'indices': [0, 22], u'expanded_url': u'http://www.osservatoriofinanziario.it', u'display_url': u'osservatoriofinanziario.it'}]}, u'description': {u'urls': []}}, followers_count=439, protected=False, id_str=u'21642714', default_profile_image=False, listed_count=23, lang=u'it', utc_offset=3600, statuses_count=1553, profile_background_color=u'3B94D9', friends_count=860, profile_link_color=u'0084B4', profile_image_url=u'http://pbs.twimg.com/profile_images/743417282353836032/SQrUiTkl_normal.jpg', notifications=False, default_profile=False, profile_background_image_url_https=u'https://pbs.twimg.com/profile_background_images/559655930380296192/EWy8ZDp2.jpeg', profile_banner_url=u'https://pbs.twimg.com/profile_banners/21642714/1466079418', profile_background_image_url=u'http://pbs.twimg.com/profile_background_images/559655930380296192/EWy8ZDp2.jpeg', name=u'OF', is_translation_enabled=False, profile_background_tile=False, favourites_count=17, screen_name=u'of_osservatorio', url=u'http://t.co/lmb4CL7sQ4', created_at=datetime.datetime(2009, 2, 23, 9, 48, 21), contributors_enabled=False, location=u'Milan, Italy', profile_sidebar_border_color=u'FFEE6A', translator_type=u'none', following=False), geo=None, in_reply_to_user_id_str=None, possibly_sensitive=False, lang=u'it', created_at=datetime.datetime(2016, 11, 17, 12, 57, 17), in_reply_to_status_id_str=None, place=None, source=u'Twitter Web Client', retweeted=False)"
      ]
     },
     "execution_count": 32,
     "metadata": {},
     "output_type": "execute_result"
    }
   ],
   "source": [
    "likes[0]"
   ]
  },
  {
   "cell_type": "code",
   "execution_count": 33,
   "metadata": {
    "collapsed": false
   },
   "outputs": [
    {
     "name": "stdout",
     "output_type": "stream",
     "text": [
      "4240\n"
     ]
    }
   ],
   "source": [
    "intesa_followers_count =  intesa.followers_ids()\n",
    "print len(intesa_followers_count)"
   ]
  },
  {
   "cell_type": "code",
   "execution_count": 34,
   "metadata": {
    "collapsed": false
   },
   "outputs": [
    {
     "name": "stdout",
     "output_type": "stream",
     "text": [
      "799610634899980291\n"
     ]
    }
   ],
   "source": [
    "print intesa_followers_count[0]"
   ]
  },
  {
   "cell_type": "code",
   "execution_count": 35,
   "metadata": {
    "collapsed": false
   },
   "outputs": [
    {
     "data": {
      "text/plain": [
       "User(follow_request_sent=False, has_extended_profile=False, profile_use_background_image=True, _json={u'follow_request_sent': False, u'has_extended_profile': False, u'profile_use_background_image': True, u'profile_text_color': u'333333', u'default_profile_image': True, u'id': 799610634899980291, u'profile_background_image_url_https': None, u'verified': False, u'translator_type': u'none', u'profile_location': None, u'profile_image_url_https': u'https://abs.twimg.com/sticky/default_profile_images/default_profile_3_normal.png', u'profile_sidebar_fill_color': u'DDEEF6', u'entities': {u'description': {u'urls': []}}, u'followers_count': 0, u'profile_sidebar_border_color': u'C0DEED', u'id_str': u'799610634899980291', u'profile_background_color': u'F5F8FA', u'listed_count': 0, u'is_translation_enabled': False, u'utc_offset': None, u'statuses_count': 0, u'description': u'', u'friends_count': 0, u'location': u'', u'profile_link_color': u'1DA1F2', u'profile_image_url': u'http://abs.twimg.com/sticky/default_profile_images/default_profile_3_normal.png', u'following': False, u'geo_enabled': False, u'profile_background_image_url': None, u'name': u'Davide Ritaccio', u'lang': u'en', u'profile_background_tile': False, u'favourites_count': 0, u'screen_name': u'Davide_Ritaccio', u'notifications': False, u'url': None, u'created_at': u'Fri Nov 18 13:50:06 +0000 2016', u'contributors_enabled': False, u'time_zone': None, u'protected': False, u'default_profile': True, u'is_translator': False}, time_zone=None, id=799610634899980291, description=u'', _api=<tweepy.api.API object at 0x7f0bc2b102d0>, verified=False, profile_location=None, profile_image_url_https=u'https://abs.twimg.com/sticky/default_profile_images/default_profile_3_normal.png', profile_sidebar_fill_color=u'DDEEF6', is_translator=False, geo_enabled=False, entities={u'description': {u'urls': []}}, followers_count=0, protected=False, id_str=u'799610634899980291', default_profile_image=True, listed_count=0, lang=u'en', utc_offset=None, statuses_count=0, profile_background_color=u'F5F8FA', friends_count=0, profile_link_color=u'1DA1F2', profile_image_url=u'http://abs.twimg.com/sticky/default_profile_images/default_profile_3_normal.png', notifications=False, default_profile=True, favourites_count=0, profile_background_image_url_https=None, profile_background_image_url=None, screen_name=u'Davide_Ritaccio', is_translation_enabled=False, profile_background_tile=False, profile_text_color=u'333333', name=u'Davide Ritaccio', url=None, created_at=datetime.datetime(2016, 11, 18, 13, 50, 6), contributors_enabled=False, location=u'', profile_sidebar_border_color=u'C0DEED', translator_type=u'none', following=False)"
      ]
     },
     "execution_count": 35,
     "metadata": {},
     "output_type": "execute_result"
    }
   ],
   "source": [
    "api.get_user(intesa_followers_count[0])"
   ]
  },
  {
   "cell_type": "markdown",
   "metadata": {},
   "source": [
    "# Cursor"
   ]
  },
  {
   "cell_type": "code",
   "execution_count": 36,
   "metadata": {
    "collapsed": false
   },
   "outputs": [
    {
     "name": "stdout",
     "output_type": "stream",
     "text": [
      "4240\n"
     ]
    }
   ],
   "source": [
    "print len(intesa_followers_count)"
   ]
  },
  {
   "cell_type": "code",
   "execution_count": 37,
   "metadata": {
    "collapsed": false
   },
   "outputs": [
    {
     "name": "stdout",
     "output_type": "stream",
     "text": [
      "20\n"
     ]
    }
   ],
   "source": [
    "intesa_followers = intesa.followers()\n",
    "print len(intesa_followers)"
   ]
  },
  {
   "cell_type": "code",
   "execution_count": 38,
   "metadata": {
    "collapsed": false
   },
   "outputs": [
    {
     "name": "stdout",
     "output_type": "stream",
     "text": [
      "Help on class Cursor in module tweepy.cursor:\n",
      "\n",
      "class Cursor(__builtin__.object)\n",
      " |  Pagination helper class\n",
      " |  \n",
      " |  Methods defined here:\n",
      " |  \n",
      " |  __init__(self, method, *args, **kargs)\n",
      " |  \n",
      " |  items(self, limit=0)\n",
      " |      Return iterator for items in each page\n",
      " |  \n",
      " |  pages(self, limit=0)\n",
      " |      Return iterator for pages\n",
      " |  \n",
      " |  ----------------------------------------------------------------------\n",
      " |  Data descriptors defined here:\n",
      " |  \n",
      " |  __dict__\n",
      " |      dictionary for instance variables (if defined)\n",
      " |  \n",
      " |  __weakref__\n",
      " |      list of weak references to the object (if defined)\n",
      "\n"
     ]
    }
   ],
   "source": [
    "help(tweepy.Cursor)"
   ]
  },
  {
   "cell_type": "code",
   "execution_count": 40,
   "metadata": {
    "collapsed": false
   },
   "outputs": [],
   "source": [
    "#come paginare a scelta e non 20 per 20\n",
    "#si usano i cursori con il riferimento al metodo (non uso quindi le parentesi)\n",
    "intesa_cursor = tweepy.Cursor(api.followers, screen_name='intesasanpaolo')"
   ]
  },
  {
   "cell_type": "code",
   "execution_count": 41,
   "metadata": {
    "collapsed": false
   },
   "outputs": [
    {
     "name": "stdout",
     "output_type": "stream",
     "text": [
      "['__class__', '__delattr__', '__dict__', '__doc__', '__format__', '__getattribute__', '__hash__', '__init__', '__module__', '__new__', '__reduce__', '__reduce_ex__', '__repr__', '__setattr__', '__sizeof__', '__str__', '__subclasshook__', '__weakref__', 'items', 'iterator', 'pages']\n"
     ]
    }
   ],
   "source": [
    "print dir(intesa_cursor)"
   ]
  },
  {
   "cell_type": "code",
   "execution_count": 43,
   "metadata": {
    "collapsed": false
   },
   "outputs": [
    {
     "data": {
      "text/plain": [
       "[User(follow_request_sent=False, has_extended_profile=False, profile_use_background_image=True, profile_sidebar_fill_color=u'DDEEF6', live_following=False, time_zone=None, id=799610634899980291, description=u'', _api=<tweepy.api.API object at 0x7f0bc2b102d0>, verified=False, blocked_by=False, profile_text_color=u'333333', muting=False, profile_image_url_https=u'https://abs.twimg.com/sticky/default_profile_images/default_profile_3_normal.png', _json={u'follow_request_sent': False, u'has_extended_profile': False, u'profile_use_background_image': True, u'live_following': False, u'default_profile_image': True, u'id': 799610634899980291, u'profile_background_image_url_https': None, u'translator_type': u'none', u'verified': False, u'blocked_by': False, u'profile_text_color': u'333333', u'muting': False, u'profile_image_url_https': u'https://abs.twimg.com/sticky/default_profile_images/default_profile_3_normal.png', u'profile_sidebar_fill_color': u'DDEEF6', u'entities': {u'description': {u'urls': []}}, u'followers_count': 0, u'profile_sidebar_border_color': u'C0DEED', u'id_str': u'799610634899980291', u'profile_background_color': u'F5F8FA', u'listed_count': 0, u'is_translation_enabled': False, u'utc_offset': None, u'statuses_count': 0, u'description': u'', u'friends_count': 0, u'location': u'', u'profile_link_color': u'1DA1F2', u'profile_image_url': u'http://abs.twimg.com/sticky/default_profile_images/default_profile_3_normal.png', u'following': False, u'geo_enabled': False, u'blocking': False, u'profile_background_image_url': None, u'screen_name': u'Davide_Ritaccio', u'lang': u'en', u'profile_background_tile': False, u'favourites_count': 0, u'name': u'Davide Ritaccio', u'notifications': False, u'url': None, u'created_at': u'Fri Nov 18 13:50:06 +0000 2016', u'contributors_enabled': False, u'time_zone': None, u'protected': False, u'default_profile': True, u'is_translator': False}, is_translator=False, geo_enabled=False, entities={u'description': {u'urls': []}}, followers_count=0, protected=False, id_str=u'799610634899980291', default_profile_image=True, listed_count=0, lang=u'en', utc_offset=None, statuses_count=0, profile_background_color=u'F5F8FA', friends_count=0, profile_link_color=u'1DA1F2', profile_image_url=u'http://abs.twimg.com/sticky/default_profile_images/default_profile_3_normal.png', notifications=False, default_profile=True, profile_background_image_url_https=None, blocking=False, profile_background_image_url=None, name=u'Davide Ritaccio', is_translation_enabled=False, profile_background_tile=False, favourites_count=0, screen_name=u'Davide_Ritaccio', url=None, created_at=datetime.datetime(2016, 11, 18, 13, 50, 6), contributors_enabled=False, location=u'', profile_sidebar_border_color=u'C0DEED', translator_type=u'none', following=False),\n",
       " User(follow_request_sent=False, has_extended_profile=False, profile_use_background_image=True, profile_sidebar_fill_color=u'DDEEF6', live_following=False, time_zone=None, id=3131644312, description=u'', _api=<tweepy.api.API object at 0x7f0bc2b102d0>, verified=False, blocked_by=False, profile_text_color=u'333333', muting=False, profile_image_url_https=u'https://pbs.twimg.com/profile_images/620955918809698304/Q1jHvphi_normal.png', _json={u'follow_request_sent': False, u'has_extended_profile': False, u'profile_use_background_image': True, u'live_following': False, u'default_profile_image': False, u'id': 3131644312, u'profile_background_image_url_https': u'https://abs.twimg.com/images/themes/theme1/bg.png', u'translator_type': u'none', u'verified': False, u'blocked_by': False, u'profile_text_color': u'333333', u'muting': False, u'profile_image_url_https': u'https://pbs.twimg.com/profile_images/620955918809698304/Q1jHvphi_normal.png', u'profile_sidebar_fill_color': u'DDEEF6', u'entities': {u'description': {u'urls': []}}, u'followers_count': 17, u'profile_sidebar_border_color': u'C0DEED', u'id_str': u'3131644312', u'profile_background_color': u'C0DEED', u'listed_count': 1, u'status': {u'contributors': None, u'truncated': False, u'text': u'Sempre presenti #dietrolequinte dei grandi #eventi #tecnoconferenceeurope https://t.co/9g55kjGYM8', u'is_quote_status': True, u'in_reply_to_status_id': None, u'id': 798183519830745088, u'favorite_count': 1, u'source': u'<a href=\"http://twitter.com\" rel=\"nofollow\">Twitter Web Client</a>', u'quoted_status_id': 793773898261209088, u'retweeted': False, u'coordinates': None, u'entities': {u'symbols': [], u'user_mentions': [], u'hashtags': [{u'indices': [16, 31], u'text': u'dietrolequinte'}, {u'indices': [43, 50], u'text': u'eventi'}, {u'indices': [51, 73], u'text': u'tecnoconferenceeurope'}], u'urls': [{u'url': u'https://t.co/9g55kjGYM8', u'indices': [74, 97], u'expanded_url': u'https://twitter.com/qualitytravelit/status/793773898261209088', u'display_url': u'twitter.com/qualitytraveli\\u2026'}]}, u'in_reply_to_screen_name': None, u'in_reply_to_user_id': None, u'retweet_count': 1, u'id_str': u'798183519830745088', u'favorited': False, u'geo': None, u'in_reply_to_user_id_str': None, u'possibly_sensitive': False, u'lang': u'it', u'created_at': u'Mon Nov 14 15:19:15 +0000 2016', u'quoted_status_id_str': u'793773898261209088', u'in_reply_to_status_id_str': None, u'place': None}, u'is_translation_enabled': False, u'utc_offset': None, u'statuses_count': 84, u'description': u'', u'friends_count': 18, u'location': u'', u'profile_link_color': u'1DA1F2', u'profile_image_url': u'http://pbs.twimg.com/profile_images/620955918809698304/Q1jHvphi_normal.png', u'following': False, u'geo_enabled': False, u'profile_banner_url': u'https://pbs.twimg.com/profile_banners/3131644312/1436882446', u'blocking': False, u'profile_background_image_url': u'http://abs.twimg.com/images/themes/theme1/bg.png', u'screen_name': u'TecnoconfEU', u'lang': u'it', u'profile_background_tile': False, u'favourites_count': 6, u'name': u'Tecnoconference EU', u'notifications': False, u'url': None, u'created_at': u'Fri Apr 03 14:20:02 +0000 2015', u'contributors_enabled': False, u'time_zone': None, u'protected': False, u'default_profile': True, u'is_translator': False}, is_translator=False, geo_enabled=False, entities={u'description': {u'urls': []}}, followers_count=17, protected=False, id_str=u'3131644312', default_profile_image=False, listed_count=1, status=Status(contributors=None, truncated=False, text=u'Sempre presenti #dietrolequinte dei grandi #eventi #tecnoconferenceeurope https://t.co/9g55kjGYM8', is_quote_status=True, in_reply_to_status_id=None, id=798183519830745088, favorite_count=1, _api=<tweepy.api.API object at 0x7f0bc2b102d0>, source=u'Twitter Web Client', quoted_status_id=793773898261209088, _json={u'contributors': None, u'truncated': False, u'text': u'Sempre presenti #dietrolequinte dei grandi #eventi #tecnoconferenceeurope https://t.co/9g55kjGYM8', u'is_quote_status': True, u'in_reply_to_status_id': None, u'id': 798183519830745088, u'favorite_count': 1, u'source': u'<a href=\"http://twitter.com\" rel=\"nofollow\">Twitter Web Client</a>', u'quoted_status_id': 793773898261209088, u'retweeted': False, u'coordinates': None, u'entities': {u'symbols': [], u'user_mentions': [], u'hashtags': [{u'indices': [16, 31], u'text': u'dietrolequinte'}, {u'indices': [43, 50], u'text': u'eventi'}, {u'indices': [51, 73], u'text': u'tecnoconferenceeurope'}], u'urls': [{u'url': u'https://t.co/9g55kjGYM8', u'indices': [74, 97], u'expanded_url': u'https://twitter.com/qualitytravelit/status/793773898261209088', u'display_url': u'twitter.com/qualitytraveli\\u2026'}]}, u'in_reply_to_screen_name': None, u'in_reply_to_user_id': None, u'retweet_count': 1, u'id_str': u'798183519830745088', u'favorited': False, u'geo': None, u'in_reply_to_user_id_str': None, u'possibly_sensitive': False, u'lang': u'it', u'created_at': u'Mon Nov 14 15:19:15 +0000 2016', u'quoted_status_id_str': u'793773898261209088', u'in_reply_to_status_id_str': None, u'place': None}, coordinates=None, entities={u'symbols': [], u'user_mentions': [], u'hashtags': [{u'indices': [16, 31], u'text': u'dietrolequinte'}, {u'indices': [43, 50], u'text': u'eventi'}, {u'indices': [51, 73], u'text': u'tecnoconferenceeurope'}], u'urls': [{u'url': u'https://t.co/9g55kjGYM8', u'indices': [74, 97], u'expanded_url': u'https://twitter.com/qualitytravelit/status/793773898261209088', u'display_url': u'twitter.com/qualitytraveli\\u2026'}]}, in_reply_to_screen_name=None, id_str=u'798183519830745088', retweet_count=1, in_reply_to_user_id=None, favorited=False, source_url=u'http://twitter.com', geo=None, in_reply_to_user_id_str=None, possibly_sensitive=False, lang=u'it', created_at=datetime.datetime(2016, 11, 14, 15, 19, 15), quoted_status_id_str=u'793773898261209088', in_reply_to_status_id_str=None, place=None, retweeted=False), lang=u'it', utc_offset=None, statuses_count=84, profile_background_color=u'C0DEED', friends_count=18, profile_link_color=u'1DA1F2', profile_image_url=u'http://pbs.twimg.com/profile_images/620955918809698304/Q1jHvphi_normal.png', notifications=False, default_profile=True, profile_background_image_url_https=u'https://abs.twimg.com/images/themes/theme1/bg.png', profile_banner_url=u'https://pbs.twimg.com/profile_banners/3131644312/1436882446', blocking=False, profile_background_image_url=u'http://abs.twimg.com/images/themes/theme1/bg.png', name=u'Tecnoconference EU', is_translation_enabled=False, profile_background_tile=False, favourites_count=6, screen_name=u'TecnoconfEU', url=None, created_at=datetime.datetime(2015, 4, 3, 14, 20, 2), contributors_enabled=False, location=u'', profile_sidebar_border_color=u'C0DEED', translator_type=u'none', following=False),\n",
       " User(follow_request_sent=False, has_extended_profile=False, profile_use_background_image=False, profile_sidebar_fill_color=u'000000', live_following=False, time_zone=u'Abu Dhabi', id=20493008, description=u'Head of Multichannel & CRM @emiratesnbd #digital #digitalbanking  #innovation #fintech Digital enthusiast, innovator and intrapreneur', _api=<tweepy.api.API object at 0x7f0bc2b102d0>, verified=False, blocked_by=False, profile_text_color=u'000000', muting=False, profile_image_url_https=u'https://pbs.twimg.com/profile_images/775626677128929284/-UuSbAhA_normal.jpg', _json={u'follow_request_sent': False, u'has_extended_profile': False, u'profile_use_background_image': False, u'live_following': False, u'default_profile_image': False, u'id': 20493008, u'profile_background_image_url_https': u'https://abs.twimg.com/images/themes/theme1/bg.png', u'translator_type': u'none', u'verified': False, u'blocked_by': False, u'profile_text_color': u'000000', u'muting': False, u'profile_image_url_https': u'https://pbs.twimg.com/profile_images/775626677128929284/-UuSbAhA_normal.jpg', u'profile_sidebar_fill_color': u'000000', u'entities': {u'description': {u'urls': []}}, u'followers_count': 262, u'profile_sidebar_border_color': u'000000', u'id_str': u'20493008', u'profile_background_color': u'000000', u'listed_count': 61, u'status': {u'contributors': None, u'truncated': False, u'text': u'RT @UAE_innovates: Be part of the biggest national innovation celebration in UAE! #UAE_Innovates\\nVisit us on:\\nhttps://t.co/hmhcOOVG8W https\\u2026', u'is_quote_status': False, u'in_reply_to_status_id': None, u'id': 799603876148039680, u'favorite_count': 0, u'source': u'<a href=\"http://twitter.com/download/iphone\" rel=\"nofollow\">Twitter for iPhone</a>', u'retweeted': False, u'coordinates': None, u'entities': {u'symbols': [], u'user_mentions': [{u'id': 557450699, u'indices': [3, 17], u'id_str': u'557450699', u'screen_name': u'UAE_innovates', u'name': u'UAE Innovates'}], u'hashtags': [{u'indices': [82, 96], u'text': u'UAE_Innovates'}], u'urls': [{u'url': u'https://t.co/hmhcOOVG8W', u'indices': [110, 133], u'expanded_url': u'http://www.uaeinnovates.ae', u'display_url': u'uaeinnovates.ae'}]}, u'in_reply_to_screen_name': None, u'in_reply_to_user_id': None, u'retweet_count': 10, u'id_str': u'799603876148039680', u'favorited': False, u'retweeted_status': {u'contributors': None, u'truncated': False, u'text': u'Be part of the biggest national innovation celebration in UAE! #UAE_Innovates\\nVisit us on:\\nhttps://t.co/hmhcOOVG8W https://t.co/fncrcqVEeQ', u'is_quote_status': False, u'in_reply_to_status_id': None, u'id': 799592483638407168, u'favorite_count': 21, u'source': u'<a href=\"https://ads.twitter.com\" rel=\"nofollow\">Twitter Ads</a>', u'retweeted': False, u'coordinates': None, u'entities': {u'symbols': [], u'user_mentions': [], u'hashtags': [{u'indices': [63, 77], u'text': u'UAE_Innovates'}], u'urls': [{u'url': u'https://t.co/hmhcOOVG8W', u'indices': [91, 114], u'expanded_url': u'http://www.uaeinnovates.ae', u'display_url': u'uaeinnovates.ae'}], u'media': [{u'expanded_url': u'http://twitter.com/UAE_innovates/status/799592483638407168/photo/1', u'display_url': u'pic.twitter.com/fncrcqVEeQ', u'url': u'https://t.co/fncrcqVEeQ', u'media_url_https': u'https://pbs.twimg.com/media/Cxi2TVHXcAEbmMK.jpg', u'id_str': u'799589377060073473', u'sizes': {u'small': {u'h': 272, u'resize': u'fit', u'w': 680}, u'large': {u'h': 819, u'resize': u'fit', u'w': 2048}, u'medium': {u'h': 480, u'resize': u'fit', u'w': 1200}, u'thumb': {u'h': 150, u'resize': u'crop', u'w': 150}}, u'indices': [115, 138], u'type': u'photo', u'id': 799589377060073473, u'media_url': u'http://pbs.twimg.com/media/Cxi2TVHXcAEbmMK.jpg'}]}, u'in_reply_to_screen_name': None, u'in_reply_to_user_id': None, u'scopes': {u'followers': False}, u'retweet_count': 10, u'id_str': u'799592483638407168', u'favorited': False, u'geo': None, u'in_reply_to_user_id_str': None, u'possibly_sensitive': False, u'lang': u'en', u'created_at': u'Fri Nov 18 12:37:58 +0000 2016', u'in_reply_to_status_id_str': None, u'place': None, u'extended_entities': {u'media': [{u'expanded_url': u'http://twitter.com/UAE_innovates/status/799592483638407168/photo/1', u'display_url': u'pic.twitter.com/fncrcqVEeQ', u'url': u'https://t.co/fncrcqVEeQ', u'media_url_https': u'https://pbs.twimg.com/media/Cxi2TVHXcAEbmMK.jpg', u'id_str': u'799589377060073473', u'sizes': {u'small': {u'h': 272, u'resize': u'fit', u'w': 680}, u'large': {u'h': 819, u'resize': u'fit', u'w': 2048}, u'medium': {u'h': 480, u'resize': u'fit', u'w': 1200}, u'thumb': {u'h': 150, u'resize': u'crop', u'w': 150}}, u'indices': [115, 138], u'type': u'photo', u'id': 799589377060073473, u'media_url': u'http://pbs.twimg.com/media/Cxi2TVHXcAEbmMK.jpg'}]}}, u'geo': None, u'in_reply_to_user_id_str': None, u'possibly_sensitive': False, u'lang': u'en', u'created_at': u'Fri Nov 18 13:23:14 +0000 2016', u'in_reply_to_status_id_str': None, u'place': None}, u'is_translation_enabled': False, u'utc_offset': 14400, u'statuses_count': 405, u'description': u'Head of Multichannel & CRM @emiratesnbd #digital #digitalbanking  #innovation #fintech Digital enthusiast, innovator and intrapreneur', u'friends_count': 870, u'location': u'Dubai, United Arab Emirates', u'profile_link_color': u'3B94D9', u'profile_image_url': u'http://pbs.twimg.com/profile_images/775626677128929284/-UuSbAhA_normal.jpg', u'following': False, u'geo_enabled': True, u'profile_banner_url': u'https://pbs.twimg.com/profile_banners/20493008/1447528837', u'blocking': False, u'profile_background_image_url': u'http://abs.twimg.com/images/themes/theme1/bg.png', u'screen_name': u'pedro_s_cardoso', u'lang': u'en', u'profile_background_tile': False, u'favourites_count': 80, u'name': u'pedro sousa cardoso', u'notifications': False, u'url': None, u'created_at': u'Tue Feb 10 05:01:44 +0000 2009', u'contributors_enabled': False, u'time_zone': u'Abu Dhabi', u'protected': False, u'default_profile': False, u'is_translator': False}, is_translator=False, geo_enabled=True, entities={u'description': {u'urls': []}}, followers_count=262, protected=False, id_str=u'20493008', default_profile_image=False, listed_count=61, status=Status(contributors=None, truncated=False, text=u'RT @UAE_innovates: Be part of the biggest national innovation celebration in UAE! #UAE_Innovates\\nVisit us on:\\nhttps://t.co/hmhcOOVG8W https\\u2026', is_quote_status=False, in_reply_to_status_id=None, id=799603876148039680, favorite_count=0, _api=<tweepy.api.API object at 0x7f0bc2b102d0>, source=u'Twitter for iPhone', _json={u'contributors': None, u'truncated': False, u'text': u'RT @UAE_innovates: Be part of the biggest national innovation celebration in UAE! #UAE_Innovates\\nVisit us on:\\nhttps://t.co/hmhcOOVG8W https\\u2026', u'is_quote_status': False, u'in_reply_to_status_id': None, u'id': 799603876148039680, u'favorite_count': 0, u'source': u'<a href=\"http://twitter.com/download/iphone\" rel=\"nofollow\">Twitter for iPhone</a>', u'retweeted': False, u'coordinates': None, u'entities': {u'symbols': [], u'user_mentions': [{u'id': 557450699, u'indices': [3, 17], u'id_str': u'557450699', u'screen_name': u'UAE_innovates', u'name': u'UAE Innovates'}], u'hashtags': [{u'indices': [82, 96], u'text': u'UAE_Innovates'}], u'urls': [{u'url': u'https://t.co/hmhcOOVG8W', u'indices': [110, 133], u'expanded_url': u'http://www.uaeinnovates.ae', u'display_url': u'uaeinnovates.ae'}]}, u'in_reply_to_screen_name': None, u'in_reply_to_user_id': None, u'retweet_count': 10, u'id_str': u'799603876148039680', u'favorited': False, u'retweeted_status': {u'contributors': None, u'truncated': False, u'text': u'Be part of the biggest national innovation celebration in UAE! #UAE_Innovates\\nVisit us on:\\nhttps://t.co/hmhcOOVG8W https://t.co/fncrcqVEeQ', u'is_quote_status': False, u'in_reply_to_status_id': None, u'id': 799592483638407168, u'favorite_count': 21, u'source': u'<a href=\"https://ads.twitter.com\" rel=\"nofollow\">Twitter Ads</a>', u'retweeted': False, u'coordinates': None, u'entities': {u'symbols': [], u'user_mentions': [], u'hashtags': [{u'indices': [63, 77], u'text': u'UAE_Innovates'}], u'urls': [{u'url': u'https://t.co/hmhcOOVG8W', u'indices': [91, 114], u'expanded_url': u'http://www.uaeinnovates.ae', u'display_url': u'uaeinnovates.ae'}], u'media': [{u'expanded_url': u'http://twitter.com/UAE_innovates/status/799592483638407168/photo/1', u'display_url': u'pic.twitter.com/fncrcqVEeQ', u'url': u'https://t.co/fncrcqVEeQ', u'media_url_https': u'https://pbs.twimg.com/media/Cxi2TVHXcAEbmMK.jpg', u'id_str': u'799589377060073473', u'sizes': {u'small': {u'h': 272, u'resize': u'fit', u'w': 680}, u'large': {u'h': 819, u'resize': u'fit', u'w': 2048}, u'medium': {u'h': 480, u'resize': u'fit', u'w': 1200}, u'thumb': {u'h': 150, u'resize': u'crop', u'w': 150}}, u'indices': [115, 138], u'type': u'photo', u'id': 799589377060073473, u'media_url': u'http://pbs.twimg.com/media/Cxi2TVHXcAEbmMK.jpg'}]}, u'in_reply_to_screen_name': None, u'in_reply_to_user_id': None, u'scopes': {u'followers': False}, u'retweet_count': 10, u'id_str': u'799592483638407168', u'favorited': False, u'geo': None, u'in_reply_to_user_id_str': None, u'possibly_sensitive': False, u'lang': u'en', u'created_at': u'Fri Nov 18 12:37:58 +0000 2016', u'in_reply_to_status_id_str': None, u'place': None, u'extended_entities': {u'media': [{u'expanded_url': u'http://twitter.com/UAE_innovates/status/799592483638407168/photo/1', u'display_url': u'pic.twitter.com/fncrcqVEeQ', u'url': u'https://t.co/fncrcqVEeQ', u'media_url_https': u'https://pbs.twimg.com/media/Cxi2TVHXcAEbmMK.jpg', u'id_str': u'799589377060073473', u'sizes': {u'small': {u'h': 272, u'resize': u'fit', u'w': 680}, u'large': {u'h': 819, u'resize': u'fit', u'w': 2048}, u'medium': {u'h': 480, u'resize': u'fit', u'w': 1200}, u'thumb': {u'h': 150, u'resize': u'crop', u'w': 150}}, u'indices': [115, 138], u'type': u'photo', u'id': 799589377060073473, u'media_url': u'http://pbs.twimg.com/media/Cxi2TVHXcAEbmMK.jpg'}]}}, u'geo': None, u'in_reply_to_user_id_str': None, u'possibly_sensitive': False, u'lang': u'en', u'created_at': u'Fri Nov 18 13:23:14 +0000 2016', u'in_reply_to_status_id_str': None, u'place': None}, coordinates=None, entities={u'symbols': [], u'user_mentions': [{u'id': 557450699, u'indices': [3, 17], u'id_str': u'557450699', u'screen_name': u'UAE_innovates', u'name': u'UAE Innovates'}], u'hashtags': [{u'indices': [82, 96], u'text': u'UAE_Innovates'}], u'urls': [{u'url': u'https://t.co/hmhcOOVG8W', u'indices': [110, 133], u'expanded_url': u'http://www.uaeinnovates.ae', u'display_url': u'uaeinnovates.ae'}]}, in_reply_to_screen_name=None, id_str=u'799603876148039680', retweet_count=10, in_reply_to_user_id=None, favorited=False, retweeted_status=Status(contributors=None, truncated=False, text=u'Be part of the biggest national innovation celebration in UAE! #UAE_Innovates\\nVisit us on:\\nhttps://t.co/hmhcOOVG8W https://t.co/fncrcqVEeQ', is_quote_status=False, in_reply_to_status_id=None, id=799592483638407168, favorite_count=21, _api=<tweepy.api.API object at 0x7f0bc2b102d0>, source=u'Twitter Ads', _json={u'contributors': None, u'truncated': False, u'text': u'Be part of the biggest national innovation celebration in UAE! #UAE_Innovates\\nVisit us on:\\nhttps://t.co/hmhcOOVG8W https://t.co/fncrcqVEeQ', u'is_quote_status': False, u'in_reply_to_status_id': None, u'id': 799592483638407168, u'favorite_count': 21, u'source': u'<a href=\"https://ads.twitter.com\" rel=\"nofollow\">Twitter Ads</a>', u'retweeted': False, u'coordinates': None, u'entities': {u'symbols': [], u'user_mentions': [], u'hashtags': [{u'indices': [63, 77], u'text': u'UAE_Innovates'}], u'urls': [{u'url': u'https://t.co/hmhcOOVG8W', u'indices': [91, 114], u'expanded_url': u'http://www.uaeinnovates.ae', u'display_url': u'uaeinnovates.ae'}], u'media': [{u'expanded_url': u'http://twitter.com/UAE_innovates/status/799592483638407168/photo/1', u'display_url': u'pic.twitter.com/fncrcqVEeQ', u'url': u'https://t.co/fncrcqVEeQ', u'media_url_https': u'https://pbs.twimg.com/media/Cxi2TVHXcAEbmMK.jpg', u'id_str': u'799589377060073473', u'sizes': {u'small': {u'h': 272, u'resize': u'fit', u'w': 680}, u'large': {u'h': 819, u'resize': u'fit', u'w': 2048}, u'medium': {u'h': 480, u'resize': u'fit', u'w': 1200}, u'thumb': {u'h': 150, u'resize': u'crop', u'w': 150}}, u'indices': [115, 138], u'type': u'photo', u'id': 799589377060073473, u'media_url': u'http://pbs.twimg.com/media/Cxi2TVHXcAEbmMK.jpg'}]}, u'in_reply_to_screen_name': None, u'in_reply_to_user_id': None, u'scopes': {u'followers': False}, u'retweet_count': 10, u'id_str': u'799592483638407168', u'favorited': False, u'geo': None, u'in_reply_to_user_id_str': None, u'possibly_sensitive': False, u'lang': u'en', u'created_at': u'Fri Nov 18 12:37:58 +0000 2016', u'in_reply_to_status_id_str': None, u'place': None, u'extended_entities': {u'media': [{u'expanded_url': u'http://twitter.com/UAE_innovates/status/799592483638407168/photo/1', u'display_url': u'pic.twitter.com/fncrcqVEeQ', u'url': u'https://t.co/fncrcqVEeQ', u'media_url_https': u'https://pbs.twimg.com/media/Cxi2TVHXcAEbmMK.jpg', u'id_str': u'799589377060073473', u'sizes': {u'small': {u'h': 272, u'resize': u'fit', u'w': 680}, u'large': {u'h': 819, u'resize': u'fit', u'w': 2048}, u'medium': {u'h': 480, u'resize': u'fit', u'w': 1200}, u'thumb': {u'h': 150, u'resize': u'crop', u'w': 150}}, u'indices': [115, 138], u'type': u'photo', u'id': 799589377060073473, u'media_url': u'http://pbs.twimg.com/media/Cxi2TVHXcAEbmMK.jpg'}]}}, coordinates=None, entities={u'symbols': [], u'user_mentions': [], u'hashtags': [{u'indices': [63, 77], u'text': u'UAE_Innovates'}], u'urls': [{u'url': u'https://t.co/hmhcOOVG8W', u'indices': [91, 114], u'expanded_url': u'http://www.uaeinnovates.ae', u'display_url': u'uaeinnovates.ae'}], u'media': [{u'expanded_url': u'http://twitter.com/UAE_innovates/status/799592483638407168/photo/1', u'display_url': u'pic.twitter.com/fncrcqVEeQ', u'url': u'https://t.co/fncrcqVEeQ', u'media_url_https': u'https://pbs.twimg.com/media/Cxi2TVHXcAEbmMK.jpg', u'id_str': u'799589377060073473', u'sizes': {u'small': {u'h': 272, u'resize': u'fit', u'w': 680}, u'large': {u'h': 819, u'resize': u'fit', u'w': 2048}, u'medium': {u'h': 480, u'resize': u'fit', u'w': 1200}, u'thumb': {u'h': 150, u'resize': u'crop', u'w': 150}}, u'indices': [115, 138], u'type': u'photo', u'id': 799589377060073473, u'media_url': u'http://pbs.twimg.com/media/Cxi2TVHXcAEbmMK.jpg'}]}, in_reply_to_screen_name=None, id_str=u'799592483638407168', scopes={u'followers': False}, retweet_count=10, in_reply_to_user_id=None, favorited=False, source_url=u'https://ads.twitter.com', geo=None, in_reply_to_user_id_str=None, possibly_sensitive=False, lang=u'en', created_at=datetime.datetime(2016, 11, 18, 12, 37, 58), in_reply_to_status_id_str=None, place=None, extended_entities={u'media': [{u'expanded_url': u'http://twitter.com/UAE_innovates/status/799592483638407168/photo/1', u'display_url': u'pic.twitter.com/fncrcqVEeQ', u'url': u'https://t.co/fncrcqVEeQ', u'media_url_https': u'https://pbs.twimg.com/media/Cxi2TVHXcAEbmMK.jpg', u'id_str': u'799589377060073473', u'sizes': {u'small': {u'h': 272, u'resize': u'fit', u'w': 680}, u'large': {u'h': 819, u'resize': u'fit', u'w': 2048}, u'medium': {u'h': 480, u'resize': u'fit', u'w': 1200}, u'thumb': {u'h': 150, u'resize': u'crop', u'w': 150}}, u'indices': [115, 138], u'type': u'photo', u'id': 799589377060073473, u'media_url': u'http://pbs.twimg.com/media/Cxi2TVHXcAEbmMK.jpg'}]}, retweeted=False), source_url=u'http://twitter.com/download/iphone', geo=None, in_reply_to_user_id_str=None, possibly_sensitive=False, lang=u'en', created_at=datetime.datetime(2016, 11, 18, 13, 23, 14), in_reply_to_status_id_str=None, place=None, retweeted=False), lang=u'en', utc_offset=14400, statuses_count=405, profile_background_color=u'000000', friends_count=870, profile_link_color=u'3B94D9', profile_image_url=u'http://pbs.twimg.com/profile_images/775626677128929284/-UuSbAhA_normal.jpg', notifications=False, default_profile=False, profile_background_image_url_https=u'https://abs.twimg.com/images/themes/theme1/bg.png', profile_banner_url=u'https://pbs.twimg.com/profile_banners/20493008/1447528837', blocking=False, profile_background_image_url=u'http://abs.twimg.com/images/themes/theme1/bg.png', name=u'pedro sousa cardoso', is_translation_enabled=False, profile_background_tile=False, favourites_count=80, screen_name=u'pedro_s_cardoso', url=None, created_at=datetime.datetime(2009, 2, 10, 5, 1, 44), contributors_enabled=False, location=u'Dubai, United Arab Emirates', profile_sidebar_border_color=u'000000', translator_type=u'none', following=False),\n",
       " User(follow_request_sent=False, has_extended_profile=True, profile_use_background_image=True, profile_sidebar_fill_color=u'DDEEF6', live_following=False, time_zone=None, id=745305296730492928, description=u'', _api=<tweepy.api.API object at 0x7f0bc2b102d0>, verified=False, blocked_by=False, profile_text_color=u'333333', muting=False, profile_image_url_https=u'https://pbs.twimg.com/profile_images/746044197774499840/0iJks8ND_normal.jpg', _json={u'follow_request_sent': False, u'has_extended_profile': True, u'profile_use_background_image': True, u'live_following': False, u'default_profile_image': False, u'id': 745305296730492928, u'profile_background_image_url_https': None, u'translator_type': u'none', u'verified': False, u'blocked_by': False, u'profile_text_color': u'333333', u'muting': False, u'profile_image_url_https': u'https://pbs.twimg.com/profile_images/746044197774499840/0iJks8ND_normal.jpg', u'profile_sidebar_fill_color': u'DDEEF6', u'entities': {u'description': {u'urls': []}}, u'followers_count': 39, u'profile_sidebar_border_color': u'C0DEED', u'id_str': u'745305296730492928', u'profile_background_color': u'F5F8FA', u'listed_count': 1, u'status': {u'contributors': None, u'truncated': False, u'text': u'@LaSelenOfficial  mi manderesti una foto tua un saluto andrea properzio', u'is_quote_status': False, u'in_reply_to_status_id': None, u'id': 799563156490256385, u'favorite_count': 0, u'source': u'<a href=\"http://twitter.com\" rel=\"nofollow\">Twitter Web Client</a>', u'retweeted': False, u'coordinates': None, u'entities': {u'symbols': [], u'user_mentions': [{u'id': 1141948008, u'indices': [0, 16], u'id_str': u'1141948008', u'screen_name': u'LaSelenOfficial', u'name': u'Luce Selen Caponegro'}], u'hashtags': [], u'urls': []}, u'in_reply_to_screen_name': u'LaSelenOfficial', u'in_reply_to_user_id': 1141948008, u'retweet_count': 0, u'id_str': u'799563156490256385', u'favorited': False, u'geo': None, u'in_reply_to_user_id_str': u'1141948008', u'lang': u'it', u'created_at': u'Fri Nov 18 10:41:26 +0000 2016', u'in_reply_to_status_id_str': None, u'place': None}, u'is_translation_enabled': False, u'utc_offset': None, u'statuses_count': 168, u'description': u'', u'friends_count': 289, u'location': u'Arese, Lombardia', u'profile_link_color': u'1DA1F2', u'profile_image_url': u'http://pbs.twimg.com/profile_images/746044197774499840/0iJks8ND_normal.jpg', u'following': False, u'geo_enabled': False, u'profile_banner_url': u'https://pbs.twimg.com/profile_banners/745305296730492928/1479223013', u'blocking': False, u'profile_background_image_url': None, u'screen_name': u'ProperzioAndrea', u'lang': u'it', u'profile_background_tile': False, u'favourites_count': 0, u'name': u'andrea properzio', u'notifications': False, u'url': None, u'created_at': u'Tue Jun 21 17:20:04 +0000 2016', u'contributors_enabled': False, u'time_zone': None, u'protected': False, u'default_profile': True, u'is_translator': False}, is_translator=False, geo_enabled=False, entities={u'description': {u'urls': []}}, followers_count=39, protected=False, id_str=u'745305296730492928', default_profile_image=False, listed_count=1, status=Status(contributors=None, truncated=False, text=u'@LaSelenOfficial  mi manderesti una foto tua un saluto andrea properzio', is_quote_status=False, in_reply_to_status_id=None, id=799563156490256385, favorite_count=0, _api=<tweepy.api.API object at 0x7f0bc2b102d0>, source=u'Twitter Web Client', _json={u'contributors': None, u'truncated': False, u'text': u'@LaSelenOfficial  mi manderesti una foto tua un saluto andrea properzio', u'is_quote_status': False, u'in_reply_to_status_id': None, u'id': 799563156490256385, u'favorite_count': 0, u'source': u'<a href=\"http://twitter.com\" rel=\"nofollow\">Twitter Web Client</a>', u'retweeted': False, u'coordinates': None, u'entities': {u'symbols': [], u'user_mentions': [{u'id': 1141948008, u'indices': [0, 16], u'id_str': u'1141948008', u'screen_name': u'LaSelenOfficial', u'name': u'Luce Selen Caponegro'}], u'hashtags': [], u'urls': []}, u'in_reply_to_screen_name': u'LaSelenOfficial', u'in_reply_to_user_id': 1141948008, u'retweet_count': 0, u'id_str': u'799563156490256385', u'favorited': False, u'geo': None, u'in_reply_to_user_id_str': u'1141948008', u'lang': u'it', u'created_at': u'Fri Nov 18 10:41:26 +0000 2016', u'in_reply_to_status_id_str': None, u'place': None}, coordinates=None, entities={u'symbols': [], u'user_mentions': [{u'id': 1141948008, u'indices': [0, 16], u'id_str': u'1141948008', u'screen_name': u'LaSelenOfficial', u'name': u'Luce Selen Caponegro'}], u'hashtags': [], u'urls': []}, in_reply_to_screen_name=u'LaSelenOfficial', id_str=u'799563156490256385', retweet_count=0, in_reply_to_user_id=1141948008, favorited=False, source_url=u'http://twitter.com', geo=None, in_reply_to_user_id_str=u'1141948008', lang=u'it', created_at=datetime.datetime(2016, 11, 18, 10, 41, 26), in_reply_to_status_id_str=None, place=None, retweeted=False), lang=u'it', utc_offset=None, statuses_count=168, profile_background_color=u'F5F8FA', friends_count=289, profile_link_color=u'1DA1F2', profile_image_url=u'http://pbs.twimg.com/profile_images/746044197774499840/0iJks8ND_normal.jpg', notifications=False, default_profile=True, profile_background_image_url_https=None, profile_banner_url=u'https://pbs.twimg.com/profile_banners/745305296730492928/1479223013', blocking=False, profile_background_image_url=None, name=u'andrea properzio', is_translation_enabled=False, profile_background_tile=False, favourites_count=0, screen_name=u'ProperzioAndrea', url=None, created_at=datetime.datetime(2016, 6, 21, 17, 20, 4), contributors_enabled=False, location=u'Arese, Lombardia', profile_sidebar_border_color=u'C0DEED', translator_type=u'none', following=False),\n",
       " User(follow_request_sent=False, has_extended_profile=True, profile_use_background_image=True, profile_sidebar_fill_color=u'DDEEF6', live_following=False, time_zone=None, id=790166910147125256, description=u'Finance and Sports. Wine, worldwide news and more.', _api=<tweepy.api.API object at 0x7f0bc2b102d0>, verified=False, blocked_by=False, profile_text_color=u'333333', muting=False, profile_image_url_https=u'https://pbs.twimg.com/profile_images/790169113163333632/oc9Myw-x_normal.jpg', _json={u'follow_request_sent': False, u'has_extended_profile': True, u'profile_use_background_image': True, u'live_following': False, u'default_profile_image': False, u'id': 790166910147125256, u'profile_background_image_url_https': None, u'translator_type': u'none', u'verified': False, u'blocked_by': False, u'profile_text_color': u'333333', u'muting': False, u'profile_image_url_https': u'https://pbs.twimg.com/profile_images/790169113163333632/oc9Myw-x_normal.jpg', u'profile_sidebar_fill_color': u'DDEEF6', u'entities': {u'description': {u'urls': []}}, u'followers_count': 28, u'profile_sidebar_border_color': u'C0DEED', u'id_str': u'790166910147125256', u'profile_background_color': u'F5F8FA', u'listed_count': 2, u'status': {u'contributors': None, u'truncated': False, u'text': u\"Per #Draghi non c'\\xe8 ripresa in #Europa senza sostegno monetario. Continua la #politica accomodante #BCE\\nI #tassi non si ritoccano\", u'is_quote_status': False, u'in_reply_to_status_id': None, u'id': 799560927943262212, u'favorite_count': 1, u'source': u'<a href=\"http://twitter.com/download/iphone\" rel=\"nofollow\">Twitter for iPhone</a>', u'retweeted': False, u'coordinates': None, u'entities': {u'symbols': [], u'user_mentions': [], u'hashtags': [{u'indices': [4, 11], u'text': u'Draghi'}, {u'indices': [31, 38], u'text': u'Europa'}, {u'indices': [77, 86], u'text': u'politica'}, {u'indices': [99, 103], u'text': u'BCE'}, {u'indices': [106, 112], u'text': u'tassi'}], u'urls': []}, u'in_reply_to_screen_name': None, u'in_reply_to_user_id': None, u'retweet_count': 0, u'id_str': u'799560927943262212', u'favorited': False, u'geo': None, u'in_reply_to_user_id_str': None, u'lang': u'it', u'created_at': u'Fri Nov 18 10:32:35 +0000 2016', u'in_reply_to_status_id_str': None, u'place': {u'full_name': u'Fiumicino, Lazio', u'url': u'https://api.twitter.com/1.1/geo/id/853cac1ebe034aac.json', u'country': u'Italia', u'place_type': u'city', u'bounding_box': {u'type': u'Polygon', u'coordinates': [[[12.1250835, 41.7410238], [12.3174662, 41.7410238], [12.3174662, 42.020287], [12.1250835, 42.020287]]]}, u'contained_within': [], u'country_code': u'IT', u'attributes': {}, u'id': u'853cac1ebe034aac', u'name': u'Fiumicino'}}, u'is_translation_enabled': False, u'utc_offset': None, u'statuses_count': 24, u'description': u'Finance and Sports. Wine, worldwide news and more.', u'friends_count': 176, u'location': u'Italy', u'profile_link_color': u'1DA1F2', u'profile_image_url': u'http://pbs.twimg.com/profile_images/790169113163333632/oc9Myw-x_normal.jpg', u'following': False, u'geo_enabled': True, u'profile_banner_url': u'https://pbs.twimg.com/profile_banners/790166910147125256/1477226011', u'blocking': False, u'profile_background_image_url': None, u'screen_name': u'gianp_dam', u'lang': u'en', u'profile_background_tile': False, u'favourites_count': 16, u'name': u\"Gianpiero D'amicis\", u'notifications': False, u'url': None, u'created_at': u'Sun Oct 23 12:24:06 +0000 2016', u'contributors_enabled': False, u'time_zone': None, u'protected': False, u'default_profile': True, u'is_translator': False}, is_translator=False, geo_enabled=True, entities={u'description': {u'urls': []}}, followers_count=28, protected=False, id_str=u'790166910147125256', default_profile_image=False, listed_count=2, status=Status(contributors=None, truncated=False, text=u\"Per #Draghi non c'\\xe8 ripresa in #Europa senza sostegno monetario. Continua la #politica accomodante #BCE\\nI #tassi non si ritoccano\", is_quote_status=False, in_reply_to_status_id=None, id=799560927943262212, favorite_count=1, _api=<tweepy.api.API object at 0x7f0bc2b102d0>, source=u'Twitter for iPhone', _json={u'contributors': None, u'truncated': False, u'text': u\"Per #Draghi non c'\\xe8 ripresa in #Europa senza sostegno monetario. Continua la #politica accomodante #BCE\\nI #tassi non si ritoccano\", u'is_quote_status': False, u'in_reply_to_status_id': None, u'id': 799560927943262212, u'favorite_count': 1, u'source': u'<a href=\"http://twitter.com/download/iphone\" rel=\"nofollow\">Twitter for iPhone</a>', u'retweeted': False, u'coordinates': None, u'entities': {u'symbols': [], u'user_mentions': [], u'hashtags': [{u'indices': [4, 11], u'text': u'Draghi'}, {u'indices': [31, 38], u'text': u'Europa'}, {u'indices': [77, 86], u'text': u'politica'}, {u'indices': [99, 103], u'text': u'BCE'}, {u'indices': [106, 112], u'text': u'tassi'}], u'urls': []}, u'in_reply_to_screen_name': None, u'in_reply_to_user_id': None, u'retweet_count': 0, u'id_str': u'799560927943262212', u'favorited': False, u'geo': None, u'in_reply_to_user_id_str': None, u'lang': u'it', u'created_at': u'Fri Nov 18 10:32:35 +0000 2016', u'in_reply_to_status_id_str': None, u'place': {u'full_name': u'Fiumicino, Lazio', u'url': u'https://api.twitter.com/1.1/geo/id/853cac1ebe034aac.json', u'country': u'Italia', u'place_type': u'city', u'bounding_box': {u'type': u'Polygon', u'coordinates': [[[12.1250835, 41.7410238], [12.3174662, 41.7410238], [12.3174662, 42.020287], [12.1250835, 42.020287]]]}, u'contained_within': [], u'country_code': u'IT', u'attributes': {}, u'id': u'853cac1ebe034aac', u'name': u'Fiumicino'}}, coordinates=None, entities={u'symbols': [], u'user_mentions': [], u'hashtags': [{u'indices': [4, 11], u'text': u'Draghi'}, {u'indices': [31, 38], u'text': u'Europa'}, {u'indices': [77, 86], u'text': u'politica'}, {u'indices': [99, 103], u'text': u'BCE'}, {u'indices': [106, 112], u'text': u'tassi'}], u'urls': []}, in_reply_to_screen_name=None, id_str=u'799560927943262212', retweet_count=0, in_reply_to_user_id=None, favorited=False, source_url=u'http://twitter.com/download/iphone', geo=None, in_reply_to_user_id_str=None, lang=u'it', created_at=datetime.datetime(2016, 11, 18, 10, 32, 35), in_reply_to_status_id_str=None, place=Place(_api=<tweepy.api.API object at 0x7f0bc2b102d0>, country_code=u'IT', url=u'https://api.twitter.com/1.1/geo/id/853cac1ebe034aac.json', country=u'Italia', place_type=u'city', bounding_box=BoundingBox(_api=<tweepy.api.API object at 0x7f0bc2b102d0>, type=u'Polygon', coordinates=[[[12.1250835, 41.7410238], [12.3174662, 41.7410238], [12.3174662, 42.020287], [12.1250835, 42.020287]]]), contained_within=[], full_name=u'Fiumicino, Lazio', attributes={}, id=u'853cac1ebe034aac', name=u'Fiumicino'), retweeted=False), lang=u'en', utc_offset=None, statuses_count=24, profile_background_color=u'F5F8FA', friends_count=176, profile_link_color=u'1DA1F2', profile_image_url=u'http://pbs.twimg.com/profile_images/790169113163333632/oc9Myw-x_normal.jpg', notifications=False, default_profile=True, profile_background_image_url_https=None, profile_banner_url=u'https://pbs.twimg.com/profile_banners/790166910147125256/1477226011', blocking=False, profile_background_image_url=None, name=u\"Gianpiero D'amicis\", is_translation_enabled=False, profile_background_tile=False, favourites_count=16, screen_name=u'gianp_dam', url=None, created_at=datetime.datetime(2016, 10, 23, 12, 24, 6), contributors_enabled=False, location=u'Italy', profile_sidebar_border_color=u'C0DEED', translator_type=u'none', following=False),\n",
       " User(follow_request_sent=False, has_extended_profile=False, profile_use_background_image=True, profile_sidebar_fill_color=u'DDEEF6', live_following=False, time_zone=u'Greenland', id=342645708, description=u'', _api=<tweepy.api.API object at 0x7f0bc2b102d0>, verified=False, blocked_by=False, profile_text_color=u'333333', muting=False, profile_image_url_https=u'https://pbs.twimg.com/profile_images/1655886365/image_normal.jpg', _json={u'follow_request_sent': False, u'has_extended_profile': False, u'profile_use_background_image': True, u'live_following': False, u'default_profile_image': False, u'id': 342645708, u'profile_background_image_url_https': u'https://abs.twimg.com/images/themes/theme1/bg.png', u'translator_type': u'none', u'verified': False, u'blocked_by': False, u'profile_text_color': u'333333', u'muting': False, u'profile_image_url_https': u'https://pbs.twimg.com/profile_images/1655886365/image_normal.jpg', u'profile_sidebar_fill_color': u'DDEEF6', u'entities': {u'description': {u'urls': []}}, u'followers_count': 34, u'profile_sidebar_border_color': u'C0DEED', u'id_str': u'342645708', u'profile_background_color': u'C0DEED', u'listed_count': 0, u'status': {u'contributors': None, u'truncated': False, u'text': u'@TIM_Official ho problemi sul mio numero tim. Quando chiamo e ricevo mi appare SCONOSCIUTO. Come lo risolvo?', u'is_quote_status': False, u'in_reply_to_status_id': None, u'id': 793166730461863940, u'favorite_count': 0, u'source': u'<a href=\"http://twitter.com/#!/download/ipad\" rel=\"nofollow\">Twitter for iPad</a>', u'retweeted': False, u'coordinates': None, u'entities': {u'symbols': [], u'user_mentions': [{u'id': 132506126, u'indices': [0, 13], u'id_str': u'132506126', u'screen_name': u'TIM_Official', u'name': u'TIM Official'}], u'hashtags': [], u'urls': []}, u'in_reply_to_screen_name': u'TIM_Official', u'in_reply_to_user_id': 132506126, u'retweet_count': 0, u'id_str': u'793166730461863940', u'favorited': False, u'geo': None, u'in_reply_to_user_id_str': u'132506126', u'lang': u'it', u'created_at': u'Mon Oct 31 19:04:19 +0000 2016', u'in_reply_to_status_id_str': None, u'place': None}, u'is_translation_enabled': False, u'utc_offset': -10800, u'statuses_count': 109, u'description': u'', u'friends_count': 175, u'location': u'terlizzi', u'profile_link_color': u'1DA1F2', u'profile_image_url': u'http://pbs.twimg.com/profile_images/1655886365/image_normal.jpg', u'following': False, u'geo_enabled': False, u'blocking': False, u'profile_background_image_url': u'http://abs.twimg.com/images/themes/theme1/bg.png', u'screen_name': u'ciccio_volpe', u'lang': u'it', u'profile_background_tile': False, u'favourites_count': 43, u'name': u'Francesco Volpe', u'notifications': False, u'url': None, u'created_at': u'Tue Jul 26 10:45:52 +0000 2011', u'contributors_enabled': False, u'time_zone': u'Greenland', u'protected': False, u'default_profile': True, u'is_translator': False}, is_translator=False, geo_enabled=False, entities={u'description': {u'urls': []}}, followers_count=34, protected=False, id_str=u'342645708', default_profile_image=False, listed_count=0, status=Status(contributors=None, truncated=False, text=u'@TIM_Official ho problemi sul mio numero tim. Quando chiamo e ricevo mi appare SCONOSCIUTO. Come lo risolvo?', is_quote_status=False, in_reply_to_status_id=None, id=793166730461863940, favorite_count=0, _api=<tweepy.api.API object at 0x7f0bc2b102d0>, source=u'Twitter for iPad', _json={u'contributors': None, u'truncated': False, u'text': u'@TIM_Official ho problemi sul mio numero tim. Quando chiamo e ricevo mi appare SCONOSCIUTO. Come lo risolvo?', u'is_quote_status': False, u'in_reply_to_status_id': None, u'id': 793166730461863940, u'favorite_count': 0, u'source': u'<a href=\"http://twitter.com/#!/download/ipad\" rel=\"nofollow\">Twitter for iPad</a>', u'retweeted': False, u'coordinates': None, u'entities': {u'symbols': [], u'user_mentions': [{u'id': 132506126, u'indices': [0, 13], u'id_str': u'132506126', u'screen_name': u'TIM_Official', u'name': u'TIM Official'}], u'hashtags': [], u'urls': []}, u'in_reply_to_screen_name': u'TIM_Official', u'in_reply_to_user_id': 132506126, u'retweet_count': 0, u'id_str': u'793166730461863940', u'favorited': False, u'geo': None, u'in_reply_to_user_id_str': u'132506126', u'lang': u'it', u'created_at': u'Mon Oct 31 19:04:19 +0000 2016', u'in_reply_to_status_id_str': None, u'place': None}, coordinates=None, entities={u'symbols': [], u'user_mentions': [{u'id': 132506126, u'indices': [0, 13], u'id_str': u'132506126', u'screen_name': u'TIM_Official', u'name': u'TIM Official'}], u'hashtags': [], u'urls': []}, in_reply_to_screen_name=u'TIM_Official', id_str=u'793166730461863940', retweet_count=0, in_reply_to_user_id=132506126, favorited=False, source_url=u'http://twitter.com/#!/download/ipad', geo=None, in_reply_to_user_id_str=u'132506126', lang=u'it', created_at=datetime.datetime(2016, 10, 31, 19, 4, 19), in_reply_to_status_id_str=None, place=None, retweeted=False), lang=u'it', utc_offset=-10800, statuses_count=109, profile_background_color=u'C0DEED', friends_count=175, profile_link_color=u'1DA1F2', profile_image_url=u'http://pbs.twimg.com/profile_images/1655886365/image_normal.jpg', notifications=False, default_profile=True, profile_background_image_url_https=u'https://abs.twimg.com/images/themes/theme1/bg.png', blocking=False, profile_background_image_url=u'http://abs.twimg.com/images/themes/theme1/bg.png', name=u'Francesco Volpe', is_translation_enabled=False, profile_background_tile=False, favourites_count=43, screen_name=u'ciccio_volpe', url=None, created_at=datetime.datetime(2011, 7, 26, 10, 45, 52), contributors_enabled=False, location=u'terlizzi', profile_sidebar_border_color=u'C0DEED', translator_type=u'none', following=False),\n",
       " User(follow_request_sent=False, has_extended_profile=False, profile_use_background_image=True, profile_sidebar_fill_color=u'DDEEF6', live_following=False, time_zone=None, id=2582103893, description=u'', _api=<tweepy.api.API object at 0x7f0bc2b102d0>, verified=False, blocked_by=False, profile_text_color=u'333333', muting=False, profile_image_url_https=u'https://pbs.twimg.com/profile_images/557647629967179776/efLpnXJ__normal.jpeg', _json={u'follow_request_sent': False, u'has_extended_profile': False, u'profile_use_background_image': True, u'live_following': False, u'default_profile_image': False, u'id': 2582103893, u'profile_background_image_url_https': u'https://abs.twimg.com/images/themes/theme1/bg.png', u'translator_type': u'none', u'verified': False, u'blocked_by': False, u'profile_text_color': u'333333', u'muting': False, u'profile_image_url_https': u'https://pbs.twimg.com/profile_images/557647629967179776/efLpnXJ__normal.jpeg', u'profile_sidebar_fill_color': u'DDEEF6', u'entities': {u'description': {u'urls': []}}, u'followers_count': 4, u'profile_sidebar_border_color': u'C0DEED', u'id_str': u'2582103893', u'profile_background_color': u'C0DEED', u'listed_count': 0, u'status': {u'contributors': None, u'truncated': False, u'text': u'@InfoAtac Metro A, ritardi in quale tratta/direzione?', u'is_quote_status': False, u'in_reply_to_status_id': 795581276208189440, u'id': 795593775632551936, u'favorite_count': 0, u'source': u'<a href=\"http://twitter.com/download/iphone\" rel=\"nofollow\">Twitter for iPhone</a>', u'retweeted': False, u'coordinates': None, u'entities': {u'symbols': [], u'user_mentions': [{u'id': 370690455, u'indices': [0, 9], u'id_str': u'370690455', u'screen_name': u'InfoAtac', u'name': u'infoatac'}], u'hashtags': [], u'urls': []}, u'in_reply_to_screen_name': u'InfoAtac', u'in_reply_to_user_id': 370690455, u'retweet_count': 0, u'id_str': u'795593775632551936', u'favorited': False, u'geo': None, u'in_reply_to_user_id_str': u'370690455', u'lang': u'it', u'created_at': u'Mon Nov 07 11:48:32 +0000 2016', u'in_reply_to_status_id_str': u'795581276208189440', u'place': None}, u'is_translation_enabled': False, u'utc_offset': None, u'statuses_count': 33, u'description': u'', u'friends_count': 50, u'location': u'', u'profile_link_color': u'1DA1F2', u'profile_image_url': u'http://pbs.twimg.com/profile_images/557647629967179776/efLpnXJ__normal.jpeg', u'following': False, u'geo_enabled': False, u'profile_banner_url': u'https://pbs.twimg.com/profile_banners/2582103893/1401879185', u'blocking': False, u'profile_background_image_url': u'http://abs.twimg.com/images/themes/theme1/bg.png', u'screen_name': u'MaxdeRoma', u'lang': u'it', u'profile_background_tile': False, u'favourites_count': 1, u'name': u'Max de Roma', u'notifications': False, u'url': None, u'created_at': u'Wed Jun 04 10:51:50 +0000 2014', u'contributors_enabled': False, u'time_zone': None, u'protected': False, u'default_profile': True, u'is_translator': False}, is_translator=False, geo_enabled=False, entities={u'description': {u'urls': []}}, followers_count=4, protected=False, id_str=u'2582103893', default_profile_image=False, listed_count=0, status=Status(contributors=None, truncated=False, text=u'@InfoAtac Metro A, ritardi in quale tratta/direzione?', is_quote_status=False, in_reply_to_status_id=795581276208189440, id=795593775632551936, favorite_count=0, _api=<tweepy.api.API object at 0x7f0bc2b102d0>, source=u'Twitter for iPhone', _json={u'contributors': None, u'truncated': False, u'text': u'@InfoAtac Metro A, ritardi in quale tratta/direzione?', u'is_quote_status': False, u'in_reply_to_status_id': 795581276208189440, u'id': 795593775632551936, u'favorite_count': 0, u'source': u'<a href=\"http://twitter.com/download/iphone\" rel=\"nofollow\">Twitter for iPhone</a>', u'retweeted': False, u'coordinates': None, u'entities': {u'symbols': [], u'user_mentions': [{u'id': 370690455, u'indices': [0, 9], u'id_str': u'370690455', u'screen_name': u'InfoAtac', u'name': u'infoatac'}], u'hashtags': [], u'urls': []}, u'in_reply_to_screen_name': u'InfoAtac', u'in_reply_to_user_id': 370690455, u'retweet_count': 0, u'id_str': u'795593775632551936', u'favorited': False, u'geo': None, u'in_reply_to_user_id_str': u'370690455', u'lang': u'it', u'created_at': u'Mon Nov 07 11:48:32 +0000 2016', u'in_reply_to_status_id_str': u'795581276208189440', u'place': None}, coordinates=None, entities={u'symbols': [], u'user_mentions': [{u'id': 370690455, u'indices': [0, 9], u'id_str': u'370690455', u'screen_name': u'InfoAtac', u'name': u'infoatac'}], u'hashtags': [], u'urls': []}, in_reply_to_screen_name=u'InfoAtac', id_str=u'795593775632551936', retweet_count=0, in_reply_to_user_id=370690455, favorited=False, source_url=u'http://twitter.com/download/iphone', geo=None, in_reply_to_user_id_str=u'370690455', lang=u'it', created_at=datetime.datetime(2016, 11, 7, 11, 48, 32), in_reply_to_status_id_str=u'795581276208189440', place=None, retweeted=False), lang=u'it', utc_offset=None, statuses_count=33, profile_background_color=u'C0DEED', friends_count=50, profile_link_color=u'1DA1F2', profile_image_url=u'http://pbs.twimg.com/profile_images/557647629967179776/efLpnXJ__normal.jpeg', notifications=False, default_profile=True, profile_background_image_url_https=u'https://abs.twimg.com/images/themes/theme1/bg.png', profile_banner_url=u'https://pbs.twimg.com/profile_banners/2582103893/1401879185', blocking=False, profile_background_image_url=u'http://abs.twimg.com/images/themes/theme1/bg.png', name=u'Max de Roma', is_translation_enabled=False, profile_background_tile=False, favourites_count=1, screen_name=u'MaxdeRoma', url=None, created_at=datetime.datetime(2014, 6, 4, 10, 51, 50), contributors_enabled=False, location=u'', profile_sidebar_border_color=u'C0DEED', translator_type=u'none', following=False),\n",
       " User(follow_request_sent=False, has_extended_profile=False, profile_use_background_image=False, profile_sidebar_fill_color=u'000000', live_following=False, time_zone=None, id=3907053811, description=u'', _api=<tweepy.api.API object at 0x7f0bc2b102d0>, verified=False, blocked_by=False, profile_text_color=u'000000', muting=False, profile_image_url_https=u'https://pbs.twimg.com/profile_images/654792776383492096/TN0HHnmu_normal.jpg', _json={u'follow_request_sent': False, u'has_extended_profile': False, u'profile_use_background_image': False, u'live_following': False, u'default_profile_image': False, u'id': 3907053811, u'profile_background_image_url_https': u'https://abs.twimg.com/images/themes/theme1/bg.png', u'translator_type': u'none', u'verified': False, u'blocked_by': False, u'profile_text_color': u'000000', u'muting': False, u'profile_image_url_https': u'https://pbs.twimg.com/profile_images/654792776383492096/TN0HHnmu_normal.jpg', u'profile_sidebar_fill_color': u'000000', u'entities': {u'description': {u'urls': []}}, u'followers_count': 24, u'profile_sidebar_border_color': u'000000', u'id_str': u'3907053811', u'profile_background_color': u'000000', u'listed_count': 0, u'status': {u'contributors': None, u'truncated': True, u'text': u\"Bell'iniziativa! Qui la mappa delle farmacie: https://t.co/jpADAVB0VP \\n#infarmaciaperibambini #Haiti #haitirelief\\u2026 https://t.co/Vrr88cv6MO\", u'is_quote_status': True, u'in_reply_to_status_id': None, u'id': 799569647741894656, u'favorite_count': 0, u'source': u'<a href=\"http://twitter.com\" rel=\"nofollow\">Twitter Web Client</a>', u'quoted_status_id': 799567073915576320, u'retweeted': False, u'coordinates': None, u'entities': {u'symbols': [], u'user_mentions': [], u'hashtags': [{u'indices': [71, 93], u'text': u'infarmaciaperibambini'}, {u'indices': [94, 100], u'text': u'Haiti'}, {u'indices': [101, 113], u'text': u'haitirelief'}], u'urls': [{u'url': u'https://t.co/jpADAVB0VP', u'indices': [46, 69], u'expanded_url': u'https://infarmaciaperibambini.nph-italia.org/farmacie/', u'display_url': u'infarmaciaperibambini.nph-italia.org/farmacie/'}, {u'url': u'https://t.co/Vrr88cv6MO', u'indices': [115, 138], u'expanded_url': u'https://twitter.com/i/web/status/799569647741894656', u'display_url': u'twitter.com/i/web/status/7\\u2026'}]}, u'in_reply_to_screen_name': None, u'in_reply_to_user_id': None, u'retweet_count': 0, u'id_str': u'799569647741894656', u'favorited': False, u'geo': None, u'in_reply_to_user_id_str': None, u'possibly_sensitive': False, u'lang': u'it', u'created_at': u'Fri Nov 18 11:07:13 +0000 2016', u'quoted_status_id_str': u'799567073915576320', u'in_reply_to_status_id_str': None, u'place': None}, u'is_translation_enabled': False, u'utc_offset': None, u'statuses_count': 139, u'description': u'', u'friends_count': 233, u'location': u'', u'profile_link_color': u'1B95E0', u'profile_image_url': u'http://pbs.twimg.com/profile_images/654792776383492096/TN0HHnmu_normal.jpg', u'following': False, u'geo_enabled': False, u'profile_banner_url': u'https://pbs.twimg.com/profile_banners/3907053811/1476372024', u'blocking': False, u'profile_background_image_url': u'http://abs.twimg.com/images/themes/theme1/bg.png', u'screen_name': u'marco_sberla', u'lang': u'it', u'profile_background_tile': False, u'favourites_count': 254, u'name': u'marcosberla', u'notifications': False, u'url': None, u'created_at': u'Thu Oct 15 21:53:01 +0000 2015', u'contributors_enabled': False, u'time_zone': None, u'protected': False, u'default_profile': False, u'is_translator': False}, is_translator=False, geo_enabled=False, entities={u'description': {u'urls': []}}, followers_count=24, protected=False, id_str=u'3907053811', default_profile_image=False, listed_count=0, status=Status(contributors=None, truncated=True, text=u\"Bell'iniziativa! Qui la mappa delle farmacie: https://t.co/jpADAVB0VP \\n#infarmaciaperibambini #Haiti #haitirelief\\u2026 https://t.co/Vrr88cv6MO\", is_quote_status=True, in_reply_to_status_id=None, id=799569647741894656, favorite_count=0, _api=<tweepy.api.API object at 0x7f0bc2b102d0>, source=u'Twitter Web Client', quoted_status_id=799567073915576320, _json={u'contributors': None, u'truncated': True, u'text': u\"Bell'iniziativa! Qui la mappa delle farmacie: https://t.co/jpADAVB0VP \\n#infarmaciaperibambini #Haiti #haitirelief\\u2026 https://t.co/Vrr88cv6MO\", u'is_quote_status': True, u'in_reply_to_status_id': None, u'id': 799569647741894656, u'favorite_count': 0, u'source': u'<a href=\"http://twitter.com\" rel=\"nofollow\">Twitter Web Client</a>', u'quoted_status_id': 799567073915576320, u'retweeted': False, u'coordinates': None, u'entities': {u'symbols': [], u'user_mentions': [], u'hashtags': [{u'indices': [71, 93], u'text': u'infarmaciaperibambini'}, {u'indices': [94, 100], u'text': u'Haiti'}, {u'indices': [101, 113], u'text': u'haitirelief'}], u'urls': [{u'url': u'https://t.co/jpADAVB0VP', u'indices': [46, 69], u'expanded_url': u'https://infarmaciaperibambini.nph-italia.org/farmacie/', u'display_url': u'infarmaciaperibambini.nph-italia.org/farmacie/'}, {u'url': u'https://t.co/Vrr88cv6MO', u'indices': [115, 138], u'expanded_url': u'https://twitter.com/i/web/status/799569647741894656', u'display_url': u'twitter.com/i/web/status/7\\u2026'}]}, u'in_reply_to_screen_name': None, u'in_reply_to_user_id': None, u'retweet_count': 0, u'id_str': u'799569647741894656', u'favorited': False, u'geo': None, u'in_reply_to_user_id_str': None, u'possibly_sensitive': False, u'lang': u'it', u'created_at': u'Fri Nov 18 11:07:13 +0000 2016', u'quoted_status_id_str': u'799567073915576320', u'in_reply_to_status_id_str': None, u'place': None}, coordinates=None, entities={u'symbols': [], u'user_mentions': [], u'hashtags': [{u'indices': [71, 93], u'text': u'infarmaciaperibambini'}, {u'indices': [94, 100], u'text': u'Haiti'}, {u'indices': [101, 113], u'text': u'haitirelief'}], u'urls': [{u'url': u'https://t.co/jpADAVB0VP', u'indices': [46, 69], u'expanded_url': u'https://infarmaciaperibambini.nph-italia.org/farmacie/', u'display_url': u'infarmaciaperibambini.nph-italia.org/farmacie/'}, {u'url': u'https://t.co/Vrr88cv6MO', u'indices': [115, 138], u'expanded_url': u'https://twitter.com/i/web/status/799569647741894656', u'display_url': u'twitter.com/i/web/status/7\\u2026'}]}, in_reply_to_screen_name=None, id_str=u'799569647741894656', retweet_count=0, in_reply_to_user_id=None, favorited=False, source_url=u'http://twitter.com', geo=None, in_reply_to_user_id_str=None, possibly_sensitive=False, lang=u'it', created_at=datetime.datetime(2016, 11, 18, 11, 7, 13), quoted_status_id_str=u'799567073915576320', in_reply_to_status_id_str=None, place=None, retweeted=False), lang=u'it', utc_offset=None, statuses_count=139, profile_background_color=u'000000', friends_count=233, profile_link_color=u'1B95E0', profile_image_url=u'http://pbs.twimg.com/profile_images/654792776383492096/TN0HHnmu_normal.jpg', notifications=False, default_profile=False, profile_background_image_url_https=u'https://abs.twimg.com/images/themes/theme1/bg.png', profile_banner_url=u'https://pbs.twimg.com/profile_banners/3907053811/1476372024', blocking=False, profile_background_image_url=u'http://abs.twimg.com/images/themes/theme1/bg.png', name=u'marcosberla', is_translation_enabled=False, profile_background_tile=False, favourites_count=254, screen_name=u'marco_sberla', url=None, created_at=datetime.datetime(2015, 10, 15, 21, 53, 1), contributors_enabled=False, location=u'', profile_sidebar_border_color=u'000000', translator_type=u'none', following=False),\n",
       " User(follow_request_sent=False, has_extended_profile=False, profile_use_background_image=True, profile_sidebar_fill_color=u'DDEEF6', live_following=False, time_zone=None, id=2472674419, description=u'', _api=<tweepy.api.API object at 0x7f0bc2b102d0>, verified=False, blocked_by=False, profile_text_color=u'333333', muting=False, profile_image_url_https=u'https://pbs.twimg.com/profile_images/763029431120171009/X_7I3it4_normal.jpg', _json={u'follow_request_sent': False, u'has_extended_profile': False, u'profile_use_background_image': True, u'live_following': False, u'default_profile_image': False, u'id': 2472674419, u'profile_background_image_url_https': u'https://abs.twimg.com/images/themes/theme1/bg.png', u'translator_type': u'none', u'verified': False, u'blocked_by': False, u'profile_text_color': u'333333', u'muting': False, u'profile_image_url_https': u'https://pbs.twimg.com/profile_images/763029431120171009/X_7I3it4_normal.jpg', u'profile_sidebar_fill_color': u'DDEEF6', u'entities': {u'description': {u'urls': []}}, u'followers_count': 98, u'profile_sidebar_border_color': u'C0DEED', u'id_str': u'2472674419', u'profile_background_color': u'C0DEED', u'listed_count': 0, u'status': {u'contributors': None, u'truncated': False, u'text': u'#ferrari #greatgp https://t.co/cocx78MYiY', u'is_quote_status': False, u'in_reply_to_status_id': None, u'id': 772710528531783680, u'favorite_count': 26, u'source': u'<a href=\"http://twitter.com/download/android\" rel=\"nofollow\">Twitter for Android</a>', u'retweeted': False, u'coordinates': None, u'entities': {u'symbols': [], u'user_mentions': [], u'hashtags': [{u'indices': [0, 8], u'text': u'ferrari'}, {u'indices': [9, 17], u'text': u'greatgp'}], u'urls': [], u'media': [{u'expanded_url': u'https://twitter.com/RoccoLapennak3/status/772710528531783680/photo/1', u'display_url': u'pic.twitter.com/cocx78MYiY', u'url': u'https://t.co/cocx78MYiY', u'media_url_https': u'https://pbs.twimg.com/media/Crk3_5gXEAQzMEm.jpg', u'id_str': u'772710381978587140', u'sizes': {u'small': {u'h': 454, u'resize': u'fit', u'w': 680}, u'large': {u'h': 1366, u'resize': u'fit', u'w': 2048}, u'medium': {u'h': 800, u'resize': u'fit', u'w': 1200}, u'thumb': {u'h': 150, u'resize': u'crop', u'w': 150}}, u'indices': [18, 41], u'type': u'photo', u'id': 772710381978587140, u'media_url': u'http://pbs.twimg.com/media/Crk3_5gXEAQzMEm.jpg'}]}, u'in_reply_to_screen_name': None, u'in_reply_to_user_id': None, u'retweet_count': 0, u'id_str': u'772710528531783680', u'favorited': False, u'geo': None, u'in_reply_to_user_id_str': None, u'possibly_sensitive': False, u'lang': u'und', u'created_at': u'Mon Sep 05 08:18:40 +0000 2016', u'in_reply_to_status_id_str': None, u'place': None, u'extended_entities': {u'media': [{u'expanded_url': u'https://twitter.com/RoccoLapennak3/status/772710528531783680/photo/1', u'display_url': u'pic.twitter.com/cocx78MYiY', u'url': u'https://t.co/cocx78MYiY', u'media_url_https': u'https://pbs.twimg.com/media/Crk3_5gXEAQzMEm.jpg', u'id_str': u'772710381978587140', u'sizes': {u'small': {u'h': 454, u'resize': u'fit', u'w': 680}, u'large': {u'h': 1366, u'resize': u'fit', u'w': 2048}, u'medium': {u'h': 800, u'resize': u'fit', u'w': 1200}, u'thumb': {u'h': 150, u'resize': u'crop', u'w': 150}}, u'indices': [18, 41], u'type': u'photo', u'id': 772710381978587140, u'media_url': u'http://pbs.twimg.com/media/Crk3_5gXEAQzMEm.jpg'}]}}, u'is_translation_enabled': False, u'utc_offset': None, u'statuses_count': 3, u'description': u'', u'friends_count': 709, u'location': u'', u'profile_link_color': u'1DA1F2', u'profile_image_url': u'http://pbs.twimg.com/profile_images/763029431120171009/X_7I3it4_normal.jpg', u'following': False, u'geo_enabled': False, u'blocking': False, u'profile_background_image_url': u'http://abs.twimg.com/images/themes/theme1/bg.png', u'screen_name': u'RoccoLapennak3', u'lang': u'it', u'profile_background_tile': False, u'favourites_count': 10, u'name': u'Rocco Lapenna', u'notifications': False, u'url': None, u'created_at': u'Thu May 01 15:25:45 +0000 2014', u'contributors_enabled': False, u'time_zone': None, u'protected': False, u'default_profile': True, u'is_translator': False}, is_translator=False, geo_enabled=False, entities={u'description': {u'urls': []}}, followers_count=98, protected=False, id_str=u'2472674419', default_profile_image=False, listed_count=0, status=Status(contributors=None, truncated=False, text=u'#ferrari #greatgp https://t.co/cocx78MYiY', is_quote_status=False, in_reply_to_status_id=None, id=772710528531783680, favorite_count=26, _api=<tweepy.api.API object at 0x7f0bc2b102d0>, source=u'Twitter for Android', _json={u'contributors': None, u'truncated': False, u'text': u'#ferrari #greatgp https://t.co/cocx78MYiY', u'is_quote_status': False, u'in_reply_to_status_id': None, u'id': 772710528531783680, u'favorite_count': 26, u'source': u'<a href=\"http://twitter.com/download/android\" rel=\"nofollow\">Twitter for Android</a>', u'retweeted': False, u'coordinates': None, u'entities': {u'symbols': [], u'user_mentions': [], u'hashtags': [{u'indices': [0, 8], u'text': u'ferrari'}, {u'indices': [9, 17], u'text': u'greatgp'}], u'urls': [], u'media': [{u'expanded_url': u'https://twitter.com/RoccoLapennak3/status/772710528531783680/photo/1', u'display_url': u'pic.twitter.com/cocx78MYiY', u'url': u'https://t.co/cocx78MYiY', u'media_url_https': u'https://pbs.twimg.com/media/Crk3_5gXEAQzMEm.jpg', u'id_str': u'772710381978587140', u'sizes': {u'small': {u'h': 454, u'resize': u'fit', u'w': 680}, u'large': {u'h': 1366, u'resize': u'fit', u'w': 2048}, u'medium': {u'h': 800, u'resize': u'fit', u'w': 1200}, u'thumb': {u'h': 150, u'resize': u'crop', u'w': 150}}, u'indices': [18, 41], u'type': u'photo', u'id': 772710381978587140, u'media_url': u'http://pbs.twimg.com/media/Crk3_5gXEAQzMEm.jpg'}]}, u'in_reply_to_screen_name': None, u'in_reply_to_user_id': None, u'retweet_count': 0, u'id_str': u'772710528531783680', u'favorited': False, u'geo': None, u'in_reply_to_user_id_str': None, u'possibly_sensitive': False, u'lang': u'und', u'created_at': u'Mon Sep 05 08:18:40 +0000 2016', u'in_reply_to_status_id_str': None, u'place': None, u'extended_entities': {u'media': [{u'expanded_url': u'https://twitter.com/RoccoLapennak3/status/772710528531783680/photo/1', u'display_url': u'pic.twitter.com/cocx78MYiY', u'url': u'https://t.co/cocx78MYiY', u'media_url_https': u'https://pbs.twimg.com/media/Crk3_5gXEAQzMEm.jpg', u'id_str': u'772710381978587140', u'sizes': {u'small': {u'h': 454, u'resize': u'fit', u'w': 680}, u'large': {u'h': 1366, u'resize': u'fit', u'w': 2048}, u'medium': {u'h': 800, u'resize': u'fit', u'w': 1200}, u'thumb': {u'h': 150, u'resize': u'crop', u'w': 150}}, u'indices': [18, 41], u'type': u'photo', u'id': 772710381978587140, u'media_url': u'http://pbs.twimg.com/media/Crk3_5gXEAQzMEm.jpg'}]}}, coordinates=None, entities={u'symbols': [], u'user_mentions': [], u'hashtags': [{u'indices': [0, 8], u'text': u'ferrari'}, {u'indices': [9, 17], u'text': u'greatgp'}], u'urls': [], u'media': [{u'expanded_url': u'https://twitter.com/RoccoLapennak3/status/772710528531783680/photo/1', u'display_url': u'pic.twitter.com/cocx78MYiY', u'url': u'https://t.co/cocx78MYiY', u'media_url_https': u'https://pbs.twimg.com/media/Crk3_5gXEAQzMEm.jpg', u'id_str': u'772710381978587140', u'sizes': {u'small': {u'h': 454, u'resize': u'fit', u'w': 680}, u'large': {u'h': 1366, u'resize': u'fit', u'w': 2048}, u'medium': {u'h': 800, u'resize': u'fit', u'w': 1200}, u'thumb': {u'h': 150, u'resize': u'crop', u'w': 150}}, u'indices': [18, 41], u'type': u'photo', u'id': 772710381978587140, u'media_url': u'http://pbs.twimg.com/media/Crk3_5gXEAQzMEm.jpg'}]}, in_reply_to_screen_name=None, id_str=u'772710528531783680', retweet_count=0, in_reply_to_user_id=None, favorited=False, source_url=u'http://twitter.com/download/android', geo=None, in_reply_to_user_id_str=None, possibly_sensitive=False, lang=u'und', created_at=datetime.datetime(2016, 9, 5, 8, 18, 40), in_reply_to_status_id_str=None, place=None, extended_entities={u'media': [{u'expanded_url': u'https://twitter.com/RoccoLapennak3/status/772710528531783680/photo/1', u'display_url': u'pic.twitter.com/cocx78MYiY', u'url': u'https://t.co/cocx78MYiY', u'media_url_https': u'https://pbs.twimg.com/media/Crk3_5gXEAQzMEm.jpg', u'id_str': u'772710381978587140', u'sizes': {u'small': {u'h': 454, u'resize': u'fit', u'w': 680}, u'large': {u'h': 1366, u'resize': u'fit', u'w': 2048}, u'medium': {u'h': 800, u'resize': u'fit', u'w': 1200}, u'thumb': {u'h': 150, u'resize': u'crop', u'w': 150}}, u'indices': [18, 41], u'type': u'photo', u'id': 772710381978587140, u'media_url': u'http://pbs.twimg.com/media/Crk3_5gXEAQzMEm.jpg'}]}, retweeted=False), lang=u'it', utc_offset=None, statuses_count=3, profile_background_color=u'C0DEED', friends_count=709, profile_link_color=u'1DA1F2', profile_image_url=u'http://pbs.twimg.com/profile_images/763029431120171009/X_7I3it4_normal.jpg', notifications=False, default_profile=True, profile_background_image_url_https=u'https://abs.twimg.com/images/themes/theme1/bg.png', blocking=False, profile_background_image_url=u'http://abs.twimg.com/images/themes/theme1/bg.png', name=u'Rocco Lapenna', is_translation_enabled=False, profile_background_tile=False, favourites_count=10, screen_name=u'RoccoLapennak3', url=None, created_at=datetime.datetime(2014, 5, 1, 15, 25, 45), contributors_enabled=False, location=u'', profile_sidebar_border_color=u'C0DEED', translator_type=u'none', following=False),\n",
       " User(follow_request_sent=False, has_extended_profile=True, profile_use_background_image=True, profile_sidebar_fill_color=u'DDEEF6', live_following=False, time_zone=None, id=3406754963, description=u'', _api=<tweepy.api.API object at 0x7f0bc2b102d0>, verified=False, blocked_by=False, profile_text_color=u'333333', muting=False, profile_image_url_https=u'https://pbs.twimg.com/profile_images/725851830945767425/Kcrc5fov_normal.jpg', _json={u'follow_request_sent': False, u'has_extended_profile': True, u'profile_use_background_image': True, u'live_following': False, u'default_profile_image': False, u'id': 3406754963, u'profile_background_image_url_https': u'https://abs.twimg.com/images/themes/theme1/bg.png', u'translator_type': u'none', u'verified': False, u'blocked_by': False, u'profile_text_color': u'333333', u'muting': False, u'profile_image_url_https': u'https://pbs.twimg.com/profile_images/725851830945767425/Kcrc5fov_normal.jpg', u'profile_sidebar_fill_color': u'DDEEF6', u'entities': {u'description': {u'urls': []}}, u'followers_count': 21, u'profile_sidebar_border_color': u'C0DEED', u'id_str': u'3406754963', u'profile_background_color': u'C0DEED', u'listed_count': 2, u'status': {u'contributors': None, u'truncated': False, u'text': u'Transmedia storytelling - segmenti di storia attraverso giusti canali\\nCrossmedia-stesso contenuto tutti i canali \\n#smm17', u'is_quote_status': False, u'in_reply_to_status_id': None, u'id': 799224466752540672, u'favorite_count': 0, u'source': u'<a href=\"http://twitter.com/download/iphone\" rel=\"nofollow\">Twitter for iPhone</a>', u'retweeted': False, u'coordinates': None, u'entities': {u'symbols': [], u'user_mentions': [], u'hashtags': [{u'indices': [114, 120], u'text': u'smm17'}], u'urls': []}, u'in_reply_to_screen_name': None, u'in_reply_to_user_id': None, u'retweet_count': 0, u'id_str': u'799224466752540672', u'favorited': False, u'geo': None, u'in_reply_to_user_id_str': None, u'lang': u'it', u'created_at': u'Thu Nov 17 12:15:36 +0000 2016', u'in_reply_to_status_id_str': None, u'place': None}, u'is_translation_enabled': False, u'utc_offset': None, u'statuses_count': 63, u'description': u'', u'friends_count': 56, u'location': u'', u'profile_link_color': u'1DA1F2', u'profile_image_url': u'http://pbs.twimg.com/profile_images/725851830945767425/Kcrc5fov_normal.jpg', u'following': False, u'geo_enabled': False, u'profile_banner_url': u'https://pbs.twimg.com/profile_banners/3406754963/1461891537', u'blocking': False, u'profile_background_image_url': u'http://abs.twimg.com/images/themes/theme1/bg.png', u'screen_name': u'andreamadonna2', u'lang': u'it', u'profile_background_tile': False, u'favourites_count': 31, u'name': u'andrea madonna', u'notifications': False, u'url': None, u'created_at': u'Fri Aug 07 05:53:03 +0000 2015', u'contributors_enabled': False, u'time_zone': None, u'protected': False, u'default_profile': True, u'is_translator': False}, is_translator=False, geo_enabled=False, entities={u'description': {u'urls': []}}, followers_count=21, protected=False, id_str=u'3406754963', default_profile_image=False, listed_count=2, status=Status(contributors=None, truncated=False, text=u'Transmedia storytelling - segmenti di storia attraverso giusti canali\\nCrossmedia-stesso contenuto tutti i canali \\n#smm17', is_quote_status=False, in_reply_to_status_id=None, id=799224466752540672, favorite_count=0, _api=<tweepy.api.API object at 0x7f0bc2b102d0>, source=u'Twitter for iPhone', _json={u'contributors': None, u'truncated': False, u'text': u'Transmedia storytelling - segmenti di storia attraverso giusti canali\\nCrossmedia-stesso contenuto tutti i canali \\n#smm17', u'is_quote_status': False, u'in_reply_to_status_id': None, u'id': 799224466752540672, u'favorite_count': 0, u'source': u'<a href=\"http://twitter.com/download/iphone\" rel=\"nofollow\">Twitter for iPhone</a>', u'retweeted': False, u'coordinates': None, u'entities': {u'symbols': [], u'user_mentions': [], u'hashtags': [{u'indices': [114, 120], u'text': u'smm17'}], u'urls': []}, u'in_reply_to_screen_name': None, u'in_reply_to_user_id': None, u'retweet_count': 0, u'id_str': u'799224466752540672', u'favorited': False, u'geo': None, u'in_reply_to_user_id_str': None, u'lang': u'it', u'created_at': u'Thu Nov 17 12:15:36 +0000 2016', u'in_reply_to_status_id_str': None, u'place': None}, coordinates=None, entities={u'symbols': [], u'user_mentions': [], u'hashtags': [{u'indices': [114, 120], u'text': u'smm17'}], u'urls': []}, in_reply_to_screen_name=None, id_str=u'799224466752540672', retweet_count=0, in_reply_to_user_id=None, favorited=False, source_url=u'http://twitter.com/download/iphone', geo=None, in_reply_to_user_id_str=None, lang=u'it', created_at=datetime.datetime(2016, 11, 17, 12, 15, 36), in_reply_to_status_id_str=None, place=None, retweeted=False), lang=u'it', utc_offset=None, statuses_count=63, profile_background_color=u'C0DEED', friends_count=56, profile_link_color=u'1DA1F2', profile_image_url=u'http://pbs.twimg.com/profile_images/725851830945767425/Kcrc5fov_normal.jpg', notifications=False, default_profile=True, profile_background_image_url_https=u'https://abs.twimg.com/images/themes/theme1/bg.png', profile_banner_url=u'https://pbs.twimg.com/profile_banners/3406754963/1461891537', blocking=False, profile_background_image_url=u'http://abs.twimg.com/images/themes/theme1/bg.png', name=u'andrea madonna', is_translation_enabled=False, profile_background_tile=False, favourites_count=31, screen_name=u'andreamadonna2', url=None, created_at=datetime.datetime(2015, 8, 7, 5, 53, 3), contributors_enabled=False, location=u'', profile_sidebar_border_color=u'C0DEED', translator_type=u'none', following=False),\n",
       " User(follow_request_sent=False, has_extended_profile=False, profile_use_background_image=True, profile_sidebar_fill_color=u'DDEEF6', live_following=False, time_zone=None, id=794906523306749952, description=u'', _api=<tweepy.api.API object at 0x7f0bc2b102d0>, verified=False, blocked_by=False, profile_text_color=u'333333', muting=False, profile_image_url_https=u'https://pbs.twimg.com/profile_images/799385218562068480/QjTuJL_R_normal.jpg', _json={u'follow_request_sent': False, u'has_extended_profile': False, u'profile_use_background_image': True, u'live_following': False, u'default_profile_image': False, u'id': 794906523306749952, u'profile_background_image_url_https': None, u'translator_type': u'none', u'verified': False, u'blocked_by': False, u'profile_text_color': u'333333', u'muting': False, u'profile_image_url_https': u'https://pbs.twimg.com/profile_images/799385218562068480/QjTuJL_R_normal.jpg', u'profile_sidebar_fill_color': u'DDEEF6', u'entities': {u'description': {u'urls': []}}, u'followers_count': 1, u'profile_sidebar_border_color': u'C0DEED', u'id_str': u'794906523306749952', u'profile_background_color': u'F5F8FA', u'listed_count': 0, u'is_translation_enabled': False, u'utc_offset': None, u'statuses_count': 0, u'description': u'', u'friends_count': 27, u'location': u'', u'profile_link_color': u'1DA1F2', u'profile_image_url': u'http://pbs.twimg.com/profile_images/799385218562068480/QjTuJL_R_normal.jpg', u'following': False, u'geo_enabled': False, u'profile_banner_url': u'https://pbs.twimg.com/profile_banners/794906523306749952/1479423261', u'blocking': False, u'profile_background_image_url': None, u'screen_name': u'Tommaso29044038', u'lang': u'it', u'profile_background_tile': False, u'favourites_count': 0, u'name': u'Tommaso', u'notifications': False, u'url': None, u'created_at': u'Sat Nov 05 14:17:38 +0000 2016', u'contributors_enabled': False, u'time_zone': None, u'protected': False, u'default_profile': True, u'is_translator': False}, is_translator=False, geo_enabled=False, entities={u'description': {u'urls': []}}, followers_count=1, protected=False, id_str=u'794906523306749952', default_profile_image=False, listed_count=0, lang=u'it', utc_offset=None, statuses_count=0, profile_background_color=u'F5F8FA', friends_count=27, profile_link_color=u'1DA1F2', profile_image_url=u'http://pbs.twimg.com/profile_images/799385218562068480/QjTuJL_R_normal.jpg', notifications=False, default_profile=True, profile_background_image_url_https=None, profile_banner_url=u'https://pbs.twimg.com/profile_banners/794906523306749952/1479423261', blocking=False, profile_background_image_url=None, name=u'Tommaso', is_translation_enabled=False, profile_background_tile=False, favourites_count=0, screen_name=u'Tommaso29044038', url=None, created_at=datetime.datetime(2016, 11, 5, 14, 17, 38), contributors_enabled=False, location=u'', profile_sidebar_border_color=u'C0DEED', translator_type=u'none', following=False),\n",
       " User(follow_request_sent=False, has_extended_profile=True, profile_use_background_image=True, profile_sidebar_fill_color=u'DDEEF6', live_following=False, time_zone=None, id=775022256644825088, description=u'', _api=<tweepy.api.API object at 0x7f0bc2b102d0>, verified=False, blocked_by=False, profile_text_color=u'333333', muting=False, profile_image_url_https=u'https://pbs.twimg.com/profile_images/792768696452259840/nmfNchy__normal.jpg', _json={u'follow_request_sent': False, u'has_extended_profile': True, u'profile_use_background_image': True, u'live_following': False, u'default_profile_image': False, u'id': 775022256644825088, u'profile_background_image_url_https': None, u'translator_type': u'none', u'verified': False, u'blocked_by': False, u'profile_text_color': u'333333', u'muting': False, u'profile_image_url_https': u'https://pbs.twimg.com/profile_images/792768696452259840/nmfNchy__normal.jpg', u'profile_sidebar_fill_color': u'DDEEF6', u'entities': {u'description': {u'urls': []}}, u'followers_count': 17, u'profile_sidebar_border_color': u'C0DEED', u'id_str': u'775022256644825088', u'profile_background_color': u'F5F8FA', u'listed_count': 0, u'status': {u'contributors': None, u'truncated': False, u'text': u'RT @MiamiMadeHER: Exactly https://t.co/J7pNAHyB5n', u'is_quote_status': True, u'in_reply_to_status_id': None, u'id': 799616854985740288, u'favorite_count': 0, u'source': u'<a href=\"http://twitter.com/download/android\" rel=\"nofollow\">Twitter for Android</a>', u'quoted_status_id': 799615410719035392, u'retweeted': False, u'coordinates': None, u'entities': {u'symbols': [], u'user_mentions': [{u'id': 319016816, u'indices': [3, 16], u'id_str': u'319016816', u'screen_name': u'MiamiMadeHER', u'name': u'Unfuckwithable.\\u2728'}], u'hashtags': [], u'urls': [{u'url': u'https://t.co/J7pNAHyB5n', u'indices': [26, 49], u'expanded_url': u'https://twitter.com/bewhiteshawty/status/799615410719035392', u'display_url': u'twitter.com/bewhiteshawty/\\u2026'}]}, u'in_reply_to_screen_name': None, u'in_reply_to_user_id': None, u'retweet_count': 2, u'id_str': u'799616854985740288', u'favorited': False, u'retweeted_status': {u'contributors': None, u'truncated': False, u'text': u'Exactly https://t.co/J7pNAHyB5n', u'is_quote_status': True, u'in_reply_to_status_id': None, u'id': 799615649811222528, u'favorite_count': 1, u'source': u'<a href=\"http://twitter.com/download/android\" rel=\"nofollow\">Twitter for Android</a>', u'quoted_status_id': 799615410719035392, u'retweeted': False, u'coordinates': None, u'entities': {u'symbols': [], u'user_mentions': [], u'hashtags': [], u'urls': [{u'url': u'https://t.co/J7pNAHyB5n', u'indices': [8, 31], u'expanded_url': u'https://twitter.com/bewhiteshawty/status/799615410719035392', u'display_url': u'twitter.com/bewhiteshawty/\\u2026'}]}, u'in_reply_to_screen_name': None, u'in_reply_to_user_id': None, u'retweet_count': 2, u'id_str': u'799615649811222528', u'favorited': False, u'geo': None, u'in_reply_to_user_id_str': None, u'possibly_sensitive': False, u'lang': u'en', u'created_at': u'Fri Nov 18 14:10:01 +0000 2016', u'quoted_status_id_str': u'799615410719035392', u'in_reply_to_status_id_str': None, u'place': None}, u'geo': None, u'in_reply_to_user_id_str': None, u'possibly_sensitive': False, u'lang': u'en', u'created_at': u'Fri Nov 18 14:14:49 +0000 2016', u'quoted_status_id_str': u'799615410719035392', u'in_reply_to_status_id_str': None, u'place': None}, u'is_translation_enabled': False, u'utc_offset': None, u'statuses_count': 22, u'description': u'', u'friends_count': 451, u'location': u'', u'profile_link_color': u'1DA1F2', u'profile_image_url': u'http://pbs.twimg.com/profile_images/792768696452259840/nmfNchy__normal.jpg', u'following': False, u'geo_enabled': True, u'profile_banner_url': u'https://pbs.twimg.com/profile_banners/775022256644825088/1479248091', u'blocking': False, u'profile_background_image_url': None, u'screen_name': u'MoussaT31335056', u'lang': u'fr', u'profile_background_tile': False, u'favourites_count': 20, u'name': u'Moussa Traore', u'notifications': False, u'url': None, u'created_at': u'Sun Sep 11 17:24:40 +0000 2016', u'contributors_enabled': False, u'time_zone': None, u'protected': False, u'default_profile': True, u'is_translator': False}, is_translator=False, geo_enabled=True, entities={u'description': {u'urls': []}}, followers_count=17, protected=False, id_str=u'775022256644825088', default_profile_image=False, listed_count=0, status=Status(contributors=None, truncated=False, text=u'RT @MiamiMadeHER: Exactly https://t.co/J7pNAHyB5n', is_quote_status=True, in_reply_to_status_id=None, id=799616854985740288, favorite_count=0, _api=<tweepy.api.API object at 0x7f0bc2b102d0>, source=u'Twitter for Android', quoted_status_id=799615410719035392, _json={u'contributors': None, u'truncated': False, u'text': u'RT @MiamiMadeHER: Exactly https://t.co/J7pNAHyB5n', u'is_quote_status': True, u'in_reply_to_status_id': None, u'id': 799616854985740288, u'favorite_count': 0, u'source': u'<a href=\"http://twitter.com/download/android\" rel=\"nofollow\">Twitter for Android</a>', u'quoted_status_id': 799615410719035392, u'retweeted': False, u'coordinates': None, u'entities': {u'symbols': [], u'user_mentions': [{u'id': 319016816, u'indices': [3, 16], u'id_str': u'319016816', u'screen_name': u'MiamiMadeHER', u'name': u'Unfuckwithable.\\u2728'}], u'hashtags': [], u'urls': [{u'url': u'https://t.co/J7pNAHyB5n', u'indices': [26, 49], u'expanded_url': u'https://twitter.com/bewhiteshawty/status/799615410719035392', u'display_url': u'twitter.com/bewhiteshawty/\\u2026'}]}, u'in_reply_to_screen_name': None, u'in_reply_to_user_id': None, u'retweet_count': 2, u'id_str': u'799616854985740288', u'favorited': False, u'retweeted_status': {u'contributors': None, u'truncated': False, u'text': u'Exactly https://t.co/J7pNAHyB5n', u'is_quote_status': True, u'in_reply_to_status_id': None, u'id': 799615649811222528, u'favorite_count': 1, u'source': u'<a href=\"http://twitter.com/download/android\" rel=\"nofollow\">Twitter for Android</a>', u'quoted_status_id': 799615410719035392, u'retweeted': False, u'coordinates': None, u'entities': {u'symbols': [], u'user_mentions': [], u'hashtags': [], u'urls': [{u'url': u'https://t.co/J7pNAHyB5n', u'indices': [8, 31], u'expanded_url': u'https://twitter.com/bewhiteshawty/status/799615410719035392', u'display_url': u'twitter.com/bewhiteshawty/\\u2026'}]}, u'in_reply_to_screen_name': None, u'in_reply_to_user_id': None, u'retweet_count': 2, u'id_str': u'799615649811222528', u'favorited': False, u'geo': None, u'in_reply_to_user_id_str': None, u'possibly_sensitive': False, u'lang': u'en', u'created_at': u'Fri Nov 18 14:10:01 +0000 2016', u'quoted_status_id_str': u'799615410719035392', u'in_reply_to_status_id_str': None, u'place': None}, u'geo': None, u'in_reply_to_user_id_str': None, u'possibly_sensitive': False, u'lang': u'en', u'created_at': u'Fri Nov 18 14:14:49 +0000 2016', u'quoted_status_id_str': u'799615410719035392', u'in_reply_to_status_id_str': None, u'place': None}, coordinates=None, entities={u'symbols': [], u'user_mentions': [{u'id': 319016816, u'indices': [3, 16], u'id_str': u'319016816', u'screen_name': u'MiamiMadeHER', u'name': u'Unfuckwithable.\\u2728'}], u'hashtags': [], u'urls': [{u'url': u'https://t.co/J7pNAHyB5n', u'indices': [26, 49], u'expanded_url': u'https://twitter.com/bewhiteshawty/status/799615410719035392', u'display_url': u'twitter.com/bewhiteshawty/\\u2026'}]}, in_reply_to_screen_name=None, id_str=u'799616854985740288', retweet_count=2, in_reply_to_user_id=None, favorited=False, retweeted_status=Status(contributors=None, truncated=False, text=u'Exactly https://t.co/J7pNAHyB5n', is_quote_status=True, in_reply_to_status_id=None, id=799615649811222528, favorite_count=1, _api=<tweepy.api.API object at 0x7f0bc2b102d0>, source=u'Twitter for Android', quoted_status_id=799615410719035392, _json={u'contributors': None, u'truncated': False, u'text': u'Exactly https://t.co/J7pNAHyB5n', u'is_quote_status': True, u'in_reply_to_status_id': None, u'id': 799615649811222528, u'favorite_count': 1, u'source': u'<a href=\"http://twitter.com/download/android\" rel=\"nofollow\">Twitter for Android</a>', u'quoted_status_id': 799615410719035392, u'retweeted': False, u'coordinates': None, u'entities': {u'symbols': [], u'user_mentions': [], u'hashtags': [], u'urls': [{u'url': u'https://t.co/J7pNAHyB5n', u'indices': [8, 31], u'expanded_url': u'https://twitter.com/bewhiteshawty/status/799615410719035392', u'display_url': u'twitter.com/bewhiteshawty/\\u2026'}]}, u'in_reply_to_screen_name': None, u'in_reply_to_user_id': None, u'retweet_count': 2, u'id_str': u'799615649811222528', u'favorited': False, u'geo': None, u'in_reply_to_user_id_str': None, u'possibly_sensitive': False, u'lang': u'en', u'created_at': u'Fri Nov 18 14:10:01 +0000 2016', u'quoted_status_id_str': u'799615410719035392', u'in_reply_to_status_id_str': None, u'place': None}, coordinates=None, entities={u'symbols': [], u'user_mentions': [], u'hashtags': [], u'urls': [{u'url': u'https://t.co/J7pNAHyB5n', u'indices': [8, 31], u'expanded_url': u'https://twitter.com/bewhiteshawty/status/799615410719035392', u'display_url': u'twitter.com/bewhiteshawty/\\u2026'}]}, in_reply_to_screen_name=None, id_str=u'799615649811222528', retweet_count=2, in_reply_to_user_id=None, favorited=False, source_url=u'http://twitter.com/download/android', geo=None, in_reply_to_user_id_str=None, possibly_sensitive=False, lang=u'en', created_at=datetime.datetime(2016, 11, 18, 14, 10, 1), quoted_status_id_str=u'799615410719035392', in_reply_to_status_id_str=None, place=None, retweeted=False), source_url=u'http://twitter.com/download/android', geo=None, in_reply_to_user_id_str=None, possibly_sensitive=False, lang=u'en', created_at=datetime.datetime(2016, 11, 18, 14, 14, 49), quoted_status_id_str=u'799615410719035392', in_reply_to_status_id_str=None, place=None, retweeted=False), lang=u'fr', utc_offset=None, statuses_count=22, profile_background_color=u'F5F8FA', friends_count=451, profile_link_color=u'1DA1F2', profile_image_url=u'http://pbs.twimg.com/profile_images/792768696452259840/nmfNchy__normal.jpg', notifications=False, default_profile=True, profile_background_image_url_https=None, profile_banner_url=u'https://pbs.twimg.com/profile_banners/775022256644825088/1479248091', blocking=False, profile_background_image_url=None, name=u'Moussa Traore', is_translation_enabled=False, profile_background_tile=False, favourites_count=20, screen_name=u'MoussaT31335056', url=None, created_at=datetime.datetime(2016, 9, 11, 17, 24, 40), contributors_enabled=False, location=u'', profile_sidebar_border_color=u'C0DEED', translator_type=u'none', following=False),\n",
       " User(follow_request_sent=False, has_extended_profile=False, profile_use_background_image=True, profile_sidebar_fill_color=u'DDEEF6', live_following=False, time_zone=None, id=2943882130, description=u'', _api=<tweepy.api.API object at 0x7f0bc2b102d0>, verified=False, blocked_by=False, profile_text_color=u'333333', muting=False, profile_image_url_https=u'https://pbs.twimg.com/profile_images/785020866144894976/jH8N0vm2_normal.jpg', _json={u'follow_request_sent': False, u'has_extended_profile': False, u'profile_use_background_image': True, u'live_following': False, u'default_profile_image': False, u'id': 2943882130, u'profile_background_image_url_https': u'https://abs.twimg.com/images/themes/theme1/bg.png', u'translator_type': u'none', u'verified': False, u'blocked_by': False, u'profile_text_color': u'333333', u'muting': False, u'profile_image_url_https': u'https://pbs.twimg.com/profile_images/785020866144894976/jH8N0vm2_normal.jpg', u'profile_sidebar_fill_color': u'DDEEF6', u'entities': {u'description': {u'urls': []}}, u'followers_count': 27, u'profile_sidebar_border_color': u'C0DEED', u'id_str': u'2943882130', u'profile_background_color': u'C0DEED', u'listed_count': 0, u'status': {u'contributors': None, u'truncated': False, u'text': u'Ciao https://t.co/LSqDZlShQi', u'is_quote_status': False, u'in_reply_to_status_id': None, u'id': 797976727574183940, u'favorite_count': 1, u'source': u'<a href=\"http://twitter.com/download/android\" rel=\"nofollow\">Twitter for Android</a>', u'retweeted': False, u'coordinates': None, u'entities': {u'symbols': [], u'user_mentions': [], u'hashtags': [], u'urls': [], u'media': [{u'expanded_url': u'https://twitter.com/c940567cd281404/status/797976727574183940/photo/1', u'display_url': u'pic.twitter.com/LSqDZlShQi', u'url': u'https://t.co/LSqDZlShQi', u'media_url_https': u'https://pbs.twimg.com/media/CxL7XT9XAAAOArN.jpg', u'id_str': u'797976461911195648', u'sizes': {u'large': {u'h': 1280, u'resize': u'fit', u'w': 960}, u'small': {u'h': 680, u'resize': u'fit', u'w': 510}, u'medium': {u'h': 1200, u'resize': u'fit', u'w': 900}, u'thumb': {u'h': 150, u'resize': u'crop', u'w': 150}}, u'indices': [5, 28], u'type': u'photo', u'id': 797976461911195648, u'media_url': u'http://pbs.twimg.com/media/CxL7XT9XAAAOArN.jpg'}]}, u'in_reply_to_screen_name': None, u'in_reply_to_user_id': None, u'retweet_count': 0, u'id_str': u'797976727574183940', u'favorited': False, u'geo': None, u'in_reply_to_user_id_str': None, u'possibly_sensitive': False, u'lang': u'it', u'created_at': u'Mon Nov 14 01:37:32 +0000 2016', u'in_reply_to_status_id_str': None, u'place': None, u'extended_entities': {u'media': [{u'expanded_url': u'https://twitter.com/c940567cd281404/status/797976727574183940/photo/1', u'display_url': u'pic.twitter.com/LSqDZlShQi', u'url': u'https://t.co/LSqDZlShQi', u'media_url_https': u'https://pbs.twimg.com/media/CxL7XT9XAAAOArN.jpg', u'id_str': u'797976461911195648', u'sizes': {u'large': {u'h': 1280, u'resize': u'fit', u'w': 960}, u'small': {u'h': 680, u'resize': u'fit', u'w': 510}, u'medium': {u'h': 1200, u'resize': u'fit', u'w': 900}, u'thumb': {u'h': 150, u'resize': u'crop', u'w': 150}}, u'indices': [5, 28], u'type': u'photo', u'id': 797976461911195648, u'media_url': u'http://pbs.twimg.com/media/CxL7XT9XAAAOArN.jpg'}]}}, u'is_translation_enabled': False, u'utc_offset': None, u'statuses_count': 13, u'description': u'', u'friends_count': 444, u'location': u'', u'profile_link_color': u'1DA1F2', u'profile_image_url': u'http://pbs.twimg.com/profile_images/785020866144894976/jH8N0vm2_normal.jpg', u'following': False, u'geo_enabled': False, u'profile_banner_url': u'https://pbs.twimg.com/profile_banners/2943882130/1475440038', u'blocking': False, u'profile_background_image_url': u'http://abs.twimg.com/images/themes/theme1/bg.png', u'screen_name': u'c940567cd281404', u'lang': u'it', u'profile_background_tile': False, u'favourites_count': 105, u'name': u'Muhammad Waseem', u'notifications': False, u'url': None, u'created_at': u'Sat Dec 27 14:17:46 +0000 2014', u'contributors_enabled': False, u'time_zone': None, u'protected': False, u'default_profile': True, u'is_translator': False}, is_translator=False, geo_enabled=False, entities={u'description': {u'urls': []}}, followers_count=27, protected=False, id_str=u'2943882130', default_profile_image=False, listed_count=0, status=Status(contributors=None, truncated=False, text=u'Ciao https://t.co/LSqDZlShQi', is_quote_status=False, in_reply_to_status_id=None, id=797976727574183940, favorite_count=1, _api=<tweepy.api.API object at 0x7f0bc2b102d0>, source=u'Twitter for Android', _json={u'contributors': None, u'truncated': False, u'text': u'Ciao https://t.co/LSqDZlShQi', u'is_quote_status': False, u'in_reply_to_status_id': None, u'id': 797976727574183940, u'favorite_count': 1, u'source': u'<a href=\"http://twitter.com/download/android\" rel=\"nofollow\">Twitter for Android</a>', u'retweeted': False, u'coordinates': None, u'entities': {u'symbols': [], u'user_mentions': [], u'hashtags': [], u'urls': [], u'media': [{u'expanded_url': u'https://twitter.com/c940567cd281404/status/797976727574183940/photo/1', u'display_url': u'pic.twitter.com/LSqDZlShQi', u'url': u'https://t.co/LSqDZlShQi', u'media_url_https': u'https://pbs.twimg.com/media/CxL7XT9XAAAOArN.jpg', u'id_str': u'797976461911195648', u'sizes': {u'large': {u'h': 1280, u'resize': u'fit', u'w': 960}, u'small': {u'h': 680, u'resize': u'fit', u'w': 510}, u'medium': {u'h': 1200, u'resize': u'fit', u'w': 900}, u'thumb': {u'h': 150, u'resize': u'crop', u'w': 150}}, u'indices': [5, 28], u'type': u'photo', u'id': 797976461911195648, u'media_url': u'http://pbs.twimg.com/media/CxL7XT9XAAAOArN.jpg'}]}, u'in_reply_to_screen_name': None, u'in_reply_to_user_id': None, u'retweet_count': 0, u'id_str': u'797976727574183940', u'favorited': False, u'geo': None, u'in_reply_to_user_id_str': None, u'possibly_sensitive': False, u'lang': u'it', u'created_at': u'Mon Nov 14 01:37:32 +0000 2016', u'in_reply_to_status_id_str': None, u'place': None, u'extended_entities': {u'media': [{u'expanded_url': u'https://twitter.com/c940567cd281404/status/797976727574183940/photo/1', u'display_url': u'pic.twitter.com/LSqDZlShQi', u'url': u'https://t.co/LSqDZlShQi', u'media_url_https': u'https://pbs.twimg.com/media/CxL7XT9XAAAOArN.jpg', u'id_str': u'797976461911195648', u'sizes': {u'large': {u'h': 1280, u'resize': u'fit', u'w': 960}, u'small': {u'h': 680, u'resize': u'fit', u'w': 510}, u'medium': {u'h': 1200, u'resize': u'fit', u'w': 900}, u'thumb': {u'h': 150, u'resize': u'crop', u'w': 150}}, u'indices': [5, 28], u'type': u'photo', u'id': 797976461911195648, u'media_url': u'http://pbs.twimg.com/media/CxL7XT9XAAAOArN.jpg'}]}}, coordinates=None, entities={u'symbols': [], u'user_mentions': [], u'hashtags': [], u'urls': [], u'media': [{u'expanded_url': u'https://twitter.com/c940567cd281404/status/797976727574183940/photo/1', u'display_url': u'pic.twitter.com/LSqDZlShQi', u'url': u'https://t.co/LSqDZlShQi', u'media_url_https': u'https://pbs.twimg.com/media/CxL7XT9XAAAOArN.jpg', u'id_str': u'797976461911195648', u'sizes': {u'large': {u'h': 1280, u'resize': u'fit', u'w': 960}, u'small': {u'h': 680, u'resize': u'fit', u'w': 510}, u'medium': {u'h': 1200, u'resize': u'fit', u'w': 900}, u'thumb': {u'h': 150, u'resize': u'crop', u'w': 150}}, u'indices': [5, 28], u'type': u'photo', u'id': 797976461911195648, u'media_url': u'http://pbs.twimg.com/media/CxL7XT9XAAAOArN.jpg'}]}, in_reply_to_screen_name=None, id_str=u'797976727574183940', retweet_count=0, in_reply_to_user_id=None, favorited=False, source_url=u'http://twitter.com/download/android', geo=None, in_reply_to_user_id_str=None, possibly_sensitive=False, lang=u'it', created_at=datetime.datetime(2016, 11, 14, 1, 37, 32), in_reply_to_status_id_str=None, place=None, extended_entities={u'media': [{u'expanded_url': u'https://twitter.com/c940567cd281404/status/797976727574183940/photo/1', u'display_url': u'pic.twitter.com/LSqDZlShQi', u'url': u'https://t.co/LSqDZlShQi', u'media_url_https': u'https://pbs.twimg.com/media/CxL7XT9XAAAOArN.jpg', u'id_str': u'797976461911195648', u'sizes': {u'large': {u'h': 1280, u'resize': u'fit', u'w': 960}, u'small': {u'h': 680, u'resize': u'fit', u'w': 510}, u'medium': {u'h': 1200, u'resize': u'fit', u'w': 900}, u'thumb': {u'h': 150, u'resize': u'crop', u'w': 150}}, u'indices': [5, 28], u'type': u'photo', u'id': 797976461911195648, u'media_url': u'http://pbs.twimg.com/media/CxL7XT9XAAAOArN.jpg'}]}, retweeted=False), lang=u'it', utc_offset=None, statuses_count=13, profile_background_color=u'C0DEED', friends_count=444, profile_link_color=u'1DA1F2', profile_image_url=u'http://pbs.twimg.com/profile_images/785020866144894976/jH8N0vm2_normal.jpg', notifications=False, default_profile=True, profile_background_image_url_https=u'https://abs.twimg.com/images/themes/theme1/bg.png', profile_banner_url=u'https://pbs.twimg.com/profile_banners/2943882130/1475440038', blocking=False, profile_background_image_url=u'http://abs.twimg.com/images/themes/theme1/bg.png', name=u'Muhammad Waseem', is_translation_enabled=False, profile_background_tile=False, favourites_count=105, screen_name=u'c940567cd281404', url=None, created_at=datetime.datetime(2014, 12, 27, 14, 17, 46), contributors_enabled=False, location=u'', profile_sidebar_border_color=u'C0DEED', translator_type=u'none', following=False),\n",
       " User(follow_request_sent=False, has_extended_profile=True, profile_use_background_image=True, profile_sidebar_fill_color=u'DDEEF6', live_following=False, time_zone=u'Ljubljana', id=359157949, description=u'', _api=<tweepy.api.API object at 0x7f0bc2b102d0>, verified=False, blocked_by=False, profile_text_color=u'333333', muting=False, profile_image_url_https=u'https://pbs.twimg.com/profile_images/738657783642529792/bdoRDNzR_normal.jpg', _json={u'follow_request_sent': False, u'has_extended_profile': True, u'profile_use_background_image': True, u'live_following': False, u'default_profile_image': False, u'id': 359157949, u'profile_background_image_url_https': u'https://abs.twimg.com/images/themes/theme1/bg.png', u'translator_type': u'none', u'verified': False, u'blocked_by': False, u'profile_text_color': u'333333', u'muting': False, u'profile_image_url_https': u'https://pbs.twimg.com/profile_images/738657783642529792/bdoRDNzR_normal.jpg', u'profile_sidebar_fill_color': u'DDEEF6', u'entities': {u'description': {u'urls': []}}, u'followers_count': 31, u'profile_sidebar_border_color': u'C0DEED', u'id_str': u'359157949', u'profile_background_color': u'C0DEED', u'listed_count': 0, u'is_translation_enabled': False, u'utc_offset': 3600, u'statuses_count': 173, u'description': u'', u'friends_count': 575, u'location': u\"Reggio nell'Emilia, Emilia Rom\", u'profile_link_color': u'1DA1F2', u'profile_image_url': u'http://pbs.twimg.com/profile_images/738657783642529792/bdoRDNzR_normal.jpg', u'following': False, u'geo_enabled': False, u'profile_banner_url': u'https://pbs.twimg.com/profile_banners/359157949/1456333755', u'blocking': False, u'profile_background_image_url': u'http://abs.twimg.com/images/themes/theme1/bg.png', u'screen_name': u'Sheraz_gujjar87', u'lang': u'it', u'profile_background_tile': False, u'favourites_count': 61, u'name': u'Ch Sheraz Ahmad', u'notifications': False, u'url': None, u'created_at': u'Sun Aug 21 03:32:43 +0000 2011', u'contributors_enabled': False, u'time_zone': u'Ljubljana', u'protected': True, u'default_profile': True, u'is_translator': False}, is_translator=False, geo_enabled=False, entities={u'description': {u'urls': []}}, followers_count=31, protected=True, id_str=u'359157949', default_profile_image=False, listed_count=0, lang=u'it', utc_offset=3600, statuses_count=173, profile_background_color=u'C0DEED', friends_count=575, profile_link_color=u'1DA1F2', profile_image_url=u'http://pbs.twimg.com/profile_images/738657783642529792/bdoRDNzR_normal.jpg', notifications=False, default_profile=True, profile_background_image_url_https=u'https://abs.twimg.com/images/themes/theme1/bg.png', profile_banner_url=u'https://pbs.twimg.com/profile_banners/359157949/1456333755', blocking=False, profile_background_image_url=u'http://abs.twimg.com/images/themes/theme1/bg.png', name=u'Ch Sheraz Ahmad', is_translation_enabled=False, profile_background_tile=False, favourites_count=61, screen_name=u'Sheraz_gujjar87', url=None, created_at=datetime.datetime(2011, 8, 21, 3, 32, 43), contributors_enabled=False, location=u\"Reggio nell'Emilia, Emilia Rom\", profile_sidebar_border_color=u'C0DEED', translator_type=u'none', following=False),\n",
       " User(follow_request_sent=False, has_extended_profile=True, profile_use_background_image=True, profile_sidebar_fill_color=u'DDEEF6', live_following=False, time_zone=None, id=585623695, description=u'', _api=<tweepy.api.API object at 0x7f0bc2b102d0>, verified=False, blocked_by=False, profile_text_color=u'333333', muting=False, profile_image_url_https=u'https://pbs.twimg.com/profile_images/2234672253/image_normal.jpg', _json={u'follow_request_sent': False, u'has_extended_profile': True, u'profile_use_background_image': True, u'live_following': False, u'default_profile_image': False, u'id': 585623695, u'profile_background_image_url_https': u'https://abs.twimg.com/images/themes/theme1/bg.png', u'translator_type': u'none', u'verified': False, u'blocked_by': False, u'profile_text_color': u'333333', u'muting': False, u'profile_image_url_https': u'https://pbs.twimg.com/profile_images/2234672253/image_normal.jpg', u'profile_sidebar_fill_color': u'DDEEF6', u'entities': {u'description': {u'urls': []}}, u'followers_count': 45, u'profile_sidebar_border_color': u'C0DEED', u'id_str': u'585623695', u'profile_background_color': u'C0DEED', u'listed_count': 0, u'status': {u'contributors': None, u'truncated': False, u'text': u'RT @Pescara_VAVEL: #TerremotoCentroItalia: La Propagazione Delle Onde Sismiche Durata Pi\\xf9 Di 2 Minuti. IL VIDEO #INGV https://t.co/wpdpgdGJ\\u2026', u'is_quote_status': False, u'in_reply_to_status_id': None, u'id': 793019814264578048, u'favorite_count': 0, u'source': u'<a href=\"http://twitter.com/download/iphone\" rel=\"nofollow\">Twitter for iPhone</a>', u'retweeted': False, u'coordinates': None, u'entities': {u'symbols': [], u'user_mentions': [{u'id': 904246076, u'indices': [3, 17], u'id_str': u'904246076', u'screen_name': u'Pescara_VAVEL', u'name': u'Pescara VAVEL'}], u'hashtags': [{u'indices': [19, 41], u'text': u'TerremotoCentroItalia'}, {u'indices': [112, 117], u'text': u'INGV'}], u'urls': []}, u'in_reply_to_screen_name': None, u'in_reply_to_user_id': None, u'retweet_count': 1, u'id_str': u'793019814264578048', u'favorited': False, u'retweeted_status': {u'contributors': None, u'truncated': False, u'text': u'#TerremotoCentroItalia: La Propagazione Delle Onde Sismiche Durata Pi\\xf9 Di 2 Minuti. IL VIDEO #INGV https://t.co/wpdpgdGJ3R', u'is_quote_status': False, u'in_reply_to_status_id': None, u'id': 793018953224245251, u'favorite_count': 0, u'source': u'<a href=\"http://dlvr.it\" rel=\"nofollow\">dlvr.it</a>', u'retweeted': False, u'coordinates': None, u'entities': {u'symbols': [], u'user_mentions': [], u'hashtags': [{u'indices': [0, 22], u'text': u'TerremotoCentroItalia'}, {u'indices': [93, 98], u'text': u'INGV'}], u'urls': [{u'url': u'https://t.co/wpdpgdGJ3R', u'indices': [99, 122], u'expanded_url': u'http://dlvr.it/MYpMrh', u'display_url': u'dlvr.it/MYpMrh'}]}, u'in_reply_to_screen_name': None, u'in_reply_to_user_id': None, u'retweet_count': 1, u'id_str': u'793018953224245251', u'favorited': False, u'geo': None, u'in_reply_to_user_id_str': None, u'possibly_sensitive': False, u'lang': u'it', u'created_at': u'Mon Oct 31 09:17:06 +0000 2016', u'in_reply_to_status_id_str': None, u'place': None}, u'geo': None, u'in_reply_to_user_id_str': None, u'lang': u'it', u'created_at': u'Mon Oct 31 09:20:31 +0000 2016', u'in_reply_to_status_id_str': None, u'place': None}, u'is_translation_enabled': False, u'utc_offset': None, u'statuses_count': 10, u'description': u'', u'friends_count': 557, u'location': u'', u'profile_link_color': u'1DA1F2', u'profile_image_url': u'http://pbs.twimg.com/profile_images/2234672253/image_normal.jpg', u'following': False, u'geo_enabled': False, u'blocking': False, u'profile_background_image_url': u'http://abs.twimg.com/images/themes/theme1/bg.png', u'screen_name': u'monicapaus', u'lang': u'it', u'profile_background_tile': False, u'favourites_count': 18, u'name': u'monica pauselli', u'notifications': False, u'url': None, u'created_at': u'Sun May 20 12:15:22 +0000 2012', u'contributors_enabled': False, u'time_zone': None, u'protected': False, u'default_profile': True, u'is_translator': False}, is_translator=False, geo_enabled=False, entities={u'description': {u'urls': []}}, followers_count=45, protected=False, id_str=u'585623695', default_profile_image=False, listed_count=0, status=Status(contributors=None, truncated=False, text=u'RT @Pescara_VAVEL: #TerremotoCentroItalia: La Propagazione Delle Onde Sismiche Durata Pi\\xf9 Di 2 Minuti. IL VIDEO #INGV https://t.co/wpdpgdGJ\\u2026', is_quote_status=False, in_reply_to_status_id=None, id=793019814264578048, favorite_count=0, _api=<tweepy.api.API object at 0x7f0bc2b102d0>, source=u'Twitter for iPhone', _json={u'contributors': None, u'truncated': False, u'text': u'RT @Pescara_VAVEL: #TerremotoCentroItalia: La Propagazione Delle Onde Sismiche Durata Pi\\xf9 Di 2 Minuti. IL VIDEO #INGV https://t.co/wpdpgdGJ\\u2026', u'is_quote_status': False, u'in_reply_to_status_id': None, u'id': 793019814264578048, u'favorite_count': 0, u'source': u'<a href=\"http://twitter.com/download/iphone\" rel=\"nofollow\">Twitter for iPhone</a>', u'retweeted': False, u'coordinates': None, u'entities': {u'symbols': [], u'user_mentions': [{u'id': 904246076, u'indices': [3, 17], u'id_str': u'904246076', u'screen_name': u'Pescara_VAVEL', u'name': u'Pescara VAVEL'}], u'hashtags': [{u'indices': [19, 41], u'text': u'TerremotoCentroItalia'}, {u'indices': [112, 117], u'text': u'INGV'}], u'urls': []}, u'in_reply_to_screen_name': None, u'in_reply_to_user_id': None, u'retweet_count': 1, u'id_str': u'793019814264578048', u'favorited': False, u'retweeted_status': {u'contributors': None, u'truncated': False, u'text': u'#TerremotoCentroItalia: La Propagazione Delle Onde Sismiche Durata Pi\\xf9 Di 2 Minuti. IL VIDEO #INGV https://t.co/wpdpgdGJ3R', u'is_quote_status': False, u'in_reply_to_status_id': None, u'id': 793018953224245251, u'favorite_count': 0, u'source': u'<a href=\"http://dlvr.it\" rel=\"nofollow\">dlvr.it</a>', u'retweeted': False, u'coordinates': None, u'entities': {u'symbols': [], u'user_mentions': [], u'hashtags': [{u'indices': [0, 22], u'text': u'TerremotoCentroItalia'}, {u'indices': [93, 98], u'text': u'INGV'}], u'urls': [{u'url': u'https://t.co/wpdpgdGJ3R', u'indices': [99, 122], u'expanded_url': u'http://dlvr.it/MYpMrh', u'display_url': u'dlvr.it/MYpMrh'}]}, u'in_reply_to_screen_name': None, u'in_reply_to_user_id': None, u'retweet_count': 1, u'id_str': u'793018953224245251', u'favorited': False, u'geo': None, u'in_reply_to_user_id_str': None, u'possibly_sensitive': False, u'lang': u'it', u'created_at': u'Mon Oct 31 09:17:06 +0000 2016', u'in_reply_to_status_id_str': None, u'place': None}, u'geo': None, u'in_reply_to_user_id_str': None, u'lang': u'it', u'created_at': u'Mon Oct 31 09:20:31 +0000 2016', u'in_reply_to_status_id_str': None, u'place': None}, coordinates=None, entities={u'symbols': [], u'user_mentions': [{u'id': 904246076, u'indices': [3, 17], u'id_str': u'904246076', u'screen_name': u'Pescara_VAVEL', u'name': u'Pescara VAVEL'}], u'hashtags': [{u'indices': [19, 41], u'text': u'TerremotoCentroItalia'}, {u'indices': [112, 117], u'text': u'INGV'}], u'urls': []}, in_reply_to_screen_name=None, id_str=u'793019814264578048', retweet_count=1, in_reply_to_user_id=None, favorited=False, retweeted_status=Status(contributors=None, truncated=False, text=u'#TerremotoCentroItalia: La Propagazione Delle Onde Sismiche Durata Pi\\xf9 Di 2 Minuti. IL VIDEO #INGV https://t.co/wpdpgdGJ3R', is_quote_status=False, in_reply_to_status_id=None, id=793018953224245251, favorite_count=0, _api=<tweepy.api.API object at 0x7f0bc2b102d0>, source=u'dlvr.it', _json={u'contributors': None, u'truncated': False, u'text': u'#TerremotoCentroItalia: La Propagazione Delle Onde Sismiche Durata Pi\\xf9 Di 2 Minuti. IL VIDEO #INGV https://t.co/wpdpgdGJ3R', u'is_quote_status': False, u'in_reply_to_status_id': None, u'id': 793018953224245251, u'favorite_count': 0, u'source': u'<a href=\"http://dlvr.it\" rel=\"nofollow\">dlvr.it</a>', u'retweeted': False, u'coordinates': None, u'entities': {u'symbols': [], u'user_mentions': [], u'hashtags': [{u'indices': [0, 22], u'text': u'TerremotoCentroItalia'}, {u'indices': [93, 98], u'text': u'INGV'}], u'urls': [{u'url': u'https://t.co/wpdpgdGJ3R', u'indices': [99, 122], u'expanded_url': u'http://dlvr.it/MYpMrh', u'display_url': u'dlvr.it/MYpMrh'}]}, u'in_reply_to_screen_name': None, u'in_reply_to_user_id': None, u'retweet_count': 1, u'id_str': u'793018953224245251', u'favorited': False, u'geo': None, u'in_reply_to_user_id_str': None, u'possibly_sensitive': False, u'lang': u'it', u'created_at': u'Mon Oct 31 09:17:06 +0000 2016', u'in_reply_to_status_id_str': None, u'place': None}, coordinates=None, entities={u'symbols': [], u'user_mentions': [], u'hashtags': [{u'indices': [0, 22], u'text': u'TerremotoCentroItalia'}, {u'indices': [93, 98], u'text': u'INGV'}], u'urls': [{u'url': u'https://t.co/wpdpgdGJ3R', u'indices': [99, 122], u'expanded_url': u'http://dlvr.it/MYpMrh', u'display_url': u'dlvr.it/MYpMrh'}]}, in_reply_to_screen_name=None, id_str=u'793018953224245251', retweet_count=1, in_reply_to_user_id=None, favorited=False, source_url=u'http://dlvr.it', geo=None, in_reply_to_user_id_str=None, possibly_sensitive=False, lang=u'it', created_at=datetime.datetime(2016, 10, 31, 9, 17, 6), in_reply_to_status_id_str=None, place=None, retweeted=False), source_url=u'http://twitter.com/download/iphone', geo=None, in_reply_to_user_id_str=None, lang=u'it', created_at=datetime.datetime(2016, 10, 31, 9, 20, 31), in_reply_to_status_id_str=None, place=None, retweeted=False), lang=u'it', utc_offset=None, statuses_count=10, profile_background_color=u'C0DEED', friends_count=557, profile_link_color=u'1DA1F2', profile_image_url=u'http://pbs.twimg.com/profile_images/2234672253/image_normal.jpg', notifications=False, default_profile=True, profile_background_image_url_https=u'https://abs.twimg.com/images/themes/theme1/bg.png', blocking=False, profile_background_image_url=u'http://abs.twimg.com/images/themes/theme1/bg.png', name=u'monica pauselli', is_translation_enabled=False, profile_background_tile=False, favourites_count=18, screen_name=u'monicapaus', url=None, created_at=datetime.datetime(2012, 5, 20, 12, 15, 22), contributors_enabled=False, location=u'', profile_sidebar_border_color=u'C0DEED', translator_type=u'none', following=False),\n",
       " User(follow_request_sent=False, has_extended_profile=False, profile_use_background_image=False, profile_sidebar_fill_color=u'000000', live_following=False, time_zone=None, id=797410921777860608, description=u'South African retail banking executive. Excited by #Fintech, drives #data analytics, a #consumer #lending specialist believes in #FinancialInclusion. #dataviz', _api=<tweepy.api.API object at 0x7f0bc2b102d0>, verified=False, blocked_by=False, profile_text_color=u'000000', muting=False, profile_image_url_https=u'https://pbs.twimg.com/profile_images/798602254664237057/N124NBRM_normal.jpg', _json={u'follow_request_sent': False, u'has_extended_profile': False, u'profile_use_background_image': False, u'live_following': False, u'default_profile_image': False, u'id': 797410921777860608, u'profile_background_image_url_https': u'https://abs.twimg.com/images/themes/theme1/bg.png', u'translator_type': u'none', u'verified': False, u'blocked_by': False, u'profile_text_color': u'000000', u'muting': False, u'profile_image_url_https': u'https://pbs.twimg.com/profile_images/798602254664237057/N124NBRM_normal.jpg', u'profile_sidebar_fill_color': u'000000', u'entities': {u'description': {u'urls': []}}, u'followers_count': 306, u'profile_sidebar_border_color': u'000000', u'id_str': u'797410921777860608', u'profile_background_color': u'000000', u'listed_count': 22, u'status': {u'contributors': None, u'truncated': False, u'text': u'RT @JimMarous: Great start to day:\\nAngela Mhlanga from @StandardBankZA discusses how BancAssurance delivers an exceptional #digital experie\\u2026', u'is_quote_status': False, u'in_reply_to_status_id': None, u'id': 799556769173438464, u'favorite_count': 0, u'source': u'<a href=\"http://twitter.com/download/iphone\" rel=\"nofollow\">Twitter for iPhone</a>', u'retweeted': False, u'coordinates': None, u'entities': {u'symbols': [], u'user_mentions': [{u'id': 16137442, u'indices': [3, 13], u'id_str': u'16137442', u'screen_name': u'JimMarous', u'name': u'Jim Marous'}, {u'id': 56980888, u'indices': [55, 70], u'id_str': u'56980888', u'screen_name': u'StandardBankZA', u'name': u'Standard Bank SA'}], u'hashtags': [{u'indices': [123, 131], u'text': u'digital'}], u'urls': []}, u'in_reply_to_screen_name': None, u'in_reply_to_user_id': None, u'retweet_count': 4, u'id_str': u'799556769173438464', u'favorited': False, u'retweeted_status': {u'contributors': None, u'truncated': True, u'text': u'Great start to day:\\nAngela Mhlanga from @StandardBankZA discusses how BancAssurance delivers an exceptional\\u2026 https://t.co/ubKuAn5m8W', u'is_quote_status': False, u'in_reply_to_status_id': None, u'id': 799543299145166850, u'favorite_count': 1, u'source': u'<a href=\"http://twitter.com/download/iphone\" rel=\"nofollow\">Twitter for iPhone</a>', u'retweeted': False, u'coordinates': None, u'entities': {u'symbols': [], u'user_mentions': [{u'id': 56980888, u'indices': [40, 55], u'id_str': u'56980888', u'screen_name': u'StandardBankZA', u'name': u'Standard Bank SA'}], u'hashtags': [], u'urls': [{u'url': u'https://t.co/ubKuAn5m8W', u'indices': [109, 132], u'expanded_url': u'https://twitter.com/i/web/status/799543299145166850', u'display_url': u'twitter.com/i/web/status/7\\u2026'}]}, u'in_reply_to_screen_name': None, u'in_reply_to_user_id': None, u'retweet_count': 4, u'id_str': u'799543299145166850', u'favorited': False, u'geo': None, u'in_reply_to_user_id_str': None, u'possibly_sensitive': False, u'lang': u'en', u'created_at': u'Fri Nov 18 09:22:31 +0000 2016', u'in_reply_to_status_id_str': None, u'place': None}, u'geo': None, u'in_reply_to_user_id_str': None, u'lang': u'en', u'created_at': u'Fri Nov 18 10:16:03 +0000 2016', u'in_reply_to_status_id_str': None, u'place': None}, u'is_translation_enabled': False, u'utc_offset': None, u'statuses_count': 109, u'description': u'South African retail banking executive. Excited by #Fintech, drives #data analytics, a #consumer #lending specialist believes in #FinancialInclusion. #dataviz', u'friends_count': 1771, u'location': u'Cape Town, South Africa', u'profile_link_color': u'ABB8C2', u'profile_image_url': u'http://pbs.twimg.com/profile_images/798602254664237057/N124NBRM_normal.jpg', u'following': False, u'geo_enabled': False, u'profile_banner_url': u'https://pbs.twimg.com/profile_banners/797410921777860608/1478963175', u'blocking': False, u'profile_background_image_url': u'http://abs.twimg.com/images/themes/theme1/bg.png', u'screen_name': u'thiruvilasen', u'lang': u'en', u'profile_background_tile': False, u'favourites_count': 102, u'name': u'Thiru Pillay', u'notifications': False, u'url': None, u'created_at': u'Sat Nov 12 12:09:13 +0000 2016', u'contributors_enabled': False, u'time_zone': None, u'protected': False, u'default_profile': False, u'is_translator': False}, is_translator=False, geo_enabled=False, entities={u'description': {u'urls': []}}, followers_count=306, protected=False, id_str=u'797410921777860608', default_profile_image=False, listed_count=22, status=Status(contributors=None, truncated=False, text=u'RT @JimMarous: Great start to day:\\nAngela Mhlanga from @StandardBankZA discusses how BancAssurance delivers an exceptional #digital experie\\u2026', is_quote_status=False, in_reply_to_status_id=None, id=799556769173438464, favorite_count=0, _api=<tweepy.api.API object at 0x7f0bc2b102d0>, source=u'Twitter for iPhone', _json={u'contributors': None, u'truncated': False, u'text': u'RT @JimMarous: Great start to day:\\nAngela Mhlanga from @StandardBankZA discusses how BancAssurance delivers an exceptional #digital experie\\u2026', u'is_quote_status': False, u'in_reply_to_status_id': None, u'id': 799556769173438464, u'favorite_count': 0, u'source': u'<a href=\"http://twitter.com/download/iphone\" rel=\"nofollow\">Twitter for iPhone</a>', u'retweeted': False, u'coordinates': None, u'entities': {u'symbols': [], u'user_mentions': [{u'id': 16137442, u'indices': [3, 13], u'id_str': u'16137442', u'screen_name': u'JimMarous', u'name': u'Jim Marous'}, {u'id': 56980888, u'indices': [55, 70], u'id_str': u'56980888', u'screen_name': u'StandardBankZA', u'name': u'Standard Bank SA'}], u'hashtags': [{u'indices': [123, 131], u'text': u'digital'}], u'urls': []}, u'in_reply_to_screen_name': None, u'in_reply_to_user_id': None, u'retweet_count': 4, u'id_str': u'799556769173438464', u'favorited': False, u'retweeted_status': {u'contributors': None, u'truncated': True, u'text': u'Great start to day:\\nAngela Mhlanga from @StandardBankZA discusses how BancAssurance delivers an exceptional\\u2026 https://t.co/ubKuAn5m8W', u'is_quote_status': False, u'in_reply_to_status_id': None, u'id': 799543299145166850, u'favorite_count': 1, u'source': u'<a href=\"http://twitter.com/download/iphone\" rel=\"nofollow\">Twitter for iPhone</a>', u'retweeted': False, u'coordinates': None, u'entities': {u'symbols': [], u'user_mentions': [{u'id': 56980888, u'indices': [40, 55], u'id_str': u'56980888', u'screen_name': u'StandardBankZA', u'name': u'Standard Bank SA'}], u'hashtags': [], u'urls': [{u'url': u'https://t.co/ubKuAn5m8W', u'indices': [109, 132], u'expanded_url': u'https://twitter.com/i/web/status/799543299145166850', u'display_url': u'twitter.com/i/web/status/7\\u2026'}]}, u'in_reply_to_screen_name': None, u'in_reply_to_user_id': None, u'retweet_count': 4, u'id_str': u'799543299145166850', u'favorited': False, u'geo': None, u'in_reply_to_user_id_str': None, u'possibly_sensitive': False, u'lang': u'en', u'created_at': u'Fri Nov 18 09:22:31 +0000 2016', u'in_reply_to_status_id_str': None, u'place': None}, u'geo': None, u'in_reply_to_user_id_str': None, u'lang': u'en', u'created_at': u'Fri Nov 18 10:16:03 +0000 2016', u'in_reply_to_status_id_str': None, u'place': None}, coordinates=None, entities={u'symbols': [], u'user_mentions': [{u'id': 16137442, u'indices': [3, 13], u'id_str': u'16137442', u'screen_name': u'JimMarous', u'name': u'Jim Marous'}, {u'id': 56980888, u'indices': [55, 70], u'id_str': u'56980888', u'screen_name': u'StandardBankZA', u'name': u'Standard Bank SA'}], u'hashtags': [{u'indices': [123, 131], u'text': u'digital'}], u'urls': []}, in_reply_to_screen_name=None, id_str=u'799556769173438464', retweet_count=4, in_reply_to_user_id=None, favorited=False, retweeted_status=Status(contributors=None, truncated=True, text=u'Great start to day:\\nAngela Mhlanga from @StandardBankZA discusses how BancAssurance delivers an exceptional\\u2026 https://t.co/ubKuAn5m8W', is_quote_status=False, in_reply_to_status_id=None, id=799543299145166850, favorite_count=1, _api=<tweepy.api.API object at 0x7f0bc2b102d0>, source=u'Twitter for iPhone', _json={u'contributors': None, u'truncated': True, u'text': u'Great start to day:\\nAngela Mhlanga from @StandardBankZA discusses how BancAssurance delivers an exceptional\\u2026 https://t.co/ubKuAn5m8W', u'is_quote_status': False, u'in_reply_to_status_id': None, u'id': 799543299145166850, u'favorite_count': 1, u'source': u'<a href=\"http://twitter.com/download/iphone\" rel=\"nofollow\">Twitter for iPhone</a>', u'retweeted': False, u'coordinates': None, u'entities': {u'symbols': [], u'user_mentions': [{u'id': 56980888, u'indices': [40, 55], u'id_str': u'56980888', u'screen_name': u'StandardBankZA', u'name': u'Standard Bank SA'}], u'hashtags': [], u'urls': [{u'url': u'https://t.co/ubKuAn5m8W', u'indices': [109, 132], u'expanded_url': u'https://twitter.com/i/web/status/799543299145166850', u'display_url': u'twitter.com/i/web/status/7\\u2026'}]}, u'in_reply_to_screen_name': None, u'in_reply_to_user_id': None, u'retweet_count': 4, u'id_str': u'799543299145166850', u'favorited': False, u'geo': None, u'in_reply_to_user_id_str': None, u'possibly_sensitive': False, u'lang': u'en', u'created_at': u'Fri Nov 18 09:22:31 +0000 2016', u'in_reply_to_status_id_str': None, u'place': None}, coordinates=None, entities={u'symbols': [], u'user_mentions': [{u'id': 56980888, u'indices': [40, 55], u'id_str': u'56980888', u'screen_name': u'StandardBankZA', u'name': u'Standard Bank SA'}], u'hashtags': [], u'urls': [{u'url': u'https://t.co/ubKuAn5m8W', u'indices': [109, 132], u'expanded_url': u'https://twitter.com/i/web/status/799543299145166850', u'display_url': u'twitter.com/i/web/status/7\\u2026'}]}, in_reply_to_screen_name=None, id_str=u'799543299145166850', retweet_count=4, in_reply_to_user_id=None, favorited=False, source_url=u'http://twitter.com/download/iphone', geo=None, in_reply_to_user_id_str=None, possibly_sensitive=False, lang=u'en', created_at=datetime.datetime(2016, 11, 18, 9, 22, 31), in_reply_to_status_id_str=None, place=None, retweeted=False), source_url=u'http://twitter.com/download/iphone', geo=None, in_reply_to_user_id_str=None, lang=u'en', created_at=datetime.datetime(2016, 11, 18, 10, 16, 3), in_reply_to_status_id_str=None, place=None, retweeted=False), lang=u'en', utc_offset=None, statuses_count=109, profile_background_color=u'000000', friends_count=1771, profile_link_color=u'ABB8C2', profile_image_url=u'http://pbs.twimg.com/profile_images/798602254664237057/N124NBRM_normal.jpg', notifications=False, default_profile=False, profile_background_image_url_https=u'https://abs.twimg.com/images/themes/theme1/bg.png', profile_banner_url=u'https://pbs.twimg.com/profile_banners/797410921777860608/1478963175', blocking=False, profile_background_image_url=u'http://abs.twimg.com/images/themes/theme1/bg.png', name=u'Thiru Pillay', is_translation_enabled=False, profile_background_tile=False, favourites_count=102, screen_name=u'thiruvilasen', url=None, created_at=datetime.datetime(2016, 11, 12, 12, 9, 13), contributors_enabled=False, location=u'Cape Town, South Africa', profile_sidebar_border_color=u'000000', translator_type=u'none', following=False),\n",
       " User(follow_request_sent=False, has_extended_profile=False, profile_use_background_image=True, profile_sidebar_fill_color=u'252429', live_following=False, time_zone=u'Rome', id=268228482, description=u'Designer. Achiever. 25. Sterminate ogni pensiero razionale (W.B.)', _api=<tweepy.api.API object at 0x7f0bc2b102d0>, verified=False, blocked_by=False, profile_text_color=u'666666', muting=False, profile_image_url_https=u'https://pbs.twimg.com/profile_images/781060584670367745/aSFF24HG_normal.jpg', _json={u'follow_request_sent': False, u'has_extended_profile': False, u'profile_use_background_image': True, u'live_following': False, u'default_profile_image': False, u'id': 268228482, u'profile_background_image_url_https': u'https://abs.twimg.com/images/themes/theme9/bg.gif', u'translator_type': u'none', u'verified': False, u'blocked_by': False, u'profile_text_color': u'666666', u'muting': False, u'profile_image_url_https': u'https://pbs.twimg.com/profile_images/781060584670367745/aSFF24HG_normal.jpg', u'profile_sidebar_fill_color': u'252429', u'entities': {u'url': {u'urls': [{u'url': u'https://t.co/wJ4iMtBcZr', u'indices': [0, 23], u'expanded_url': u'http://www.2l2t.it', u'display_url': u'2l2t.it'}]}, u'description': {u'urls': []}}, u'followers_count': 114, u'profile_sidebar_border_color': u'FFFFFF', u'id_str': u'268228482', u'profile_background_color': u'1A1B1F', u'listed_count': 13, u'status': {u'contributors': None, u'truncated': False, u'text': u'\\u201cTelling the user\\u2019s story\\u201d by @christianrick https://t.co/hvq1J9BfV7 #storytelling #ux', u'is_quote_status': False, u'in_reply_to_status_id': None, u'id': 799363825447354368, u'favorite_count': 7, u'source': u'<a href=\"http://twitter.com\" rel=\"nofollow\">Twitter Web Client</a>', u'retweeted': False, u'coordinates': None, u'entities': {u'symbols': [], u'user_mentions': [{u'id': 44577332, u'indices': [30, 44], u'id_str': u'44577332', u'screen_name': u'christianrick', u'name': u'Christian Rick'}], u'hashtags': [{u'indices': [69, 82], u'text': u'storytelling'}, {u'indices': [83, 86], u'text': u'ux'}], u'urls': [{u'url': u'https://t.co/hvq1J9BfV7', u'indices': [45, 68], u'expanded_url': u'https://uxdesign.cc/telling-the-users-story-b64619b6636e#.4gcd20f4w', u'display_url': u'uxdesign.cc/telling-the-us\\u2026'}]}, u'in_reply_to_screen_name': None, u'in_reply_to_user_id': None, u'retweet_count': 1, u'id_str': u'799363825447354368', u'favorited': False, u'geo': None, u'in_reply_to_user_id_str': None, u'possibly_sensitive': False, u'lang': u'en', u'created_at': u'Thu Nov 17 21:29:22 +0000 2016', u'in_reply_to_status_id_str': None, u'place': None}, u'is_translation_enabled': False, u'utc_offset': 3600, u'statuses_count': 848, u'description': u'Designer. Achiever. 25. Sterminate ogni pensiero razionale (W.B.)', u'friends_count': 320, u'location': u'Italia', u'profile_link_color': u'19CF86', u'profile_image_url': u'http://pbs.twimg.com/profile_images/781060584670367745/aSFF24HG_normal.jpg', u'following': False, u'geo_enabled': True, u'blocking': False, u'profile_background_image_url': u'http://abs.twimg.com/images/themes/theme9/bg.gif', u'screen_name': u'fabersince991', u'lang': u'it', u'profile_background_tile': False, u'favourites_count': 80, u'name': u'Fabrizio Ponzelletti', u'notifications': False, u'url': u'https://t.co/wJ4iMtBcZr', u'created_at': u'Fri Mar 18 11:10:35 +0000 2011', u'contributors_enabled': False, u'time_zone': u'Rome', u'protected': False, u'default_profile': False, u'is_translator': False}, is_translator=False, geo_enabled=True, entities={u'url': {u'urls': [{u'url': u'https://t.co/wJ4iMtBcZr', u'indices': [0, 23], u'expanded_url': u'http://www.2l2t.it', u'display_url': u'2l2t.it'}]}, u'description': {u'urls': []}}, followers_count=114, protected=False, id_str=u'268228482', default_profile_image=False, listed_count=13, status=Status(contributors=None, truncated=False, text=u'\\u201cTelling the user\\u2019s story\\u201d by @christianrick https://t.co/hvq1J9BfV7 #storytelling #ux', is_quote_status=False, in_reply_to_status_id=None, id=799363825447354368, favorite_count=7, _api=<tweepy.api.API object at 0x7f0bc2b102d0>, source=u'Twitter Web Client', _json={u'contributors': None, u'truncated': False, u'text': u'\\u201cTelling the user\\u2019s story\\u201d by @christianrick https://t.co/hvq1J9BfV7 #storytelling #ux', u'is_quote_status': False, u'in_reply_to_status_id': None, u'id': 799363825447354368, u'favorite_count': 7, u'source': u'<a href=\"http://twitter.com\" rel=\"nofollow\">Twitter Web Client</a>', u'retweeted': False, u'coordinates': None, u'entities': {u'symbols': [], u'user_mentions': [{u'id': 44577332, u'indices': [30, 44], u'id_str': u'44577332', u'screen_name': u'christianrick', u'name': u'Christian Rick'}], u'hashtags': [{u'indices': [69, 82], u'text': u'storytelling'}, {u'indices': [83, 86], u'text': u'ux'}], u'urls': [{u'url': u'https://t.co/hvq1J9BfV7', u'indices': [45, 68], u'expanded_url': u'https://uxdesign.cc/telling-the-users-story-b64619b6636e#.4gcd20f4w', u'display_url': u'uxdesign.cc/telling-the-us\\u2026'}]}, u'in_reply_to_screen_name': None, u'in_reply_to_user_id': None, u'retweet_count': 1, u'id_str': u'799363825447354368', u'favorited': False, u'geo': None, u'in_reply_to_user_id_str': None, u'possibly_sensitive': False, u'lang': u'en', u'created_at': u'Thu Nov 17 21:29:22 +0000 2016', u'in_reply_to_status_id_str': None, u'place': None}, coordinates=None, entities={u'symbols': [], u'user_mentions': [{u'id': 44577332, u'indices': [30, 44], u'id_str': u'44577332', u'screen_name': u'christianrick', u'name': u'Christian Rick'}], u'hashtags': [{u'indices': [69, 82], u'text': u'storytelling'}, {u'indices': [83, 86], u'text': u'ux'}], u'urls': [{u'url': u'https://t.co/hvq1J9BfV7', u'indices': [45, 68], u'expanded_url': u'https://uxdesign.cc/telling-the-users-story-b64619b6636e#.4gcd20f4w', u'display_url': u'uxdesign.cc/telling-the-us\\u2026'}]}, in_reply_to_screen_name=None, id_str=u'799363825447354368', retweet_count=1, in_reply_to_user_id=None, favorited=False, source_url=u'http://twitter.com', geo=None, in_reply_to_user_id_str=None, possibly_sensitive=False, lang=u'en', created_at=datetime.datetime(2016, 11, 17, 21, 29, 22), in_reply_to_status_id_str=None, place=None, retweeted=False), lang=u'it', utc_offset=3600, statuses_count=848, profile_background_color=u'1A1B1F', friends_count=320, profile_link_color=u'19CF86', profile_image_url=u'http://pbs.twimg.com/profile_images/781060584670367745/aSFF24HG_normal.jpg', notifications=False, default_profile=False, profile_background_image_url_https=u'https://abs.twimg.com/images/themes/theme9/bg.gif', blocking=False, profile_background_image_url=u'http://abs.twimg.com/images/themes/theme9/bg.gif', name=u'Fabrizio Ponzelletti', is_translation_enabled=False, profile_background_tile=False, favourites_count=80, screen_name=u'fabersince991', url=u'https://t.co/wJ4iMtBcZr', created_at=datetime.datetime(2011, 3, 18, 11, 10, 35), contributors_enabled=False, location=u'Italia', profile_sidebar_border_color=u'FFFFFF', translator_type=u'none', following=False),\n",
       " User(follow_request_sent=False, has_extended_profile=False, profile_use_background_image=True, profile_sidebar_fill_color=u'DDEEF6', live_following=False, time_zone=None, id=789788444486733824, description=u\"La vita \\xe8 come un albero di natale c'\\xe8 sempre qualcuno che rompe le palle\", _api=<tweepy.api.API object at 0x7f0bc2b102d0>, verified=False, blocked_by=False, profile_text_color=u'333333', muting=False, profile_image_url_https=u'https://pbs.twimg.com/profile_images/789789639615909888/deihH0mN_normal.jpg', _json={u'follow_request_sent': False, u'has_extended_profile': False, u'profile_use_background_image': True, u'live_following': False, u'default_profile_image': False, u'id': 789788444486733824, u'profile_background_image_url_https': None, u'translator_type': u'none', u'verified': False, u'blocked_by': False, u'profile_text_color': u'333333', u'muting': False, u'profile_image_url_https': u'https://pbs.twimg.com/profile_images/789789639615909888/deihH0mN_normal.jpg', u'profile_sidebar_fill_color': u'DDEEF6', u'entities': {u'description': {u'urls': []}}, u'followers_count': 28, u'profile_sidebar_border_color': u'C0DEED', u'id_str': u'789788444486733824', u'profile_background_color': u'F5F8FA', u'listed_count': 0, u'status': {u'contributors': None, u'truncated': False, u'text': u'Puoi essere un mio follower  jack https://t.co/BfPGo26V4q', u'is_quote_status': True, u'in_reply_to_status_id': None, u'id': 799605874155290624, u'favorite_count': 0, u'source': u'<a href=\"http://twitter.com/download/android\" rel=\"nofollow\">Twitter for Android</a>', u'quoted_status_id': 799366027427586048, u'retweeted': False, u'coordinates': None, u'entities': {u'symbols': [], u'user_mentions': [], u'hashtags': [], u'urls': [{u'url': u'https://t.co/BfPGo26V4q', u'indices': [34, 57], u'expanded_url': u'https://twitter.com/NobileJack/status/799366027427586048', u'display_url': u'twitter.com/NobileJack/sta\\u2026'}]}, u'in_reply_to_screen_name': None, u'in_reply_to_user_id': None, u'retweet_count': 0, u'id_str': u'799605874155290624', u'favorited': False, u'geo': None, u'in_reply_to_user_id_str': None, u'possibly_sensitive': False, u'lang': u'it', u'created_at': u'Fri Nov 18 13:31:11 +0000 2016', u'quoted_status_id_str': u'799366027427586048', u'in_reply_to_status_id_str': None, u'place': None}, u'is_translation_enabled': False, u'utc_offset': None, u'statuses_count': 13, u'description': u\"La vita \\xe8 come un albero di natale c'\\xe8 sempre qualcuno che rompe le palle\", u'friends_count': 376, u'location': u'', u'profile_link_color': u'1DA1F2', u'profile_image_url': u'http://pbs.twimg.com/profile_images/789789639615909888/deihH0mN_normal.jpg', u'following': False, u'geo_enabled': False, u'blocking': False, u'profile_background_image_url': None, u'screen_name': u'marcomccall11', u'lang': u'it', u'profile_background_tile': False, u'favourites_count': 48, u'name': u'Marco Nard\\xf2', u'notifications': False, u'url': None, u'created_at': u'Sat Oct 22 11:20:13 +0000 2016', u'contributors_enabled': False, u'time_zone': None, u'protected': False, u'default_profile': True, u'is_translator': False}, is_translator=False, geo_enabled=False, entities={u'description': {u'urls': []}}, followers_count=28, protected=False, id_str=u'789788444486733824', default_profile_image=False, listed_count=0, status=Status(contributors=None, truncated=False, text=u'Puoi essere un mio follower  jack https://t.co/BfPGo26V4q', is_quote_status=True, in_reply_to_status_id=None, id=799605874155290624, favorite_count=0, _api=<tweepy.api.API object at 0x7f0bc2b102d0>, source=u'Twitter for Android', quoted_status_id=799366027427586048, _json={u'contributors': None, u'truncated': False, u'text': u'Puoi essere un mio follower  jack https://t.co/BfPGo26V4q', u'is_quote_status': True, u'in_reply_to_status_id': None, u'id': 799605874155290624, u'favorite_count': 0, u'source': u'<a href=\"http://twitter.com/download/android\" rel=\"nofollow\">Twitter for Android</a>', u'quoted_status_id': 799366027427586048, u'retweeted': False, u'coordinates': None, u'entities': {u'symbols': [], u'user_mentions': [], u'hashtags': [], u'urls': [{u'url': u'https://t.co/BfPGo26V4q', u'indices': [34, 57], u'expanded_url': u'https://twitter.com/NobileJack/status/799366027427586048', u'display_url': u'twitter.com/NobileJack/sta\\u2026'}]}, u'in_reply_to_screen_name': None, u'in_reply_to_user_id': None, u'retweet_count': 0, u'id_str': u'799605874155290624', u'favorited': False, u'geo': None, u'in_reply_to_user_id_str': None, u'possibly_sensitive': False, u'lang': u'it', u'created_at': u'Fri Nov 18 13:31:11 +0000 2016', u'quoted_status_id_str': u'799366027427586048', u'in_reply_to_status_id_str': None, u'place': None}, coordinates=None, entities={u'symbols': [], u'user_mentions': [], u'hashtags': [], u'urls': [{u'url': u'https://t.co/BfPGo26V4q', u'indices': [34, 57], u'expanded_url': u'https://twitter.com/NobileJack/status/799366027427586048', u'display_url': u'twitter.com/NobileJack/sta\\u2026'}]}, in_reply_to_screen_name=None, id_str=u'799605874155290624', retweet_count=0, in_reply_to_user_id=None, favorited=False, source_url=u'http://twitter.com/download/android', geo=None, in_reply_to_user_id_str=None, possibly_sensitive=False, lang=u'it', created_at=datetime.datetime(2016, 11, 18, 13, 31, 11), quoted_status_id_str=u'799366027427586048', in_reply_to_status_id_str=None, place=None, retweeted=False), lang=u'it', utc_offset=None, statuses_count=13, profile_background_color=u'F5F8FA', friends_count=376, profile_link_color=u'1DA1F2', profile_image_url=u'http://pbs.twimg.com/profile_images/789789639615909888/deihH0mN_normal.jpg', notifications=False, default_profile=True, profile_background_image_url_https=None, blocking=False, profile_background_image_url=None, name=u'Marco Nard\\xf2', is_translation_enabled=False, profile_background_tile=False, favourites_count=48, screen_name=u'marcomccall11', url=None, created_at=datetime.datetime(2016, 10, 22, 11, 20, 13), contributors_enabled=False, location=u'', profile_sidebar_border_color=u'C0DEED', translator_type=u'none', following=False),\n",
       " User(follow_request_sent=False, has_extended_profile=False, profile_use_background_image=False, profile_sidebar_fill_color=u'000000', live_following=False, time_zone=u'Athens', id=96963956, description=u'Questo \\xe8 il mio account originale. Anche se a volte sono meglio le imitazioni. (Papaleo) \\u263a\\n\\nTweets from me signed \\u2013D', _api=<tweepy.api.API object at 0x7f0bc2b102d0>, verified=False, blocked_by=False, profile_text_color=u'000000', muting=False, profile_image_url_https=u'https://pbs.twimg.com/profile_images/1803038390/dario055_normal.JPG', _json={u'follow_request_sent': False, u'has_extended_profile': False, u'profile_use_background_image': False, u'live_following': False, u'default_profile_image': False, u'id': 96963956, u'profile_background_image_url_https': u'https://abs.twimg.com/images/themes/theme16/bg.gif', u'translator_type': u'none', u'verified': False, u'blocked_by': False, u'profile_text_color': u'000000', u'muting': False, u'profile_image_url_https': u'https://pbs.twimg.com/profile_images/1803038390/dario055_normal.JPG', u'profile_sidebar_fill_color': u'000000', u'entities': {u'url': {u'urls': [{u'url': u'https://t.co/zvlMqr4ezb', u'indices': [0, 23], u'expanded_url': u'http://bit.ly/23cGsLT', u'display_url': u'bit.ly/23cGsLT'}]}, u'description': {u'urls': []}}, u'followers_count': 138, u'profile_sidebar_border_color': u'000000', u'id_str': u'96963956', u'profile_background_color': u'000000', u'listed_count': 12, u'status': {u'contributors': None, u'truncated': False, u'text': u'RT @Stanford: Nariman Farsad has built a chemical texting system that sends messages through pulses of glass cleaner and vinegar. https://t\\u2026', u'is_quote_status': False, u'in_reply_to_status_id': None, u'id': 798764314928648193, u'favorite_count': 0, u'source': u'<a href=\"http://twitter.com/download/android\" rel=\"nofollow\">Twitter for Android</a>', u'retweeted': False, u'coordinates': None, u'entities': {u'symbols': [], u'user_mentions': [{u'id': 18036441, u'indices': [3, 12], u'id_str': u'18036441', u'screen_name': u'Stanford', u'name': u'Stanford University'}], u'hashtags': [], u'urls': []}, u'in_reply_to_screen_name': None, u'in_reply_to_user_id': None, u'retweet_count': 64, u'id_str': u'798764314928648193', u'favorited': False, u'retweeted_status': {u'contributors': None, u'truncated': True, u'text': u'Nariman Farsad has built a chemical texting system that sends messages through pulses of glass cleaner and vinegar.\\u2026 https://t.co/Or8cmxmAXU', u'is_quote_status': False, u'in_reply_to_status_id': None, u'id': 798626839627345920, u'favorite_count': 110, u'source': u'<a href=\"http://www.socialflow.com\" rel=\"nofollow\">SocialFlow</a>', u'retweeted': False, u'coordinates': None, u'entities': {u'symbols': [], u'user_mentions': [], u'hashtags': [], u'urls': [{u'url': u'https://t.co/Or8cmxmAXU', u'indices': [117, 140], u'expanded_url': u'https://twitter.com/i/web/status/798626839627345920', u'display_url': u'twitter.com/i/web/status/7\\u2026'}]}, u'in_reply_to_screen_name': None, u'in_reply_to_user_id': None, u'retweet_count': 64, u'id_str': u'798626839627345920', u'favorited': False, u'geo': None, u'in_reply_to_user_id_str': None, u'possibly_sensitive': False, u'lang': u'en', u'created_at': u'Tue Nov 15 20:40:50 +0000 2016', u'in_reply_to_status_id_str': None, u'place': None}, u'geo': None, u'in_reply_to_user_id_str': None, u'lang': u'en', u'created_at': u'Wed Nov 16 05:47:07 +0000 2016', u'in_reply_to_status_id_str': None, u'place': None}, u'is_translation_enabled': False, u'utc_offset': 7200, u'statuses_count': 788, u'description': u'Questo \\xe8 il mio account originale. Anche se a volte sono meglio le imitazioni. (Papaleo) \\u263a\\n\\nTweets from me signed \\u2013D', u'friends_count': 521, u'location': u'Ms3', u'profile_link_color': u'3B94D9', u'profile_image_url': u'http://pbs.twimg.com/profile_images/1803038390/dario055_normal.JPG', u'following': False, u'geo_enabled': True, u'profile_banner_url': u'https://pbs.twimg.com/profile_banners/96963956/1443385720', u'blocking': False, u'profile_background_image_url': u'http://abs.twimg.com/images/themes/theme16/bg.gif', u'screen_name': u'dariomasiero', u'lang': u'en', u'profile_background_tile': False, u'favourites_count': 926, u'name': u'Dario Masiero', u'notifications': False, u'url': u'https://t.co/zvlMqr4ezb', u'created_at': u'Tue Dec 15 11:35:24 +0000 2009', u'contributors_enabled': False, u'time_zone': u'Athens', u'protected': False, u'default_profile': False, u'is_translator': False}, is_translator=False, geo_enabled=True, entities={u'url': {u'urls': [{u'url': u'https://t.co/zvlMqr4ezb', u'indices': [0, 23], u'expanded_url': u'http://bit.ly/23cGsLT', u'display_url': u'bit.ly/23cGsLT'}]}, u'description': {u'urls': []}}, followers_count=138, protected=False, id_str=u'96963956', default_profile_image=False, listed_count=12, status=Status(contributors=None, truncated=False, text=u'RT @Stanford: Nariman Farsad has built a chemical texting system that sends messages through pulses of glass cleaner and vinegar. https://t\\u2026', is_quote_status=False, in_reply_to_status_id=None, id=798764314928648193, favorite_count=0, _api=<tweepy.api.API object at 0x7f0bc2b102d0>, source=u'Twitter for Android', _json={u'contributors': None, u'truncated': False, u'text': u'RT @Stanford: Nariman Farsad has built a chemical texting system that sends messages through pulses of glass cleaner and vinegar. https://t\\u2026', u'is_quote_status': False, u'in_reply_to_status_id': None, u'id': 798764314928648193, u'favorite_count': 0, u'source': u'<a href=\"http://twitter.com/download/android\" rel=\"nofollow\">Twitter for Android</a>', u'retweeted': False, u'coordinates': None, u'entities': {u'symbols': [], u'user_mentions': [{u'id': 18036441, u'indices': [3, 12], u'id_str': u'18036441', u'screen_name': u'Stanford', u'name': u'Stanford University'}], u'hashtags': [], u'urls': []}, u'in_reply_to_screen_name': None, u'in_reply_to_user_id': None, u'retweet_count': 64, u'id_str': u'798764314928648193', u'favorited': False, u'retweeted_status': {u'contributors': None, u'truncated': True, u'text': u'Nariman Farsad has built a chemical texting system that sends messages through pulses of glass cleaner and vinegar.\\u2026 https://t.co/Or8cmxmAXU', u'is_quote_status': False, u'in_reply_to_status_id': None, u'id': 798626839627345920, u'favorite_count': 110, u'source': u'<a href=\"http://www.socialflow.com\" rel=\"nofollow\">SocialFlow</a>', u'retweeted': False, u'coordinates': None, u'entities': {u'symbols': [], u'user_mentions': [], u'hashtags': [], u'urls': [{u'url': u'https://t.co/Or8cmxmAXU', u'indices': [117, 140], u'expanded_url': u'https://twitter.com/i/web/status/798626839627345920', u'display_url': u'twitter.com/i/web/status/7\\u2026'}]}, u'in_reply_to_screen_name': None, u'in_reply_to_user_id': None, u'retweet_count': 64, u'id_str': u'798626839627345920', u'favorited': False, u'geo': None, u'in_reply_to_user_id_str': None, u'possibly_sensitive': False, u'lang': u'en', u'created_at': u'Tue Nov 15 20:40:50 +0000 2016', u'in_reply_to_status_id_str': None, u'place': None}, u'geo': None, u'in_reply_to_user_id_str': None, u'lang': u'en', u'created_at': u'Wed Nov 16 05:47:07 +0000 2016', u'in_reply_to_status_id_str': None, u'place': None}, coordinates=None, entities={u'symbols': [], u'user_mentions': [{u'id': 18036441, u'indices': [3, 12], u'id_str': u'18036441', u'screen_name': u'Stanford', u'name': u'Stanford University'}], u'hashtags': [], u'urls': []}, in_reply_to_screen_name=None, id_str=u'798764314928648193', retweet_count=64, in_reply_to_user_id=None, favorited=False, retweeted_status=Status(contributors=None, truncated=True, text=u'Nariman Farsad has built a chemical texting system that sends messages through pulses of glass cleaner and vinegar.\\u2026 https://t.co/Or8cmxmAXU', is_quote_status=False, in_reply_to_status_id=None, id=798626839627345920, favorite_count=110, _api=<tweepy.api.API object at 0x7f0bc2b102d0>, source=u'SocialFlow', _json={u'contributors': None, u'truncated': True, u'text': u'Nariman Farsad has built a chemical texting system that sends messages through pulses of glass cleaner and vinegar.\\u2026 https://t.co/Or8cmxmAXU', u'is_quote_status': False, u'in_reply_to_status_id': None, u'id': 798626839627345920, u'favorite_count': 110, u'source': u'<a href=\"http://www.socialflow.com\" rel=\"nofollow\">SocialFlow</a>', u'retweeted': False, u'coordinates': None, u'entities': {u'symbols': [], u'user_mentions': [], u'hashtags': [], u'urls': [{u'url': u'https://t.co/Or8cmxmAXU', u'indices': [117, 140], u'expanded_url': u'https://twitter.com/i/web/status/798626839627345920', u'display_url': u'twitter.com/i/web/status/7\\u2026'}]}, u'in_reply_to_screen_name': None, u'in_reply_to_user_id': None, u'retweet_count': 64, u'id_str': u'798626839627345920', u'favorited': False, u'geo': None, u'in_reply_to_user_id_str': None, u'possibly_sensitive': False, u'lang': u'en', u'created_at': u'Tue Nov 15 20:40:50 +0000 2016', u'in_reply_to_status_id_str': None, u'place': None}, coordinates=None, entities={u'symbols': [], u'user_mentions': [], u'hashtags': [], u'urls': [{u'url': u'https://t.co/Or8cmxmAXU', u'indices': [117, 140], u'expanded_url': u'https://twitter.com/i/web/status/798626839627345920', u'display_url': u'twitter.com/i/web/status/7\\u2026'}]}, in_reply_to_screen_name=None, id_str=u'798626839627345920', retweet_count=64, in_reply_to_user_id=None, favorited=False, source_url=u'http://www.socialflow.com', geo=None, in_reply_to_user_id_str=None, possibly_sensitive=False, lang=u'en', created_at=datetime.datetime(2016, 11, 15, 20, 40, 50), in_reply_to_status_id_str=None, place=None, retweeted=False), source_url=u'http://twitter.com/download/android', geo=None, in_reply_to_user_id_str=None, lang=u'en', created_at=datetime.datetime(2016, 11, 16, 5, 47, 7), in_reply_to_status_id_str=None, place=None, retweeted=False), lang=u'en', utc_offset=7200, statuses_count=788, profile_background_color=u'000000', friends_count=521, profile_link_color=u'3B94D9', profile_image_url=u'http://pbs.twimg.com/profile_images/1803038390/dario055_normal.JPG', notifications=False, default_profile=False, profile_background_image_url_https=u'https://abs.twimg.com/images/themes/theme16/bg.gif', profile_banner_url=u'https://pbs.twimg.com/profile_banners/96963956/1443385720', blocking=False, profile_background_image_url=u'http://abs.twimg.com/images/themes/theme16/bg.gif', name=u'Dario Masiero', is_translation_enabled=False, profile_background_tile=False, favourites_count=926, screen_name=u'dariomasiero', url=u'https://t.co/zvlMqr4ezb', created_at=datetime.datetime(2009, 12, 15, 11, 35, 24), contributors_enabled=False, location=u'Ms3', profile_sidebar_border_color=u'000000', translator_type=u'none', following=False),\n",
       " User(follow_request_sent=False, has_extended_profile=False, profile_use_background_image=True, profile_sidebar_fill_color=u'DDEEF6', live_following=False, time_zone=u'Rome', id=1448381226, description=u'', _api=<tweepy.api.API object at 0x7f0bc2b102d0>, verified=False, blocked_by=False, profile_text_color=u'333333', muting=False, profile_image_url_https=u'https://pbs.twimg.com/profile_images/798198512961933312/qntHqO2C_normal.jpg', _json={u'follow_request_sent': False, u'has_extended_profile': False, u'profile_use_background_image': True, u'live_following': False, u'default_profile_image': False, u'id': 1448381226, u'profile_background_image_url_https': u'https://abs.twimg.com/images/themes/theme1/bg.png', u'translator_type': u'none', u'verified': False, u'blocked_by': False, u'profile_text_color': u'333333', u'muting': False, u'profile_image_url_https': u'https://pbs.twimg.com/profile_images/798198512961933312/qntHqO2C_normal.jpg', u'profile_sidebar_fill_color': u'DDEEF6', u'entities': {u'description': {u'urls': []}}, u'followers_count': 31, u'profile_sidebar_border_color': u'C0DEED', u'id_str': u'1448381226', u'profile_background_color': u'C0DEED', u'listed_count': 0, u'is_translation_enabled': False, u'utc_offset': 3600, u'statuses_count': 0, u'description': u'', u'friends_count': 260, u'location': u'', u'profile_link_color': u'1DA1F2', u'profile_image_url': u'http://pbs.twimg.com/profile_images/798198512961933312/qntHqO2C_normal.jpg', u'following': False, u'geo_enabled': False, u'blocking': False, u'profile_background_image_url': u'http://abs.twimg.com/images/themes/theme1/bg.png', u'screen_name': u'Simone_Celia', u'lang': u'it', u'profile_background_tile': False, u'favourites_count': 11, u'name': u'Simone Celia', u'notifications': False, u'url': None, u'created_at': u'Wed May 22 09:10:33 +0000 2013', u'contributors_enabled': False, u'time_zone': u'Rome', u'protected': False, u'default_profile': True, u'is_translator': False}, is_translator=False, geo_enabled=False, entities={u'description': {u'urls': []}}, followers_count=31, protected=False, id_str=u'1448381226', default_profile_image=False, listed_count=0, lang=u'it', utc_offset=3600, statuses_count=0, profile_background_color=u'C0DEED', friends_count=260, profile_link_color=u'1DA1F2', profile_image_url=u'http://pbs.twimg.com/profile_images/798198512961933312/qntHqO2C_normal.jpg', notifications=False, default_profile=True, profile_background_image_url_https=u'https://abs.twimg.com/images/themes/theme1/bg.png', blocking=False, profile_background_image_url=u'http://abs.twimg.com/images/themes/theme1/bg.png', name=u'Simone Celia', is_translation_enabled=False, profile_background_tile=False, favourites_count=11, screen_name=u'Simone_Celia', url=None, created_at=datetime.datetime(2013, 5, 22, 9, 10, 33), contributors_enabled=False, location=u'', profile_sidebar_border_color=u'C0DEED', translator_type=u'none', following=False)]"
      ]
     },
     "execution_count": 43,
     "metadata": {},
     "output_type": "execute_result"
    }
   ],
   "source": [
    "#restituisce un singolo elemento, quindi conviene usare .pages, cos restituisce i primi 20 elementi\n",
    "#print intesa_cursor.items()\n",
    "intesa_cursor.pages().next()"
   ]
  },
  {
   "cell_type": "code",
   "execution_count": null,
   "metadata": {
    "collapsed": false,
    "scrolled": false
   },
   "outputs": [],
   "source": [
    "for follower in intesa_cursor.items():\n",
    "    print follower"
   ]
  },
  {
   "cell_type": "code",
   "execution_count": 44,
   "metadata": {
    "collapsed": false
   },
   "outputs": [
    {
     "name": "stdout",
     "output_type": "stream",
     "text": [
      "None\n"
     ]
    }
   ],
   "source": [
    "mylist = []\n",
    "for follower in intesa_cursor.pages():\n",
    "    print mylist.extend(follower)\n",
    "    break"
   ]
  },
  {
   "cell_type": "code",
   "execution_count": 45,
   "metadata": {
    "collapsed": false
   },
   "outputs": [
    {
     "data": {
      "text/plain": [
       "20"
      ]
     },
     "execution_count": 45,
     "metadata": {},
     "output_type": "execute_result"
    }
   ],
   "source": [
    "len(mylist)"
   ]
  },
  {
   "cell_type": "code",
   "execution_count": 46,
   "metadata": {
    "collapsed": false
   },
   "outputs": [
    {
     "data": {
      "text/plain": [
       "{u'blocked_by': False,\n",
       " u'blocking': False,\n",
       " u'contributors_enabled': False,\n",
       " u'created_at': u'Wed May 05 21:47:13 +0000 2010',\n",
       " u'default_profile': False,\n",
       " u'default_profile_image': False,\n",
       " u'description': u'The official channel for Cisco Financial Services Industry news, updates and events.',\n",
       " u'entities': {u'description': {u'urls': []},\n",
       "  u'url': {u'urls': [{u'display_url': u'cisco.com/web/strategy/f\\u2026',\n",
       "     u'expanded_url': u'http://cisco.com/web/strategy/financial/index.html',\n",
       "     u'indices': [0, 22],\n",
       "     u'url': u'http://t.co/3rQdG7xBjY'}]}},\n",
       " u'favourites_count': 690,\n",
       " u'follow_request_sent': False,\n",
       " u'followers_count': 1557,\n",
       " u'following': False,\n",
       " u'friends_count': 780,\n",
       " u'geo_enabled': True,\n",
       " u'has_extended_profile': False,\n",
       " u'id': 140578968,\n",
       " u'id_str': u'140578968',\n",
       " u'is_translation_enabled': False,\n",
       " u'is_translator': False,\n",
       " u'lang': u'en',\n",
       " u'listed_count': 164,\n",
       " u'live_following': False,\n",
       " u'location': u'Global via Cisco TelePresence',\n",
       " u'muting': False,\n",
       " u'name': u'Cisco FSI',\n",
       " u'notifications': False,\n",
       " u'profile_background_color': u'EDECE9',\n",
       " u'profile_background_image_url': u'http://pbs.twimg.com/profile_background_images/743499327/3559a428155964b2850f71bef72c0bcd.jpeg',\n",
       " u'profile_background_image_url_https': u'https://pbs.twimg.com/profile_background_images/743499327/3559a428155964b2850f71bef72c0bcd.jpeg',\n",
       " u'profile_background_tile': False,\n",
       " u'profile_banner_url': u'https://pbs.twimg.com/profile_banners/140578968/1460423740',\n",
       " u'profile_image_url': u'http://pbs.twimg.com/profile_images/727954347145891840/XdBPoMtc_normal.jpg',\n",
       " u'profile_image_url_https': u'https://pbs.twimg.com/profile_images/727954347145891840/XdBPoMtc_normal.jpg',\n",
       " u'profile_link_color': u'803909',\n",
       " u'profile_sidebar_border_color': u'FFFFFF',\n",
       " u'profile_sidebar_fill_color': u'E3E2DE',\n",
       " u'profile_text_color': u'634047',\n",
       " u'profile_use_background_image': True,\n",
       " u'protected': False,\n",
       " u'screen_name': u'CiscoFSI',\n",
       " u'status': {u'contributors': None,\n",
       "  u'coordinates': None,\n",
       "  u'created_at': u'Thu Nov 17 20:21:48 +0000 2016',\n",
       "  u'entities': {u'hashtags': [],\n",
       "   u'symbols': [],\n",
       "   u'urls': [],\n",
       "   u'user_mentions': [{u'id': 248900032,\n",
       "     u'id_str': u'248900032',\n",
       "     u'indices': [3, 16],\n",
       "     u'name': u'Earvin Magic Johnson',\n",
       "     u'screen_name': u'MagicJohnson'}]},\n",
       "  u'favorite_count': 0,\n",
       "  u'favorited': False,\n",
       "  u'geo': None,\n",
       "  u'id': 799346823601197056,\n",
       "  u'id_str': u'799346823601197056',\n",
       "  u'in_reply_to_screen_name': None,\n",
       "  u'in_reply_to_status_id': None,\n",
       "  u'in_reply_to_status_id_str': None,\n",
       "  u'in_reply_to_user_id': None,\n",
       "  u'in_reply_to_user_id_str': None,\n",
       "  u'is_quote_status': False,\n",
       "  u'lang': u'en',\n",
       "  u'place': None,\n",
       "  u'retweet_count': 52,\n",
       "  u'retweeted': False,\n",
       "  u'retweeted_status': {u'contributors': None,\n",
       "   u'coordinates': None,\n",
       "   u'created_at': u'Wed Nov 16 02:16:59 +0000 2016',\n",
       "   u'entities': {u'hashtags': [],\n",
       "    u'symbols': [],\n",
       "    u'urls': [{u'display_url': u'twitter.com/i/web/status/7\\u2026',\n",
       "      u'expanded_url': u'https://twitter.com/i/web/status/798711432355450880',\n",
       "      u'indices': [121, 144],\n",
       "      u'url': u'https://t.co/7qUE0pmnA6'}],\n",
       "    u'user_mentions': []},\n",
       "   u'favorite_count': 260,\n",
       "   u'favorited': False,\n",
       "   u'geo': None,\n",
       "   u'id': 798711432355450880,\n",
       "   u'id_str': u'798711432355450880',\n",
       "   u'in_reply_to_screen_name': None,\n",
       "   u'in_reply_to_status_id': None,\n",
       "   u'in_reply_to_status_id_str': None,\n",
       "   u'in_reply_to_user_id': None,\n",
       "   u'in_reply_to_user_id_str': None,\n",
       "   u'is_quote_status': False,\n",
       "   u'lang': u'en',\n",
       "   u'place': None,\n",
       "   u'possibly_sensitive': False,\n",
       "   u'retweet_count': 52,\n",
       "   u'retweeted': False,\n",
       "   u'source': u'<a href=\"http://twitter.com/download/android\" rel=\"nofollow\">Twitter for Android</a>',\n",
       "   u'text': u'Thank you to CME Group CEO &amp; Chairman Terry Duffy for inviting us to speak at their Global Financial Leadership Con\\u2026 https://t.co/7qUE0pmnA6',\n",
       "   u'truncated': True},\n",
       "  u'source': u'<a href=\"http://twitter.com\" rel=\"nofollow\">Twitter Web Client</a>',\n",
       "  u'text': u'RT @MagicJohnson: Thank you to CME Group CEO &amp; Chairman Terry Duffy for inviting us to speak at their Global Financial Leadership Conferenc\\u2026',\n",
       "  u'truncated': False},\n",
       " u'statuses_count': 3567,\n",
       " u'time_zone': u'Eastern Time (US & Canada)',\n",
       " u'translator_type': u'none',\n",
       " u'url': u'http://t.co/3rQdG7xBjY',\n",
       " u'utc_offset': -18000,\n",
       " u'verified': False}"
      ]
     },
     "execution_count": 46,
     "metadata": {},
     "output_type": "execute_result"
    }
   ],
   "source": [
    "mylist[0]._json"
   ]
  },
  {
   "cell_type": "code",
   "execution_count": 47,
   "metadata": {
    "collapsed": false
   },
   "outputs": [
    {
     "name": "stdout",
     "output_type": "stream",
     "text": [
      "0 3567\n",
      "1 1029\n",
      "2 523\n",
      "3 6161\n",
      "4 100\n",
      "5 0\n",
      "6 32\n",
      "7 0\n",
      "8 303\n",
      "9 978\n",
      "10 290\n",
      "11 0\n",
      "12 909\n",
      "13 3\n",
      "14 5071\n",
      "15 42\n",
      "16 3045\n",
      "17 235\n",
      "18 231\n",
      "19 6900\n"
     ]
    }
   ],
   "source": [
    "for i, f in enumerate(mylist):\n",
    "    print i, f.statuses_count"
   ]
  },
  {
   "cell_type": "code",
   "execution_count": 48,
   "metadata": {
    "collapsed": true
   },
   "outputs": [],
   "source": [
    "#il cursore fa per me la chiamata\n",
    "#imposto le chiamate in modo tale da renderlo dormiente durante il reset time che mi impon twitter\n",
    "#facciamo un for all'infinito e lo mettiamo dentro un try-except del tipo rate exception\n",
    "import time \n",
    "def limit_handler(cursor):\n",
    "    while True:\n",
    "        try:\n",
    "            yield cursor.next()\n",
    "        except tweepy.RateLimitError:\n",
    "            print \"Dormo 15 secondi...\"\n",
    "            time.sleep(15)\n",
    "            print \"Provo di nuovo!\""
   ]
  },
  {
   "cell_type": "code",
   "execution_count": 50,
   "metadata": {
    "collapsed": false
   },
   "outputs": [
    {
     "name": "stdout",
     "output_type": "stream",
     "text": [
      "Dormo 15 secondi...\n",
      "Provo di nuovo!\n",
      "Dormo 15 secondi...\n",
      "Provo di nuovo!\n",
      "Dormo 15 secondi...\n",
      "Provo di nuovo!\n",
      "Dormo 15 secondi...\n",
      "Provo di nuovo!\n",
      "Dormo 15 secondi...\n"
     ]
    },
    {
     "ename": "KeyboardInterrupt",
     "evalue": "",
     "output_type": "error",
     "traceback": [
      "\u001b[1;31m---------------------------------------------------------------------------\u001b[0m",
      "\u001b[1;31mKeyboardInterrupt\u001b[0m                         Traceback (most recent call last)",
      "\u001b[1;32m<ipython-input-50-b738ce1128ef>\u001b[0m in \u001b[0;36m<module>\u001b[1;34m()\u001b[0m\n\u001b[0;32m      1\u001b[0m \u001b[0mintesa_followers\u001b[0m \u001b[1;33m=\u001b[0m \u001b[1;33m[\u001b[0m\u001b[1;33m]\u001b[0m\u001b[1;33m\u001b[0m\u001b[0m\n\u001b[1;32m----> 2\u001b[1;33m \u001b[1;32mfor\u001b[0m \u001b[0mpage\u001b[0m \u001b[1;32min\u001b[0m \u001b[0mlimit_handler\u001b[0m\u001b[1;33m(\u001b[0m\u001b[0mintesa_cursor\u001b[0m\u001b[1;33m.\u001b[0m\u001b[0mpages\u001b[0m\u001b[1;33m(\u001b[0m\u001b[1;33m)\u001b[0m\u001b[1;33m)\u001b[0m\u001b[1;33m:\u001b[0m\u001b[1;33m\u001b[0m\u001b[0m\n\u001b[0m\u001b[0;32m      3\u001b[0m     \u001b[0mintesa_followers\u001b[0m\u001b[1;33m.\u001b[0m\u001b[0mextend\u001b[0m\u001b[1;33m(\u001b[0m\u001b[0mpage\u001b[0m\u001b[1;33m)\u001b[0m\u001b[1;33m\u001b[0m\u001b[0m\n",
      "\u001b[1;32m<ipython-input-48-9670f6fa7d88>\u001b[0m in \u001b[0;36mlimit_handler\u001b[1;34m(cursor)\u001b[0m\n\u001b[0;32m      9\u001b[0m         \u001b[1;32mexcept\u001b[0m \u001b[0mtweepy\u001b[0m\u001b[1;33m.\u001b[0m\u001b[0mRateLimitError\u001b[0m\u001b[1;33m:\u001b[0m\u001b[1;33m\u001b[0m\u001b[0m\n\u001b[0;32m     10\u001b[0m             \u001b[1;32mprint\u001b[0m \u001b[1;34m\"Dormo 15 secondi...\"\u001b[0m\u001b[1;33m\u001b[0m\u001b[0m\n\u001b[1;32m---> 11\u001b[1;33m             \u001b[0mtime\u001b[0m\u001b[1;33m.\u001b[0m\u001b[0msleep\u001b[0m\u001b[1;33m(\u001b[0m\u001b[1;36m15\u001b[0m\u001b[1;33m)\u001b[0m\u001b[1;33m\u001b[0m\u001b[0m\n\u001b[0m\u001b[0;32m     12\u001b[0m             \u001b[1;32mprint\u001b[0m \u001b[1;34m\"Provo di nuovo!\"\u001b[0m\u001b[1;33m\u001b[0m\u001b[0m\n",
      "\u001b[1;31mKeyboardInterrupt\u001b[0m: "
     ]
    }
   ],
   "source": [
    "intesa_followers = []\n",
    "for page in limit_handler(intesa_cursor.pages()):\n",
    "    intesa_followers.extend(page)"
   ]
  },
  {
   "cell_type": "code",
   "execution_count": 51,
   "metadata": {
    "collapsed": false
   },
   "outputs": [
    {
     "data": {
      "text/plain": [
       "280"
      ]
     },
     "execution_count": 51,
     "metadata": {},
     "output_type": "execute_result"
    }
   ],
   "source": [
    "len(intesa_followers)"
   ]
  },
  {
   "cell_type": "markdown",
   "metadata": {
    "collapsed": true
   },
   "source": [
    "# Get Hashtags\n"
   ]
  },
  {
   "cell_type": "code",
   "execution_count": 52,
   "metadata": {
    "collapsed": false,
    "scrolled": false
   },
   "outputs": [
    {
     "name": "stdout",
     "output_type": "stream",
     "text": [
      "RT @SandraTXAS: VA Whistleblower Says VA Put Him In Isolation\n",
      "\n",
      " https://t.co/siRvDCph71  @dailycaller\n",
      "#MAGA #Veterans #DrainTheSwamp #Trump…\n",
      "RT @true_pundit: More millennials came out to vote for Donald Trump than expected #Trump #TruePundit\n",
      "\n",
      "https://t.co/ov9vWWIjY0\n",
      "RT @wcgirl1: #Bernie Sanders Comes Out Fighting Against #Trump and Trumpism https://t.co/NW1yhUMkqa\n",
      "@realDonaldTrump at 33😀 #FlashBackFriday #HappyFriday #TRUMP https://t.co/xf3USchRrA via @youtube\n",
      "RT @amjoyshow: Jeff Sessions was deemed too racist to be a judge. He'll now be #Trump's attorney general. https://t.co/H7sPvTghVr # via @Hu…\n",
      "\n",
      "-----\n",
      "\n",
      "Status(contributors=None, truncated=False, text=u'RT @SandraTXAS: VA Whistleblower Says VA Put Him In Isolation\\n\\n https://t.co/siRvDCph71  @dailycaller\\n#MAGA #Veterans #DrainTheSwamp #Trump\\u2026', is_quote_status=False, in_reply_to_status_id=None, id=799628853312225280, favorite_count=0, _api=<tweepy.api.API object at 0x7f0bc2b102d0>, author=User(follow_request_sent=False, has_extended_profile=False, profile_use_background_image=False, _json={u'follow_request_sent': False, u'has_extended_profile': False, u'profile_use_background_image': False, u'default_profile_image': False, u'id': 36156490, u'profile_background_image_url_https': u'https://abs.twimg.com/images/themes/theme15/bg.png', u'verified': False, u'translator_type': u'none', u'profile_text_color': u'000000', u'profile_image_url_https': u'https://pbs.twimg.com/profile_images/710493712535519232/ynanYxXP_normal.jpg', u'profile_sidebar_fill_color': u'000000', u'entities': {u'description': {u'urls': []}}, u'followers_count': 980, u'profile_sidebar_border_color': u'000000', u'id_str': u'36156490', u'profile_background_color': u'000000', u'listed_count': 77, u'is_translation_enabled': False, u'utc_offset': None, u'statuses_count': 17317, u'description': u'', u'friends_count': 963, u'location': u'', u'profile_link_color': u'19CF86', u'profile_image_url': u'http://pbs.twimg.com/profile_images/710493712535519232/ynanYxXP_normal.jpg', u'following': False, u'geo_enabled': False, u'profile_banner_url': u'https://pbs.twimg.com/profile_banners/36156490/1463352239', u'profile_background_image_url': u'http://abs.twimg.com/images/themes/theme15/bg.png', u'screen_name': u'crocboy', u'lang': u'en', u'profile_background_tile': False, u'favourites_count': 12164, u'name': u'ernie', u'notifications': False, u'url': None, u'created_at': u'Tue Apr 28 19:29:05 +0000 2009', u'contributors_enabled': False, u'time_zone': None, u'protected': False, u'default_profile': False, u'is_translator': False}, time_zone=None, id=36156490, description=u'', _api=<tweepy.api.API object at 0x7f0bc2b102d0>, verified=False, profile_text_color=u'000000', profile_image_url_https=u'https://pbs.twimg.com/profile_images/710493712535519232/ynanYxXP_normal.jpg', profile_sidebar_fill_color=u'000000', is_translator=False, geo_enabled=False, entities={u'description': {u'urls': []}}, followers_count=980, protected=False, id_str=u'36156490', default_profile_image=False, listed_count=77, lang=u'en', utc_offset=None, statuses_count=17317, profile_background_color=u'000000', friends_count=963, profile_link_color=u'19CF86', profile_image_url=u'http://pbs.twimg.com/profile_images/710493712535519232/ynanYxXP_normal.jpg', notifications=False, default_profile=False, profile_background_image_url_https=u'https://abs.twimg.com/images/themes/theme15/bg.png', profile_banner_url=u'https://pbs.twimg.com/profile_banners/36156490/1463352239', profile_background_image_url=u'http://abs.twimg.com/images/themes/theme15/bg.png', name=u'ernie', is_translation_enabled=False, profile_background_tile=False, favourites_count=12164, screen_name=u'crocboy', url=None, created_at=datetime.datetime(2009, 4, 28, 19, 29, 5), contributors_enabled=False, location=u'', profile_sidebar_border_color=u'000000', translator_type=u'none', following=False), _json={u'contributors': None, u'truncated': False, u'text': u'RT @SandraTXAS: VA Whistleblower Says VA Put Him In Isolation\\n\\n https://t.co/siRvDCph71  @dailycaller\\n#MAGA #Veterans #DrainTheSwamp #Trump\\u2026', u'is_quote_status': False, u'in_reply_to_status_id': None, u'id': 799628853312225280, u'favorite_count': 0, u'entities': {u'symbols': [], u'user_mentions': [{u'id': 33529092, u'indices': [3, 14], u'id_str': u'33529092', u'screen_name': u'SandraTXAS', u'name': u'Sandra\\u0646 We Are Media'}, {u'id': 39308549, u'indices': [89, 101], u'id_str': u'39308549', u'screen_name': u'DailyCaller', u'name': u'The Daily Caller'}], u'hashtags': [{u'indices': [102, 107], u'text': u'MAGA'}, {u'indices': [108, 117], u'text': u'Veterans'}, {u'indices': [118, 132], u'text': u'DrainTheSwamp'}, {u'indices': [133, 139], u'text': u'Trump'}], u'urls': [{u'url': u'https://t.co/siRvDCph71', u'indices': [64, 87], u'expanded_url': u'http://dailycaller.com/2016/11/17/va-whistleblower-quits-his-job-says-agency-put-him-in-an-office-with-zero-computers-and-social-conact/', u'display_url': u'dailycaller.com/2016/11/17/va-\\u2026'}]}, u'retweeted': False, u'coordinates': None, u'source': u'<a href=\"http://twitter.com\" rel=\"nofollow\">Twitter Web Client</a>', u'in_reply_to_screen_name': None, u'in_reply_to_user_id': None, u'retweet_count': 366, u'id_str': u'799628853312225280', u'favorited': False, u'retweeted_status': {u'contributors': None, u'truncated': True, u'text': u'VA Whistleblower Says VA Put Him In Isolation\\n\\n https://t.co/siRvDCph71  @dailycaller\\n#MAGA #Veterans\\u2026 https://t.co/rsJCf0F1je', u'is_quote_status': False, u'in_reply_to_status_id': None, u'id': 799294055062511617, u'favorite_count': 229, u'entities': {u'symbols': [], u'user_mentions': [{u'id': 39308549, u'indices': [73, 85], u'id_str': u'39308549', u'screen_name': u'DailyCaller', u'name': u'The Daily Caller'}], u'hashtags': [{u'indices': [86, 91], u'text': u'MAGA'}, {u'indices': [92, 101], u'text': u'Veterans'}], u'urls': [{u'url': u'https://t.co/siRvDCph71', u'indices': [48, 71], u'expanded_url': u'http://dailycaller.com/2016/11/17/va-whistleblower-quits-his-job-says-agency-put-him-in-an-office-with-zero-computers-and-social-conact/', u'display_url': u'dailycaller.com/2016/11/17/va-\\u2026'}, {u'url': u'https://t.co/rsJCf0F1je', u'indices': [103, 126], u'expanded_url': u'https://twitter.com/i/web/status/799294055062511617', u'display_url': u'twitter.com/i/web/status/7\\u2026'}]}, u'retweeted': False, u'coordinates': None, u'source': u'<a href=\"http://twitter.com\" rel=\"nofollow\">Twitter Web Client</a>', u'in_reply_to_screen_name': None, u'in_reply_to_user_id': None, u'retweet_count': 366, u'id_str': u'799294055062511617', u'favorited': False, u'user': {u'follow_request_sent': False, u'has_extended_profile': True, u'profile_use_background_image': True, u'default_profile_image': False, u'id': 33529092, u'profile_background_image_url_https': u'https://pbs.twimg.com/profile_background_images/635630574095351809/A2XNraJ2.jpg', u'verified': False, u'translator_type': u'none', u'profile_text_color': u'3C3940', u'profile_image_url_https': u'https://pbs.twimg.com/profile_images/781211552951128064/iz0q8hSq_normal.jpg', u'profile_sidebar_fill_color': u'95E8EC', u'entities': {u'description': {u'urls': []}}, u'followers_count': 54195, u'profile_sidebar_border_color': u'FFFFFF', u'id_str': u'33529092', u'profile_background_color': u'0099B9', u'listed_count': 327, u'is_translation_enabled': False, u'utc_offset': -21600, u'statuses_count': 122979, u'description': u'\\U0001f499LifeLibertyPursuitOfHappiness\\U0001f499 \\U0001f499StrongMilitary\\U0001f499Veterans\\U0001f499\\u039c\\u03bf\\u03bb\\u03ce\\u03bd\\u039b\\u03b1\\u03b2\\u03b5\\U0001f499AmericaFirst\\U0001f499Israel\\U0001f499\\ufe0fAllLivesMatter \\U0001f499 \\u274cShariaTheRealWarOnWomen\\u274cDrain The Swamp', u'friends_count': 32237, u'location': u'God Bless Texas', u'profile_link_color': u'B80000', u'profile_image_url': u'http://pbs.twimg.com/profile_images/781211552951128064/iz0q8hSq_normal.jpg', u'following': False, u'geo_enabled': False, u'profile_banner_url': u'https://pbs.twimg.com/profile_banners/33529092/1431480814', u'profile_background_image_url': u'http://pbs.twimg.com/profile_background_images/635630574095351809/A2XNraJ2.jpg', u'screen_name': u'SandraTXAS', u'lang': u'en', u'profile_background_tile': True, u'favourites_count': 62605, u'name': u'Sandra\\u0646 We Are Media', u'notifications': False, u'url': None, u'created_at': u'Mon Apr 20 14:29:59 +0000 2009', u'contributors_enabled': False, u'time_zone': u'Central Time (US & Canada)', u'protected': False, u'default_profile': False, u'is_translator': False}, u'geo': None, u'in_reply_to_user_id_str': None, u'possibly_sensitive': False, u'lang': u'en', u'created_at': u'Thu Nov 17 16:52:07 +0000 2016', u'in_reply_to_status_id_str': None, u'place': None, u'metadata': {u'iso_language_code': u'en', u'result_type': u'recent'}}, u'user': {u'follow_request_sent': False, u'has_extended_profile': False, u'profile_use_background_image': False, u'default_profile_image': False, u'id': 36156490, u'profile_background_image_url_https': u'https://abs.twimg.com/images/themes/theme15/bg.png', u'verified': False, u'translator_type': u'none', u'profile_text_color': u'000000', u'profile_image_url_https': u'https://pbs.twimg.com/profile_images/710493712535519232/ynanYxXP_normal.jpg', u'profile_sidebar_fill_color': u'000000', u'entities': {u'description': {u'urls': []}}, u'followers_count': 980, u'profile_sidebar_border_color': u'000000', u'id_str': u'36156490', u'profile_background_color': u'000000', u'listed_count': 77, u'is_translation_enabled': False, u'utc_offset': None, u'statuses_count': 17317, u'description': u'', u'friends_count': 963, u'location': u'', u'profile_link_color': u'19CF86', u'profile_image_url': u'http://pbs.twimg.com/profile_images/710493712535519232/ynanYxXP_normal.jpg', u'following': False, u'geo_enabled': False, u'profile_banner_url': u'https://pbs.twimg.com/profile_banners/36156490/1463352239', u'profile_background_image_url': u'http://abs.twimg.com/images/themes/theme15/bg.png', u'screen_name': u'crocboy', u'lang': u'en', u'profile_background_tile': False, u'favourites_count': 12164, u'name': u'ernie', u'notifications': False, u'url': None, u'created_at': u'Tue Apr 28 19:29:05 +0000 2009', u'contributors_enabled': False, u'time_zone': None, u'protected': False, u'default_profile': False, u'is_translator': False}, u'geo': None, u'in_reply_to_user_id_str': None, u'possibly_sensitive': False, u'lang': u'en', u'created_at': u'Fri Nov 18 15:02:29 +0000 2016', u'in_reply_to_status_id_str': None, u'place': None, u'metadata': {u'iso_language_code': u'en', u'result_type': u'recent'}}, coordinates=None, entities={u'symbols': [], u'user_mentions': [{u'id': 33529092, u'indices': [3, 14], u'id_str': u'33529092', u'screen_name': u'SandraTXAS', u'name': u'Sandra\\u0646 We Are Media'}, {u'id': 39308549, u'indices': [89, 101], u'id_str': u'39308549', u'screen_name': u'DailyCaller', u'name': u'The Daily Caller'}], u'hashtags': [{u'indices': [102, 107], u'text': u'MAGA'}, {u'indices': [108, 117], u'text': u'Veterans'}, {u'indices': [118, 132], u'text': u'DrainTheSwamp'}, {u'indices': [133, 139], u'text': u'Trump'}], u'urls': [{u'url': u'https://t.co/siRvDCph71', u'indices': [64, 87], u'expanded_url': u'http://dailycaller.com/2016/11/17/va-whistleblower-quits-his-job-says-agency-put-him-in-an-office-with-zero-computers-and-social-conact/', u'display_url': u'dailycaller.com/2016/11/17/va-\\u2026'}]}, in_reply_to_screen_name=None, id_str=u'799628853312225280', retweet_count=366, in_reply_to_user_id=None, favorited=False, retweeted_status=Status(contributors=None, truncated=True, text=u'VA Whistleblower Says VA Put Him In Isolation\\n\\n https://t.co/siRvDCph71  @dailycaller\\n#MAGA #Veterans\\u2026 https://t.co/rsJCf0F1je', is_quote_status=False, in_reply_to_status_id=None, id=799294055062511617, favorite_count=229, _api=<tweepy.api.API object at 0x7f0bc2b102d0>, author=User(follow_request_sent=False, has_extended_profile=True, profile_use_background_image=True, _json={u'follow_request_sent': False, u'has_extended_profile': True, u'profile_use_background_image': True, u'default_profile_image': False, u'id': 33529092, u'profile_background_image_url_https': u'https://pbs.twimg.com/profile_background_images/635630574095351809/A2XNraJ2.jpg', u'verified': False, u'translator_type': u'none', u'profile_text_color': u'3C3940', u'profile_image_url_https': u'https://pbs.twimg.com/profile_images/781211552951128064/iz0q8hSq_normal.jpg', u'profile_sidebar_fill_color': u'95E8EC', u'entities': {u'description': {u'urls': []}}, u'followers_count': 54195, u'profile_sidebar_border_color': u'FFFFFF', u'id_str': u'33529092', u'profile_background_color': u'0099B9', u'listed_count': 327, u'is_translation_enabled': False, u'utc_offset': -21600, u'statuses_count': 122979, u'description': u'\\U0001f499LifeLibertyPursuitOfHappiness\\U0001f499 \\U0001f499StrongMilitary\\U0001f499Veterans\\U0001f499\\u039c\\u03bf\\u03bb\\u03ce\\u03bd\\u039b\\u03b1\\u03b2\\u03b5\\U0001f499AmericaFirst\\U0001f499Israel\\U0001f499\\ufe0fAllLivesMatter \\U0001f499 \\u274cShariaTheRealWarOnWomen\\u274cDrain The Swamp', u'friends_count': 32237, u'location': u'God Bless Texas', u'profile_link_color': u'B80000', u'profile_image_url': u'http://pbs.twimg.com/profile_images/781211552951128064/iz0q8hSq_normal.jpg', u'following': False, u'geo_enabled': False, u'profile_banner_url': u'https://pbs.twimg.com/profile_banners/33529092/1431480814', u'profile_background_image_url': u'http://pbs.twimg.com/profile_background_images/635630574095351809/A2XNraJ2.jpg', u'screen_name': u'SandraTXAS', u'lang': u'en', u'profile_background_tile': True, u'favourites_count': 62605, u'name': u'Sandra\\u0646 We Are Media', u'notifications': False, u'url': None, u'created_at': u'Mon Apr 20 14:29:59 +0000 2009', u'contributors_enabled': False, u'time_zone': u'Central Time (US & Canada)', u'protected': False, u'default_profile': False, u'is_translator': False}, time_zone=u'Central Time (US & Canada)', id=33529092, description=u'\\U0001f499LifeLibertyPursuitOfHappiness\\U0001f499 \\U0001f499StrongMilitary\\U0001f499Veterans\\U0001f499\\u039c\\u03bf\\u03bb\\u03ce\\u03bd\\u039b\\u03b1\\u03b2\\u03b5\\U0001f499AmericaFirst\\U0001f499Israel\\U0001f499\\ufe0fAllLivesMatter \\U0001f499 \\u274cShariaTheRealWarOnWomen\\u274cDrain The Swamp', _api=<tweepy.api.API object at 0x7f0bc2b102d0>, verified=False, profile_text_color=u'3C3940', profile_image_url_https=u'https://pbs.twimg.com/profile_images/781211552951128064/iz0q8hSq_normal.jpg', profile_sidebar_fill_color=u'95E8EC', is_translator=False, geo_enabled=False, entities={u'description': {u'urls': []}}, followers_count=54195, protected=False, id_str=u'33529092', default_profile_image=False, listed_count=327, lang=u'en', utc_offset=-21600, statuses_count=122979, profile_background_color=u'0099B9', friends_count=32237, profile_link_color=u'B80000', profile_image_url=u'http://pbs.twimg.com/profile_images/781211552951128064/iz0q8hSq_normal.jpg', notifications=False, default_profile=False, profile_background_image_url_https=u'https://pbs.twimg.com/profile_background_images/635630574095351809/A2XNraJ2.jpg', profile_banner_url=u'https://pbs.twimg.com/profile_banners/33529092/1431480814', profile_background_image_url=u'http://pbs.twimg.com/profile_background_images/635630574095351809/A2XNraJ2.jpg', name=u'Sandra\\u0646 We Are Media', is_translation_enabled=False, profile_background_tile=True, favourites_count=62605, screen_name=u'SandraTXAS', url=None, created_at=datetime.datetime(2009, 4, 20, 14, 29, 59), contributors_enabled=False, location=u'God Bless Texas', profile_sidebar_border_color=u'FFFFFF', translator_type=u'none', following=False), _json={u'contributors': None, u'truncated': True, u'text': u'VA Whistleblower Says VA Put Him In Isolation\\n\\n https://t.co/siRvDCph71  @dailycaller\\n#MAGA #Veterans\\u2026 https://t.co/rsJCf0F1je', u'is_quote_status': False, u'in_reply_to_status_id': None, u'id': 799294055062511617, u'favorite_count': 229, u'entities': {u'symbols': [], u'user_mentions': [{u'id': 39308549, u'indices': [73, 85], u'id_str': u'39308549', u'screen_name': u'DailyCaller', u'name': u'The Daily Caller'}], u'hashtags': [{u'indices': [86, 91], u'text': u'MAGA'}, {u'indices': [92, 101], u'text': u'Veterans'}], u'urls': [{u'url': u'https://t.co/siRvDCph71', u'indices': [48, 71], u'expanded_url': u'http://dailycaller.com/2016/11/17/va-whistleblower-quits-his-job-says-agency-put-him-in-an-office-with-zero-computers-and-social-conact/', u'display_url': u'dailycaller.com/2016/11/17/va-\\u2026'}, {u'url': u'https://t.co/rsJCf0F1je', u'indices': [103, 126], u'expanded_url': u'https://twitter.com/i/web/status/799294055062511617', u'display_url': u'twitter.com/i/web/status/7\\u2026'}]}, u'retweeted': False, u'coordinates': None, u'source': u'<a href=\"http://twitter.com\" rel=\"nofollow\">Twitter Web Client</a>', u'in_reply_to_screen_name': None, u'in_reply_to_user_id': None, u'retweet_count': 366, u'id_str': u'799294055062511617', u'favorited': False, u'user': {u'follow_request_sent': False, u'has_extended_profile': True, u'profile_use_background_image': True, u'default_profile_image': False, u'id': 33529092, u'profile_background_image_url_https': u'https://pbs.twimg.com/profile_background_images/635630574095351809/A2XNraJ2.jpg', u'verified': False, u'translator_type': u'none', u'profile_text_color': u'3C3940', u'profile_image_url_https': u'https://pbs.twimg.com/profile_images/781211552951128064/iz0q8hSq_normal.jpg', u'profile_sidebar_fill_color': u'95E8EC', u'entities': {u'description': {u'urls': []}}, u'followers_count': 54195, u'profile_sidebar_border_color': u'FFFFFF', u'id_str': u'33529092', u'profile_background_color': u'0099B9', u'listed_count': 327, u'is_translation_enabled': False, u'utc_offset': -21600, u'statuses_count': 122979, u'description': u'\\U0001f499LifeLibertyPursuitOfHappiness\\U0001f499 \\U0001f499StrongMilitary\\U0001f499Veterans\\U0001f499\\u039c\\u03bf\\u03bb\\u03ce\\u03bd\\u039b\\u03b1\\u03b2\\u03b5\\U0001f499AmericaFirst\\U0001f499Israel\\U0001f499\\ufe0fAllLivesMatter \\U0001f499 \\u274cShariaTheRealWarOnWomen\\u274cDrain The Swamp', u'friends_count': 32237, u'location': u'God Bless Texas', u'profile_link_color': u'B80000', u'profile_image_url': u'http://pbs.twimg.com/profile_images/781211552951128064/iz0q8hSq_normal.jpg', u'following': False, u'geo_enabled': False, u'profile_banner_url': u'https://pbs.twimg.com/profile_banners/33529092/1431480814', u'profile_background_image_url': u'http://pbs.twimg.com/profile_background_images/635630574095351809/A2XNraJ2.jpg', u'screen_name': u'SandraTXAS', u'lang': u'en', u'profile_background_tile': True, u'favourites_count': 62605, u'name': u'Sandra\\u0646 We Are Media', u'notifications': False, u'url': None, u'created_at': u'Mon Apr 20 14:29:59 +0000 2009', u'contributors_enabled': False, u'time_zone': u'Central Time (US & Canada)', u'protected': False, u'default_profile': False, u'is_translator': False}, u'geo': None, u'in_reply_to_user_id_str': None, u'possibly_sensitive': False, u'lang': u'en', u'created_at': u'Thu Nov 17 16:52:07 +0000 2016', u'in_reply_to_status_id_str': None, u'place': None, u'metadata': {u'iso_language_code': u'en', u'result_type': u'recent'}}, coordinates=None, entities={u'symbols': [], u'user_mentions': [{u'id': 39308549, u'indices': [73, 85], u'id_str': u'39308549', u'screen_name': u'DailyCaller', u'name': u'The Daily Caller'}], u'hashtags': [{u'indices': [86, 91], u'text': u'MAGA'}, {u'indices': [92, 101], u'text': u'Veterans'}], u'urls': [{u'url': u'https://t.co/siRvDCph71', u'indices': [48, 71], u'expanded_url': u'http://dailycaller.com/2016/11/17/va-whistleblower-quits-his-job-says-agency-put-him-in-an-office-with-zero-computers-and-social-conact/', u'display_url': u'dailycaller.com/2016/11/17/va-\\u2026'}, {u'url': u'https://t.co/rsJCf0F1je', u'indices': [103, 126], u'expanded_url': u'https://twitter.com/i/web/status/799294055062511617', u'display_url': u'twitter.com/i/web/status/7\\u2026'}]}, in_reply_to_screen_name=None, id_str=u'799294055062511617', retweet_count=366, in_reply_to_user_id=None, favorited=False, source_url=u'http://twitter.com', user=User(follow_request_sent=False, has_extended_profile=True, profile_use_background_image=True, _json={u'follow_request_sent': False, u'has_extended_profile': True, u'profile_use_background_image': True, u'default_profile_image': False, u'id': 33529092, u'profile_background_image_url_https': u'https://pbs.twimg.com/profile_background_images/635630574095351809/A2XNraJ2.jpg', u'verified': False, u'translator_type': u'none', u'profile_text_color': u'3C3940', u'profile_image_url_https': u'https://pbs.twimg.com/profile_images/781211552951128064/iz0q8hSq_normal.jpg', u'profile_sidebar_fill_color': u'95E8EC', u'entities': {u'description': {u'urls': []}}, u'followers_count': 54195, u'profile_sidebar_border_color': u'FFFFFF', u'id_str': u'33529092', u'profile_background_color': u'0099B9', u'listed_count': 327, u'is_translation_enabled': False, u'utc_offset': -21600, u'statuses_count': 122979, u'description': u'\\U0001f499LifeLibertyPursuitOfHappiness\\U0001f499 \\U0001f499StrongMilitary\\U0001f499Veterans\\U0001f499\\u039c\\u03bf\\u03bb\\u03ce\\u03bd\\u039b\\u03b1\\u03b2\\u03b5\\U0001f499AmericaFirst\\U0001f499Israel\\U0001f499\\ufe0fAllLivesMatter \\U0001f499 \\u274cShariaTheRealWarOnWomen\\u274cDrain The Swamp', u'friends_count': 32237, u'location': u'God Bless Texas', u'profile_link_color': u'B80000', u'profile_image_url': u'http://pbs.twimg.com/profile_images/781211552951128064/iz0q8hSq_normal.jpg', u'following': False, u'geo_enabled': False, u'profile_banner_url': u'https://pbs.twimg.com/profile_banners/33529092/1431480814', u'profile_background_image_url': u'http://pbs.twimg.com/profile_background_images/635630574095351809/A2XNraJ2.jpg', u'screen_name': u'SandraTXAS', u'lang': u'en', u'profile_background_tile': True, u'favourites_count': 62605, u'name': u'Sandra\\u0646 We Are Media', u'notifications': False, u'url': None, u'created_at': u'Mon Apr 20 14:29:59 +0000 2009', u'contributors_enabled': False, u'time_zone': u'Central Time (US & Canada)', u'protected': False, u'default_profile': False, u'is_translator': False}, time_zone=u'Central Time (US & Canada)', id=33529092, description=u'\\U0001f499LifeLibertyPursuitOfHappiness\\U0001f499 \\U0001f499StrongMilitary\\U0001f499Veterans\\U0001f499\\u039c\\u03bf\\u03bb\\u03ce\\u03bd\\u039b\\u03b1\\u03b2\\u03b5\\U0001f499AmericaFirst\\U0001f499Israel\\U0001f499\\ufe0fAllLivesMatter \\U0001f499 \\u274cShariaTheRealWarOnWomen\\u274cDrain The Swamp', _api=<tweepy.api.API object at 0x7f0bc2b102d0>, verified=False, profile_text_color=u'3C3940', profile_image_url_https=u'https://pbs.twimg.com/profile_images/781211552951128064/iz0q8hSq_normal.jpg', profile_sidebar_fill_color=u'95E8EC', is_translator=False, geo_enabled=False, entities={u'description': {u'urls': []}}, followers_count=54195, protected=False, id_str=u'33529092', default_profile_image=False, listed_count=327, lang=u'en', utc_offset=-21600, statuses_count=122979, profile_background_color=u'0099B9', friends_count=32237, profile_link_color=u'B80000', profile_image_url=u'http://pbs.twimg.com/profile_images/781211552951128064/iz0q8hSq_normal.jpg', notifications=False, default_profile=False, profile_background_image_url_https=u'https://pbs.twimg.com/profile_background_images/635630574095351809/A2XNraJ2.jpg', profile_banner_url=u'https://pbs.twimg.com/profile_banners/33529092/1431480814', profile_background_image_url=u'http://pbs.twimg.com/profile_background_images/635630574095351809/A2XNraJ2.jpg', name=u'Sandra\\u0646 We Are Media', is_translation_enabled=False, profile_background_tile=True, favourites_count=62605, screen_name=u'SandraTXAS', url=None, created_at=datetime.datetime(2009, 4, 20, 14, 29, 59), contributors_enabled=False, location=u'God Bless Texas', profile_sidebar_border_color=u'FFFFFF', translator_type=u'none', following=False), geo=None, in_reply_to_user_id_str=None, possibly_sensitive=False, lang=u'en', created_at=datetime.datetime(2016, 11, 17, 16, 52, 7), in_reply_to_status_id_str=None, place=None, source=u'Twitter Web Client', retweeted=False, metadata={u'iso_language_code': u'en', u'result_type': u'recent'}), source_url=u'http://twitter.com', user=User(follow_request_sent=False, has_extended_profile=False, profile_use_background_image=False, _json={u'follow_request_sent': False, u'has_extended_profile': False, u'profile_use_background_image': False, u'default_profile_image': False, u'id': 36156490, u'profile_background_image_url_https': u'https://abs.twimg.com/images/themes/theme15/bg.png', u'verified': False, u'translator_type': u'none', u'profile_text_color': u'000000', u'profile_image_url_https': u'https://pbs.twimg.com/profile_images/710493712535519232/ynanYxXP_normal.jpg', u'profile_sidebar_fill_color': u'000000', u'entities': {u'description': {u'urls': []}}, u'followers_count': 980, u'profile_sidebar_border_color': u'000000', u'id_str': u'36156490', u'profile_background_color': u'000000', u'listed_count': 77, u'is_translation_enabled': False, u'utc_offset': None, u'statuses_count': 17317, u'description': u'', u'friends_count': 963, u'location': u'', u'profile_link_color': u'19CF86', u'profile_image_url': u'http://pbs.twimg.com/profile_images/710493712535519232/ynanYxXP_normal.jpg', u'following': False, u'geo_enabled': False, u'profile_banner_url': u'https://pbs.twimg.com/profile_banners/36156490/1463352239', u'profile_background_image_url': u'http://abs.twimg.com/images/themes/theme15/bg.png', u'screen_name': u'crocboy', u'lang': u'en', u'profile_background_tile': False, u'favourites_count': 12164, u'name': u'ernie', u'notifications': False, u'url': None, u'created_at': u'Tue Apr 28 19:29:05 +0000 2009', u'contributors_enabled': False, u'time_zone': None, u'protected': False, u'default_profile': False, u'is_translator': False}, time_zone=None, id=36156490, description=u'', _api=<tweepy.api.API object at 0x7f0bc2b102d0>, verified=False, profile_text_color=u'000000', profile_image_url_https=u'https://pbs.twimg.com/profile_images/710493712535519232/ynanYxXP_normal.jpg', profile_sidebar_fill_color=u'000000', is_translator=False, geo_enabled=False, entities={u'description': {u'urls': []}}, followers_count=980, protected=False, id_str=u'36156490', default_profile_image=False, listed_count=77, lang=u'en', utc_offset=None, statuses_count=17317, profile_background_color=u'000000', friends_count=963, profile_link_color=u'19CF86', profile_image_url=u'http://pbs.twimg.com/profile_images/710493712535519232/ynanYxXP_normal.jpg', notifications=False, default_profile=False, profile_background_image_url_https=u'https://abs.twimg.com/images/themes/theme15/bg.png', profile_banner_url=u'https://pbs.twimg.com/profile_banners/36156490/1463352239', profile_background_image_url=u'http://abs.twimg.com/images/themes/theme15/bg.png', name=u'ernie', is_translation_enabled=False, profile_background_tile=False, favourites_count=12164, screen_name=u'crocboy', url=None, created_at=datetime.datetime(2009, 4, 28, 19, 29, 5), contributors_enabled=False, location=u'', profile_sidebar_border_color=u'000000', translator_type=u'none', following=False), geo=None, in_reply_to_user_id_str=None, possibly_sensitive=False, lang=u'en', created_at=datetime.datetime(2016, 11, 18, 15, 2, 29), in_reply_to_status_id_str=None, place=None, source=u'Twitter Web Client', retweeted=False, metadata={u'iso_language_code': u'en', u'result_type': u'recent'})\n"
     ]
    }
   ],
   "source": [
    "tweets = []\n",
    "for tweet in tweepy.Cursor(api.search, q='#trump').items(5):\n",
    "    print tweet.text\n",
    "    tweets.append(tweet)\n",
    "print \"\\n-----\\n\"\n",
    "print tweets[0]"
   ]
  },
  {
   "cell_type": "markdown",
   "metadata": {},
   "source": [
    "# Avoid Rate Limit Exception"
   ]
  },
  {
   "cell_type": "code",
   "execution_count": 53,
   "metadata": {
    "collapsed": true
   },
   "outputs": [],
   "source": [
    "import time\n",
    "def limit_handler(cursor):\n",
    "    while True:\n",
    "        try:\n",
    "            yield cursor.next()\n",
    "        except tweepy.RateLimitError:\n",
    "            print \"Timeout Reached, I'm going to sleep for 15 Minutes\"\n",
    "            time.sleep(15*60)\n",
    "            print \"I'm going to try again!\""
   ]
  },
  {
   "cell_type": "code",
   "execution_count": null,
   "metadata": {
    "collapsed": true
   },
   "outputs": [],
   "source": [
    "alexcomu_cursor = tweepy.Cursor(api.followers, screen_name='comualex')\n",
    "\n",
    "alexcomu_followers = []\n",
    "for followers in limit_handler(alexcomu_cursor.pages()):\n",
    "    alexcomu_followers.extend(followers)\n",
    "    "
   ]
  },
  {
   "cell_type": "code",
   "execution_count": null,
   "metadata": {
    "collapsed": false
   },
   "outputs": [],
   "source": [
    "len(alexcomu_followers)"
   ]
  },
  {
   "cell_type": "markdown",
   "metadata": {},
   "source": [
    "# Live Streaming\n",
    "\n",
    "Check the complete example on the folder **esercitazione**."
   ]
  },
  {
   "cell_type": "code",
   "execution_count": 54,
   "metadata": {
    "collapsed": true
   },
   "outputs": [],
   "source": [
    "class BDStreamingListener(tweepy.StreamListener):\n",
    "    def __init__(self, count):\n",
    "        super(BDStreamingListener, self).__init__()\n",
    "        # Number of tweets we want to retrieve\n",
    "        self.count = count\n",
    "\n",
    "    def on_status(self, status):\n",
    "        # automatic called when a new tweet is received\n",
    "        # print dir(status)\n",
    "        print dict(user=status.user.screen_name, text=status.text)\n",
    "\n",
    "        self.count -= 1\n",
    "        if self.count <= 0:\n",
    "            return False\n",
    "\n",
    "    def on_error(self, status_code):\n",
    "        # automatic called when an error occures\n",
    "        print \"Error with status code: \", status_code\n",
    "        return False"
   ]
  },
  {
   "cell_type": "code",
   "execution_count": 60,
   "metadata": {
    "collapsed": false
   },
   "outputs": [
    {
     "name": "stdout",
     "output_type": "stream",
     "text": [
      "{'text': u'RT @France4Hillary: Trump is #NotMyPresident.\\nWe are united to #StopTrump.\\nWe are #StrongerTogether.\\nWe are #StrongerThanFear.\\nWe are\\u2026 ', 'user': u'donalynette'}\n",
      "{'text': u'RT @RussiaInsider: Soros Fingerprints All Over #NotMyPresident Protests https://t.co/zaR4TGhUNZ https://t.co/B3lJwKXBZx', 'user': u'andreassoridis'}\n",
      "{'text': u'@stephenasmith @FirstTake #NotMyPresident #ImStillWithHer', 'user': u'MickowskiBob'}\n"
     ]
    }
   ],
   "source": [
    "# Create an instand set the number of tweets we want ro retrieve\n",
    "listener = BDStreamingListener(3)\n",
    "\n",
    "# Create the stream fetching object with auth and listener\n",
    "stream = tweepy.streaming.Stream(auth, listener)\n",
    "\n",
    "# Tun the stream using filter\n",
    "stream.filter(track=['#notmypresident'])\n"
   ]
  },
  {
   "cell_type": "markdown",
   "metadata": {},
   "source": [
    "# Get INTESA Followers -- Version 1"
   ]
  },
  {
   "cell_type": "code",
   "execution_count": 169,
   "metadata": {
    "collapsed": true
   },
   "outputs": [],
   "source": [
    "# Ask for Followers using Cursor (20 followers per page, with a limit of 15 requests each 15 minutes) ~ 3 Hours\n",
    "class IntesaFollowers(object):\n",
    "    \n",
    "    def __init__(self, auth):\n",
    "        self.auth = auth\n",
    "        self.api = tweepy.API(self.auth)\n",
    "        self.intesa_cursor = tweepy.Cursor(self.api.followers, screen_name='intesasanpaolo')\n",
    "\n",
    "    def get_followers(self):\n",
    "        while True:\n",
    "            try:\n",
    "                yield self.intesa_cursor.pages().next()\n",
    "            except tweepy.RateLimitError:\n",
    "                print \"[LOG %s] Timeout reached.. I'm going to sleep for 15 minutes..\" % dt.now()\n",
    "                time.sleep(15*60)\n",
    "                print \"[LOG %s] Try Again!\" % dt.now()\n",
    "            except Exception as e:\n",
    "                # Generic Exception\n",
    "                print \"[LOG %s] Generic error \" % dt.now(), e\n",
    "                print \"[LOG %s] Wait 60 seconds...\" % dt.now()\n",
    "                time.sleep(60)"
   ]
  },
  {
   "cell_type": "code",
   "execution_count": null,
   "metadata": {
    "collapsed": true
   },
   "outputs": [],
   "source": [
    "intesa = IntesaFollowers(auth)\n",
    "intesa_followers = []\n",
    "for followers in intesa.get_followers():\n",
    "    intesa_followers.extend(followers)"
   ]
  },
  {
   "cell_type": "markdown",
   "metadata": {},
   "source": [
    "# Get INTESA Followers -- Version 2 (Faster)"
   ]
  },
  {
   "cell_type": "code",
   "execution_count": 62,
   "metadata": {
    "collapsed": true
   },
   "outputs": [],
   "source": [
    "# Ask for Followers_ids and ask data for each user -> Much Much Faster!  ~ 1.5 Hours\n",
    "import time\n",
    "from datetime import datetime as dt\n",
    "\n",
    "class IntesaFollowers(object):\n",
    "\n",
    "    def __init__(self, auth):\n",
    "        self.auth = auth\n",
    "        self.api = tweepy.API(self.auth)\n",
    "        self.intesa = self.api.get_user('intesasanpaolo')\n",
    "\n",
    "    def get_followers(self):\n",
    "        for follower_id in self.intesa.followers_ids():\n",
    "            try:\n",
    "                yield self.api.get_user(follower_id)\n",
    "            except tweepy.RateLimitError:\n",
    "                print \"[LOG %s] Timeout reached.. I'm going to sleep for 15 minutes..\" % dt.now()\n",
    "                time.sleep(15*60)\n",
    "                print \"[LOG %s] Try Again!\" % dt.now()\n",
    "            except Exception as e:\n",
    "                # Generic Exception\n",
    "                print \"[LOG %s] Generic error \" % dt.now(), e\n",
    "                print \"[LOG %s] Wait 60 seconds...\" % dt.now()\n",
    "                time.sleep(60)"
   ]
  },
  {
   "cell_type": "code",
   "execution_count": 65,
   "metadata": {
    "collapsed": false
   },
   "outputs": [
    {
     "name": "stdout",
     "output_type": "stream",
     "text": [
      "Working ... 0\n",
      "Working ... 1\n",
      "Working ... 2\n",
      "Working ... 3\n",
      "Working ... 4\n",
      "Working ... 5\n",
      "Working ... 6\n",
      "Working ... 7\n",
      "Working ... 8\n",
      "Working ... 9\n",
      "Working ... 10\n",
      "Working ... 11\n",
      "Working ... 12\n",
      "Working ... 13\n",
      "Working ... 14\n",
      "Working ... 15\n",
      "Working ... 16\n",
      "Working ... 17\n",
      "Working ... 18\n",
      "Working ... 19\n",
      "Working ... 20\n",
      "Working ... 21\n",
      "Working ... 22\n",
      "Working ... 23\n",
      "Working ... 24\n",
      "Working ... 25\n",
      "Working ... 26\n",
      "Working ... 27\n",
      "Working ... 28\n",
      "Working ... 29\n",
      "Working ... 30\n",
      "Working ... 31\n",
      "Working ... 32\n",
      "Working ... 33\n",
      "Working ... 34\n",
      "Working ... 35\n",
      "Working ... 36\n",
      "Working ... 37\n",
      "Working ... 38\n",
      "Working ... 39\n",
      "Working ... 40\n",
      "Working ... 41\n",
      "Working ... 42\n",
      "Working ... 43\n",
      "Working ... 44\n",
      "Working ... 45\n",
      "Working ... 46\n",
      "Working ... 47\n",
      "Working ... 48\n",
      "Working ... 49\n",
      "Working ... 50\n",
      "Working ... 51\n",
      "Working ... 52\n",
      "Working ... 53\n",
      "Working ... 54\n",
      "Working ... 55\n",
      "Working ... 56\n",
      "Working ... 57\n",
      "Working ... 58\n",
      "Working ... 59\n",
      "Working ... 60\n",
      "Working ... 61\n",
      "Working ... 62\n",
      "Working ... 63\n",
      "Working ... 64\n",
      "Working ... 65\n",
      "Working ... 66\n",
      "Working ... 67\n",
      "Working ... 68\n",
      "Working ... 69\n",
      "Working ... 70\n",
      "Working ... 71\n",
      "Working ... 72\n",
      "Working ... 73\n",
      "Working ... 74\n",
      "Working ... 75\n",
      "Working ... 76\n",
      "Working ... 77\n",
      "Working ... 78\n",
      "Working ... 79\n",
      "Working ... 80\n",
      "Working ... 81\n",
      "Working ... 82\n",
      "Working ... 83\n",
      "Working ... 84\n",
      "Working ... 85\n",
      "Working ... 86\n",
      "Working ... 87\n",
      "Working ... 88\n",
      "Working ... 89\n",
      "Working ... 90\n",
      "Working ... 91\n",
      "Working ... 92\n",
      "Working ... 93\n",
      "Working ... 94\n",
      "Working ... 95\n",
      "Working ... 96\n",
      "Working ... 97\n",
      "Working ... 98\n",
      "Working ... 99\n",
      "Working ... 100\n",
      "Working ... 101\n",
      "Working ... 102\n",
      "Working ... 103\n",
      "Working ... 104\n",
      "Working ... 105\n",
      "Working ... 106\n",
      "Working ... 107\n",
      "Working ... 108\n",
      "Working ... 109\n",
      "Working ... 110\n",
      "Working ... 111\n",
      "Working ... 112\n",
      "Working ... 113\n",
      "Working ... 114\n",
      "Working ... 115\n",
      "Working ... 116\n",
      "Working ... 117\n",
      "Working ... 118\n",
      "Working ... 119\n",
      "Working ... 120\n",
      "Working ... 121\n",
      "Working ... 122\n",
      "Working ... 123\n",
      "Working ... 124\n",
      "Working ... 125\n",
      "Working ... 126\n",
      "Working ... 127\n",
      "Working ... 128\n",
      "Working ... 129\n",
      "Working ... 130\n",
      "Working ... 131\n",
      "Working ... 132\n",
      "Working ... 133\n",
      "Working ... 134\n",
      "Working ... 135\n",
      "Working ... 136\n",
      "Working ... 137\n",
      "Working ... 138\n",
      "Working ... 139\n",
      "Working ... 140\n",
      "Working ... 141\n",
      "Working ... 142\n",
      "Working ... 143\n",
      "Working ... 144\n",
      "Working ... 145\n",
      "Working ... 146\n",
      "Working ... 147\n",
      "Working ... 148\n",
      "Working ... 149\n",
      "Working ... 150\n",
      "Working ... 151\n",
      "Working ... 152\n",
      "Working ... 153\n",
      "Working ... 154\n",
      "Working ... 155\n",
      "Working ... 156\n",
      "Working ... 157\n",
      "Working ... 158\n",
      "Working ... 159\n",
      "Working ... 160\n",
      "Working ... 161\n",
      "Working ... 162\n",
      "Working ... 163\n",
      "Working ... 164\n",
      "Working ... 165\n",
      "Working ... 166\n",
      "Working ... 167\n",
      "Working ... 168\n",
      "Working ... 169\n",
      "Working ... 170\n",
      "Working ... 171\n",
      "Working ... 172\n",
      "Working ... 173\n",
      "Working ... 174\n",
      "Working ... 175\n",
      "Working ... 176\n",
      "Working ... 177\n",
      "Working ... 178\n",
      "Working ... 179\n",
      "Working ... 180\n",
      "Working ... 181\n",
      "Working ... 182\n",
      "Working ... 183\n",
      "Working ... 184\n",
      "Working ... 185\n",
      "Working ... 186\n",
      "Working ... 187\n",
      "Working ... 188\n",
      "Working ... 189\n",
      "Working ... 190\n",
      "Working ... 191\n",
      "Working ... 192\n",
      "Working ... 193\n",
      "Working ... 194\n",
      "Working ... 195\n",
      "Working ... 196\n",
      "Working ... 197\n",
      "Working ... 198\n",
      "Working ... 199\n",
      "Working ... 200\n",
      "Working ... 201\n",
      "Working ... 202\n",
      "Working ... 203\n",
      "Working ... 204\n",
      "Working ... 205\n",
      "Working ... 206\n",
      "Working ... 207\n",
      "Working ... 208\n",
      "Working ... 209\n",
      "Working ... 210\n",
      "Working ... 211\n",
      "Working ... 212\n",
      "Working ... 213\n",
      "Working ... 214\n",
      "Working ... 215\n",
      "Working ... 216\n",
      "Working ... 217\n",
      "Working ... 218\n",
      "Working ... 219\n",
      "Working ... 220\n",
      "Working ... 221\n",
      "Working ... 222\n",
      "Working ... 223\n",
      "Working ... 224\n",
      "Working ... 225\n",
      "Working ... 226\n",
      "Working ... 227\n",
      "Working ... 228\n",
      "Working ... 229\n",
      "Working ... 230\n",
      "Working ... 231\n",
      "Working ... 232\n",
      "Working ... 233\n",
      "Working ... 234\n",
      "Working ... 235\n",
      "Working ... 236\n",
      "Working ... 237\n",
      "Working ... 238\n",
      "Working ... 239\n",
      "Working ... 240\n",
      "Working ... 241\n",
      "Working ... 242\n",
      "Working ... 243\n",
      "Working ... 244\n",
      "Working ... 245\n",
      "Working ... 246\n",
      "Working ... 247\n",
      "Working ... 248\n",
      "Working ... 249\n",
      "Working ... 250\n",
      "Working ... 251\n",
      "Working ... 252\n",
      "Working ... 253\n",
      "Working ... 254\n",
      "Working ... 255\n",
      "Working ... 256\n",
      "Working ... 257\n",
      "Working ... 258\n",
      "Working ... 259\n",
      "Working ... 260\n",
      "Working ... 261\n",
      "Working ... 262\n",
      "Working ... 263\n",
      "Working ... 264\n",
      "Working ... 265\n",
      "Working ... 266\n",
      "Working ... 267\n",
      "Working ... 268\n",
      "Working ... 269\n",
      "Working ... 270\n",
      "Working ... 271\n",
      "Working ... 272\n",
      "Working ... 273\n",
      "Working ... 274\n",
      "Working ... 275\n",
      "Working ... 276\n",
      "Working ... 277\n",
      "Working ... 278\n",
      "Working ... 279\n",
      "Working ... 280\n",
      "Working ... 281\n",
      "Working ... 282\n",
      "Working ... 283\n",
      "Working ... 284\n",
      "Working ... 285\n",
      "Working ... 286\n",
      "Working ... 287\n",
      "Working ... 288\n",
      "Working ... 289\n",
      "Working ... 290\n",
      "Working ... 291\n",
      "Working ... 292\n",
      "Working ... 293\n",
      "Working ... 294\n",
      "Working ... 295\n",
      "Working ... 296\n",
      "Working ... 297\n",
      "Working ... 298\n",
      "Working ... 299\n",
      "Working ... 300\n",
      "Working ... 301\n",
      "Working ... 302\n",
      "Working ... 303\n",
      "Working ... 304\n",
      "Working ... 305\n",
      "Working ... 306\n",
      "Working ... 307\n",
      "Working ... 308\n",
      "Working ... 309\n",
      "Working ... 310\n",
      "Working ... 311\n",
      "Working ... 312\n",
      "Working ... 313\n",
      "Working ... 314\n",
      "Working ... 315\n",
      "Working ... 316\n",
      "Working ... 317\n",
      "Working ... 318\n",
      "Working ... 319\n",
      "Working ... 320\n",
      "Working ... 321\n",
      "Working ... 322\n",
      "Working ... 323\n",
      "Working ... 324\n",
      "Working ... 325\n",
      "Working ... 326\n",
      "Working ... 327\n",
      "Working ... 328\n",
      "Working ... 329\n",
      "Working ... 330\n",
      "Working ... 331\n",
      "Working ... 332\n",
      "Working ... 333\n",
      "Working ... 334\n",
      "Working ... 335\n",
      "Working ... 336\n",
      "Working ... 337\n",
      "Working ... 338\n",
      "Working ... 339\n",
      "Working ... 340\n",
      "Working ... 341\n",
      "Working ... 342\n",
      "Working ... 343\n",
      "Working ... 344\n",
      "Working ... 345\n",
      "Working ... 346\n",
      "Working ... 347\n",
      "Working ... 348\n",
      "Working ... 349\n",
      "Working ... 350\n",
      "Working ... 351\n",
      "Working ... 352\n",
      "Working ... 353\n",
      "Working ... 354\n",
      "Working ... 355\n",
      "Working ... 356\n",
      "Working ... 357\n",
      "Working ... 358\n",
      "Working ... 359\n",
      "Working ... 360\n",
      "Working ... 361\n",
      "Working ... 362\n",
      "Working ... 363\n",
      "Working ... 364\n",
      "Working ... 365\n",
      "Working ... 366\n",
      "Working ... 367\n",
      "Working ... 368\n",
      "Working ... 369\n",
      "Working ... 370\n",
      "Working ... 371\n",
      "Working ... 372\n",
      "Working ... 373\n",
      "Working ... 374\n",
      "[LOG 2016-11-18 16:18:34.138998] Timeout reached.. I'm going to sleep for 15 minutes..\n"
     ]
    },
    {
     "ename": "KeyboardInterrupt",
     "evalue": "",
     "output_type": "error",
     "traceback": [
      "\u001b[1;31m---------------------------------------------------------------------------\u001b[0m",
      "\u001b[1;31mKeyboardInterrupt\u001b[0m                         Traceback (most recent call last)",
      "\u001b[1;32m<ipython-input-65-4e0109137c6e>\u001b[0m in \u001b[0;36m<module>\u001b[1;34m()\u001b[0m\n\u001b[0;32m      2\u001b[0m \u001b[0mintesa_followers\u001b[0m \u001b[1;33m=\u001b[0m \u001b[1;33m[\u001b[0m\u001b[1;33m]\u001b[0m\u001b[1;33m\u001b[0m\u001b[0m\n\u001b[0;32m      3\u001b[0m \u001b[0mcounter\u001b[0m \u001b[1;33m=\u001b[0m \u001b[1;36m0\u001b[0m\u001b[1;33m\u001b[0m\u001b[0m\n\u001b[1;32m----> 4\u001b[1;33m \u001b[1;32mfor\u001b[0m \u001b[0mfollower\u001b[0m \u001b[1;32min\u001b[0m \u001b[0mintesa\u001b[0m\u001b[1;33m.\u001b[0m\u001b[0mget_followers\u001b[0m\u001b[1;33m(\u001b[0m\u001b[1;33m)\u001b[0m\u001b[1;33m:\u001b[0m\u001b[1;33m\u001b[0m\u001b[0m\n\u001b[0m\u001b[0;32m      5\u001b[0m     \u001b[1;32mprint\u001b[0m \u001b[1;34m\"Working ...\"\u001b[0m\u001b[1;33m,\u001b[0m \u001b[0mcounter\u001b[0m\u001b[1;33m\u001b[0m\u001b[0m\n\u001b[0;32m      6\u001b[0m     \u001b[0mcounter\u001b[0m \u001b[1;33m+=\u001b[0m \u001b[1;36m1\u001b[0m\u001b[1;33m\u001b[0m\u001b[0m\n",
      "\u001b[1;32m<ipython-input-62-94c1ff568de4>\u001b[0m in \u001b[0;36mget_followers\u001b[1;34m(self)\u001b[0m\n\u001b[0;32m     16\u001b[0m             \u001b[1;32mexcept\u001b[0m \u001b[0mtweepy\u001b[0m\u001b[1;33m.\u001b[0m\u001b[0mRateLimitError\u001b[0m\u001b[1;33m:\u001b[0m\u001b[1;33m\u001b[0m\u001b[0m\n\u001b[0;32m     17\u001b[0m                 \u001b[1;32mprint\u001b[0m \u001b[1;34m\"[LOG %s] Timeout reached.. I'm going to sleep for 15 minutes..\"\u001b[0m \u001b[1;33m%\u001b[0m \u001b[0mdt\u001b[0m\u001b[1;33m.\u001b[0m\u001b[0mnow\u001b[0m\u001b[1;33m(\u001b[0m\u001b[1;33m)\u001b[0m\u001b[1;33m\u001b[0m\u001b[0m\n\u001b[1;32m---> 18\u001b[1;33m                 \u001b[0mtime\u001b[0m\u001b[1;33m.\u001b[0m\u001b[0msleep\u001b[0m\u001b[1;33m(\u001b[0m\u001b[1;36m15\u001b[0m\u001b[1;33m*\u001b[0m\u001b[1;36m60\u001b[0m\u001b[1;33m)\u001b[0m\u001b[1;33m\u001b[0m\u001b[0m\n\u001b[0m\u001b[0;32m     19\u001b[0m                 \u001b[1;32mprint\u001b[0m \u001b[1;34m\"[LOG %s] Try Again!\"\u001b[0m \u001b[1;33m%\u001b[0m \u001b[0mdt\u001b[0m\u001b[1;33m.\u001b[0m\u001b[0mnow\u001b[0m\u001b[1;33m(\u001b[0m\u001b[1;33m)\u001b[0m\u001b[1;33m\u001b[0m\u001b[0m\n\u001b[0;32m     20\u001b[0m             \u001b[1;32mexcept\u001b[0m \u001b[0mException\u001b[0m \u001b[1;32mas\u001b[0m \u001b[0me\u001b[0m\u001b[1;33m:\u001b[0m\u001b[1;33m\u001b[0m\u001b[0m\n",
      "\u001b[1;31mKeyboardInterrupt\u001b[0m: "
     ]
    }
   ],
   "source": [
    "intesa = IntesaFollowers(auth)\n",
    "intesa_followers = []\n",
    "counter = 0\n",
    "for follower in intesa.get_followers():\n",
    "    print \"Working ...\", counter\n",
    "    counter += 1\n",
    "    intesa_followers.append(follower)"
   ]
  },
  {
   "cell_type": "markdown",
   "metadata": {},
   "source": [
    "# Get INTESA tweets"
   ]
  },
  {
   "cell_type": "code",
   "execution_count": 66,
   "metadata": {
    "collapsed": false
   },
   "outputs": [],
   "source": [
    "class IntesaTweets(object):\n",
    "    \n",
    "    def __init__(self, auth):\n",
    "        self.auth = auth\n",
    "        self.api = tweepy.API(self.auth)\n",
    "        self.intesa_cursor = tweepy.Cursor(self.api.user_timeline, screen_name='intesasanpaolo')\n",
    "\n",
    "    def get_tweets(self):\n",
    "        while True:\n",
    "            try:\n",
    "                yield self.intesa_cursor.pages().next()\n",
    "            except tweepy.RateLimitError:\n",
    "                print \"[LOG %s] Timeout reached.. I'm going to sleep for 15 minutes..\" % dt.now()\n",
    "                time.sleep(15*60)\n",
    "                print \"[LOG %s] Try Again!\" % dt.now()\n",
    "            except Exception as e:\n",
    "                # Generic Exception\n",
    "                print \"[LOG %s] Generic error \" % dt.now(), e\n",
    "                print \"[LOG %s] Wait 60 seconds...\" % dt.now()\n",
    "                time.sleep(60)\n"
   ]
  },
  {
   "cell_type": "code",
   "execution_count": 67,
   "metadata": {
    "collapsed": false
   },
   "outputs": [
    {
     "name": "stdout",
     "output_type": "stream",
     "text": [
      "{ u'contributors': None,\n",
      "  u'coordinates': None,\n",
      "  u'created_at': u'Fri Nov 18 13:26:56 +0000 2016',\n",
      "  u'entities': { u'hashtags': [ { u'indices': [30, 53],\n",
      "                                  u'text': u'fuoriclassedellascuola'},\n",
      "                                { u'indices': [65, 76],\n",
      "                                  u'text': u'Softskills'},\n",
      "                                { u'indices': [94, 105],\n",
      "                                  u'text': u'formazione'}],\n",
      "                 u'symbols': [],\n",
      "                 u'urls': [],\n",
      "                 u'user_mentions': [ { u'id': 1131143048,\n",
      "                                       u'id_str': u'1131143048',\n",
      "                                       u'indices': [3, 14],\n",
      "                                       u'name': u'Museo del Risparmio',\n",
      "                                       u'screen_name': u'MdR_Torino'},\n",
      "                                     { u'id': 393894382,\n",
      "                                       u'id_str': u'393894382',\n",
      "                                       u'indices': [118, 133],\n",
      "                                       u'name': u'Intesa Sanpaolo',\n",
      "                                       u'screen_name': u'intesasanpaolo'}]},\n",
      "  u'favorite_count': 0,\n",
      "  u'favorited': False,\n",
      "  u'geo': None,\n",
      "  u'id': 799604807774310401,\n",
      "  u'id_str': u'799604807774310401',\n",
      "  u'in_reply_to_screen_name': None,\n",
      "  u'in_reply_to_status_id': None,\n",
      "  u'in_reply_to_status_id_str': None,\n",
      "  u'in_reply_to_user_id': None,\n",
      "  u'in_reply_to_user_id_str': None,\n",
      "  u'is_quote_status': False,\n",
      "  u'lang': u'it',\n",
      "  u'place': None,\n",
      "  u'retweet_count': 2,\n",
      "  u'retweeted': False,\n",
      "  u'retweeted_status': { u'contributors': None,\n",
      "                         u'coordinates': None,\n",
      "                         u'created_at': u'Fri Nov 18 13:25:29 +0000 2016',\n",
      "                         u'entities': { u'hashtags': [ { u'indices': [ 14,\n",
      "                                                                       37],\n",
      "                                                         u'text': u'fuoriclassedellascuola'},\n",
      "                                                       { u'indices': [ 49,\n",
      "                                                                       60],\n",
      "                                                         u'text': u'Softskills'},\n",
      "                                                       { u'indices': [ 78,\n",
      "                                                                       89],\n",
      "                                                         u'text': u'formazione'}],\n",
      "                                        u'symbols': [],\n",
      "                                        u'urls': [ { u'display_url': u'twitter.com/i/web/status/7\\u2026',\n",
      "                                                     u'expanded_url': u'https://twitter.com/i/web/status/799604442790240256',\n",
      "                                                     u'indices': [ 103,\n",
      "                                                                   126],\n",
      "                                                     u'url': u'https://t.co/FBbYyjxjeD'}],\n",
      "                                        u'user_mentions': []},\n",
      "                         u'favorite_count': 4,\n",
      "                         u'favorited': False,\n",
      "                         u'geo': None,\n",
      "                         u'id': 799604442790240256,\n",
      "                         u'id_str': u'799604442790240256',\n",
      "                         u'in_reply_to_screen_name': None,\n",
      "                         u'in_reply_to_status_id': None,\n",
      "                         u'in_reply_to_status_id_str': None,\n",
      "                         u'in_reply_to_user_id': None,\n",
      "                         u'in_reply_to_user_id_str': None,\n",
      "                         u'is_quote_status': False,\n",
      "                         u'lang': u'it',\n",
      "                         u'place': None,\n",
      "                         u'possibly_sensitive': False,\n",
      "                         u'retweet_count': 2,\n",
      "                         u'retweeted': False,\n",
      "                         u'source': u'<a href=\"http://twitter.com/download/android\" rel=\"nofollow\">Twitter for Android</a>',\n",
      "                         u'text': u\"Al Campus dei #fuoriclassedellascuola  inizia il #Softskills Lab dell'Ufficio #formazione manageriale\\u2026 https://t.co/FBbYyjxjeD\",\n",
      "                         u'truncated': True,\n",
      "                         u'user': { u'contributors_enabled': False,\n",
      "                                    u'created_at': u'Tue Jan 29 14:08:30 +0000 2013',\n",
      "                                    u'default_profile': False,\n",
      "                                    u'default_profile_image': False,\n",
      "                                    u'description': u\"Conoscere, Capire e Sperimentare!  Un esempio di #edutainment unico ed innovativo per avvicinarsi all' #EducazioneFinanziaria | #capitaleumano\",\n",
      "                                    u'entities': { u'description': { u'urls': [ ]},\n",
      "                                                   u'url': { u'urls': [ { u'display_url': u'museodelrisparmio.it',\n",
      "                                                                          u'expanded_url': u'http://www.museodelrisparmio.it',\n",
      "                                                                          u'indices': [ 0,\n",
      "                                                                                        23],\n",
      "                                                                          u'url': u'https://t.co/kNGTH5Nrv4'}]}},\n",
      "                                    u'favourites_count': 403,\n",
      "                                    u'follow_request_sent': False,\n",
      "                                    u'followers_count': 738,\n",
      "                                    u'following': False,\n",
      "                                    u'friends_count': 615,\n",
      "                                    u'geo_enabled': True,\n",
      "                                    u'has_extended_profile': False,\n",
      "                                    u'id': 1131143048,\n",
      "                                    u'id_str': u'1131143048',\n",
      "                                    u'is_translation_enabled': False,\n",
      "                                    u'is_translator': False,\n",
      "                                    u'lang': u'it',\n",
      "                                    u'listed_count': 48,\n",
      "                                    u'location': u\"via S. F. d'Assisi 8/A, Torino\",\n",
      "                                    u'name': u'Museo del Risparmio',\n",
      "                                    u'notifications': False,\n",
      "                                    u'profile_background_color': u'C0DEED',\n",
      "                                    u'profile_background_image_url': u'http://pbs.twimg.com/profile_background_images/788888938/a9f685202a26174c68a1e3a9c14504d5.jpeg',\n",
      "                                    u'profile_background_image_url_https': u'https://pbs.twimg.com/profile_background_images/788888938/a9f685202a26174c68a1e3a9c14504d5.jpeg',\n",
      "                                    u'profile_background_tile': True,\n",
      "                                    u'profile_banner_url': u'https://pbs.twimg.com/profile_banners/1131143048/1449664470',\n",
      "                                    u'profile_image_url': u'http://pbs.twimg.com/profile_images/3179431306/67496e130ba19f324486859418cb4d1f_normal.jpeg',\n",
      "                                    u'profile_image_url_https': u'https://pbs.twimg.com/profile_images/3179431306/67496e130ba19f324486859418cb4d1f_normal.jpeg',\n",
      "                                    u'profile_link_color': u'0084B4',\n",
      "                                    u'profile_sidebar_border_color': u'FFFFFF',\n",
      "                                    u'profile_sidebar_fill_color': u'DDEEF6',\n",
      "                                    u'profile_text_color': u'333333',\n",
      "                                    u'profile_use_background_image': True,\n",
      "                                    u'protected': False,\n",
      "                                    u'screen_name': u'MdR_Torino',\n",
      "                                    u'statuses_count': 1194,\n",
      "                                    u'time_zone': u'Hawaii',\n",
      "                                    u'translator_type': u'none',\n",
      "                                    u'url': u'https://t.co/kNGTH5Nrv4',\n",
      "                                    u'utc_offset': -36000,\n",
      "                                    u'verified': False}},\n",
      "  u'source': u'<a href=\"http://twitter.com/download/android\" rel=\"nofollow\">Twitter for Android</a>',\n",
      "  u'text': u\"RT @MdR_Torino: Al Campus dei #fuoriclassedellascuola  inizia il #Softskills Lab dell'Ufficio #formazione manageriale @intesasanpaolo. http\\u2026\",\n",
      "  u'truncated': False,\n",
      "  u'user': { u'contributors_enabled': False,\n",
      "             u'created_at': u'Wed Oct 19 07:46:49 +0000 2011',\n",
      "             u'default_profile': False,\n",
      "             u'default_profile_image': False,\n",
      "             u'description': u'Notizie, eventi e informazioni in tempo reale sul mondo Intesa Sanpaolo. Per assistenza su prodotti e servizi seguici su @IntesaSP_Help e @IntesaSPgiovani.',\n",
      "             u'entities': { u'description': { u'urls': []},\n",
      "                            u'url': { u'urls': [ { u'display_url': u'intesasanpaolo.com',\n",
      "                                                   u'expanded_url': u'http://www.intesasanpaolo.com',\n",
      "                                                   u'indices': [0, 22],\n",
      "                                                   u'url': u'http://t.co/lmrSnJtN6Y'}]}},\n",
      "             u'favourites_count': 1101,\n",
      "             u'follow_request_sent': False,\n",
      "             u'followers_count': 4240,\n",
      "             u'following': False,\n",
      "             u'friends_count': 179,\n",
      "             u'geo_enabled': False,\n",
      "             u'has_extended_profile': False,\n",
      "             u'id': 393894382,\n",
      "             u'id_str': u'393894382',\n",
      "             u'is_translation_enabled': True,\n",
      "             u'is_translator': False,\n",
      "             u'lang': u'it',\n",
      "             u'listed_count': 133,\n",
      "             u'location': u'',\n",
      "             u'name': u'Intesa Sanpaolo',\n",
      "             u'notifications': False,\n",
      "             u'profile_background_color': u'DBDBDB',\n",
      "             u'profile_background_image_url': u'http://abs.twimg.com/images/themes/theme1/bg.png',\n",
      "             u'profile_background_image_url_https': u'https://abs.twimg.com/images/themes/theme1/bg.png',\n",
      "             u'profile_background_tile': False,\n",
      "             u'profile_banner_url': u'https://pbs.twimg.com/profile_banners/393894382/1473949795',\n",
      "             u'profile_image_url': u'http://pbs.twimg.com/profile_images/597680334474485760/Z6OMNC0B_normal.jpg',\n",
      "             u'profile_image_url_https': u'https://pbs.twimg.com/profile_images/597680334474485760/Z6OMNC0B_normal.jpg',\n",
      "             u'profile_link_color': u'929292',\n",
      "             u'profile_sidebar_border_color': u'FFFFFF',\n",
      "             u'profile_sidebar_fill_color': u'DDEEF6',\n",
      "             u'profile_text_color': u'333333',\n",
      "             u'profile_use_background_image': False,\n",
      "             u'protected': False,\n",
      "             u'screen_name': u'intesasanpaolo',\n",
      "             u'statuses_count': 2424,\n",
      "             u'time_zone': u'Rome',\n",
      "             u'translator_type': u'none',\n",
      "             u'url': u'http://t.co/lmrSnJtN6Y',\n",
      "             u'utc_offset': 3600,\n",
      "             u'verified': False}}\n"
     ]
    }
   ],
   "source": [
    "intesa_timeline = IntesaTweets(auth)\n",
    "intesa_tweets = []\n",
    "for tweet in intesa_timeline.get_tweets():\n",
    "    pp.pprint(tweet[0]._json)\n",
    "    break"
   ]
  },
  {
   "cell_type": "markdown",
   "metadata": {
    "collapsed": true
   },
   "source": [
    "# GET Intesa Favorites"
   ]
  },
  {
   "cell_type": "code",
   "execution_count": 71,
   "metadata": {
    "collapsed": true
   },
   "outputs": [],
   "source": [
    "class IntesaFavorites(object):\n",
    "    \n",
    "    def __init__(self, auth):\n",
    "        self.auth = auth\n",
    "        self.api = tweepy.API(self.auth)\n",
    "        self.intesa_cursor = tweepy.Cursor(self.api.user_timeline, screen_name='intesasanpaolo')\n",
    "\n",
    "    def get_favorites(self):\n",
    "        while True:\n",
    "            try:\n",
    "                yield self.intesa_cursor.pages().next()\n",
    "            except tweepy.RateLimitError:\n",
    "                print \"[LOG %s] Timeout reached.. I'm going to sleep for 15 minutes..\" % dt.now()\n",
    "                time.sleep(15*60)\n",
    "                print \"[LOG %s] Try Again!\" % dt.now()\n",
    "            except Exception as e:\n",
    "                # Generic Exception\n",
    "                print \"[LOG %s] Generic error \" % dt.now(), e\n",
    "                print \"[LOG %s] Wait 60 seconds...\" % dt.now()\n",
    "                time.sleep(60)"
   ]
  },
  {
   "cell_type": "code",
   "execution_count": 72,
   "metadata": {
    "collapsed": false
   },
   "outputs": [
    {
     "name": "stdout",
     "output_type": "stream",
     "text": [
      "{ u'contributors': None,\n",
      "  u'coordinates': None,\n",
      "  u'created_at': u'Fri Nov 18 13:26:56 +0000 2016',\n",
      "  u'entities': { u'hashtags': [ { u'indices': [30, 53],\n",
      "                                  u'text': u'fuoriclassedellascuola'},\n",
      "                                { u'indices': [65, 76],\n",
      "                                  u'text': u'Softskills'},\n",
      "                                { u'indices': [94, 105],\n",
      "                                  u'text': u'formazione'}],\n",
      "                 u'symbols': [],\n",
      "                 u'urls': [],\n",
      "                 u'user_mentions': [ { u'id': 1131143048,\n",
      "                                       u'id_str': u'1131143048',\n",
      "                                       u'indices': [3, 14],\n",
      "                                       u'name': u'Museo del Risparmio',\n",
      "                                       u'screen_name': u'MdR_Torino'},\n",
      "                                     { u'id': 393894382,\n",
      "                                       u'id_str': u'393894382',\n",
      "                                       u'indices': [118, 133],\n",
      "                                       u'name': u'Intesa Sanpaolo',\n",
      "                                       u'screen_name': u'intesasanpaolo'}]},\n",
      "  u'favorite_count': 0,\n",
      "  u'favorited': False,\n",
      "  u'geo': None,\n",
      "  u'id': 799604807774310401,\n",
      "  u'id_str': u'799604807774310401',\n",
      "  u'in_reply_to_screen_name': None,\n",
      "  u'in_reply_to_status_id': None,\n",
      "  u'in_reply_to_status_id_str': None,\n",
      "  u'in_reply_to_user_id': None,\n",
      "  u'in_reply_to_user_id_str': None,\n",
      "  u'is_quote_status': False,\n",
      "  u'lang': u'it',\n",
      "  u'place': None,\n",
      "  u'retweet_count': 2,\n",
      "  u'retweeted': False,\n",
      "  u'retweeted_status': { u'contributors': None,\n",
      "                         u'coordinates': None,\n",
      "                         u'created_at': u'Fri Nov 18 13:25:29 +0000 2016',\n",
      "                         u'entities': { u'hashtags': [ { u'indices': [ 14,\n",
      "                                                                       37],\n",
      "                                                         u'text': u'fuoriclassedellascuola'},\n",
      "                                                       { u'indices': [ 49,\n",
      "                                                                       60],\n",
      "                                                         u'text': u'Softskills'},\n",
      "                                                       { u'indices': [ 78,\n",
      "                                                                       89],\n",
      "                                                         u'text': u'formazione'}],\n",
      "                                        u'symbols': [],\n",
      "                                        u'urls': [ { u'display_url': u'twitter.com/i/web/status/7\\u2026',\n",
      "                                                     u'expanded_url': u'https://twitter.com/i/web/status/799604442790240256',\n",
      "                                                     u'indices': [ 103,\n",
      "                                                                   126],\n",
      "                                                     u'url': u'https://t.co/FBbYyjxjeD'}],\n",
      "                                        u'user_mentions': []},\n",
      "                         u'favorite_count': 4,\n",
      "                         u'favorited': False,\n",
      "                         u'geo': None,\n",
      "                         u'id': 799604442790240256,\n",
      "                         u'id_str': u'799604442790240256',\n",
      "                         u'in_reply_to_screen_name': None,\n",
      "                         u'in_reply_to_status_id': None,\n",
      "                         u'in_reply_to_status_id_str': None,\n",
      "                         u'in_reply_to_user_id': None,\n",
      "                         u'in_reply_to_user_id_str': None,\n",
      "                         u'is_quote_status': False,\n",
      "                         u'lang': u'it',\n",
      "                         u'place': None,\n",
      "                         u'possibly_sensitive': False,\n",
      "                         u'retweet_count': 2,\n",
      "                         u'retweeted': False,\n",
      "                         u'source': u'<a href=\"http://twitter.com/download/android\" rel=\"nofollow\">Twitter for Android</a>',\n",
      "                         u'text': u\"Al Campus dei #fuoriclassedellascuola  inizia il #Softskills Lab dell'Ufficio #formazione manageriale\\u2026 https://t.co/FBbYyjxjeD\",\n",
      "                         u'truncated': True,\n",
      "                         u'user': { u'contributors_enabled': False,\n",
      "                                    u'created_at': u'Tue Jan 29 14:08:30 +0000 2013',\n",
      "                                    u'default_profile': False,\n",
      "                                    u'default_profile_image': False,\n",
      "                                    u'description': u\"Conoscere, Capire e Sperimentare!  Un esempio di #edutainment unico ed innovativo per avvicinarsi all' #EducazioneFinanziaria | #capitaleumano\",\n",
      "                                    u'entities': { u'description': { u'urls': [ ]},\n",
      "                                                   u'url': { u'urls': [ { u'display_url': u'museodelrisparmio.it',\n",
      "                                                                          u'expanded_url': u'http://www.museodelrisparmio.it',\n",
      "                                                                          u'indices': [ 0,\n",
      "                                                                                        23],\n",
      "                                                                          u'url': u'https://t.co/kNGTH5Nrv4'}]}},\n",
      "                                    u'favourites_count': 403,\n",
      "                                    u'follow_request_sent': False,\n",
      "                                    u'followers_count': 738,\n",
      "                                    u'following': False,\n",
      "                                    u'friends_count': 615,\n",
      "                                    u'geo_enabled': True,\n",
      "                                    u'has_extended_profile': False,\n",
      "                                    u'id': 1131143048,\n",
      "                                    u'id_str': u'1131143048',\n",
      "                                    u'is_translation_enabled': False,\n",
      "                                    u'is_translator': False,\n",
      "                                    u'lang': u'it',\n",
      "                                    u'listed_count': 48,\n",
      "                                    u'location': u\"via S. F. d'Assisi 8/A, Torino\",\n",
      "                                    u'name': u'Museo del Risparmio',\n",
      "                                    u'notifications': False,\n",
      "                                    u'profile_background_color': u'C0DEED',\n",
      "                                    u'profile_background_image_url': u'http://pbs.twimg.com/profile_background_images/788888938/a9f685202a26174c68a1e3a9c14504d5.jpeg',\n",
      "                                    u'profile_background_image_url_https': u'https://pbs.twimg.com/profile_background_images/788888938/a9f685202a26174c68a1e3a9c14504d5.jpeg',\n",
      "                                    u'profile_background_tile': True,\n",
      "                                    u'profile_banner_url': u'https://pbs.twimg.com/profile_banners/1131143048/1449664470',\n",
      "                                    u'profile_image_url': u'http://pbs.twimg.com/profile_images/3179431306/67496e130ba19f324486859418cb4d1f_normal.jpeg',\n",
      "                                    u'profile_image_url_https': u'https://pbs.twimg.com/profile_images/3179431306/67496e130ba19f324486859418cb4d1f_normal.jpeg',\n",
      "                                    u'profile_link_color': u'0084B4',\n",
      "                                    u'profile_sidebar_border_color': u'FFFFFF',\n",
      "                                    u'profile_sidebar_fill_color': u'DDEEF6',\n",
      "                                    u'profile_text_color': u'333333',\n",
      "                                    u'profile_use_background_image': True,\n",
      "                                    u'protected': False,\n",
      "                                    u'screen_name': u'MdR_Torino',\n",
      "                                    u'statuses_count': 1194,\n",
      "                                    u'time_zone': u'Hawaii',\n",
      "                                    u'translator_type': u'none',\n",
      "                                    u'url': u'https://t.co/kNGTH5Nrv4',\n",
      "                                    u'utc_offset': -36000,\n",
      "                                    u'verified': False}},\n",
      "  u'source': u'<a href=\"http://twitter.com/download/android\" rel=\"nofollow\">Twitter for Android</a>',\n",
      "  u'text': u\"RT @MdR_Torino: Al Campus dei #fuoriclassedellascuola  inizia il #Softskills Lab dell'Ufficio #formazione manageriale @intesasanpaolo. http\\u2026\",\n",
      "  u'truncated': False,\n",
      "  u'user': { u'contributors_enabled': False,\n",
      "             u'created_at': u'Wed Oct 19 07:46:49 +0000 2011',\n",
      "             u'default_profile': False,\n",
      "             u'default_profile_image': False,\n",
      "             u'description': u'Notizie, eventi e informazioni in tempo reale sul mondo Intesa Sanpaolo. Per assistenza su prodotti e servizi seguici su @IntesaSP_Help e @IntesaSPgiovani.',\n",
      "             u'entities': { u'description': { u'urls': []},\n",
      "                            u'url': { u'urls': [ { u'display_url': u'intesasanpaolo.com',\n",
      "                                                   u'expanded_url': u'http://www.intesasanpaolo.com',\n",
      "                                                   u'indices': [0, 22],\n",
      "                                                   u'url': u'http://t.co/lmrSnJtN6Y'}]}},\n",
      "             u'favourites_count': 1101,\n",
      "             u'follow_request_sent': False,\n",
      "             u'followers_count': 4240,\n",
      "             u'following': False,\n",
      "             u'friends_count': 179,\n",
      "             u'geo_enabled': False,\n",
      "             u'has_extended_profile': False,\n",
      "             u'id': 393894382,\n",
      "             u'id_str': u'393894382',\n",
      "             u'is_translation_enabled': True,\n",
      "             u'is_translator': False,\n",
      "             u'lang': u'it',\n",
      "             u'listed_count': 133,\n",
      "             u'location': u'',\n",
      "             u'name': u'Intesa Sanpaolo',\n",
      "             u'notifications': False,\n",
      "             u'profile_background_color': u'DBDBDB',\n",
      "             u'profile_background_image_url': u'http://abs.twimg.com/images/themes/theme1/bg.png',\n",
      "             u'profile_background_image_url_https': u'https://abs.twimg.com/images/themes/theme1/bg.png',\n",
      "             u'profile_background_tile': False,\n",
      "             u'profile_banner_url': u'https://pbs.twimg.com/profile_banners/393894382/1473949795',\n",
      "             u'profile_image_url': u'http://pbs.twimg.com/profile_images/597680334474485760/Z6OMNC0B_normal.jpg',\n",
      "             u'profile_image_url_https': u'https://pbs.twimg.com/profile_images/597680334474485760/Z6OMNC0B_normal.jpg',\n",
      "             u'profile_link_color': u'929292',\n",
      "             u'profile_sidebar_border_color': u'FFFFFF',\n",
      "             u'profile_sidebar_fill_color': u'DDEEF6',\n",
      "             u'profile_text_color': u'333333',\n",
      "             u'profile_use_background_image': False,\n",
      "             u'protected': False,\n",
      "             u'screen_name': u'intesasanpaolo',\n",
      "             u'statuses_count': 2424,\n",
      "             u'time_zone': u'Rome',\n",
      "             u'translator_type': u'none',\n",
      "             u'url': u'http://t.co/lmrSnJtN6Y',\n",
      "             u'utc_offset': 3600,\n",
      "             u'verified': False}}\n"
     ]
    }
   ],
   "source": [
    "intesa_timeline = IntesaFavorites(auth)\n",
    "intesa_favorites = []\n",
    "for favorite in intesa_timeline.get_favorites():\n",
    "    pp.pprint(favorite[0]._json)\n",
    "    break"
   ]
  },
  {
   "cell_type": "markdown",
   "metadata": {},
   "source": [
    "# GET Intesa Friends"
   ]
  },
  {
   "cell_type": "markdown",
   "metadata": {},
   "source": [
    "# GET Intesa Data"
   ]
  },
  {
   "cell_type": "code",
   "execution_count": null,
   "metadata": {
    "collapsed": true
   },
   "outputs": [],
   "source": []
  }
 ],
 "metadata": {
  "kernelspec": {
   "display_name": "Python [Root]",
   "language": "python",
   "name": "Python [Root]"
  },
  "language_info": {
   "codemirror_mode": {
    "name": "ipython",
    "version": 2
   },
   "file_extension": ".py",
   "mimetype": "text/x-python",
   "name": "python",
   "nbconvert_exporter": "python",
   "pygments_lexer": "ipython2",
   "version": "2.7.12"
  }
 },
 "nbformat": 4,
 "nbformat_minor": 0
}
